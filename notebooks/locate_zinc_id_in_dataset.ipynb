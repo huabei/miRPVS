{
 "cells": [
  {
   "cell_type": "markdown",
   "metadata": {},
   "source": [
    "# 定位一个zinc id在一个数据集中存储的位置\n",
    "因为数据集比较大，而且是分块存储的，所以需要定位一个zinc id在哪个块中\n",
    "\n",
    "流程：\n",
    "- 读取需要定位的zinc id\n",
    "- 读取数据集的索引文件\n",
    "- 求他们的交集\n",
    "- 输出结果"
   ]
  },
  {
   "cell_type": "markdown",
   "metadata": {},
   "source": [
    "## workspace"
   ]
  },
  {
   "cell_type": "code",
   "execution_count": 28,
   "metadata": {},
   "outputs": [
    {
     "data": {
      "text/plain": [
       "['3a6p',\n",
       " '3a6p_top_data.csv',\n",
       " '3a6p_top_data.np.pt',\n",
       " '4z4c',\n",
       " '4z4c_top_data.csv',\n",
       " '4z4c_top_data.np.pt',\n",
       " '4z4d',\n",
       " '4z4d_top_data.csv',\n",
       " '4z4d_top_data.np.pt',\n",
       " '6cbd',\n",
       " '6cbd_top_data.csv',\n",
       " '6cbd_top_data.np.pt',\n",
       " 'chemfp_clustering',\n",
       " 'data_3a6p_zinc_id_smiles_frame.csv',\n",
       " 'data_4z4c_zinc_id_smiles_frame.csv',\n",
       " 'data_4z4d_zinc_id_smiles_frame.csv',\n",
       " 'data_6cbd_zinc_id_smiles_frame.csv',\n",
       " 'fps',\n",
       " 'smiles',\n",
       " 'smiles.tar.gz',\n",
       " 'total_zinc_id_set.pt',\n",
       " 'zinc_id_smiles_frame.csv']"
      ]
     },
     "execution_count": 28,
     "metadata": {},
     "output_type": "execute_result"
    }
   ],
   "source": [
    "import os\n",
    "os.chdir(\"/mnt/f/SMTarRNA_total_results/total_dataset_results/total_dataset_results\")\n",
    "os.listdir()"
   ]
  },
  {
   "cell_type": "markdown",
   "metadata": {},
   "source": [
    "## module"
   ]
  },
  {
   "cell_type": "code",
   "execution_count": 29,
   "metadata": {},
   "outputs": [],
   "source": [
    "import pandas as pd\n",
    "from tqdm import tqdm\n",
    "import numpy as np\n",
    "import logging"
   ]
  },
  {
   "cell_type": "markdown",
   "metadata": {},
   "source": [
    "## 1. 读取需要定位的zinc id"
   ]
  },
  {
   "cell_type": "code",
   "execution_count": 30,
   "metadata": {},
   "outputs": [],
   "source": [
    "# import torch\n",
    "complex_str = ['3a6p', '4z4c', '4z4d', '6cbd']\n",
    "# # 将.pt文件转换为csv文件\n",
    "# for c in complex_str:\n",
    "#     data = torch.load(c + '_top_data.np.pt')\n",
    "#     np.savetxt(c + '_top_data.csv', data, delimiter = ',')\n",
    "#     print(c + '_top_data.csv')\n",
    "complex_top_zinc_id = {}\n",
    "for c in complex_str:\n",
    "    complex_top_zinc_id[c] = set(np.loadtxt(c + '_top_data.csv', delimiter = ',')[:, 0].astype(int).tolist())\n",
    "    logging.info(c + '_top_data.csv')\n"
   ]
  },
  {
   "cell_type": "markdown",
   "metadata": {},
   "source": [
    "## 2. 读取数据集的索引文件"
   ]
  },
  {
   "cell_type": "code",
   "execution_count": 31,
   "metadata": {},
   "outputs": [],
   "source": [
    "index_folder = '/mnt/e/wsl_project_data/SMTarRNA/ligand/index'\n",
    "index_file_list = os.listdir(index_folder)\n",
    "\n",
    "def create_zinc_id(id: int):\n",
    "    return 'ZINC'+str(int(id + 1e12))[1:]\n"
   ]
  },
  {
   "cell_type": "code",
   "execution_count": 32,
   "metadata": {},
   "outputs": [
    {
     "name": "stderr",
     "output_type": "stream",
     "text": [
      "100%|██████████| 94/94 [00:00<00:00, 214.40it/s]\n",
      "100%|██████████| 111/111 [00:00<00:00, 122.55it/s]\n",
      "100%|██████████| 147/147 [00:02<00:00, 59.69it/s]\n",
      "100%|██████████| 210/210 [00:05<00:00, 38.02it/s] \n",
      "100%|██████████| 158/158 [00:02<00:00, 53.47it/s]\n",
      "100%|██████████| 140/140 [00:02<00:00, 60.14it/s]\n",
      "100%|██████████| 102/102 [00:01<00:00, 88.07it/s]\n",
      "100%|██████████| 76/76 [00:00<00:00, 136.20it/s]\n",
      "100%|██████████| 58/58 [00:00<00:00, 232.75it/s]\n",
      "100%|██████████| 40/40 [00:00<00:00, 277.01it/s]\n",
      "100%|██████████| 101/101 [00:00<00:00, 144.14it/s]\n",
      "100%|██████████| 171/171 [00:04<00:00, 38.26it/s]\n",
      "100%|██████████| 329/329 [00:12<00:00, 27.16it/s] \n",
      "100%|██████████| 401/401 [00:19<00:00, 20.17it/s]\n",
      "100%|██████████| 295/295 [00:11<00:00, 24.72it/s]\n",
      "100%|██████████| 280/280 [00:11<00:00, 25.28it/s]\n",
      "100%|██████████| 271/271 [00:10<00:00, 25.73it/s] \n",
      "100%|██████████| 179/179 [00:04<00:00, 37.46it/s]\n",
      "100%|██████████| 96/96 [00:00<00:00, 133.42it/s]\n",
      "100%|██████████| 77/77 [00:00<00:00, 224.34it/s]\n",
      "100%|██████████| 104/104 [00:01<00:00, 67.34it/s]\n",
      "100%|██████████| 207/207 [00:06<00:00, 31.02it/s]\n",
      "100%|██████████| 409/409 [00:11<00:00, 35.00it/s]\n",
      "100%|██████████| 584/584 [00:31<00:00, 18.68it/s]\n",
      "100%|██████████| 438/438 [00:20<00:00, 21.00it/s]\n",
      "100%|██████████| 1269/1269 [00:18<00:00, 69.19it/s]\n",
      "100%|██████████| 358/358 [00:15<00:00, 22.39it/s]\n",
      "100%|██████████| 189/189 [00:05<00:00, 36.49it/s]\n",
      "100%|██████████| 120/120 [00:01<00:00, 81.47it/s]\n",
      "100%|██████████| 96/96 [00:00<00:00, 180.92it/s]\n",
      "100%|██████████| 112/112 [00:01<00:00, 66.65it/s]\n",
      "100%|██████████| 236/236 [00:08<00:00, 27.10it/s]\n",
      "100%|██████████| 357/357 [00:15<00:00, 22.68it/s]\n",
      "100%|██████████| 1491/1491 [00:22<00:00, 65.18it/s]\n",
      "100%|██████████| 306/306 [00:13<00:00, 22.69it/s]\n",
      "100%|██████████| 361/361 [00:16<00:00, 21.46it/s]\n",
      "100%|██████████| 238/238 [00:08<00:00, 27.69it/s]\n",
      "100%|██████████| 214/214 [00:07<00:00, 30.36it/s]\n",
      "100%|██████████| 169/169 [00:03<00:00, 42.45it/s]\n",
      "100%|██████████| 90/90 [00:00<00:00, 245.40it/s]\n",
      "100%|██████████| 85/85 [00:00<00:00, 142.69it/s]\n",
      "100%|██████████| 122/122 [00:02<00:00, 60.37it/s]\n",
      "100%|██████████| 146/146 [00:04<00:00, 33.74it/s]\n",
      "100%|██████████| 405/405 [00:19<00:00, 21.07it/s]\n",
      "100%|██████████| 239/239 [00:07<00:00, 31.10it/s]\n",
      "100%|██████████| 451/451 [00:22<00:00, 19.68it/s]\n",
      "100%|██████████| 263/263 [00:10<00:00, 26.12it/s]\n",
      "100%|██████████| 149/149 [00:02<00:00, 54.84it/s]\n",
      "100%|██████████| 165/165 [00:03<00:00, 45.58it/s]\n",
      "100%|██████████| 102/102 [00:00<00:00, 217.32it/s]\n",
      "100%|██████████| 83/83 [00:00<00:00, 158.00it/s]\n",
      "100%|██████████| 97/97 [00:00<00:00, 111.97it/s]\n",
      "100%|██████████| 138/138 [00:02<00:00, 65.05it/s]\n",
      "100%|██████████| 151/151 [00:02<00:00, 54.33it/s]\n",
      "100%|██████████| 140/140 [00:02<00:00, 65.74it/s]\n",
      "100%|██████████| 324/324 [00:03<00:00, 86.87it/s]\n",
      "100%|██████████| 143/143 [00:02<00:00, 55.38it/s]\n",
      "100%|██████████| 330/330 [00:14<00:00, 22.40it/s]\n",
      "100%|██████████| 126/126 [00:01<00:00, 88.79it/s]\n",
      "100%|██████████| 97/97 [00:00<00:00, 226.77it/s]\n",
      "100%|██████████| 80/80 [00:00<00:00, 241.97it/s]\n",
      "100%|██████████| 97/97 [00:00<00:00, 166.48it/s]\n",
      "100%|██████████| 113/113 [00:00<00:00, 181.86it/s]\n",
      "100%|██████████| 115/115 [00:00<00:00, 161.46it/s]\n",
      "100%|██████████| 120/120 [00:00<00:00, 165.94it/s]\n",
      "100%|██████████| 122/122 [00:00<00:00, 154.30it/s]\n",
      "100%|██████████| 111/111 [00:00<00:00, 202.23it/s]\n",
      "100%|██████████| 181/181 [00:04<00:00, 41.45it/s]\n",
      "100%|██████████| 163/163 [00:03<00:00, 45.37it/s]\n",
      "100%|██████████| 94/94 [00:00<00:00, 205.46it/s]\n",
      "100%|██████████| 78/78 [00:00<00:00, 243.31it/s]\n",
      "100%|██████████| 98/98 [00:00<00:00, 172.38it/s]\n",
      "100%|██████████| 109/109 [00:00<00:00, 195.00it/s]\n",
      "100%|██████████| 105/105 [00:00<00:00, 253.34it/s]\n",
      "100%|██████████| 104/104 [00:00<00:00, 236.01it/s]\n",
      "100%|██████████| 103/103 [00:00<00:00, 215.57it/s]\n",
      "100%|██████████| 106/106 [00:00<00:00, 202.65it/s]\n",
      "100%|██████████| 109/109 [00:00<00:00, 200.22it/s]\n",
      "100%|██████████| 111/111 [00:00<00:00, 206.31it/s]\n",
      "100%|██████████| 101/101 [00:00<00:00, 213.87it/s]\n",
      "100%|██████████| 81/81 [00:00<00:00, 264.74it/s]\n",
      "100%|██████████| 100/100 [00:00<00:00, 214.54it/s]\n",
      "100%|██████████| 110/110 [00:00<00:00, 175.84it/s]\n",
      "100%|██████████| 112/112 [00:00<00:00, 180.87it/s]\n",
      "100%|██████████| 98/98 [00:00<00:00, 167.28it/s]\n",
      "100%|██████████| 110/110 [00:00<00:00, 175.68it/s]\n",
      "100%|██████████| 117/117 [00:00<00:00, 159.64it/s]\n",
      "100%|██████████| 121/121 [00:00<00:00, 154.36it/s]\n",
      "100%|██████████| 119/119 [00:00<00:00, 150.62it/s]\n",
      "100%|██████████| 117/117 [00:00<00:00, 152.29it/s]\n"
     ]
    }
   ],
   "source": [
    "from collections import defaultdict\n",
    "results = defaultdict(dict)\n",
    "for file in index_file_list:\n",
    "    file_path = os.path.join(index_folder, file)\n",
    "    index_hf = pd.HDFStore(file_path)\n",
    "    for k in tqdm(index_hf.keys()):\n",
    "        index_set = set([int(i[4:]) for i in index_hf[k].index.to_list()])\n",
    "        for c in complex_str:\n",
    "            # 求交集\n",
    "            zinc_id_set = index_set & complex_top_zinc_id[c]\n",
    "            if zinc_id_set:\n",
    "                results[c][k] = zinc_id_set\n",
    "    index_hf.close()\n"
   ]
  },
  {
   "cell_type": "markdown",
   "metadata": {},
   "source": [
    "## 明文保存结果"
   ]
  },
  {
   "cell_type": "code",
   "execution_count": 33,
   "metadata": {},
   "outputs": [],
   "source": [
    "# 将结果保存为文本\n",
    "for c in complex_str:\n",
    "    with open(c + '_zinc_id_index.txt', 'w') as f:\n",
    "        for k in results[c].keys():\n",
    "            f.write(k + '\\n')\n",
    "            for i in results[c][k]:\n",
    "                f.write(create_zinc_id(i) + '\\n')\n",
    "            f.write('\\n')\n",
    "    logging.info(c + '_zinc_id.txt')"
   ]
  },
  {
   "cell_type": "markdown",
   "metadata": {},
   "source": [
    "### 计算不同复合体的并集"
   ]
  },
  {
   "cell_type": "code",
   "execution_count": 34,
   "metadata": {},
   "outputs": [],
   "source": [
    "# 计算四个复合体的并集\n",
    "key_union_set = set()\n",
    "for c in complex_str:\n",
    "    key_union_set = key_union_set | set(results[c].keys())\n",
    "\n",
    "# 获取每个键下的并集\n",
    "results_union = defaultdict(set)\n",
    "for k in key_union_set:\n",
    "    for c in complex_str:\n",
    "        if k in results[c].keys():\n",
    "            results_union[k] = results_union[k] | results[c][k]\n",
    "\n"
   ]
  },
  {
   "cell_type": "markdown",
   "metadata": {},
   "source": [
    "## 保存四个复合体并集结果"
   ]
  },
  {
   "cell_type": "code",
   "execution_count": 35,
   "metadata": {},
   "outputs": [],
   "source": [
    "with open('four_complex_zinc_id_index.txt', 'w') as f:\n",
    "    for k in results_union.keys():\n",
    "        f.write(k + '\\n')\n",
    "        for i in results_union[k]:\n",
    "            f.write(create_zinc_id(i) + '\\n')\n",
    "        f.write('\\n')"
   ]
  },
  {
   "cell_type": "code",
   "execution_count": 36,
   "metadata": {},
   "outputs": [],
   "source": [
    "# 读取数据\n",
    "data = {}\n",
    "with open('four_complex_zinc_id_index.txt', 'r') as f:\n",
    "    its = f.read().strip().split('\\n\\n')\n",
    "    for i in its:\n",
    "        t = i.split('\\n')\n",
    "        data[t[0]] = t[1:]\n",
    "    "
   ]
  },
  {
   "cell_type": "code",
   "execution_count": 40,
   "metadata": {},
   "outputs": [
    {
     "data": {
      "text/plain": [
       "['/ED/ADRN/EDADRN_xazi',\n",
       " '/DD/EDML/DDEDML_xaa',\n",
       " '/GJ/EBRM/GJEBRM_xaa',\n",
       " '/DF/ADRN/DFADRN_xvy',\n",
       " '/DD/AARO/DDAARO_xaa',\n",
       " '/EC/ADRN/ECADRN_xez',\n",
       " '/DH/EDRN/DHEDRN_xac',\n",
       " '/EB/ADRN/EBADRN_xbi',\n",
       " '/ED/ADRN/EDADRN_xavi',\n",
       " '/GH/ADRN/GHADRN_xdc']"
      ]
     },
     "execution_count": 40,
     "metadata": {},
     "output_type": "execute_result"
    }
   ],
   "source": [
    "list(data.keys())[:10]\n",
    "# data['/ED/ADRN/EDADRN_xazi']"
   ]
  },
  {
   "cell_type": "markdown",
   "metadata": {},
   "source": []
  }
 ],
 "metadata": {
  "kernelspec": {
   "display_name": "chem",
   "language": "python",
   "name": "python3"
  },
  "language_info": {
   "codemirror_mode": {
    "name": "ipython",
    "version": 3
   },
   "file_extension": ".py",
   "mimetype": "text/x-python",
   "name": "python",
   "nbconvert_exporter": "python",
   "pygments_lexer": "ipython3",
   "version": "3.8.16"
  },
  "orig_nbformat": 4
 },
 "nbformat": 4,
 "nbformat_minor": 2
}
