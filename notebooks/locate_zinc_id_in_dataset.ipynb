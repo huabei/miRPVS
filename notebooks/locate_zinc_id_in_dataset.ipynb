{
 "cells": [
  {
   "cell_type": "markdown",
   "metadata": {},
   "source": [
    "# 定位一个zinc id在一个数据集中存储的位置\n",
    "因为数据集比较大，而且是分块存储的，所以需要定位一个zinc id在哪个块中\n",
    "\n",
    "流程：\n",
    "- 读取需要定位的zinc id\n",
    "- 读取数据集的索引文件\n",
    "- 求他们的交集\n",
    "- 输出结果"
   ]
  },
  {
   "cell_type": "markdown",
   "metadata": {},
   "source": [
    "## workspace"
   ]
  },
  {
   "cell_type": "code",
   "execution_count": null,
   "metadata": {},
   "outputs": [],
   "source": [
    "import os\n",
    "\n",
    "os.chdir(\"/mnt/f/SMTarRNA_total_results/total_dataset_results/total_dataset_results\")\n",
    "os.listdir()"
   ]
  },
  {
   "cell_type": "markdown",
   "metadata": {},
   "source": [
    "## module"
   ]
  },
  {
   "cell_type": "code",
   "execution_count": null,
   "metadata": {},
   "outputs": [],
   "source": [
    "import logging\n",
    "\n",
    "import numpy as np\n",
    "import pandas as pd\n",
    "from tqdm import tqdm"
   ]
  },
  {
   "cell_type": "markdown",
   "metadata": {},
   "source": [
    "## 1. 读取需要定位的zinc id"
   ]
  },
  {
   "cell_type": "code",
   "execution_count": null,
   "metadata": {},
   "outputs": [],
   "source": [
    "# import torch\n",
    "complex_str = [\"3a6p\", \"4z4c\", \"4z4d\", \"6cbd\"]\n",
    "# # 将.pt文件转换为csv文件\n",
    "# for c in complex_str:\n",
    "#     data = torch.load(c + '_top_data.np.pt')\n",
    "#     np.savetxt(c + '_top_data.csv', data, delimiter = ',')\n",
    "#     print(c + '_top_data.csv')\n",
    "complex_top_zinc_id = {}\n",
    "for c in complex_str:\n",
    "    complex_top_zinc_id[c] = set(\n",
    "        np.loadtxt(c + \"_top_data.csv\", delimiter=\",\")[:, 0].astype(int).tolist()\n",
    "    )\n",
    "    logging.info(c + \"_top_data.csv\")"
   ]
  },
  {
   "cell_type": "markdown",
   "metadata": {},
   "source": [
    "## 2. 读取数据集的索引文件"
   ]
  },
  {
   "cell_type": "code",
   "execution_count": null,
   "metadata": {},
   "outputs": [],
   "source": [
    "index_folder = \"/mnt/e/wsl_project_data/SMTarRNA/ligand/index\"\n",
    "index_file_list = os.listdir(index_folder)\n",
    "\n",
    "\n",
    "def create_zinc_id(id: int):\n",
    "    return \"ZINC\" + str(int(id + 1e12))[1:]"
   ]
  },
  {
   "cell_type": "code",
   "execution_count": null,
   "metadata": {},
   "outputs": [],
   "source": [
    "from collections import defaultdict\n",
    "\n",
    "results = defaultdict(dict)\n",
    "for file in index_file_list:\n",
    "    file_path = os.path.join(index_folder, file)\n",
    "    index_hf = pd.HDFStore(file_path)\n",
    "    for k in tqdm(index_hf.keys()):\n",
    "        index_set = set([int(i[4:]) for i in index_hf[k].index.to_list()])\n",
    "        for c in complex_str:\n",
    "            # 求交集\n",
    "            zinc_id_set = index_set & complex_top_zinc_id[c]\n",
    "            if zinc_id_set:\n",
    "                results[c][k] = zinc_id_set\n",
    "    index_hf.close()"
   ]
  },
  {
   "cell_type": "markdown",
   "metadata": {},
   "source": [
    "## 明文保存结果"
   ]
  },
  {
   "cell_type": "code",
   "execution_count": null,
   "metadata": {},
   "outputs": [],
   "source": [
    "# 将结果保存为文本\n",
    "for c in complex_str:\n",
    "    with open(c + \"_zinc_id_index.txt\", \"w\") as f:\n",
    "        for k in results[c].keys():\n",
    "            f.write(k + \"\\n\")\n",
    "            for i in results[c][k]:\n",
    "                f.write(create_zinc_id(i) + \"\\n\")\n",
    "            f.write(\"\\n\")\n",
    "    logging.info(c + \"_zinc_id.txt\")"
   ]
  },
  {
   "cell_type": "markdown",
   "metadata": {},
   "source": [
    "### 计算不同复合体的并集"
   ]
  },
  {
   "cell_type": "code",
   "execution_count": null,
   "metadata": {},
   "outputs": [],
   "source": [
    "# 计算四个复合体的并集\n",
    "key_union_set = set()\n",
    "for c in complex_str:\n",
    "    key_union_set = key_union_set | set(results[c].keys())\n",
    "\n",
    "# 获取每个键下的并集\n",
    "results_union = defaultdict(set)\n",
    "for k in key_union_set:\n",
    "    for c in complex_str:\n",
    "        if k in results[c].keys():\n",
    "            results_union[k] = results_union[k] | results[c][k]"
   ]
  },
  {
   "cell_type": "markdown",
   "metadata": {},
   "source": [
    "## 保存四个复合体并集结果"
   ]
  },
  {
   "cell_type": "code",
   "execution_count": null,
   "metadata": {},
   "outputs": [],
   "source": [
    "with open(\"four_complex_zinc_id_index.txt\", \"w\") as f:\n",
    "    for k in results_union.keys():\n",
    "        f.write(k + \"\\n\")\n",
    "        for i in results_union[k]:\n",
    "            f.write(create_zinc_id(i) + \"\\n\")\n",
    "        f.write(\"\\n\")"
   ]
  },
  {
   "cell_type": "code",
   "execution_count": null,
   "metadata": {},
   "outputs": [],
   "source": [
    "# 读取数据\n",
    "data = {}\n",
    "with open(\"four_complex_zinc_id_index.txt\", \"r\") as f:\n",
    "    its = f.read().strip().split(\"\\n\\n\")\n",
    "    for i in its:\n",
    "        t = i.split(\"\\n\")\n",
    "        data[t[0]] = t[1:]"
   ]
  },
  {
   "cell_type": "code",
   "execution_count": null,
   "metadata": {},
   "outputs": [],
   "source": [
    "list(data.keys())[:10]\n",
    "# data['/ED/ADRN/EDADRN_xazi']"
   ]
  },
  {
   "cell_type": "markdown",
   "metadata": {},
   "source": []
  }
 ],
 "metadata": {
  "kernelspec": {
   "display_name": "chem",
   "language": "python",
   "name": "python3"
  },
  "language_info": {
   "codemirror_mode": {
    "name": "ipython",
    "version": 3
   },
   "file_extension": ".py",
   "mimetype": "text/x-python",
   "name": "python",
   "nbconvert_exporter": "python",
   "pygments_lexer": "ipython3",
   "version": "3.8.16"
  }
 },
 "nbformat": 4,
 "nbformat_minor": 2
}
