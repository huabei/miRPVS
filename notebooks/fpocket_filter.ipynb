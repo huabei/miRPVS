{
 "cells": [
  {
   "cell_type": "markdown",
   "metadata": {},
   "source": [
    "# 此文件用于筛选fpocket的输出结果"
   ]
  },
  {
   "cell_type": "code",
   "execution_count": null,
   "metadata": {},
   "outputs": [],
   "source": [
    "# 设置python的工作路径\n",
    "import os\n",
    "\n",
    "os.chdir(\"/home/huabei/projects/SMTarRNA\")"
   ]
  },
  {
   "cell_type": "code",
   "execution_count": null,
   "metadata": {},
   "outputs": [],
   "source": [
    "import copy\n",
    "import logging\n",
    "\n",
    "from utils import statistic_pocket_interaction\n",
    "\n",
    "logging.basicConfig(level=logging.INFO, format=\"%(asctime)s - %(levelname)s - %(message)s\")\n",
    "FPOCKET_OUT_PATH = r\"E:\\Research\\SM_miRNA\\Data\\complex_structure\\complex-pdb-structures\""
   ]
  },
  {
   "cell_type": "markdown",
   "metadata": {},
   "source": [
    "# 函数定义"
   ]
  },
  {
   "cell_type": "code",
   "execution_count": null,
   "metadata": {},
   "outputs": [],
   "source": [
    "def is_dibind_or_only_rna(file: str, or_only_rna=True) -> bool:\n",
    "    \"\"\"用于判断pocket文件中是否同时有蛋白质残基和RNA残基,pocket文件中包含一个口袋中表面的所有原子\n",
    "    file: pocket文件路径\n",
    "    return bool\"\"\"\n",
    "    with open(file, \"r\") as f:\n",
    "        cont = 1\n",
    "        for line in f:\n",
    "            # print(line)\n",
    "            if line[:4] != \"ATOM\":\n",
    "                continue\n",
    "            if cont == 1:  # 确定第一个残基的长度，RNA为1， 蛋白质为3\n",
    "                residue_name_length = len(f.readline()[17:20].strip())  # 残基的位置在第17-20位\n",
    "            residue_name = line[17:20].strip()  # 获取当前行残基\n",
    "            cont += 1\n",
    "            # 如果残基的长度与第一个残基的长度相同，则跳过，不同则表明同时包含R和P的原子，返回True\n",
    "            if len(residue_name) == residue_name_length:\n",
    "                continue\n",
    "            else:\n",
    "                return True\n",
    "    # 如果包含只有RNA的pocket，返回True\n",
    "    if or_only_rna:\n",
    "        if residue_name_length == 1:\n",
    "            logging.info(f\"只有RNA的pocket: {file}\")\n",
    "            return True\n",
    "        else:\n",
    "            return False\n",
    "    # 如果循环结束，说明没有同时包含R和P的原子，返回False\n",
    "    return False\n",
    "\n",
    "\n",
    "def read_druggability(pockets_info_file: str):\n",
    "    \"\"\"根据fpocket输出的pocket信息文件，读取每个pocket的druggability分数\n",
    "    pockets_info_file: fpocket输出的pocket信息文件\"\"\"\n",
    "\n",
    "    score_dict = dict()\n",
    "    with open(pockets_info_file, \"r\") as f:\n",
    "        pockets = f.read().strip().split(\"\\n\\n\")  # 每个pocket之间用两个换行符隔开\n",
    "        for i, p in enumerate(pockets):  # 遍历每个pocket，i为pocket的编号，p为pocket的信息\n",
    "            i += 1\n",
    "            score_dict[i] = float(p.split(\"\\n\")[2].split(\"\\t\")[2])  # pocket的druggability分数在第三行第三列\n",
    "    return score_dict\n",
    "\n",
    "\n",
    "def fpocket_filter(fpocket_out_folder: str, druggability_low_line: float = 0.5) -> list:\n",
    "    \"\"\"此函数用来过滤fpocket输出的pocket，返回符合条件的pocket编号，利用di_bind函数和druggability分数\n",
    "    fpocket_out_folder: fpocket针对一个pdb文件输出的文件夹\n",
    "    druggability_low_line: druggability分数的下限\n",
    "    return list of pocket number starting from 1\n",
    "    \"\"\"\n",
    "    PDB_ID = os.path.split(fpocket_out_folder)[-1].split(\"_\")[0]\n",
    "    logging.info(f\"正在处理{PDB_ID}\")\n",
    "    pocket_folder = os.path.join(fpocket_out_folder, \"pockets\")  # 输出文件夹中pockets文件夹的路径\n",
    "    pockets_info_file = os.path.join(fpocket_out_folder, PDB_ID + \"_info.txt\")\n",
    "    # pockets_file = [os.path.join(pocket_folder, file) for file in os.listdir(pocket_folder) if file[-3:]=='pdb']\n",
    "    pockets_score = read_druggability(pockets_info_file)  # 读取每个pocket的druggability分数\n",
    "\n",
    "    # 结果返回符合条件的pocket编号列表\n",
    "    results = list()\n",
    "    for i in pockets_score.keys():  # i为pocket的编号\n",
    "        pocket_file_path = os.path.join(pocket_folder, f\"pocket{i}_atm.pdb\")  # 相应编号的pocket文件路径\n",
    "        # 如果druggability分数大于下限并且同时包含蛋白质和RNA残基，则添加到结果列表中\n",
    "        if pockets_score[i] > druggability_low_line and is_dibind_or_only_rna(pocket_file_path):\n",
    "            results.append(i)\n",
    "    return results\n",
    "\n",
    "\n",
    "def rewrite_out_file(pdb_out_file: str, pockets: list):\n",
    "    # 此函数用于将不在pockets的pocket删除，并将剩余的pocket重新编号\n",
    "    with open(pdb_out_file, \"r\") as f:\n",
    "        line_list = f.read().strip().split(\"\\n\")\n",
    "        # out_line = copy.deepcopy(line_list)\n",
    "        for i, line in enumerate(line_list):\n",
    "            # print(i)\n",
    "            line_list[i] = line + \"\\n\"\n",
    "            line += \"\\n\"\n",
    "            if line[:6] == \"HETATM\" and line[17:20] == \"STP\":\n",
    "                if int(line[22:26]) not in pockets:\n",
    "                    line_list[i] = \"\"\n",
    "                else:\n",
    "                    # 更换pocket编号\n",
    "                    line_list[i] = (\n",
    "                        line[:22]\n",
    "                        + (\n",
    "                            \" \" * (4 - len(str(pockets.index(int(line[22:26])) + 1)))\n",
    "                            + str(pockets.index(int(line[22:26])) + 1)\n",
    "                        )\n",
    "                        + line[26:]\n",
    "                    )\n",
    "    # 写入新的pdb文件\n",
    "    new_pdb_out_file = pdb_out_file.replace(\".pdb\", \"_new.pdb\")\n",
    "    with open(new_pdb_out_file, \"w\") as f:\n",
    "        f.writelines(line_list)\n",
    "    # 写入新的pml文件\n",
    "    with open(pdb_out_file.replace(\"_out.pdb\", \".pml\"), \"r\") as f:\n",
    "        lines = f.readlines()\n",
    "    with open(pdb_out_file.replace(\"_out.pdb\", \"_new.pml\"), \"w\") as f:\n",
    "        # 更换load的pdb文件为新的pdb文件\n",
    "        lines[1] = f\"load {new_pdb_out_file}\\n\"\n",
    "        f.writelines(lines)"
   ]
  },
  {
   "cell_type": "markdown",
   "metadata": {},
   "source": [
    "# main函数"
   ]
  },
  {
   "cell_type": "code",
   "execution_count": null,
   "metadata": {},
   "outputs": [],
   "source": [
    "if __name__ == \"__main__\":\n",
    "    # fpocket输出文件夹，例：\"E:\\tmp\\fpocket\\6v5b_out\"\n",
    "    # fpocket_out_folder = r'E:/Research/SM_miRNA/Data/Dock/complex/pdb/1ibr_out'\n",
    "    path = FPOCKET_OUT_PATH\n",
    "    all_pockets = dict()\n",
    "    for fpocket_out_folder in [\n",
    "        dir_tmp for dir_tmp in os.listdir(path) if not os.path.isfile(os.path.join(path, dir_tmp))\n",
    "    ]:\n",
    "        logging.info(f\"正在处理{fpocket_out_folder}\")\n",
    "        fpocket_out_folder = os.path.join(path, fpocket_out_folder)\n",
    "        logging.info(f\"fpocket_out_folder: {fpocket_out_folder}\")\n",
    "        pdb_id = os.path.split(fpocket_out_folder)[-1].split(\"_\")[0]\n",
    "        pdb_out_file = os.path.join(fpocket_out_folder, pdb_id + \"_out.pdb\")\n",
    "        # pml_out_file = os.path.join(fpocket_out_folder, fpocket_out_folder.split('/')[-1].replace('_out.pdb', '.pml'))\n",
    "        pockets = fpocket_filter(fpocket_out_folder, druggability_low_line=0)\n",
    "        all_pockets[pdb_id] = pockets\n",
    "        logging.info(f\"pdb_id have pockets: {pockets}\")\n",
    "        rewrite_out_file(pdb_out_file, pockets)\n",
    "        logging.info(f\"处理完成{pdb_id}\")"
   ]
  },
  {
   "cell_type": "code",
   "execution_count": null,
   "metadata": {},
   "outputs": [],
   "source": [
    "# read_druggability(fpocket_out_folder+'/6v5c_info.txt')\n",
    "pdb_id = os.path.split(fpocket_out_folder)[-1].split(\"_\")[0]"
   ]
  },
  {
   "cell_type": "markdown",
   "metadata": {},
   "source": [
    "# 输出文件"
   ]
  },
  {
   "cell_type": "code",
   "execution_count": null,
   "metadata": {},
   "outputs": [],
   "source": [
    "total_dict = dict()\n",
    "for file in os.listdir(\"fpocket\"):\n",
    "    f = open(os.path.join(\"fpocket\", file), \"r\")\n",
    "    pocket_atom = f.read()\n",
    "    total_dict[file] = statistic_pocket_interaction(pocket_atom)"
   ]
  },
  {
   "cell_type": "code",
   "execution_count": null,
   "metadata": {},
   "outputs": [],
   "source": [
    "import pandas as pd\n",
    "\n",
    "pd.DataFrame(total_dict)"
   ]
  }
 ],
 "metadata": {
  "kernelspec": {
   "display_name": "Python 3.9.7 ('smtr')",
   "language": "python",
   "name": "python3"
  },
  "language_info": {
   "codemirror_mode": {
    "name": "ipython",
    "version": 3
   },
   "file_extension": ".py",
   "mimetype": "text/x-python",
   "name": "python",
   "nbconvert_exporter": "python",
   "pygments_lexer": "ipython3",
   "version": "3.8.16"
  },
  "vscode": {
   "interpreter": {
    "hash": "a75462293d05fc3e00128f4985dd13fcf50f4f5144b1474848efbcac1f09cd24"
   }
  }
 },
 "nbformat": 4,
 "nbformat_minor": 2
}
