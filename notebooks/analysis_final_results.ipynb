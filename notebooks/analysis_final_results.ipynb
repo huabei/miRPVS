{
 "cells": [
  {
   "cell_type": "markdown",
   "metadata": {},
   "source": [
    "# 结果分析"
   ]
  },
  {
   "cell_type": "code",
   "execution_count": 1,
   "metadata": {},
   "outputs": [
    {
     "data": {
      "text/plain": [
       "['chemfp_clustering',\n",
       " 'data_3a6p_zinc_id_smiles_frame.csv',\n",
       " 'data_4z4c_zinc_id_smiles_frame.csv',\n",
       " 'data_4z4d_zinc_id_smiles_frame.csv',\n",
       " 'data_6cbd_zinc_id_smiles_frame.csv',\n",
       " 'dock_interaction_analysis',\n",
       " 'fps',\n",
       " 'infer_pt_results',\n",
       " 'smiles',\n",
       " 'smiles.tar.gz',\n",
       " 'top_0_001',\n",
       " 'zinc_id_smiles_frame.csv']"
      ]
     },
     "execution_count": 1,
     "metadata": {},
     "output_type": "execute_result"
    }
   ],
   "source": [
    "# 设置工作目录\n",
    "import os\n",
    "from tqdm import tqdm\n",
    "os.chdir(\"/mnt/f/SMTarRNA_total_results/total_dataset_results/total_dataset_results\")\n",
    "\n",
    "# hpc\n",
    "# os.chdir(\"/public/home/hpc192311018/Huabei/project/SMTARRNA-sync/SMTarRNA/data/total_dataset_results\")\n",
    "\n",
    "# 设置python工作目录\n",
    "import sys\n",
    "import pandas as pd\n",
    "\n",
    "def create_zinc_id(id: int):\n",
    "    return 'ZINC'+str(int(id + 1e12))[1:]\n",
    "\n",
    "sys.path.append(\"/home/huabei/projects/SMTarRNA\")\n",
    "os.listdir()"
   ]
  },
  {
   "cell_type": "code",
   "execution_count": 7,
   "metadata": {},
   "outputs": [
    {
     "name": "stderr",
     "output_type": "stream",
     "text": [
      "/home/huabei/mambaforge/envs/hydra-pl/lib/python3.8/site-packages/tqdm/auto.py:21: TqdmWarning: IProgress not found. Please update jupyter and ipywidgets. See https://ipywidgets.readthedocs.io/en/stable/user_install.html\n",
      "  from .autonotebook import tqdm as notebook_tqdm\n"
     ]
    }
   ],
   "source": [
    "# 统计每个文件夹下的结果\n",
    "import torch\n",
    "# folder = '3a6p'\n",
    "folder = '4z4d'\n",
    "file_lists = os.listdir(folder)[:50]"
   ]
  },
  {
   "cell_type": "code",
   "execution_count": 8,
   "metadata": {},
   "outputs": [
    {
     "data": {
      "text/plain": [
       "(array([[-7.3133545 , -8.59358   , -0.2873414 ,  1.2609668 , -0.31223962],\n",
       "        [-7.285434  , -8.599607  , -0.3650469 ,  1.3001853 , -0.37317836],\n",
       "        [-6.8682747 , -8.317631  , -0.3393728 ,  1.4387854 , -0.3547733 ],\n",
       "        [-6.867611  , -8.310375  , -0.34464687,  1.4341266 , -0.35637733],\n",
       "        [-7.2664523 , -8.594442  , -0.43773767,  1.3187728 , -0.44468275]],\n",
       "       dtype=float32),\n",
       " array([843459601, 843459605, 843461702, 843461700, 843459607]))"
      ]
     },
     "execution_count": 8,
     "metadata": {},
     "output_type": "execute_result"
    }
   ],
   "source": [
    "data_ = torch.load(os.path.join(folder, file_lists[0]))\n",
    "data_ : tuple\n",
    "data_[0][:5], data_[1][:5]\n"
   ]
  },
  {
   "cell_type": "code",
   "execution_count": 9,
   "metadata": {},
   "outputs": [],
   "source": [
    "# len('ZINC000000001084')\n"
   ]
  },
  {
   "cell_type": "code",
   "execution_count": 2,
   "metadata": {},
   "outputs": [],
   "source": [
    "# 将data_(n, 5)的第一列和data_(1, )的第一列拼接起来\n",
    "import numpy as np\n",
    "def get_data(folder, file_lists):\n",
    "    data = []\n",
    "    for file in tqdm(file_lists):\n",
    "        data_ = torch.load(os.path.join(folder, file))\n",
    "        data_ = np.concatenate([data_[1].reshape(-1, 1), data_[0][:, 0].reshape(-1, 1)], axis=1)\n",
    "        data.append(data_)\n",
    "    data = np.concatenate(data, axis=0)\n",
    "    return data\n",
    "def create_zinc_id(id: int):\n",
    "    return 'ZINC'+str(int(id + 1e12))[1:]\n"
   ]
  },
  {
   "cell_type": "code",
   "execution_count": null,
   "metadata": {},
   "outputs": [],
   "source": [
    "total_data = get_data(folder, file_lists)\n",
    "# data_[0][:, 0].shape, data_[1].shape\n"
   ]
  },
  {
   "cell_type": "code",
   "execution_count": 11,
   "metadata": {},
   "outputs": [],
   "source": [
    "# 依据total_data第二列获取top千分之一的数据\n",
    "def get_top_data(total_data, top=0.001):\n",
    "    top_data = total_data[total_data[:, 1].argsort()][:int(total_data.shape[0]*top)]\n",
    "    return top_data\n",
    "top_data = get_top_data(total_data)"
   ]
  },
  {
   "cell_type": "markdown",
   "metadata": {},
   "source": [
    "## 使用脚本下载smiles"
   ]
  },
  {
   "cell_type": "markdown",
   "metadata": {},
   "source": [
    "## 聚合分别下载的smiles"
   ]
  },
  {
   "cell_type": "code",
   "execution_count": null,
   "metadata": {},
   "outputs": [],
   "source": [
    "folder = 'smiles'\n",
    "files = os.listdir(folder)\n",
    "smiles_dict = dict()\n",
    "for file in tqdm(files):\n",
    "    # print(file)\n",
    "    with open(os.path.join(folder, file), 'r', errors='ignore') as f:\n",
    "\n",
    "            for line_ in f.readlines():\n",
    "                # print(line_)\n",
    "                # line_ = str(line_, encoding='utf-8')\n",
    "                # line_ = str(line_, encoding='utf-8')\n",
    "                try:\n",
    "                    line = line_.strip().split()\n",
    "                    smiles_dict[line[1]] = line[0]\n",
    "                # break\n",
    "                except:\n",
    "                    print(file)\n",
    "                    # print(line_)\n",
    "                    # print(line_.decode('utf-8'))\n",
    "                    continue\n",
    "    # break\n"
   ]
  },
  {
   "cell_type": "markdown",
   "metadata": {},
   "source": [
    "## 保存为dataframe"
   ]
  },
  {
   "cell_type": "code",
   "execution_count": 21,
   "metadata": {},
   "outputs": [],
   "source": [
    "zinc_id_smiles_frame = pd.DataFrame(smiles_dict.items(), columns=['zinc_id', 'smiles'])\n",
    "# 设置zinc_id为索引\n",
    "# zinc_id_smiles_frame.set_index('zinc_id', inplace=True)\n",
    "# 去除重复的zinc_id\n",
    "zinc_id_smiles_frame.drop_duplicates(inplace=True)\n"
   ]
  },
  {
   "cell_type": "code",
   "execution_count": 23,
   "metadata": {},
   "outputs": [],
   "source": [
    "zinc_id_smiles_frame.head()\n",
    "# 保存\n",
    "zinc_id_smiles_frame.to_csv('zinc_id_smiles_frame.csv', index=False)"
   ]
  },
  {
   "cell_type": "code",
   "execution_count": 24,
   "metadata": {},
   "outputs": [
    {
     "data": {
      "text/html": [
       "<div>\n",
       "<style scoped>\n",
       "    .dataframe tbody tr th:only-of-type {\n",
       "        vertical-align: middle;\n",
       "    }\n",
       "\n",
       "    .dataframe tbody tr th {\n",
       "        vertical-align: top;\n",
       "    }\n",
       "\n",
       "    .dataframe thead th {\n",
       "        text-align: right;\n",
       "    }\n",
       "</style>\n",
       "<table border=\"1\" class=\"dataframe\">\n",
       "  <thead>\n",
       "    <tr style=\"text-align: right;\">\n",
       "      <th></th>\n",
       "      <th>zinc_id</th>\n",
       "      <th>smiles</th>\n",
       "    </tr>\n",
       "  </thead>\n",
       "  <tbody>\n",
       "    <tr>\n",
       "      <th>0</th>\n",
       "      <td>ZINC000541065243</td>\n",
       "      <td>Cc1ccc(NC(=O)N2CC=C(c3ccccc3F)C2)cc1-n1cnnn1</td>\n",
       "    </tr>\n",
       "    <tr>\n",
       "      <th>1</th>\n",
       "      <td>ZINC000826277901</td>\n",
       "      <td>Cc1ccc(-c2nn[nH]n2)cc1NC(=O)NC1(c2cccc(C#N)c2)CC1</td>\n",
       "    </tr>\n",
       "    <tr>\n",
       "      <th>2</th>\n",
       "      <td>ZINC000891289621</td>\n",
       "      <td>Cc1ccc(C)c(C2CCN(C(=O)c3cc4c(nc3O)CCCC4=O)CC2)c1</td>\n",
       "    </tr>\n",
       "    <tr>\n",
       "      <th>3</th>\n",
       "      <td>ZINC000811597825</td>\n",
       "      <td>O=C1COc2c(cccc2NC(=O)c2cc(-c3ccccn3)nc3ccccc23)N1</td>\n",
       "    </tr>\n",
       "    <tr>\n",
       "      <th>4</th>\n",
       "      <td>ZINC001136656412</td>\n",
       "      <td>O=C(c1cnc2[nH]ncc2c1)N1CCO[C@@H](c2nn[nH]n2)C1</td>\n",
       "    </tr>\n",
       "  </tbody>\n",
       "</table>\n",
       "</div>"
      ],
      "text/plain": [
       "            zinc_id                                             smiles\n",
       "0  ZINC000541065243       Cc1ccc(NC(=O)N2CC=C(c3ccccc3F)C2)cc1-n1cnnn1\n",
       "1  ZINC000826277901  Cc1ccc(-c2nn[nH]n2)cc1NC(=O)NC1(c2cccc(C#N)c2)CC1\n",
       "2  ZINC000891289621   Cc1ccc(C)c(C2CCN(C(=O)c3cc4c(nc3O)CCCC4=O)CC2)c1\n",
       "3  ZINC000811597825  O=C1COc2c(cccc2NC(=O)c2cc(-c3ccccn3)nc3ccccc23)N1\n",
       "4  ZINC001136656412     O=C(c1cnc2[nH]ncc2c1)N1CCO[C@@H](c2nn[nH]n2)C1"
      ]
     },
     "execution_count": 24,
     "metadata": {},
     "output_type": "execute_result"
    }
   ],
   "source": [
    "\n",
    "zinc_id_smiles_frame.head()"
   ]
  },
  {
   "cell_type": "markdown",
   "metadata": {},
   "source": [
    "## 索引出四个复合体分别的smiles"
   ]
  },
  {
   "cell_type": "code",
   "execution_count": 25,
   "metadata": {},
   "outputs": [
    {
     "data": {
      "text/plain": [
       "((564646, 2), (564646, 2), (564646, 2), (564646, 2))"
      ]
     },
     "execution_count": 25,
     "metadata": {},
     "output_type": "execute_result"
    }
   ],
   "source": [
    "import torch\n",
    "data_3a6p = torch.load('3a6p_top_data.pt')\n",
    "data_4z4d = torch.load('4z4d_top_data.pt')\n",
    "data_4z4c = torch.load('4z4c_top_data.pt')\n",
    "data_6cbd = torch.load('6cbd_top_data.pt')\n",
    "\n",
    "zinc_id_smiles_frame = pd.read_csv('zinc_id_smiles_frame.csv')\n",
    "\n",
    "# 转换为dataframe\n",
    "data_3a6p = pd.DataFrame(data_3a6p, columns=['zinc_id', 'score'])\n",
    "data_4z4d = pd.DataFrame(data_4z4d, columns=['zinc_id', 'score'])\n",
    "data_4z4c = pd.DataFrame(data_4z4c, columns=['zinc_id', 'score'])\n",
    "data_6cbd = pd.DataFrame(data_6cbd, columns=['zinc_id', 'score'])\n",
    "\n",
    "\n",
    "# 转换zinc id列为int\n",
    "data_3a6p['zinc_id'] = data_3a6p['zinc_id'].apply(create_zinc_id)\n",
    "# data_3a6p.set_index('zinc_id', inplace=True)\n",
    "# 去除重复的zinc id\n",
    "# data_3a6p.drop_duplicates(inplace=True)\n",
    "data_4z4d['zinc_id'] = data_4z4d['zinc_id'].apply(create_zinc_id)\n",
    "# data_4z4d.set_index('zinc_id', inplace=True)\n",
    "# data_4z4d.drop_duplicates(inplace=True)\n",
    "data_4z4c['zinc_id'] = data_4z4c['zinc_id'].apply(create_zinc_id)\n",
    "# data_4z4c.set_index('zinc_id', inplace=True)\n",
    "# data_4z4c.drop_duplicates(inplace=True)\n",
    "data_6cbd['zinc_id'] = data_6cbd['zinc_id'].apply(create_zinc_id)\n",
    "# data_6cbd.set_index('zinc_id', inplace=True)\n",
    "# data_6cbd.drop_duplicates(inplace=True)\n",
    "\n",
    "# 合并表格\n",
    "data_3a6p_zinc_id_smiles_frame = pd.merge(data_3a6p, zinc_id_smiles_frame, on='zinc_id', how='inner')\n",
    "data_3a6p_zinc_id_smiles_frame.drop_duplicates(subset=['zinc_id'], inplace=True)\n",
    "# 保存数据\n",
    "data_3a6p_zinc_id_smiles_frame.to_csv('data_3a6p_zinc_id_smiles_frame.csv', index=False)\n",
    "\n",
    "data_4z4d_zinc_id_smiles_frame = pd.merge(data_4z4d, zinc_id_smiles_frame, on='zinc_id', how='inner')\n",
    "data_4z4d_zinc_id_smiles_frame.drop_duplicates(subset=['zinc_id'], inplace=True)\n",
    "data_4z4d_zinc_id_smiles_frame.to_csv('data_4z4d_zinc_id_smiles_frame.csv', index=False)\n",
    "\n",
    "data_4z4c_zinc_id_smiles_frame = pd.merge(data_4z4c, zinc_id_smiles_frame, on='zinc_id', how='inner')\n",
    "data_4z4c_zinc_id_smiles_frame.drop_duplicates(subset=['zinc_id'], inplace=True)\n",
    "data_4z4c_zinc_id_smiles_frame.to_csv('data_4z4c_zinc_id_smiles_frame.csv', index=False)\n",
    "\n",
    "data_6cbd_zinc_id_smiles_frame = pd.merge(data_6cbd, zinc_id_smiles_frame, on='zinc_id', how='inner')\n",
    "data_6cbd_zinc_id_smiles_frame.drop_duplicates(subset=['zinc_id'], inplace=True)\n",
    "data_6cbd_zinc_id_smiles_frame.to_csv('data_6cbd_zinc_id_smiles_frame.csv', index=False)\n",
    "\n",
    "data_3a6p.shape, data_4z4d.shape, data_4z4c.shape, data_6cbd.shape"
   ]
  },
  {
   "cell_type": "code",
   "execution_count": 18,
   "metadata": {},
   "outputs": [
    {
     "data": {
      "text/html": [
       "<div>\n",
       "<style scoped>\n",
       "    .dataframe tbody tr th:only-of-type {\n",
       "        vertical-align: middle;\n",
       "    }\n",
       "\n",
       "    .dataframe tbody tr th {\n",
       "        vertical-align: top;\n",
       "    }\n",
       "\n",
       "    .dataframe thead th {\n",
       "        text-align: right;\n",
       "    }\n",
       "</style>\n",
       "<table border=\"1\" class=\"dataframe\">\n",
       "  <thead>\n",
       "    <tr style=\"text-align: right;\">\n",
       "      <th></th>\n",
       "      <th>zinc_id</th>\n",
       "      <th>score</th>\n",
       "      <th>smiles</th>\n",
       "    </tr>\n",
       "  </thead>\n",
       "  <tbody>\n",
       "    <tr>\n",
       "      <th>0</th>\n",
       "      <td>ZINC000059597020</td>\n",
       "      <td>-11.560652</td>\n",
       "      <td>Fc1ccc(Nc2nc3nonc3nc2NNc2nc3nonc3nc2Nc2ccc(F)c...</td>\n",
       "    </tr>\n",
       "    <tr>\n",
       "      <th>1</th>\n",
       "      <td>ZINC000738432616</td>\n",
       "      <td>-10.720841</td>\n",
       "      <td>c1ccc2[nH]c(C3CCN(c4cc(-c5nn[nH]n5)nc5ccccc45)...</td>\n",
       "    </tr>\n",
       "    <tr>\n",
       "      <th>4</th>\n",
       "      <td>ZINC000823766411</td>\n",
       "      <td>-10.596564</td>\n",
       "      <td>c1ccc(-c2nnc3n2CCN(c2cc(-c4nn[nH]n4)nc4ccccc24...</td>\n",
       "    </tr>\n",
       "    <tr>\n",
       "      <th>7</th>\n",
       "      <td>ZINC000408721506</td>\n",
       "      <td>-10.580578</td>\n",
       "      <td>Cc1ccc(NN=c2[nH]c3nonc3[nH]c2=N/N=C\\c2ccc(-c3c...</td>\n",
       "    </tr>\n",
       "    <tr>\n",
       "      <th>8</th>\n",
       "      <td>ZINC000408721249</td>\n",
       "      <td>-10.569624</td>\n",
       "      <td>Cc1ccc(NN=c2[nH]c3nonc3[nH]c2=N/N=C\\c2ccc(-c3c...</td>\n",
       "    </tr>\n",
       "  </tbody>\n",
       "</table>\n",
       "</div>"
      ],
      "text/plain": [
       "            zinc_id      score   \n",
       "0  ZINC000059597020 -11.560652  \\\n",
       "1  ZINC000738432616 -10.720841   \n",
       "4  ZINC000823766411 -10.596564   \n",
       "7  ZINC000408721506 -10.580578   \n",
       "8  ZINC000408721249 -10.569624   \n",
       "\n",
       "                                              smiles  \n",
       "0  Fc1ccc(Nc2nc3nonc3nc2NNc2nc3nonc3nc2Nc2ccc(F)c...  \n",
       "1  c1ccc2[nH]c(C3CCN(c4cc(-c5nn[nH]n5)nc5ccccc45)...  \n",
       "4  c1ccc(-c2nnc3n2CCN(c2cc(-c4nn[nH]n4)nc4ccccc24...  \n",
       "7  Cc1ccc(NN=c2[nH]c3nonc3[nH]c2=N/N=C\\c2ccc(-c3c...  \n",
       "8  Cc1ccc(NN=c2[nH]c3nonc3[nH]c2=N/N=C\\c2ccc(-c3c...  "
      ]
     },
     "execution_count": 18,
     "metadata": {},
     "output_type": "execute_result"
    }
   ],
   "source": [
    "data_3a6p_zinc_id_smiles_frame.head()\n"
   ]
  },
  {
   "cell_type": "markdown",
   "metadata": {},
   "source": [
    "## 聚类"
   ]
  },
  {
   "cell_type": "code",
   "execution_count": 2,
   "metadata": {},
   "outputs": [],
   "source": [
    "# 读取数据\n",
    "data_3a6p_zinc_id_smiles_frame = pd.read_csv('data_3a6p_zinc_id_smiles_frame.csv')\n",
    "data_4z4d_zinc_id_smiles_frame = pd.read_csv('data_4z4d_zinc_id_smiles_frame.csv')\n",
    "data_4z4c_zinc_id_smiles_frame = pd.read_csv('data_4z4c_zinc_id_smiles_frame.csv')\n",
    "data_6cbd_zinc_id_smiles_frame = pd.read_csv('data_6cbd_zinc_id_smiles_frame.csv')"
   ]
  },
  {
   "cell_type": "code",
   "execution_count": 4,
   "metadata": {},
   "outputs": [
    {
     "name": "stderr",
     "output_type": "stream",
     "text": [
      "[14:59:04] SMILES Parse Error: syntax error while parsing: K&npBn31O=C1Cc2cc(-c3noc(-c4cccc(NC(=O)c5ccco5)c4)n3)ccc2N1\n",
      "[14:59:04] SMILES Parse Error: Failed parsing SMILES 'K&npBn31O=C1Cc2cc(-c3noc(-c4cccc(NC(=O)c5ccco5)c4)n3)ccc2N1' for input: 'K&npBn31O=C1Cc2cc(-c3noc(-c4cccc(NC(=O)c5ccco5)c4)n3)ccc2N1'\n",
      "[14:59:06] SMILES Parse Error: extra open parentheses for input: 'Cc1nc(CNC(=O)c2ccc(=O)n(-c3ccccc3)nO=C([C@@H]1C[C@H]1c1cccnc1)N1CC[C@@H](Nc2nccnc2-c2nn[nH]n2)C1'\n",
      "[14:59:07] SMILES Parse Error: syntax error while parsing: \n",
      "[14:59:07] SMILES Parse Error: Failed parsing SMILES '' for input: ''\n",
      "[14:59:07] SMILES Parse Error: syntax error while parsing: F4O-!\u0019Ҏ\u0005aq\u0007sG\u0019\u0012\u0004MNH&\u0002\u0003\u0001\n",
      "[14:59:07] SMILES Parse Error: Failed parsing SMILES 'F4O-!\u0019Ҏ\u0005aq\u0007sG\u0019\u0012\u0004MNH&\u0002\u0003\u0001' for input: 'F4O-!\u0019Ҏ\u0005aq\u0007sG\u0019\u0012\u0004MNH&\u0002\u0003\u0001'\n",
      "[14:59:10] SMILES Parse Error: syntax error while parsing: 35CN1C[C@@H](C(=O)N[C@@H]2C[C@H]3CC[C@@H]2N3c2ccnc(-c3nn[nH]n3)n2)NC1=O\n",
      "[14:59:10] SMILES Parse Error: Failed parsing SMILES '35CN1C[C@@H](C(=O)N[C@@H]2C[C@H]3CC[C@@H]2N3c2ccnc(-c3nn[nH]n3)n2)NC1=O' for input: '35CN1C[C@@H](C(=O)N[C@@H]2C[C@H]3CC[C@@H]2N3c2ccnc(-c3nn[nH]n3)n2)NC1=O'\n",
      "[14:59:21] SMILES Parse Error: syntax error while parsing: 'Cc1c(Cl)cccc1S(=O)(=O)N1CCc2c(c(-c3nnc(-c4ccccc4)o3)nn2C)C1\n",
      "[14:59:21] SMILES Parse Error: Failed parsing SMILES ''Cc1c(Cl)cccc1S(=O)(=O)N1CCc2c(c(-c3nnc(-c4ccccc4)o3)nn2C)C1' for input: ''Cc1c(Cl)cccc1S(=O)(=O)N1CCc2c(c(-c3nnc(-c4ccccc4)o3)nn2C)C1'\n",
      "[14:59:24] SMILES Parse Error: syntax error while parsing: \n",
      "[14:59:24] SMILES Parse Error: Failed parsing SMILES '\u0006' for input: '\u0006'\n",
      "[14:59:25] SMILES Parse Error: syntax error while parsing: L\n",
      "[14:59:25] SMILES Parse Error: Failed parsing SMILES 'L' for input: 'L'\n",
      "[14:59:25] SMILES Parse Error: syntax error while parsing: \n",
      "[14:59:25] SMILES Parse Error: Failed parsing SMILES '\u0016' for input: '\u0016'\n",
      "[14:59:33] SMILES Parse Error: syntax error while parsing: W0&h\n",
      "[14:59:33] SMILES Parse Error: Failed parsing SMILES 'W0&h' for input: 'W0&h'\n",
      "[14:59:33] SMILES Parse Error: syntax error while parsing: \"O=C1NCCN1c1cccc(-c2noc(Cc3c[nH]c4ccc(Cl)cc34)n2)c1\n",
      "[14:59:33] SMILES Parse Error: Failed parsing SMILES '\u0013\"O=C1NCCN1c1cccc(-c2noc(Cc3c[nH]c4ccc(Cl)cc34)n2)c1' for input: '\u0013\"O=C1NCCN1c1cccc(-c2noc(Cc3c[nH]c4ccc(Cl)cc34)n2)c1'\n",
      "[14:59:34] SMILES Parse Error: syntax error while parsing: d\n",
      "[14:59:34] SMILES Parse Error: Failed parsing SMILES 'd' for input: 'd'\n",
      "[14:59:37] SMILES Parse Error: syntax error while parsing: \n",
      "[14:59:37] SMILES Parse Error: Failed parsing SMILES '' for input: ''\n",
      "[14:59:38] non-ring atom 0 marked aromatic\n",
      "[14:59:43] SMILES Parse Error: syntax error while parsing: \n",
      "[14:59:43] SMILES Parse Error: Failed parsing SMILES '' for input: ''\n",
      "[14:59:48] SMILES Parse Error: syntax error while parsing: %Cc1ccc(-c2nc3cc(C(=O)N4CCC(CC(=O)NC[C@H]5CCCO5)CC4)ccc3o2)cc1\n",
      "[14:59:48] SMILES Parse Error: Failed parsing SMILES '%Cc1ccc(-c2nc3cc(C(=O)N4CCC(CC(=O)NC[C@H]5CCCO5)CC4)ccc3o2)cc1' for input: '%Cc1ccc(-c2nc3cc(C(=O)N4CCC(CC(=O)NC[C@H]5CCCO5)CC4)ccc3o2)cc1'\n",
      "[14:59:50] SMILES Parse Error: syntax error while parsing: =C(c3ccccc3)CC2)C1=O\n",
      "[14:59:50] SMILES Parse Error: Failed parsing SMILES '=C(c3ccccc3)CC2)C1=O' for input: '=C(c3ccccc3)CC2)C1=O'\n",
      "[14:59:55] SMILES Parse Error: syntax error while parsing: U\n",
      "[14:59:55] SMILES Parse Error: Failed parsing SMILES 'U' for input: 'U'\n",
      "[14:59:56] SMILES Parse Error: syntax error while parsing: 1606220000Cc1[nH]c2ccc(-c3nc(-c4c5n(c(C)cc4=O)CCC5)no3)cc2c1C\n",
      "[14:59:56] SMILES Parse Error: Failed parsing SMILES '1606220000Cc1[nH]c2ccc(-c3nc(-c4c5n(c(C)cc4=O)CCC5)no3)cc2c1C' for input: '1606220000Cc1[nH]c2ccc(-c3nc(-c4c5n(c(C)cc4=O)CCC5)no3)cc2c1C'\n",
      "[14:59:59] SMILES Parse Error: syntax error while parsing: \\\n",
      "[14:59:59] SMILES Parse Error: Failed parsing SMILES '\\' for input: '\\'\n",
      "[14:59:59] SMILES Parse Error: syntax error while parsing: \n",
      "[14:59:59] SMILES Parse Error: Failed parsing SMILES '' for input: ''\n",
      "[15:00:03] SMILES Parse Error: syntax error while parsing: \n",
      "[15:00:03] SMILES Parse Error: Failed parsing SMILES '' for input: ''\n",
      "[15:00:04] SMILES Parse Error: syntax error while parsing: *o*\u0004ǠzHY~#lBQK\u0015AIJ\u0010v掠6\u00145x\"5RC'aV4O=C1Nc2ccccc2[C@@H]1C1CCN(C(=O)Cn2cnc3scc(-c4cccs4)c3c2=O)CC1\n",
      "[15:00:04] SMILES Parse Error: Failed parsing SMILES '*o*\u0004ǠzHY~#lBQK\u0015AIJ\u0010v掠6\u00145x\"5RC'aV4O=C1Nc2ccccc2[C@@H]1C1CCN(C(=O)Cn2cnc3scc(-c4cccs4)c3c2=O)CC1' for input: '*o*\u0004ǠzHY~#lBQK\u0015AIJ\u0010v掠6\u00145x\"5RC'aV4O=C1Nc2ccccc2[C@@H]1C1CCN(C(=O)Cn2cnc3scc(-c4cccs4)c3c2=O)CC1'\n",
      "[15:00:05] SMILES Parse Error: syntax error while parsing: \n",
      "[15:00:05] SMILES Parse Error: Failed parsing SMILES '' for input: ''\n",
      "[15:00:09] SMILES Parse Error: syntax error while parsing: \n",
      "[15:00:09] SMILES Parse Error: Failed parsing SMILES '' for input: ''\n",
      "[15:00:12] SMILES Parse Error: syntax error while parsing: \n",
      "[15:00:12] SMILES Parse Error: Failed parsing SMILES '' for input: ''\n",
      "[15:00:13] SMILES Parse Error: syntax error while parsing: W\u000e6\u0017e\u00120\u0007\n",
      "[15:00:13] SMILES Parse Error: Failed parsing SMILES 'W\u000e6\u0017e\u00120\u0007' for input: 'W\u000e6\u0017e\u00120\u0007'\n",
      "[15:00:15] SMILES Parse Error: syntax error while parsing: W0&h\n",
      "[15:00:15] SMILES Parse Error: Failed parsing SMILES 'W0&h' for input: 'W0&h'\n",
      "[15:00:16] SMILES Parse Error: syntax error while parsing: \n",
      "[15:00:16] SMILES Parse Error: Failed parsing SMILES '' for input: ''\n",
      "[15:00:16] SMILES Parse Error: syntax error while parsing: \n",
      "[15:00:16] SMILES Parse Error: Failed parsing SMILES '\u0006' for input: '\u0006'\n",
      "[15:00:21] SMILES Parse Error: syntax error while parsing: *o*\u0004ǠzHY~#lBQK\u0015AIJ\u0010v掠6\u00145x\"5RC'aV4O=C1Nc2ccccc2[C@@H]1C1CCN(C(=O)Cn2cnc3scc(-c4cccs4)c3c2=O)CC1\n",
      "[15:00:21] SMILES Parse Error: Failed parsing SMILES '*o*\u0004ǠzHY~#lBQK\u0015AIJ\u0010v掠6\u00145x\"5RC'aV4O=C1Nc2ccccc2[C@@H]1C1CCN(C(=O)Cn2cnc3scc(-c4cccs4)c3c2=O)CC1' for input: '*o*\u0004ǠzHY~#lBQK\u0015AIJ\u0010v掠6\u00145x\"5RC'aV4O=C1Nc2ccccc2[C@@H]1C1CCN(C(=O)Cn2cnc3scc(-c4cccs4)c3c2=O)CC1'\n",
      "[15:00:30] SMILES Parse Error: syntax error while parsing: @H](C(=O)O)C3)cnc2n(C)c1=O\n",
      "[15:00:30] SMILES Parse Error: Failed parsing SMILES '@H](C(=O)O)C3)cnc2n(C)c1=O' for input: '@H](C(=O)O)C3)cnc2n(C)c1=O'\n",
      "[15:00:31] SMILES Parse Error: syntax error while parsing: m\n",
      "[15:00:31] SMILES Parse Error: Failed parsing SMILES 'm' for input: 'm'\n",
      "[15:00:31] SMILES Parse Error: syntax error while parsing: \n",
      "[15:00:31] SMILES Parse Error: Failed parsing SMILES '' for input: ''\n",
      "[15:00:39] SMILES Parse Error: syntax error while parsing: \n",
      "[15:00:39] SMILES Parse Error: Failed parsing SMILES '' for input: ''\n",
      "[15:00:44] SMILES Parse Error: syntax error while parsing: 'Cc1c(Cl)cccc1S(=O)(=O)N1CCc2c(c(-c3nnc(-c4ccccc4)o3)nn2C)C1\n",
      "[15:00:44] SMILES Parse Error: Failed parsing SMILES ''Cc1c(Cl)cccc1S(=O)(=O)N1CCc2c(c(-c3nnc(-c4ccccc4)o3)nn2C)C1' for input: ''Cc1c(Cl)cccc1S(=O)(=O)N1CCc2c(c(-c3nnc(-c4ccccc4)o3)nn2C)C1'\n",
      "[15:00:46] SMILES Parse Error: syntax error while parsing: \n",
      "[15:00:46] SMILES Parse Error: Failed parsing SMILES '\u0019' for input: '\u0019'\n",
      "[15:00:46] SMILES Parse Error: syntax error while parsing: F4O-!\u0019Ҏ\u0005aq\u0007sG\u0019\u0012\u0004MNH&\u0002\u0003\u0001\n",
      "[15:00:46] SMILES Parse Error: Failed parsing SMILES 'F4O-!\u0019Ҏ\u0005aq\u0007sG\u0019\u0012\u0004MNH&\u0002\u0003\u0001' for input: 'F4O-!\u0019Ҏ\u0005aq\u0007sG\u0019\u0012\u0004MNH&\u0002\u0003\u0001'\n",
      "[15:00:47] SMILES Parse Error: syntax error while parsing: =C(c3ccccc3)CC2)C1=O\n",
      "[15:00:47] SMILES Parse Error: Failed parsing SMILES '=C(c3ccccc3)CC2)C1=O' for input: '=C(c3ccccc3)CC2)C1=O'\n",
      "[15:00:54] SMILES Parse Error: syntax error while parsing: \n",
      "[15:00:54] SMILES Parse Error: Failed parsing SMILES '\u0001\u0001\u0005\u0005' for input: '\u0001\u0001\u0005\u0005'\n",
      "[15:00:55] SMILES Parse Error: syntax error while parsing: 160212181523ZO=C(N[C@H]1CCOc2c(-c3ccccc3)cccc21)c1n[nH]c2ccc([N+](=O)[O-])cc12\n",
      "[15:00:55] SMILES Parse Error: Failed parsing SMILES '160212181523ZO=C(N[C@H]1CCOc2c(-c3ccccc3)cccc21)c1n[nH]c2ccc([N+](=O)[O-])cc12' for input: '160212181523ZO=C(N[C@H]1CCOc2c(-c3ccccc3)cccc21)c1n[nH]c2ccc([N+](=O)[O-])cc12'\n",
      "[15:00:58] SMILES Parse Error: syntax error while parsing: \\\n",
      "[15:00:58] SMILES Parse Error: Failed parsing SMILES '\\' for input: '\\'\n",
      "[15:00:59] SMILES Parse Error: syntax error while parsing: cb`\u000fX\u0005f\u001bvdL9R0K\u0002\u0002\u0003\u0001\n",
      "[15:00:59] SMILES Parse Error: Failed parsing SMILES 'cb`\u000fX\u0005f\u001bvdL9R0K\u0002\u0002\u0003\u0001' for input: 'cb`\u000fX\u0005f\u001bvdL9R0K\u0002\u0002\u0003\u0001'\n",
      "[15:00:59] SMILES Parse Error: syntax error while parsing: \n",
      "[15:00:59] SMILES Parse Error: Failed parsing SMILES '\u0019' for input: '\u0019'\n",
      "[15:00:59] SMILES Parse Error: syntax error while parsing: 0\n",
      "[15:00:59] SMILES Parse Error: Failed parsing SMILES '0' for input: '0'\n",
      "[15:01:02] SMILES Parse Error: syntax error while parsing: K&npBn31O=C1Cc2cc(-c3noc(-c4cccc(NC(=O)c5ccco5)c4)n3)ccc2N1\n",
      "[15:01:02] SMILES Parse Error: Failed parsing SMILES 'K&npBn31O=C1Cc2cc(-c3noc(-c4cccc(NC(=O)c5ccco5)c4)n3)ccc2N1' for input: 'K&npBn31O=C1Cc2cc(-c3noc(-c4cccc(NC(=O)c5ccco5)c4)n3)ccc2N1'\n",
      "[15:01:06] SMILES Parse Error: syntax error while parsing: \n",
      "[15:01:06] SMILES Parse Error: Failed parsing SMILES '' for input: ''\n",
      "[15:01:20] SMILES Parse Error: syntax error while parsing: %Cc1ccc(-c2nc3cc(C(=O)N4CCC(CC(=O)NC[C@H]5CCCO5)CC4)ccc3o2)cc1\n",
      "[15:01:20] SMILES Parse Error: Failed parsing SMILES '%Cc1ccc(-c2nc3cc(C(=O)N4CCC(CC(=O)NC[C@H]5CCCO5)CC4)ccc3o2)cc1' for input: '%Cc1ccc(-c2nc3cc(C(=O)N4CCC(CC(=O)NC[C@H]5CCCO5)CC4)ccc3o2)cc1'\n",
      "[15:01:22] SMILES Parse Error: syntax error while parsing: 'ߟs%l\u0016A84\u0004\u0014O=C(Cc1cccc2cccnc12)Nc1cccc(-c2nnc3n2CCCCC3)c1\n",
      "[15:01:22] SMILES Parse Error: Failed parsing SMILES ''ߟs%l\u0016A84\u0004\u0014O=C(Cc1cccc2cccnc12)Nc1cccc(-c2nnc3n2CCCCC3)c1' for input: ''ߟs%l\u0016A84\u0004\u0014O=C(Cc1cccc2cccnc12)Nc1cccc(-c2nnc3n2CCCCC3)c1'\n",
      "[15:01:30] SMILES Parse Error: syntax error while parsing: \n",
      "[15:01:30] SMILES Parse Error: Failed parsing SMILES '\u0016' for input: '\u0016'\n",
      "[15:01:35] SMILES Parse Error: syntax error while parsing: \n",
      "[15:01:35] SMILES Parse Error: Failed parsing SMILES '\u0019' for input: '\u0019'\n",
      "[15:01:39] SMILES Parse Error: syntax error while parsing: \n",
      "[15:01:39] SMILES Parse Error: Failed parsing SMILES '\u001b' for input: '\u001b'\n",
      "[15:01:40] SMILES Parse Error: syntax error while parsing: X\n",
      "[15:01:40] SMILES Parse Error: Failed parsing SMILES 'X' for input: 'X'\n",
      "[15:01:43] SMILES Parse Error: syntax error while parsing: \n",
      "[15:01:43] SMILES Parse Error: Failed parsing SMILES '\u0006' for input: '\u0006'\n",
      "[15:01:45] SMILES Parse Error: syntax error while parsing: \n",
      "[15:01:45] SMILES Parse Error: Failed parsing SMILES '' for input: ''\n",
      "[15:01:46] SMILES Parse Error: syntax error while parsing: W0&h\n",
      "[15:01:46] SMILES Parse Error: Failed parsing SMILES 'W0&h' for input: 'W0&h'\n",
      "[15:01:47] SMILES Parse Error: syntax error while parsing: *o*\u0004ǠzHY~#lBQK\u0015AIJ\u0010v掠6\u00145x\"5RC'aV4O=C1Nc2ccccc2[C@@H]1C1CCN(C(=O)Cn2cnc3scc(-c4cccs4)c3c2=O)CC1\n",
      "[15:01:47] SMILES Parse Error: Failed parsing SMILES '*o*\u0004ǠzHY~#lBQK\u0015AIJ\u0010v掠6\u00145x\"5RC'aV4O=C1Nc2ccccc2[C@@H]1C1CCN(C(=O)Cn2cnc3scc(-c4cccs4)c3c2=O)CC1' for input: '*o*\u0004ǠzHY~#lBQK\u0015AIJ\u0010v掠6\u00145x\"5RC'aV4O=C1Nc2ccccc2[C@@H]1C1CCN(C(=O)Cn2cnc3scc(-c4cccs4)c3c2=O)CC1'\n",
      "[15:01:54] SMILES Parse Error: syntax error while parsing: @H](C(=O)O)C3)cnc2n(C)c1=O\n",
      "[15:01:54] SMILES Parse Error: Failed parsing SMILES '@H](C(=O)O)C3)cnc2n(C)c1=O' for input: '@H](C(=O)O)C3)cnc2n(C)c1=O'\n",
      "[15:02:03] SMILES Parse Error: syntax error while parsing: \n",
      "[15:02:03] SMILES Parse Error: Failed parsing SMILES '' for input: ''\n",
      "[15:02:06] SMILES Parse Error: syntax error while parsing: 0\n",
      "[15:02:06] SMILES Parse Error: Failed parsing SMILES '0' for input: '0'\n",
      "[15:02:08] SMILES Parse Error: syntax error while parsing: cb`\u000fX\u0005f\u001bvdL9R0K\u0002\u0002\u0003\u0001\n",
      "[15:02:08] SMILES Parse Error: Failed parsing SMILES 'cb`\u000fX\u0005f\u001bvdL9R0K\u0002\u0002\u0003\u0001' for input: 'cb`\u000fX\u0005f\u001bvdL9R0K\u0002\u0002\u0003\u0001'\n",
      "[15:02:13] SMILES Parse Error: syntax error while parsing: \n",
      "[15:02:13] SMILES Parse Error: Failed parsing SMILES '' for input: ''\n",
      "[15:02:13] SMILES Parse Error: syntax error while parsing: =C(c3ccccc3)CC2)C1=O\n",
      "[15:02:13] SMILES Parse Error: Failed parsing SMILES '=C(c3ccccc3)CC2)C1=O' for input: '=C(c3ccccc3)CC2)C1=O'\n",
      "[15:02:13] SMILES Parse Error: syntax error while parsing: \n",
      "[15:02:13] SMILES Parse Error: Failed parsing SMILES '' for input: ''\n",
      "[15:02:15] SMILES Parse Error: syntax error while parsing: 'Cc1c(Cl)cccc1S(=O)(=O)N1CCc2c(c(-c3nnc(-c4ccccc4)o3)nn2C)C1\n",
      "[15:02:15] SMILES Parse Error: Failed parsing SMILES ''Cc1c(Cl)cccc1S(=O)(=O)N1CCc2c(c(-c3nnc(-c4ccccc4)o3)nn2C)C1' for input: ''Cc1c(Cl)cccc1S(=O)(=O)N1CCc2c(c(-c3nnc(-c4ccccc4)o3)nn2C)C1'\n",
      "[15:02:18] SMILES Parse Error: syntax error while parsing: \n",
      "[15:02:18] SMILES Parse Error: Failed parsing SMILES '\u0019' for input: '\u0019'\n",
      "[15:02:19] SMILES Parse Error: syntax error while parsing: K&npBn31O=C1Cc2cc(-c3noc(-c4cccc(NC(=O)c5ccco5)c4)n3)ccc2N1\n",
      "[15:02:19] SMILES Parse Error: Failed parsing SMILES 'K&npBn31O=C1Cc2cc(-c3noc(-c4cccc(NC(=O)c5ccco5)c4)n3)ccc2N1' for input: 'K&npBn31O=C1Cc2cc(-c3noc(-c4cccc(NC(=O)c5ccco5)c4)n3)ccc2N1'\n",
      "[15:02:21] SMILES Parse Error: syntax error while parsing: \\\n",
      "[15:02:21] SMILES Parse Error: Failed parsing SMILES '\\' for input: '\\'\n",
      "[15:02:23] SMILES Parse Error: syntax error while parsing: %Cc1ccc(-c2nc3cc(C(=O)N4CCC(CC(=O)NC[C@H]5CCCO5)CC4)ccc3o2)cc1\n",
      "[15:02:23] SMILES Parse Error: Failed parsing SMILES '%Cc1ccc(-c2nc3cc(C(=O)N4CCC(CC(=O)NC[C@H]5CCCO5)CC4)ccc3o2)cc1' for input: '%Cc1ccc(-c2nc3cc(C(=O)N4CCC(CC(=O)NC[C@H]5CCCO5)CC4)ccc3o2)cc1'\n",
      "[15:02:23] SMILES Parse Error: syntax error while parsing: 0\n",
      "[15:02:23] SMILES Parse Error: Failed parsing SMILES '0' for input: '0'\n",
      "[15:02:24] SMILES Parse Error: syntax error while parsing: X\n",
      "[15:02:24] SMILES Parse Error: Failed parsing SMILES 'X' for input: 'X'\n",
      "[15:02:28] SMILES Parse Error: syntax error while parsing: 'ߟs%l\u0016A84\u0004\u0014O=C(Cc1cccc2cccnc12)Nc1cccc(-c2nnc3n2CCCCC3)c1\n",
      "[15:02:28] SMILES Parse Error: Failed parsing SMILES ''ߟs%l\u0016A84\u0004\u0014O=C(Cc1cccc2cccnc12)Nc1cccc(-c2nnc3n2CCCCC3)c1' for input: ''ߟs%l\u0016A84\u0004\u0014O=C(Cc1cccc2cccnc12)Nc1cccc(-c2nnc3n2CCCCC3)c1'\n",
      "[15:02:30] SMILES Parse Error: syntax error while parsing: 160212181523ZO=C(N[C@H]1CCOc2c(-c3ccccc3)cccc21)c1n[nH]c2ccc([N+](=O)[O-])cc12\n",
      "[15:02:30] SMILES Parse Error: Failed parsing SMILES '160212181523ZO=C(N[C@H]1CCOc2c(-c3ccccc3)cccc21)c1n[nH]c2ccc([N+](=O)[O-])cc12' for input: '160212181523ZO=C(N[C@H]1CCOc2c(-c3ccccc3)cccc21)c1n[nH]c2ccc([N+](=O)[O-])cc12'\n",
      "[15:02:32] SMILES Parse Error: syntax error while parsing: !P\u0006CC(=O)Nc1ccccc1-c1noc(-c2cc3c(nc2O)CCCC3=O)n1\n",
      "[15:02:32] SMILES Parse Error: Failed parsing SMILES '٪!P\u0006CC(=O)Nc1ccccc1-c1noc(-c2cc3c(nc2O)CCCC3=O)n1' for input: '٪!P\u0006CC(=O)Nc1ccccc1-c1noc(-c2cc3c(nc2O)CCCC3=O)n1'\n",
      "[15:02:33] SMILES Parse Error: syntax error while parsing: 1606220000Cc1[nH]c2ccc(-c3nc(-c4c5n(c(C)cc4=O)CCC5)no3)cc2c1C\n",
      "[15:02:33] SMILES Parse Error: Failed parsing SMILES '1606220000Cc1[nH]c2ccc(-c3nc(-c4c5n(c(C)cc4=O)CCC5)no3)cc2c1C' for input: '1606220000Cc1[nH]c2ccc(-c3nc(-c4c5n(c(C)cc4=O)CCC5)no3)cc2c1C'\n",
      "[15:02:35] SMILES Parse Error: syntax error while parsing: \n",
      "[15:02:35] SMILES Parse Error: Failed parsing SMILES '' for input: ''\n",
      "[15:02:36] SMILES Parse Error: syntax error while parsing: m\n",
      "[15:02:36] SMILES Parse Error: Failed parsing SMILES 'm' for input: 'm'\n",
      "[15:02:38] SMILES Parse Error: syntax error while parsing: \n",
      "[15:02:38] SMILES Parse Error: Failed parsing SMILES '\u0019' for input: '\u0019'\n",
      "[15:02:39] SMILES Parse Error: syntax error while parsing: O\n",
      "[15:02:39] SMILES Parse Error: Failed parsing SMILES 'O' for input: 'O'\n",
      "[15:02:40] SMILES Parse Error: syntax error while parsing: \n",
      "[15:02:40] SMILES Parse Error: Failed parsing SMILES '\u0001\u0001\u0005\u0005' for input: '\u0001\u0001\u0005\u0005'\n",
      "[15:02:42] SMILES Parse Error: syntax error while parsing: \n",
      "[15:02:42] SMILES Parse Error: Failed parsing SMILES '\u0019' for input: '\u0019'\n",
      "[15:02:45] SMILES Parse Error: syntax error while parsing: \n",
      "[15:02:45] SMILES Parse Error: Failed parsing SMILES '\u0019' for input: '\u0019'\n",
      "[15:02:48] SMILES Parse Error: syntax error while parsing: \n",
      "[15:02:48] SMILES Parse Error: Failed parsing SMILES '\u0019' for input: '\u0019'\n",
      "[15:02:51] SMILES Parse Error: syntax error while parsing: F4O-!\u0019Ҏ\u0005aq\u0007sG\u0019\u0012\u0004MNH&\u0002\u0003\u0001\n",
      "[15:02:51] SMILES Parse Error: Failed parsing SMILES 'F4O-!\u0019Ҏ\u0005aq\u0007sG\u0019\u0012\u0004MNH&\u0002\u0003\u0001' for input: 'F4O-!\u0019Ҏ\u0005aq\u0007sG\u0019\u0012\u0004MNH&\u0002\u0003\u0001'\n",
      "[15:03:01] SMILES Parse Error: syntax error while parsing: \n",
      "[15:03:01] SMILES Parse Error: Failed parsing SMILES '' for input: ''\n",
      "[15:03:05] SMILES Parse Error: syntax error while parsing: \"O=C1NCCN1c1cccc(-c2noc(Cc3c[nH]c4ccc(Cl)cc34)n2)c1\n",
      "[15:03:05] SMILES Parse Error: Failed parsing SMILES '\u0013\"O=C1NCCN1c1cccc(-c2noc(Cc3c[nH]c4ccc(Cl)cc34)n2)c1' for input: '\u0013\"O=C1NCCN1c1cccc(-c2noc(Cc3c[nH]c4ccc(Cl)cc34)n2)c1'\n",
      "[15:03:11] SMILES Parse Error: syntax error while parsing: \n",
      "[15:03:11] SMILES Parse Error: Failed parsing SMILES '\u0019' for input: '\u0019'\n",
      "[15:03:16] SMILES Parse Error: syntax error while parsing: \n",
      "[15:03:16] SMILES Parse Error: Failed parsing SMILES '\u0006' for input: '\u0006'\n",
      "[15:03:17] SMILES Parse Error: syntax error while parsing: 'ߟs%l\u0016A84\u0004\u0014O=C(Cc1cccc2cccnc12)Nc1cccc(-c2nnc3n2CCCCC3)c1\n",
      "[15:03:17] SMILES Parse Error: Failed parsing SMILES ''ߟs%l\u0016A84\u0004\u0014O=C(Cc1cccc2cccnc12)Nc1cccc(-c2nnc3n2CCCCC3)c1' for input: ''ߟs%l\u0016A84\u0004\u0014O=C(Cc1cccc2cccnc12)Nc1cccc(-c2nnc3n2CCCCC3)c1'\n",
      "[15:03:19] SMILES Parse Error: syntax error while parsing: cb`\u000fX\u0005f\u001bvdL9R0K\u0002\u0002\u0003\u0001\n",
      "[15:03:19] SMILES Parse Error: Failed parsing SMILES 'cb`\u000fX\u0005f\u001bvdL9R0K\u0002\u0002\u0003\u0001' for input: 'cb`\u000fX\u0005f\u001bvdL9R0K\u0002\u0002\u0003\u0001'\n",
      "[15:03:22] SMILES Parse Error: syntax error while parsing: 'Cc1c(Cl)cccc1S(=O)(=O)N1CCc2c(c(-c3nnc(-c4ccccc4)o3)nn2C)C1\n",
      "[15:03:22] SMILES Parse Error: Failed parsing SMILES ''Cc1c(Cl)cccc1S(=O)(=O)N1CCc2c(c(-c3nnc(-c4ccccc4)o3)nn2C)C1' for input: ''Cc1c(Cl)cccc1S(=O)(=O)N1CCc2c(c(-c3nnc(-c4ccccc4)o3)nn2C)C1'\n",
      "[15:03:22] SMILES Parse Error: syntax error while parsing: 160212181523ZO=C(N[C@H]1CCOc2c(-c3ccccc3)cccc21)c1n[nH]c2ccc([N+](=O)[O-])cc12\n",
      "[15:03:22] SMILES Parse Error: Failed parsing SMILES '160212181523ZO=C(N[C@H]1CCOc2c(-c3ccccc3)cccc21)c1n[nH]c2ccc([N+](=O)[O-])cc12' for input: '160212181523ZO=C(N[C@H]1CCOc2c(-c3ccccc3)cccc21)c1n[nH]c2ccc([N+](=O)[O-])cc12'\n",
      "[15:03:23] SMILES Parse Error: syntax error while parsing: 1606220000Cc1[nH]c2ccc(-c3nc(-c4c5n(c(C)cc4=O)CCC5)no3)cc2c1C\n",
      "[15:03:23] SMILES Parse Error: Failed parsing SMILES '1606220000Cc1[nH]c2ccc(-c3nc(-c4c5n(c(C)cc4=O)CCC5)no3)cc2c1C' for input: '1606220000Cc1[nH]c2ccc(-c3nc(-c4c5n(c(C)cc4=O)CCC5)no3)cc2c1C'\n",
      "[15:03:23] SMILES Parse Error: syntax error while parsing: \n",
      "[15:03:23] SMILES Parse Error: Failed parsing SMILES '' for input: ''\n",
      "[15:03:24] SMILES Parse Error: syntax error while parsing: \n",
      "[15:03:24] SMILES Parse Error: Failed parsing SMILES '' for input: ''\n",
      "[15:03:30] SMILES Parse Error: syntax error while parsing: \n",
      "[15:03:30] SMILES Parse Error: Failed parsing SMILES '' for input: ''\n",
      "[15:03:33] SMILES Parse Error: syntax error while parsing: \n",
      "[15:03:33] SMILES Parse Error: Failed parsing SMILES '\u0019' for input: '\u0019'\n",
      "[15:03:36] SMILES Parse Error: syntax error while parsing: \n",
      "[15:03:36] SMILES Parse Error: Failed parsing SMILES '\u0019' for input: '\u0019'\n",
      "[15:03:39] SMILES Parse Error: syntax error while parsing: \"O=C1NCCN1c1cccc(-c2noc(Cc3c[nH]c4ccc(Cl)cc34)n2)c1\n",
      "[15:03:39] SMILES Parse Error: Failed parsing SMILES '\u0013\"O=C1NCCN1c1cccc(-c2noc(Cc3c[nH]c4ccc(Cl)cc34)n2)c1' for input: '\u0013\"O=C1NCCN1c1cccc(-c2noc(Cc3c[nH]c4ccc(Cl)cc34)n2)c1'\n",
      "[15:03:42] SMILES Parse Error: syntax error while parsing: 0\n",
      "[15:03:42] SMILES Parse Error: Failed parsing SMILES '0' for input: '0'\n",
      "[15:03:46] SMILES Parse Error: syntax error while parsing: !P\u0006CC(=O)Nc1ccccc1-c1noc(-c2cc3c(nc2O)CCCC3=O)n1\n",
      "[15:03:46] SMILES Parse Error: Failed parsing SMILES '٪!P\u0006CC(=O)Nc1ccccc1-c1noc(-c2cc3c(nc2O)CCCC3=O)n1' for input: '٪!P\u0006CC(=O)Nc1ccccc1-c1noc(-c2cc3c(nc2O)CCCC3=O)n1'\n",
      "[15:03:49] SMILES Parse Error: syntax error while parsing: *o*\u0004ǠzHY~#lBQK\u0015AIJ\u0010v掠6\u00145x\"5RC'aV4O=C1Nc2ccccc2[C@@H]1C1CCN(C(=O)Cn2cnc3scc(-c4cccs4)c3c2=O)CC1\n",
      "[15:03:49] SMILES Parse Error: Failed parsing SMILES '*o*\u0004ǠzHY~#lBQK\u0015AIJ\u0010v掠6\u00145x\"5RC'aV4O=C1Nc2ccccc2[C@@H]1C1CCN(C(=O)Cn2cnc3scc(-c4cccs4)c3c2=O)CC1' for input: '*o*\u0004ǠzHY~#lBQK\u0015AIJ\u0010v掠6\u00145x\"5RC'aV4O=C1Nc2ccccc2[C@@H]1C1CCN(C(=O)Cn2cnc3scc(-c4cccs4)c3c2=O)CC1'\n",
      "[15:03:51] SMILES Parse Error: syntax error while parsing: O\n",
      "[15:03:51] SMILES Parse Error: Failed parsing SMILES 'O' for input: 'O'\n",
      "[15:03:53] SMILES Parse Error: syntax error while parsing: aCc1nnc(N2CCN(C(=O)c3cccc(S(=O)(=O)NC(C)C)c3)CC2)c(C(N)=O)c1C\n",
      "[15:03:53] SMILES Parse Error: Failed parsing SMILES 'aCc1nnc(N2CCN(C(=O)c3cccc(S(=O)(=O)NC(C)C)c3)CC2)c(C(N)=O)c1C' for input: 'aCc1nnc(N2CCN(C(=O)c3cccc(S(=O)(=O)NC(C)C)c3)CC2)c(C(N)=O)c1C'\n",
      "[15:03:54] SMILES Parse Error: syntax error while parsing: \n",
      "[15:03:54] SMILES Parse Error: Failed parsing SMILES '\u0019' for input: '\u0019'\n",
      "[15:03:55] SMILES Parse Error: syntax error while parsing: h\n",
      "[15:03:55] SMILES Parse Error: Failed parsing SMILES 'h' for input: 'h'\n",
      "[15:03:56] SMILES Parse Error: syntax error while parsing: \n",
      "[15:03:56] SMILES Parse Error: Failed parsing SMILES '\u0019' for input: '\u0019'\n",
      "[15:03:56] SMILES Parse Error: syntax error while parsing: 290724141512ZCOc1cc2c(cc1F)CC[C@H]2NC(=O)NCc1cccc2ccccc12\n",
      "[15:03:56] SMILES Parse Error: Failed parsing SMILES '290724141512ZCOc1cc2c(cc1F)CC[C@H]2NC(=O)NCc1cccc2ccccc12' for input: '290724141512ZCOc1cc2c(cc1F)CC[C@H]2NC(=O)NCc1cccc2ccccc12'\n",
      "[15:03:57] SMILES Parse Error: syntax error while parsing: (\n",
      "[15:03:57] SMILES Parse Error: Failed parsing SMILES '(' for input: '('\n",
      "[15:04:01] SMILES Parse Error: syntax error while parsing: W\u000e6\u0017e\u00120\u0007\n",
      "[15:04:01] SMILES Parse Error: Failed parsing SMILES 'W\u000e6\u0017e\u00120\u0007' for input: 'W\u000e6\u0017e\u00120\u0007'\n",
      "[15:04:04] SMILES Parse Error: syntax error while parsing: \n",
      "[15:04:04] SMILES Parse Error: Failed parsing SMILES '\u0019' for input: '\u0019'\n",
      "[15:04:05] SMILES Parse Error: syntax error while parsing: K&npBn31O=C1Cc2cc(-c3noc(-c4cccc(NC(=O)c5ccco5)c4)n3)ccc2N1\n",
      "[15:04:05] SMILES Parse Error: Failed parsing SMILES 'K&npBn31O=C1Cc2cc(-c3noc(-c4cccc(NC(=O)c5ccco5)c4)n3)ccc2N1' for input: 'K&npBn31O=C1Cc2cc(-c3noc(-c4cccc(NC(=O)c5ccco5)c4)n3)ccc2N1'\n",
      "[15:04:07] SMILES Parse Error: syntax error while parsing: \n",
      "[15:04:07] SMILES Parse Error: Failed parsing SMILES '' for input: ''\n",
      "[15:04:10] SMILES Parse Error: syntax error while parsing: |\n",
      "[15:04:10] SMILES Parse Error: Failed parsing SMILES '|' for input: '|'\n",
      "[15:04:11] SMILES Parse Error: syntax error while parsing: m\n",
      "[15:04:11] SMILES Parse Error: Failed parsing SMILES 'm' for input: 'm'\n",
      "[15:04:14] SMILES Parse Error: syntax error while parsing: V\n",
      "[15:04:14] SMILES Parse Error: Failed parsing SMILES 'V' for input: 'V'\n",
      "[15:04:16] SMILES Parse Error: syntax error while parsing: \n",
      "[15:04:16] SMILES Parse Error: Failed parsing SMILES '' for input: ''\n",
      "[15:04:19] SMILES Parse Error: syntax error while parsing: PlBoOu\u0007\u0014Cc1[nH]c2c(C(=O)N3C[C@@H]4CN(Cc5ccccc5)CC[C@H]4C3)cccc2c1C\n",
      "[15:04:19] SMILES Parse Error: Failed parsing SMILES '\u0003\u0015PlBoOu\u0007\u0014Cc1[nH]c2c(C(=O)N3C[C@@H]4CN(Cc5ccccc5)CC[C@H]4C3)cccc2c1C' for input: '\u0003\u0015PlBoOu\u0007\u0014Cc1[nH]c2c(C(=O)N3C[C@@H]4CN(Cc5ccccc5)CC[C@H]4C3)cccc2c1C'\n",
      "[15:04:31] SMILES Parse Error: syntax error while parsing: hQwO=C(NCCc1c[nH]c2c(Cl)cccc12)NCc1cccc(C(=O)NC[C@@H]2CCCO2)c1\n",
      "[15:04:31] SMILES Parse Error: Failed parsing SMILES 'hQwO=C(NCCc1c[nH]c2c(Cl)cccc12)NCc1cccc(C(=O)NC[C@@H]2CCCO2)c1' for input: 'hQwO=C(NCCc1c[nH]c2c(Cl)cccc12)NCc1cccc(C(=O)NC[C@@H]2CCCO2)c1'\n",
      "[15:04:34] SMILES Parse Error: syntax error while parsing: (\n",
      "[15:04:34] SMILES Parse Error: Failed parsing SMILES '(' for input: '('\n",
      "[15:04:34] SMILES Parse Error: syntax error while parsing: Jm\u0015W\u0011.8]FLkɄTY\u0019QQ\u0002,4݋\u000ecr킈>fV}Cc1cc(C)c(C)c(OCC(=O)c2ccc3c(c2)N(CC(=O)NC[C@H]2CCCO2)C(=O)CO3)c1\n",
      "[15:04:34] SMILES Parse Error: Failed parsing SMILES 'Jm\u0015W\u0011.8]FLkɄTY\u0019QQ\u0002,4݋\u000ecr킈>fV}Cc1cc(C)c(C)c(OCC(=O)c2ccc3c(c2)N(CC(=O)NC[C@H]2CCCO2)C(=O)CO3)c1' for input: 'Jm\u0015W\u0011.8]FLkɄTY\u0019QQ\u0002,4݋\u000ecr킈>fV}Cc1cc(C)c(C)c(OCC(=O)c2ccc3c(c2)N(CC(=O)NC[C@H]2CCCO2)C(=O)CO3)c1'\n",
      "[15:04:35] SMILES Parse Error: syntax error while parsing: \n",
      "[15:04:35] SMILES Parse Error: Failed parsing SMILES '' for input: ''\n"
     ]
    }
   ],
   "source": [
    "# 计算fps\n",
    "data_3a6p_zinc_id_smiles_frame['fp'] = data_3a6p_zinc_id_smiles_frame['smiles'].apply(calFP)\n",
    "print('3a6p')\n",
    "data_4z4d_zinc_id_smiles_frame['fp'] = data_4z4d_zinc_id_smiles_frame['smiles'].apply(calFP)\n",
    "print('4z4d')\n",
    "data_4z4c_zinc_id_smiles_frame['fp'] = data_4z4c_zinc_id_smiles_frame['smiles'].apply(calFP)\n",
    "print('4z4c')\n",
    "data_6cbd_zinc_id_smiles_frame['fp'] = data_6cbd_zinc_id_smiles_frame['smiles'].apply(calFP)\n",
    "print('6cbd')\n",
    "# 去除None\n",
    "data_3a6p_zinc_id_smiles_frame = data_3a6p_zinc_id_smiles_frame[data_3a6p_zinc_id_smiles_frame['fp'].notnull()]\n",
    "data_4z4d_zinc_id_smiles_frame = data_4z4d_zinc_id_smiles_frame[data_4z4d_zinc_id_smiles_frame['fp'].notnull()]\n",
    "data_4z4c_zinc_id_smiles_frame = data_4z4c_zinc_id_smiles_frame[data_4z4c_zinc_id_smiles_frame['fp'].notnull()]\n",
    "data_6cbd_zinc_id_smiles_frame = data_6cbd_zinc_id_smiles_frame[data_6cbd_zinc_id_smiles_frame['fp'].notnull()]"
   ]
  },
  {
   "cell_type": "code",
   "execution_count": 3,
   "metadata": {},
   "outputs": [],
   "source": [
    "# 保存为pt\n",
    "data_3a6p_zinc_id_smiles_frame.to_pickle('data_3a6p_zinc_id_smiles_fp_frame4.pkl', protocol=3)\n",
    "data_4z4d_zinc_id_smiles_frame.to_pickle('data_4z4d_zinc_id_smiles_fp_frame4.pkl', protocol=3)\n",
    "data_4z4c_zinc_id_smiles_frame.to_pickle('data_4z4c_zinc_id_smiles_fp_frame4.pkl', protocol=3)\n",
    "data_6cbd_zinc_id_smiles_frame.to_pickle('data_6cbd_zinc_id_smiles_fp_frame4.pkl', protocol=3)\n",
    "\n",
    "\n",
    "\n"
   ]
  },
  {
   "cell_type": "code",
   "execution_count": 2,
   "metadata": {},
   "outputs": [],
   "source": [
    "from rdkit import DataStructs\n",
    "from rdkit.ML.Cluster import Butina\n",
    "from rdkit import Chem\n",
    "from rdkit.Chem import AllChem\n",
    "\n",
    "def ClusterFps(fps,cutoff=0.2):\n",
    "    # first generate the distance matrix:\n",
    "    dists = []\n",
    "    nfps = len(fps)\n",
    "    print('calculating distance matrix')\n",
    "    for i in range(1,nfps):\n",
    "        sims = DataStructs.BulkTanimotoSimilarity(fps[i],fps[:i])\n",
    "        dists.extend([1-x for x in sims])\n",
    "    print('cluster')\n",
    "    # now cluster the data:\n",
    "    cs = Butina.ClusterData(dists,nfps,cutoff,isDistData=True)\n",
    "    return cs\n",
    " \n",
    "def calFP(smi):\n",
    "    try:\n",
    "        mol = Chem.MolFromSmiles(smi)\n",
    "        fp = AllChem.GetMorganFingerprintAsBitVect(mol,2,1024)\n",
    "        return fp\n",
    "    except Exception as e:\n",
    "        return None\n",
    "\n"
   ]
  },
  {
   "cell_type": "code",
   "execution_count": 12,
   "metadata": {},
   "outputs": [],
   "source": [
    "complex_fp_dict = {'3a6p': data_3a6p_zinc_id_smiles_frame,\n",
    "                   '4z4d': data_4z4d_zinc_id_smiles_frame,\n",
    "                   '4z4c': data_4z4c_zinc_id_smiles_frame,\n",
    "                   '6cbd': data_6cbd_zinc_id_smiles_frame}\n",
    "\n",
    "# 使用pickle保存\n",
    "import pickle\n",
    "with open('data_total_zinc_id_smiles_fp_frame_dict.pkl', 'wb') as f:\n",
    "    pickle.dump(complex_fp_dict, f, protocol=3)\n",
    "\n",
    "# 读取数据\n",
    "with open('fps/data_total_zinc_id_smiles_fp_frame_dict.pkl', 'rb') as f:\n",
    "    complex_fp_dict = pickle.load(f)\n"
   ]
  },
  {
   "cell_type": "code",
   "execution_count": 3,
   "metadata": {},
   "outputs": [],
   "source": [
    "\n",
    "\n",
    "    "
   ]
  },
  {
   "cell_type": "code",
   "execution_count": 5,
   "metadata": {},
   "outputs": [],
   "source": [
    "import pandas as pd\n",
    "# # 读取数据\n",
    "data_3a6p_zinc_id_smiles_frame = pd.read_pickle('fps/data_3a6p_zinc_id_smiles_fp_frame.pkl')\n",
    "data_4z4d_zinc_id_smiles_frame = pd.read_pickle('fps/data_4z4d_zinc_id_smiles_fp_frame.pkl')\n",
    "data_4z4c_zinc_id_smiles_frame = pd.read_pickle('fps/data_4z4c_zinc_id_smiles_fp_frame.pkl')\n",
    "data_6cbd_zinc_id_smiles_frame = pd.read_pickle('fps/data_6cbd_zinc_id_smiles_fp_frame.pkl')\n"
   ]
  },
  {
   "cell_type": "code",
   "execution_count": 6,
   "metadata": {},
   "outputs": [],
   "source": [
    "smiles_dict = dict()\n",
    "zinc_id_dict = dict()\n",
    "scores_dict = dict()\n",
    "\n",
    "smiles_dict['3a6p'] = data_3a6p_zinc_id_smiles_frame['smiles'].to_list()\n",
    "smiles_dict['4z4d'] = data_4z4d_zinc_id_smiles_frame['smiles'].to_list()\n",
    "smiles_dict['4z4c'] = data_4z4c_zinc_id_smiles_frame['smiles'].to_list()\n",
    "smiles_dict['6cbd'] = data_6cbd_zinc_id_smiles_frame['smiles'].to_list()\n",
    "\n",
    "zinc_id_dict['3a6p'] = data_3a6p_zinc_id_smiles_frame['zinc_id'].to_list()\n",
    "zinc_id_dict['4z4d'] = data_4z4d_zinc_id_smiles_frame['zinc_id'].to_list()\n",
    "zinc_id_dict['4z4c'] = data_4z4c_zinc_id_smiles_frame['zinc_id'].to_list()\n",
    "zinc_id_dict['6cbd'] = data_6cbd_zinc_id_smiles_frame['zinc_id'].to_list()\n",
    "\n",
    "scores_dict['3a6p'] = data_3a6p_zinc_id_smiles_frame['score'].to_list()\n",
    "scores_dict['4z4d'] = data_4z4d_zinc_id_smiles_frame['score'].to_list()\n",
    "scores_dict['4z4c'] = data_4z4c_zinc_id_smiles_frame['score'].to_list()\n",
    "scores_dict['6cbd'] = data_6cbd_zinc_id_smiles_frame['score'].to_list()\n"
   ]
  },
  {
   "cell_type": "code",
   "execution_count": 7,
   "metadata": {},
   "outputs": [
    {
     "data": {
      "text/html": [
       "<div>\n",
       "<style scoped>\n",
       "    .dataframe tbody tr th:only-of-type {\n",
       "        vertical-align: middle;\n",
       "    }\n",
       "\n",
       "    .dataframe tbody tr th {\n",
       "        vertical-align: top;\n",
       "    }\n",
       "\n",
       "    .dataframe thead th {\n",
       "        text-align: right;\n",
       "    }\n",
       "</style>\n",
       "<table border=\"1\" class=\"dataframe\">\n",
       "  <thead>\n",
       "    <tr style=\"text-align: right;\">\n",
       "      <th></th>\n",
       "      <th>zinc_id</th>\n",
       "      <th>score</th>\n",
       "      <th>smiles</th>\n",
       "      <th>fp</th>\n",
       "    </tr>\n",
       "  </thead>\n",
       "  <tbody>\n",
       "    <tr>\n",
       "      <th>0</th>\n",
       "      <td>ZINC000059597020</td>\n",
       "      <td>-11.560652</td>\n",
       "      <td>Fc1ccc(Nc2nc3nonc3nc2NNc2nc3nonc3nc2Nc2ccc(F)c...</td>\n",
       "      <td>[0, 0, 0, 0, 0, 0, 0, 0, 0, 0, 0, 0, 0, 0, 0, ...</td>\n",
       "    </tr>\n",
       "    <tr>\n",
       "      <th>1</th>\n",
       "      <td>ZINC000738432616</td>\n",
       "      <td>-10.720841</td>\n",
       "      <td>c1ccc2[nH]c(C3CCN(c4cc(-c5nn[nH]n5)nc5ccccc45)...</td>\n",
       "      <td>[0, 0, 0, 0, 0, 0, 0, 0, 0, 0, 0, 0, 0, 0, 0, ...</td>\n",
       "    </tr>\n",
       "    <tr>\n",
       "      <th>2</th>\n",
       "      <td>ZINC000823766411</td>\n",
       "      <td>-10.596564</td>\n",
       "      <td>c1ccc(-c2nnc3n2CCN(c2cc(-c4nn[nH]n4)nc4ccccc24...</td>\n",
       "      <td>[0, 0, 0, 0, 0, 0, 0, 0, 0, 0, 0, 0, 0, 0, 0, ...</td>\n",
       "    </tr>\n",
       "    <tr>\n",
       "      <th>3</th>\n",
       "      <td>ZINC000408721506</td>\n",
       "      <td>-10.580578</td>\n",
       "      <td>Cc1ccc(NN=c2[nH]c3nonc3[nH]c2=N/N=C\\c2ccc(-c3c...</td>\n",
       "      <td>[0, 0, 0, 0, 0, 0, 0, 0, 0, 0, 0, 0, 0, 0, 0, ...</td>\n",
       "    </tr>\n",
       "    <tr>\n",
       "      <th>4</th>\n",
       "      <td>ZINC000408721249</td>\n",
       "      <td>-10.569624</td>\n",
       "      <td>Cc1ccc(NN=c2[nH]c3nonc3[nH]c2=N/N=C\\c2ccc(-c3c...</td>\n",
       "      <td>[0, 0, 0, 0, 0, 0, 0, 0, 0, 0, 0, 0, 0, 0, 0, ...</td>\n",
       "    </tr>\n",
       "  </tbody>\n",
       "</table>\n",
       "</div>"
      ],
      "text/plain": [
       "            zinc_id      score  \\\n",
       "0  ZINC000059597020 -11.560652   \n",
       "1  ZINC000738432616 -10.720841   \n",
       "2  ZINC000823766411 -10.596564   \n",
       "3  ZINC000408721506 -10.580578   \n",
       "4  ZINC000408721249 -10.569624   \n",
       "\n",
       "                                              smiles  \\\n",
       "0  Fc1ccc(Nc2nc3nonc3nc2NNc2nc3nonc3nc2Nc2ccc(F)c...   \n",
       "1  c1ccc2[nH]c(C3CCN(c4cc(-c5nn[nH]n5)nc5ccccc45)...   \n",
       "2  c1ccc(-c2nnc3n2CCN(c2cc(-c4nn[nH]n4)nc4ccccc24...   \n",
       "3  Cc1ccc(NN=c2[nH]c3nonc3[nH]c2=N/N=C\\c2ccc(-c3c...   \n",
       "4  Cc1ccc(NN=c2[nH]c3nonc3[nH]c2=N/N=C\\c2ccc(-c3c...   \n",
       "\n",
       "                                                  fp  \n",
       "0  [0, 0, 0, 0, 0, 0, 0, 0, 0, 0, 0, 0, 0, 0, 0, ...  \n",
       "1  [0, 0, 0, 0, 0, 0, 0, 0, 0, 0, 0, 0, 0, 0, 0, ...  \n",
       "2  [0, 0, 0, 0, 0, 0, 0, 0, 0, 0, 0, 0, 0, 0, 0, ...  \n",
       "3  [0, 0, 0, 0, 0, 0, 0, 0, 0, 0, 0, 0, 0, 0, 0, ...  \n",
       "4  [0, 0, 0, 0, 0, 0, 0, 0, 0, 0, 0, 0, 0, 0, 0, ...  "
      ]
     },
     "execution_count": 7,
     "metadata": {},
     "output_type": "execute_result"
    }
   ],
   "source": [
    "data_3a6p_zinc_id_smiles_frame.head()"
   ]
  },
  {
   "cell_type": "code",
   "execution_count": 4,
   "metadata": {},
   "outputs": [],
   "source": [
    "# 将各个复合物的smiles写入txt文件，加入index, 用于chemfp输入\n",
    "\n",
    "for key, value in complex_fp_dict.items():\n",
    "    with open(key+'_smiles.smi', 'w') as f:\n",
    "        for i, smiles in enumerate(value['smiles']):\n",
    "            f.write(smiles + '\\t' + str(i) +'\\n')\n",
    "            \n"
   ]
  },
  {
   "cell_type": "markdown",
   "metadata": {},
   "source": [
    "## 绘图"
   ]
  },
  {
   "cell_type": "code",
   "execution_count": 8,
   "metadata": {},
   "outputs": [],
   "source": [
    "## 处理chemfp聚类结果\n",
    "\n",
    "def read_chemfp_cluster(file: str):\n",
    "    '''\n",
    "    用以分析使用chemfp脚本聚类之后的输出文件\n",
    "    :param file: chemfp聚类输出文件\n",
    "    :return: 聚类中心，聚类成员\n",
    "    '''\n",
    "    f = open(file, 'r')\n",
    "    lines = f.readlines()\n",
    "    f.close()\n",
    "    # 筛选以数字开头的行\n",
    "    lines_central = [int(line.split(' ')[0]) for line in lines[7:] if line.split(' ')[0].isdigit()]\n",
    "    # 筛选以=>开头的行\n",
    "    lines_members = [[int(s) for s in line.split(' ')[7:]] for line in lines[6:] if line.split(' ')[0].startswith('=>')]\n",
    "    assert len(lines_central) == len(lines_members)\n",
    "    \n",
    "    return zip(lines_central, lines_members)\n",
    "    \n",
    "# 读取聚类结果\n",
    "import random\n",
    "complex_name = ['3a6p', '4z4d', '4z4c', '6cbd']\n",
    "complex_clusters = dict()\n",
    "for cmpx in complex_name: \n",
    "    complex_clusters[cmpx] = read_chemfp_cluster(f'chemfp_clustering/{cmpx}-mol-0.6.clusters')\n"
   ]
  },
  {
   "cell_type": "code",
   "execution_count": 9,
   "metadata": {},
   "outputs": [
    {
     "data": {
      "text/plain": [
       "[[282893, 64219, 30663, 106253, 72393, 211862],\n",
       " [165758, 376183, 414088, 169954, 232694, 282661],\n",
       " [34432, 116917, 32609, 38189, 63924, 367269],\n",
       " [19176, 77855, 105118, 167465, 73255, 375901],\n",
       " [128438, 362588, 54000, 129935, 96904, 395427],\n",
       " [57394, 140268, 408815, 227110, 211368, 234482],\n",
       " [201107, 302913, 28258, 43067, 183049, 298568],\n",
       " [368126, 17977, 252468, 426, 403092, 1989],\n",
       " [168269, 43325, 76905, 302084, 29578, 90379],\n",
       " [17279, 5609, 6174, 244760, 298565, 8241]]"
      ]
     },
     "execution_count": 9,
     "metadata": {},
     "output_type": "execute_result"
    }
   ],
   "source": [
    "# 聚类结果采样\n",
    "def sample_clusters_rep(complex_clusters: dict, top=10):\n",
    "    clusters_rep = dict()\n",
    "    for cmpx, clusters in complex_clusters.items():\n",
    "        clusters_representation = []\n",
    "        for cluster in list(clusters)[:top]:\n",
    "            clusters_representation.append([cluster[0]] + random.sample(cluster[1], 5))\n",
    "        clusters_rep[cmpx] = clusters_representation\n",
    "    return clusters_rep\n",
    "\n",
    "clusters_rep = sample_clusters_rep(complex_clusters)\n",
    "clusters_rep['3a6p']"
   ]
  },
  {
   "cell_type": "markdown",
   "metadata": {},
   "source": [
    "### 保存聚类代表分子"
   ]
  },
  {
   "cell_type": "code",
   "execution_count": 4,
   "metadata": {},
   "outputs": [
    {
     "ename": "NameError",
     "evalue": "name 'zinc_id_dict' is not defined",
     "output_type": "error",
     "traceback": [
      "\u001b[0;31m---------------------------------------------------------------------------\u001b[0m",
      "\u001b[0;31mNameError\u001b[0m                                 Traceback (most recent call last)",
      "\u001b[1;32m/home/huabei/projects/SMTarRNA/notebooks/analysis_final_results.ipynb Cell 34\u001b[0m line \u001b[0;36m6\n\u001b[1;32m      <a href='vscode-notebook-cell://wsl%2Bubuntu/home/huabei/projects/SMTarRNA/notebooks/analysis_final_results.ipynb#X45sdnNjb2RlLXJlbW90ZQ%3D%3D?line=3'>4</a>\u001b[0m f\u001b[39m.\u001b[39mwrite(cmpx \u001b[39m+\u001b[39m \u001b[39m'\u001b[39m\u001b[39m\\n\u001b[39;00m\u001b[39m'\u001b[39m)\n\u001b[1;32m      <a href='vscode-notebook-cell://wsl%2Bubuntu/home/huabei/projects/SMTarRNA/notebooks/analysis_final_results.ipynb#X45sdnNjb2RlLXJlbW90ZQ%3D%3D?line=4'>5</a>\u001b[0m \u001b[39mfor\u001b[39;00m cluster \u001b[39min\u001b[39;00m clusters:\n\u001b[0;32m----> <a href='vscode-notebook-cell://wsl%2Bubuntu/home/huabei/projects/SMTarRNA/notebooks/analysis_final_results.ipynb#X45sdnNjb2RlLXJlbW90ZQ%3D%3D?line=5'>6</a>\u001b[0m     f\u001b[39m.\u001b[39mwrite(\u001b[39m'\u001b[39m\u001b[39m \u001b[39m\u001b[39m'\u001b[39m\u001b[39m.\u001b[39mjoin([zinc_id_dict[cmpx][c] \u001b[39mfor\u001b[39;49;00m c \u001b[39min\u001b[39;49;00m cluster]) \u001b[39m+\u001b[39m \u001b[39m'\u001b[39m\u001b[39m\\n\u001b[39;00m\u001b[39m'\u001b[39m)\n\u001b[1;32m      <a href='vscode-notebook-cell://wsl%2Bubuntu/home/huabei/projects/SMTarRNA/notebooks/analysis_final_results.ipynb#X45sdnNjb2RlLXJlbW90ZQ%3D%3D?line=6'>7</a>\u001b[0m f\u001b[39m.\u001b[39mwrite(\u001b[39m'\u001b[39m\u001b[39m\\n\u001b[39;00m\u001b[39m'\u001b[39m)\n",
      "\u001b[1;32m/home/huabei/projects/SMTarRNA/notebooks/analysis_final_results.ipynb Cell 34\u001b[0m line \u001b[0;36m6\n\u001b[1;32m      <a href='vscode-notebook-cell://wsl%2Bubuntu/home/huabei/projects/SMTarRNA/notebooks/analysis_final_results.ipynb#X45sdnNjb2RlLXJlbW90ZQ%3D%3D?line=3'>4</a>\u001b[0m f\u001b[39m.\u001b[39mwrite(cmpx \u001b[39m+\u001b[39m \u001b[39m'\u001b[39m\u001b[39m\\n\u001b[39;00m\u001b[39m'\u001b[39m)\n\u001b[1;32m      <a href='vscode-notebook-cell://wsl%2Bubuntu/home/huabei/projects/SMTarRNA/notebooks/analysis_final_results.ipynb#X45sdnNjb2RlLXJlbW90ZQ%3D%3D?line=4'>5</a>\u001b[0m \u001b[39mfor\u001b[39;00m cluster \u001b[39min\u001b[39;00m clusters:\n\u001b[0;32m----> <a href='vscode-notebook-cell://wsl%2Bubuntu/home/huabei/projects/SMTarRNA/notebooks/analysis_final_results.ipynb#X45sdnNjb2RlLXJlbW90ZQ%3D%3D?line=5'>6</a>\u001b[0m     f\u001b[39m.\u001b[39mwrite(\u001b[39m'\u001b[39m\u001b[39m \u001b[39m\u001b[39m'\u001b[39m\u001b[39m.\u001b[39mjoin([zinc_id_dict[cmpx][c] \u001b[39mfor\u001b[39;00m c \u001b[39min\u001b[39;00m cluster]) \u001b[39m+\u001b[39m \u001b[39m'\u001b[39m\u001b[39m\\n\u001b[39;00m\u001b[39m'\u001b[39m)\n\u001b[1;32m      <a href='vscode-notebook-cell://wsl%2Bubuntu/home/huabei/projects/SMTarRNA/notebooks/analysis_final_results.ipynb#X45sdnNjb2RlLXJlbW90ZQ%3D%3D?line=6'>7</a>\u001b[0m f\u001b[39m.\u001b[39mwrite(\u001b[39m'\u001b[39m\u001b[39m\\n\u001b[39;00m\u001b[39m'\u001b[39m)\n",
      "\u001b[0;31mNameError\u001b[0m: name 'zinc_id_dict' is not defined"
     ]
    }
   ],
   "source": [
    "# 将代表分保存为txt文件\n",
    "with open('clusters_rep.txt', 'w') as f:\n",
    "    for cmpx, clusters in clusters_rep.items():\n",
    "        f.write(cmpx + '\\n')\n",
    "        for cluster in clusters:\n",
    "            f.write(' '.join([zinc_id_dict[cmpx][c] for c in cluster]) + '\\n')\n",
    "        f.write('\\n')"
   ]
  },
  {
   "cell_type": "code",
   "execution_count": 10,
   "metadata": {},
   "outputs": [],
   "source": [
    "# 将聚类结果处理为rdkit mol文件\n",
    "from collections import namedtuple\n",
    "\n",
    "from rdkit import Chem\n",
    "Mol = namedtuple('Mol', ['mol', 'smiles', 'zinc_id', 'score'])\n",
    "def get_mol(cluster_index, cmpx):\n",
    "    return Mol(mol=Chem.MolFromSmiles(smiles_dict[cmpx][cluster_index]),\n",
    "                smiles=smiles_dict[cmpx][cluster_index],\n",
    "                zinc_id=zinc_id_dict[cmpx][cluster_index],\n",
    "                score=scores_dict[cmpx][cluster_index])\n",
    "clusters_rep_mol = dict()\n",
    "for cmpx, clusters in clusters_rep.items():\n",
    "    clusters_rep_mol[cmpx] = []\n",
    "    for cluster in clusters:\n",
    "        mols = [get_mol(c, cmpx) for c in cluster]\n",
    "        clusters_rep_mol[cmpx].append(mols)\n",
    "\n",
    "\n",
    "# ms = []\n",
    "# label = []\n",
    "# scores = []\n",
    "\n",
    "# for c in clusters_representation:\n",
    "#     for i in c:\n",
    "#         smi = smiles_dict['3a6p'][i]\n",
    "#         label.append(zinc_id_dict['3a6p'][i])\n",
    "#         scores.append(str(scores_dict['3a6p'][i]))\n",
    "#         ms.append(Chem.MolFromSmiles(smi))\n",
    "#         # print(smi)"
   ]
  },
  {
   "cell_type": "code",
   "execution_count": 30,
   "metadata": {},
   "outputs": [
    {
     "name": "stdout",
     "output_type": "stream",
     "text": [
      "3a6p\n",
      "4z4d\n",
      "4z4c\n",
      "6cbd\n"
     ]
    }
   ],
   "source": [
    "from rdkit.Chem import Draw\n",
    "from rdkit.Chem.Draw import IPythonConsole\n",
    "IPythonConsole.drawOptions.addAtomIndices = False\n",
    "\n",
    "for k, v in clusters_rep_mol.items():\n",
    "    print(k)\n",
    "    t = 0\n",
    "    for i in v:\n",
    "        ms = [m.mol for m in i]\n",
    "        scores = [str(m.zinc_id) for m in i]\n",
    "        image = Draw.MolsToGridImage(ms, molsPerRow=6, subImgSize=(200, 200), legends=scores,maxMols=60,useSVG=True, returnPNG=False)\n",
    "        # 保存图片\n",
    "        with open(f'images/{k}_cluster_{t}.svg', 'w') as f:\n",
    "            f.write(image.data)\n",
    "        t += 1\n",
    "    #     break\n",
    "    # break\n",
    "# # 测试画图\n",
    "# ms = [m.mol for m in clusters_rep_mol['3a6p'][0]]\n",
    "# scores = [str(m.zinc_id) for m in clusters_rep_mol['3a6p'][0]]\n",
    "# draw = Draw.MolsToGridImage(ms, molsPerRow=6, subImgSize=(200, 200), legends=scores,useSVG=True,maxMols=60)\n",
    "# 保存图片\n",
    "# draw.save('3a6p_cluster_top_10.svg')\n",
    "\n",
    "# IPythonConsole.SVG(draw)\n",
    "\n"
   ]
  },
  {
   "cell_type": "code",
   "execution_count": 10,
   "metadata": {},
   "outputs": [
    {
     "ename": "",
     "evalue": "",
     "output_type": "error",
     "traceback": [
      "\u001b[1;31mThe Kernel crashed while executing code in the the current cell or a previous cell. Please review the code in the cell(s) to identify a possible cause of the failure. Click <a href='https://aka.ms/vscodeJupyterKernelCrash'>here</a> for more info. View Jupyter <a href='command:jupyter.viewOutput'>log</a> for further details."
     ]
    }
   ],
   "source": [
    "# 聚类\n",
    "data_3a6p_zinc_id_smiles_frame['cluster'] = ClusterFps(data_3a6p_zinc_id_smiles_frame['fp'].tolist(), cutoff=0.8)\n"
   ]
  },
  {
   "cell_type": "code",
   "execution_count": null,
   "metadata": {},
   "outputs": [],
   "source": [
    "\n",
    "\n",
    "\n",
    "# from smilesgenerate fingerprints\n",
    "f = open('total_smiles_400000_410000.smi','r')\n",
    "ms = []\n",
    "try:\n",
    "    for x in f:\n",
    "        ms.append(Chem.MolFromSmiles(x.split()[0]))\n",
    "except:\n",
    "    print(x.split()[0])\n",
    "# ms = [Chem.MolFromSmiles(x.split()[0]) for x in f]\n",
    "f.close()\n",
    "# ms = [x for x in Chem.CanonSmiles() if x is not None]\n",
    "fps = [AllChem.GetMorganFingerprintAsBitVect(x,2,1024) for x in ms]\n",
    " \n",
    "#cluster\n",
    "clusters=ClusterFps(fps,cutoff=0.8)\n",
    " \n",
    "# show one of the clusters\n",
    "# print(clusters[20])\n",
    " \n",
    "#now display structures from one of the clusters\n",
    "from rdkit.Chem import Draw\n",
    "from rdkit.Chem.Draw import IPythonConsole\n",
    " \n",
    "#look at a specific cluster\n",
    "# m1 = ms[1630]\n",
    "# m2 = ms[1010]\n",
    "# m3 = ms[1022]\n",
    "# m4 = ms[1023]\n",
    "# m5 = ms[1034]\n",
    "# m6 = ms[1043]\n",
    "# mols=(m1,m2,m3,m4,m5,m6)\n",
    "# Draw.MolsToGridImage(mols)"
   ]
  },
  {
   "cell_type": "markdown",
   "metadata": {},
   "source": [
    "## 对接验证结果"
   ]
  },
  {
   "cell_type": "code",
   "execution_count": 2,
   "metadata": {},
   "outputs": [
    {
     "data": {
      "text/plain": [
       "['3a6p_distplot.svg',\n",
       " '3a6p_top_data.csv',\n",
       " '3a6p_top_data.np.pt',\n",
       " '3a6p_top_data_10k.pdbqt.gz',\n",
       " '3a6p_zinc_id_index.txt',\n",
       " '4z4c_distplot.svg',\n",
       " '4z4c_top_data.csv',\n",
       " '4z4c_top_data.np.pt',\n",
       " '4z4c_top_data_10k.pdbqt.gz',\n",
       " '4z4c_zinc_id_index.txt',\n",
       " '4z4d_distplot.svg',\n",
       " '4z4d_top_data.csv',\n",
       " '4z4d_top_data.np.pt',\n",
       " '4z4d_top_data_10k.pdbqt.gz',\n",
       " '4z4d_zinc_id_index.txt',\n",
       " '6cbd_distplot.svg',\n",
       " '6cbd_top_data.csv',\n",
       " '6cbd_top_data.np.pt',\n",
       " '6cbd_top_data_10k.pdbqt.gz',\n",
       " '6cbd_zinc_id_index.txt',\n",
       " 'four_complex_zinc_id_index.txt',\n",
       " 'four_complex_zinc_top_data_pdbqt.pdbqt.gz',\n",
       " 'total_zinc_id_set.pt',\n",
       " 'val']"
      ]
     },
     "execution_count": 2,
     "metadata": {},
     "output_type": "execute_result"
    }
   ],
   "source": [
    "import os\n",
    "import pickle\n",
    "os.chdir('/mnt/f/SMTarRNA_total_results/total_dataset_results/total_dataset_results/top_0_001')\n",
    "os.listdir()"
   ]
  },
  {
   "cell_type": "code",
   "execution_count": 3,
   "metadata": {},
   "outputs": [],
   "source": [
    "def read_dock_score(file_name):\n",
    "    with open(file_name, \"rb\") as f:\n",
    "        data = pickle.load(f)\n",
    "    return data\n",
    "\n",
    "def get_total_energy(data):\n",
    "    return [v[0, 0] for v in data.values()]\n",
    "\n"
   ]
  },
  {
   "cell_type": "code",
   "execution_count": 4,
   "metadata": {},
   "outputs": [],
   "source": [
    "# data_3a6p_1 = get_total_energy(read_dock_score('val/3a6p_top_data_10k_3a6p_dock_energy_None-None_32_20230916174351.pkl'))\n",
    "# data_3a6p_2 = get_total_energy(read_dock_score('val/3a6p_top_data_10k_3a6p_dock_energy_None-None_32_20230918215122.pkl'))\n",
    "\n",
    "# pearson_ = np.corrcoef(data_3a6p_1, data_3a6p_2)[0, 1]\n",
    "\n",
    "# fig, ax = plt.subplots(figsize=(10, 10))\n",
    "# ax.scatter(data_3a6p_1, data_3a6p_2, s=1)\n",
    "# pearson_"
   ]
  },
  {
   "cell_type": "code",
   "execution_count": 5,
   "metadata": {},
   "outputs": [],
   "source": [
    "pkl_files = os.listdir('val')\n",
    "pkl_files = [file for file in pkl_files if file.endswith('.pkl')]"
   ]
  },
  {
   "cell_type": "code",
   "execution_count": 6,
   "metadata": {},
   "outputs": [],
   "source": [
    "complex_name = ['3a6p', '4z4d', '4z4c', '6cbd']\n",
    "results = dict()\n",
    "for file in pkl_files:\n",
    "    c = file[:4]\n",
    "    results[c] = read_dock_score(os.path.join('val', file))\n"
   ]
  },
  {
   "cell_type": "code",
   "execution_count": 7,
   "metadata": {},
   "outputs": [],
   "source": [
    "import numpy as np\n",
    "\n",
    "def create_zinc_id(id: int):\n",
    "    return 'ZINC'+str(int(id + 1e12))[1:]\n",
    "\n",
    "def read_csv_to_dict(file: str):\n",
    "    data = np.loadtxt(file, delimiter=',')\n",
    "    res = dict()\n",
    "    for d in data:\n",
    "        res[create_zinc_id(int(d[0]))] = d[1]\n",
    "    return res"
   ]
  },
  {
   "cell_type": "code",
   "execution_count": 8,
   "metadata": {},
   "outputs": [],
   "source": [
    "pre_e = {k: read_csv_to_dict(f'{k}_top_data.csv') for k in complex_name}\n"
   ]
  },
  {
   "cell_type": "code",
   "execution_count": 22,
   "metadata": {},
   "outputs": [
    {
     "name": "stdout",
     "output_type": "stream",
     "text": [
      "max dock score: -7.51\n",
      "max pre dock score: -8.945499420166016\n",
      "3a6p pearson: 0.34002085172713037\n",
      "ZINC000004257083 -1.562\n",
      "max dock score: -7.792\n",
      "max pre dock score: -11.745981216430664\n",
      "4z4d pearson: 0.3524806935104892\n",
      "max dock score: -9.437\n",
      "max pre dock score: -11.616422653198242\n",
      "4z4c pearson: 0.4625128461012729\n",
      "max dock score: -8.53\n",
      "max pre dock score: -10.96408462524414\n",
      "6cbd pearson: 0.38005902973192335\n"
     ]
    }
   ],
   "source": [
    "\n",
    "final_results = dict()\n",
    "for c in complex_name:\n",
    "    # 实验结果\n",
    "    e = []\n",
    "    p = []\n",
    "    for k, v in results[c].items():\n",
    "        if v[0, 0] > -2:\n",
    "            print(k, v[0, 0])\n",
    "            continue\n",
    "        e.append(v[0, 0])\n",
    "        p.append(pre_e[c][k])\n",
    "    final_results[c+'_e'] = e\n",
    "    final_results[c+'_p'] = p\n",
    "    pearson = np.corrcoef(e, p)[0, 1]\n",
    "    print(f'max dock score: {max(e)}')\n",
    "    print(f'max pre dock score: {max(p)}')\n",
    "    print(f'{c} pearson: {pearson}')"
   ]
  },
  {
   "cell_type": "code",
   "execution_count": 25,
   "metadata": {},
   "outputs": [
    {
     "data": {
      "text/plain": [
       "-7.792"
      ]
     },
     "execution_count": 25,
     "metadata": {},
     "output_type": "execute_result"
    }
   ],
   "source": [
    "for i in final_results['4z4d_e']:\n",
    "    if i > -2:\n",
    "        print(i)\n",
    "max(final_results['4z4d_e'])"
   ]
  },
  {
   "cell_type": "code",
   "execution_count": 23,
   "metadata": {},
   "outputs": [
    {
     "data": {
      "image/png": "[encoded data removed]",
      "text/plain": [
       "<Figure size 1000x700 with 4 Axes>"
      ]
     },
     "metadata": {},
     "output_type": "display_data"
    }
   ],
   "source": [
    "import seaborn as sns\n",
    "import matplotlib.pyplot as plt\n",
    "\n",
    "# 绘制分布对比图\n",
    "fig, ax = plt.subplots(2, 2, figsize=(10, 7))\n",
    "for i, c in enumerate(complex_name):\n",
    "    index = (i//2, i%2)\n",
    "    sns.histplot(final_results[c+'_e'], ax=ax[index], label='dock score')\n",
    "    sns.histplot(final_results[c+'_p'], ax=ax[index], label='predict score')\n",
    "    ax[index].legend()\n",
    "    # plt.savefig(f'{c}_distplot.svg')\n",
    "plt.show()\n",
    "    # break\n"
   ]
  },
  {
   "cell_type": "code",
   "execution_count": 21,
   "metadata": {},
   "outputs": [
    {
     "data": {
      "image/png": "[encoded data removed]",
      "text/plain": [
       "<Figure size 800x800 with 1 Axes>"
      ]
     },
     "metadata": {},
     "output_type": "display_data"
    },
    {
     "data": {
      "image/png": "[encoded data removed]",
      "text/plain": [
       "<Figure size 800x800 with 1 Axes>"
      ]
     },
     "metadata": {},
     "output_type": "display_data"
    },
    {
     "data": {
      "image/png": "[encoded data removed]",
      "text/plain": [
       "<Figure size 800x800 with 1 Axes>"
      ]
     },
     "metadata": {},
     "output_type": "display_data"
    },
    {
     "data": {
      "image/png": "[encoded data removed]",
      "text/plain": [
       "<Figure size 800x800 with 1 Axes>"
      ]
     },
     "metadata": {},
     "output_type": "display_data"
    }
   ],
   "source": [
    "for c in complex_name:\n",
    "    fig, ax = plt.subplots(figsize=(8, 8))\n",
    "    ax.plot(final_results[c+'_e'], final_results[c+'_p'], 'o', label='dock score')\n",
    "    ax.plot([-12, -8], [-12, -8])\n",
    "    # plt.savefig(f'{c}_scatter.svg')\n",
    "    plt.show()\n",
    "    # break"
   ]
  }
 ],
 "metadata": {
  "kernelspec": {
   "display_name": "Python 3",
   "language": "python",
   "name": "python3"
  },
  "language_info": {
   "codemirror_mode": {
    "name": "ipython",
    "version": 3
   },
   "file_extension": ".py",
   "mimetype": "text/x-python",
   "name": "python",
   "nbconvert_exporter": "python",
   "pygments_lexer": "ipython3",
   "version": "3.11.5"
  },
  "orig_nbformat": 4
 },
 "nbformat": 4,
 "nbformat_minor": 2
}
