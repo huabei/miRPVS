{
 "cells": [
  {
   "cell_type": "code",
   "execution_count": null,
   "metadata": {},
   "outputs": [],
   "source": [
    "# import torch"
   ]
  },
  {
   "cell_type": "code",
   "execution_count": null,
   "metadata": {},
   "outputs": [],
   "source": [
    "an = range(2, 20)\n",
    "qn = range(2, 10)\n",
    "\n",
    "\n",
    "def dengbi_sum(a, q, i):\n",
    "    return a * (1 - q**i) / (1 - q)\n",
    "\n",
    "\n",
    "def my_print(aq, res):\n",
    "    print(\"\\t\".join(aq))\n",
    "    print(\"\\t\".join(res))\n",
    "\n",
    "\n",
    "for a in an:\n",
    "    aq = []\n",
    "    res = []\n",
    "    for q in qn:\n",
    "        # print('\\n')\n",
    "        # print(f'q={q}', end='\\t')\n",
    "        for i in range(3):\n",
    "            aq.append(f\"{a}_{q}_{i}\")\n",
    "            res.append(str(dengbi_sum(a, q, i + 1)))\n",
    "    my_print(aq, res)"
   ]
  },
  {
   "cell_type": "code",
   "execution_count": null,
   "metadata": {},
   "outputs": [],
   "source": [
    "an = range(2, 10)\n",
    "qn = range(2, 10)\n",
    "\n",
    "\n",
    "def dengbi_sum(a, q, i):\n",
    "    return a * (1 - q**i) / (1 - q)\n",
    "\n",
    "\n",
    "for q in qn:\n",
    "    print(\"\\n\")\n",
    "    print(f\"q={q}\")\n",
    "    for a in an:\n",
    "        print(\"\\t\")\n",
    "        print(f\"a0={a}\", end=\"\\t\")\n",
    "        for i in range(2):\n",
    "            print(dengbi_sum(a, q, i + 1), end=\",\")"
   ]
  },
  {
   "cell_type": "code",
   "execution_count": null,
   "metadata": {},
   "outputs": [],
   "source": [
    "import pandas as pd\n",
    "\n",
    "s = pd.Series([\"a\", \"b\", \"c\", \"d\", \"e\", \"f\", \"g\", \"h\", \"i\", \"j\"])\n",
    "s_m = s.map({\"a\": 1, \"b\": 2, \"c\": 3, \"d\": 4, \"e\": 5, \"j\": 10})\n",
    "# 获取nan的行\n",
    "s_m[s_m.isna()]"
   ]
  }
 ],
 "metadata": {
  "kernelspec": {
   "display_name": "hydra-pl",
   "language": "python",
   "name": "python3"
  },
  "language_info": {
   "codemirror_mode": {
    "name": "ipython",
    "version": 3
   },
   "file_extension": ".py",
   "mimetype": "text/x-python",
   "name": "python",
   "nbconvert_exporter": "python",
   "pygments_lexer": "ipython3",
   "version": "3.8.16"
  }
 },
 "nbformat": 4,
 "nbformat_minor": 2
}
