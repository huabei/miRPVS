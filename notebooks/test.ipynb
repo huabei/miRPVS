{
 "cells": [
  {
   "cell_type": "code",
   "execution_count": null,
   "metadata": {},
   "outputs": [],
   "source": [
    "import pyrootutils as L\n",
    "\n",
    "L.setup_root(\"..\", pythonpath=True)"
   ]
  },
  {
   "cell_type": "code",
   "execution_count": null,
   "metadata": {},
   "outputs": [],
   "source": [
    "import torch\n",
    "\n",
    "a = torch.randn(3, 1)\n",
    "b = torch.tensor([4, 5, 6])\n",
    "m1 = torch.tensor([[1, 2, 3], [4, 5, 6]])\n",
    "m2 = torch.tensor([[1, 2], [3, 4], [5, 6]])\n",
    "# m1 * m2\n",
    "# torch.dot(a, b)\n",
    "torch.matmul(m1, m2)\n",
    "\n",
    "bm1 = torch.ones(5, 3, 4)\n",
    "bm2 = torch.ones(5, 3, 4)\n",
    "\n",
    "r = bm1.new_full((3, 3, 4), 0)\n",
    "\n",
    "seg = torch.tensor([0, 1, 1, 2])\n",
    "\n",
    "# r\n",
    "\n",
    "# r.scatter_add_(0, seg.unsqueeze(-1).unsqueeze(-1).expand(-1, 3, 4), bm1)\n",
    "torch.sum(bm1, dim=0, keepdim=True)\n",
    "\n",
    "# torch.bmm(bm1, bm2)\n",
    "# # torch.matmul(a, m2)\n",
    "# seg.unsqueeze(-1).unsqueeze(-1).expand(-1, 3, 4)"
   ]
  },
  {
   "cell_type": "code",
   "execution_count": null,
   "metadata": {},
   "outputs": [],
   "source": [
    "from src.data import DInterface\n",
    "from src.models.components.egnn_multi_coor import EgnnMultiCoor"
   ]
  },
  {
   "cell_type": "code",
   "execution_count": null,
   "metadata": {},
   "outputs": [],
   "source": [
    "datamodule = DInterface(\n",
    "    data_dir=\"../data/dataset/dataset/3a6p_100w\",\n",
    "    dataset=\"zinc_complex3a6p_data_single_label_test\",\n",
    "    batch_size=8,\n",
    "    num_workers=0,\n",
    ")"
   ]
  },
  {
   "cell_type": "code",
   "execution_count": null,
   "metadata": {},
   "outputs": [],
   "source": [
    "datamodule.setup()\n",
    "dataloader = datamodule.train_dataloader()"
   ]
  },
  {
   "cell_type": "code",
   "execution_count": null,
   "metadata": {},
   "outputs": [],
   "source": [
    "model = EgnnMultiCoor(11, 64, 1, 3, n_layers=2, attention=True, normalize=True)"
   ]
  },
  {
   "cell_type": "code",
   "execution_count": null,
   "metadata": {},
   "outputs": [],
   "source": [
    "for batch in dataloader:\n",
    "    res = model(batch)\n",
    "    break"
   ]
  },
  {
   "cell_type": "code",
   "execution_count": null,
   "metadata": {},
   "outputs": [],
   "source": [
    "res"
   ]
  }
 ],
 "metadata": {
  "kernelspec": {
   "display_name": "hydra-pl",
   "language": "python",
   "name": "python3"
  },
  "language_info": {
   "codemirror_mode": {
    "name": "ipython",
    "version": 3
   },
   "file_extension": ".py",
   "mimetype": "text/x-python",
   "name": "python",
   "nbconvert_exporter": "python",
   "pygments_lexer": "ipython3",
   "version": "3.8.16"
  }
 },
 "nbformat": 4,
 "nbformat_minor": 2
}
