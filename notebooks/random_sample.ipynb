{
 "cells": [
  {
   "cell_type": "code",
   "execution_count": null,
   "metadata": {},
   "outputs": [],
   "source": [
    "# 设置python的工作路径\n",
    "import os\n",
    "\n",
    "os.chdir(\"/home/huabei/projects/SMTarRNA\")"
   ]
  },
  {
   "cell_type": "code",
   "execution_count": null,
   "metadata": {},
   "outputs": [],
   "source": [
    "import logging\n",
    "import random\n",
    "from functools import partial\n",
    "\n",
    "from tqdm import tqdm\n",
    "\n",
    "from utils import ZincPdbqt, ele_filter, write_pdbqt_to_gz\n",
    "\n",
    "logging.basicConfig(\n",
    "    filename=\"log.txt\", level=logging.INFO, format=\"%(asctime)s - %(levelname)s - %(message)s\"\n",
    ")\n",
    "os.getcwd()"
   ]
  },
  {
   "attachments": {},
   "cell_type": "markdown",
   "metadata": {},
   "source": [
    "# 从一个.pdbqt.gz文件中随机抽取一定数量的分子"
   ]
  },
  {
   "cell_type": "code",
   "execution_count": null,
   "metadata": {},
   "outputs": [],
   "source": [
    "test_data = \"../data/dataset/ligand/zinc20_druglike_random_sample_molecule_1f600_10k.pdbqt.gz\"\n",
    "data = ZincPdbqt(test_data)\n",
    "len(data)"
   ]
  },
  {
   "cell_type": "code",
   "execution_count": null,
   "metadata": {},
   "outputs": [],
   "source": [
    "len(data[0:100000])"
   ]
  },
  {
   "cell_type": "code",
   "execution_count": null,
   "metadata": {},
   "outputs": [],
   "source": [
    "source_file = \"zinc/zinc_drug_like_3d_100k.pdbqt.gz\"\n",
    "target_file = \"zinc/zinc_drug_like_3d_100k_rand.pdbqt.gz\""
   ]
  },
  {
   "cell_type": "code",
   "execution_count": null,
   "metadata": {},
   "outputs": [],
   "source": [
    "def molecular_random_sample(source_file: str, target_file: str) -> None:\n",
    "    # random_10k_index = defaultdict()\n",
    "    elements_list = [\"C\", \"H\", \"O\", \"N\", \"S\", \"P\", \"BR\", \"CL\", \"F\", \"I\"]\n",
    "    filter_ = partial(ele_filter, elements_list=elements_list)\n",
    "    total_molecules = ZincPdbqt(source_file, filter_=[filter_])\n",
    "    molecules = total_molecules.random_sample(1)\n",
    "    write_pdbqt_to_gz(molecules, target_file)\n",
    "\n",
    "\n",
    "molecular_random_sample(source_file, target_file)"
   ]
  },
  {
   "cell_type": "code",
   "execution_count": null,
   "metadata": {},
   "outputs": [],
   "source": [
    "elements_list = [\"C\", \"H\", \"O\", \"N\", \"S\", \"P\", \"BR\", \"CL\", \"F\", \"I\"]\n",
    "filter_ = partial(ele_filter, elements_list=elements_list)\n",
    "len(ZincPdbqt(target_file, filter_=[filter_]))"
   ]
  },
  {
   "attachments": {},
   "cell_type": "markdown",
   "metadata": {},
   "source": [
    "# 从ZINC20下载的目录中遍历文件，随机抽取一定数量的分子"
   ]
  },
  {
   "cell_type": "code",
   "execution_count": null,
   "metadata": {},
   "outputs": [],
   "source": [
    "RATIO = 0.1  # 10% of the dataset\n",
    "ZINC_DATA_PATH = \"data\"\n",
    "for path, sub_dir, filename in tqdm(os.walk(ZINC_DATA_PATH)):\n",
    "    for file in filename:\n",
    "        if file.endswith(\".pdbqt.gz\"):\n",
    "            total_molecules = ZincPdbqt(os.path.join(path, file), filter_=[filter_])\n",
    "            acceppted_molecules = [mol for mol in total_molecules if random.random() < 0.1]"
   ]
  },
  {
   "cell_type": "code",
   "execution_count": null,
   "metadata": {},
   "outputs": [],
   "source": [
    "\n"
   ]
  },
  {
   "cell_type": "code",
   "execution_count": null,
   "metadata": {},
   "outputs": [],
   "source": [
    "\n"
   ]
  },
  {
   "cell_type": "code",
   "execution_count": null,
   "metadata": {},
   "outputs": [],
   "source": []
  },
  {
   "cell_type": "code",
   "execution_count": null,
   "metadata": {},
   "outputs": [],
   "source": []
  },
  {
   "cell_type": "code",
   "execution_count": null,
   "metadata": {},
   "outputs": [],
   "source": []
  }
 ],
 "metadata": {
  "kernelspec": {
   "display_name": "Python 3 (ipykernel)",
   "language": "python",
   "name": "python3"
  },
  "language_info": {
   "codemirror_mode": {
    "name": "ipython",
    "version": 3
   },
   "file_extension": ".py",
   "mimetype": "text/x-python",
   "name": "python",
   "nbconvert_exporter": "python",
   "pygments_lexer": "ipython3",
   "version": "3.9.16"
  }
 },
 "nbformat": 4,
 "nbformat_minor": 0
}
