{
 "cells": [
  {
   "cell_type": "markdown",
   "metadata": {},
   "source": [
    "# 绘图"
   ]
  },
  {
   "cell_type": "code",
   "execution_count": null,
   "metadata": {},
   "outputs": [],
   "source": [
    "import pickle\n",
    "from collections import defaultdict\n",
    "\n",
    "import matplotlib.pyplot as plt\n",
    "import matplotlib.ticker as mtick\n",
    "import seaborn as sns"
   ]
  },
  {
   "cell_type": "markdown",
   "metadata": {},
   "source": [
    "## ZINC数据集元素分布"
   ]
  },
  {
   "cell_type": "markdown",
   "metadata": {},
   "source": [
    "### 读取数据"
   ]
  },
  {
   "cell_type": "code",
   "execution_count": null,
   "metadata": {},
   "outputs": [],
   "source": [
    "# 读取数据文件,一个dict，key为dataset的名字，value为一个dict(total_molecule, total_atom{atom: num})\n",
    "dataset_info_file = \"../data/dataset/zinc20_druglike_dataset_info.pkl\"\n",
    "dataset_info = pickle.load(open(dataset_info_file, \"rb\"))\n",
    "\n",
    "total_molecule_num = 0\n",
    "total_atom_count = defaultdict(lambda: 0)\n",
    "for k, v in dataset_info.items():\n",
    "    total_molecule_num += v[\"total_molecule\"]\n",
    "    for atom, num in v[\"total_atom\"].items():\n",
    "        total_atom_count[atom] += num"
   ]
  },
  {
   "cell_type": "markdown",
   "metadata": {},
   "source": [
    "### 绘制分布图"
   ]
  },
  {
   "cell_type": "code",
   "execution_count": null,
   "metadata": {},
   "outputs": [],
   "source": [
    "total_atom_count = dict(total_atom_count)\n",
    "\n",
    "# 归一化\n",
    "total_atom_num = sum(total_atom_count.values())\n",
    "total_atom_count_p = {\n",
    "    k: v / total_atom_num\n",
    "    for k, v in sorted(total_atom_count.items(), key=lambda item: item[1], reverse=True)\n",
    "    if k not in [\"HD\", \"HH\", \"HE\"]\n",
    "}"
   ]
  },
  {
   "cell_type": "code",
   "execution_count": null,
   "metadata": {},
   "outputs": [],
   "source": [
    "# 绘制漂亮的条形图\n",
    "fig, ax = plt.subplots(figsize=(10, 6))\n",
    "ax.bar(total_atom_count_p.keys(), total_atom_count_p.values())\n",
    "# y轴的数值显示为百分比\n",
    "ax.yaxis.set_major_formatter(mtick.PercentFormatter(1.0))\n",
    "# 在每个柱子上显示具体的数值\n",
    "for x, y in zip(total_atom_count_p.keys(), total_atom_count_p.values()):\n",
    "    ax.text(x, y + 0.0000005, \"{:.3%}\".format(y), ha=\"center\", va=\"bottom\")\n",
    "\n",
    "ax.set_xlabel(\"Element\")\n",
    "ax.set_ylabel(\"Atom Count\")\n",
    "# ax.set_title(\"ZINC20 Druglike Subset Atom Count\")\n",
    "# 对数坐标\n",
    "ax.set_yscale(\"log\")\n",
    "\n",
    "\n",
    "# 保存为无背景的图片\n",
    "plt.savefig(\"zinc20_druglike_atom_count.png\")"
   ]
  },
  {
   "cell_type": "markdown",
   "metadata": {},
   "source": [
    "### 中断坐标轴\n",
    "绘制两个图，但是中间有一段空白，可以使用`brokenaxes`库，\n",
    "参考：https://matplotlib.org/stable/gallery/subplots_axes_and_figures/broken_axis.html"
   ]
  },
  {
   "cell_type": "code",
   "execution_count": null,
   "metadata": {},
   "outputs": [],
   "source": [
    "import matplotlib.pyplot as plt\n",
    "import numpy as np\n",
    "\n",
    "# np.random.seed(19680801)\n",
    "\n",
    "# pts = np.random.rand(30)*.2\n",
    "# # Now let's make two outlier points which are far away from everything.\n",
    "# pts[[3, 14]] += .8\n",
    "\n",
    "\n",
    "# If we were to simply plot pts, we'd lose most of the interesting\n",
    "# details due to the outliers. So let's 'break' or 'cut-out' the y-axis\n",
    "# into two portions - use the top (ax1) for the outliers, and the bottom\n",
    "# (ax2) for the details of the majority of our data\n",
    "fig, (ax1, ax2) = plt.subplots(2, 1, sharex=True)\n",
    "fig.subplots_adjust(hspace=0.05)  # adjust space between axes\n",
    "\n",
    "# plot the same data on both axes\n",
    "# ax1.plot(pts)\n",
    "# ax2.plot(pts)\n",
    "ax1.bar(total_atom_count_p.keys(), total_atom_count_p.values())\n",
    "ax2.bar(total_atom_count_p.keys(), total_atom_count_p.values())\n",
    "\n",
    "# zoom-in / limit the view to different portions of the data\n",
    "ax1.set_ylim(0.66, 0.7)  # outliers only\n",
    "ax2.set_ylim(0, 0.17)  # most of the data\n",
    "\n",
    "# hide the spines between ax and ax2\n",
    "ax1.spines.bottom.set_visible(False)\n",
    "ax2.spines.top.set_visible(False)\n",
    "ax1.xaxis.tick_top()\n",
    "ax1.tick_params(labeltop=False)  # don't put tick labels at the top\n",
    "ax2.xaxis.tick_bottom()\n",
    "\n",
    "# Now, let's turn towards the cut-out slanted lines.\n",
    "# We create line objects in axes coordinates, in which (0,0), (0,1),\n",
    "# (1,0), and (1,1) are the four corners of the axes.\n",
    "# The slanted lines themselves are markers at those locations, such that the\n",
    "# lines keep their angle and position, independent of the axes size or scale\n",
    "# Finally, we need to disable clipping.\n",
    "\n",
    "d = 0.5  # proportion of vertical to horizontal extent of the slanted line\n",
    "kwargs = dict(\n",
    "    marker=[(-1, -d), (1, d)],\n",
    "    markersize=12,\n",
    "    linestyle=\"none\",\n",
    "    color=\"k\",\n",
    "    mec=\"k\",\n",
    "    mew=1,\n",
    "    clip_on=False,\n",
    ")\n",
    "ax1.plot([0, 1], [0, 0], transform=ax1.transAxes, **kwargs)\n",
    "ax2.plot([0, 1], [1, 1], transform=ax2.transAxes, **kwargs)\n",
    "\n",
    "\n",
    "plt.show()"
   ]
  },
  {
   "cell_type": "markdown",
   "metadata": {},
   "source": [
    "## 重复对接变化趋势"
   ]
  },
  {
   "cell_type": "markdown",
   "metadata": {},
   "source": [
    "### 读取数据"
   ]
  },
  {
   "cell_type": "code",
   "execution_count": null,
   "metadata": {},
   "outputs": [],
   "source": [
    "# 数据\n",
    "pearson_raw = \"0.9249\t0.9302\t0.9348\t0.9329\t0.9390\t0.9341\t0.9251\t0.9497\t0.9566\t0.9618\t0.9635\t0.9645\t0.9132\t0.9518\t0.9604\t0.9645\t0.9669\t0.9669\t0.8618\t0.8963\t0.9113\t0.9222\t0.9259\t0.9306\"\n",
    "pearson = [float(i) for i in pearson_raw.split(\"\\t\")]\n",
    "# 将pearson分为四份\n",
    "pearson = [pearson[i : i + 6] for i in range(0, len(pearson), 6)]\n",
    "complex_id = [\"3a6p\", \"4z4c\", \"4z4d\", \"6cbd\"]\n",
    "exhaustiveness = [8, 16, 32, 64, 96, 128]"
   ]
  },
  {
   "cell_type": "markdown",
   "metadata": {},
   "source": [
    "### 绘制折线图"
   ]
  },
  {
   "cell_type": "code",
   "execution_count": null,
   "metadata": {},
   "outputs": [],
   "source": [
    "# 绘制漂亮的折线图\n",
    "fig, ax = plt.subplots(figsize=(10, 6))\n",
    "for i in range(len(pearson)):\n",
    "    sns.lineplot(\n",
    "        x=exhaustiveness, y=pearson[i], label=complex_id[i], marker=\"o\", ax=ax, markersize=8\n",
    "    )\n",
    "ax.set_xlabel(\"Exhaustiveness\")\n",
    "ax.set_ylabel(\"Pearson\")\n",
    "# 设置x轴的刻度\n",
    "ax.set_xticks(exhaustiveness)\n",
    "# ax.set_title(\"Repeat Dock Pearson\")\n",
    "ax.legend()\n",
    "# 设置线的粗细\n",
    "plt.setp(ax.lines, linewidth=2)\n",
    "# 设置字体大小\n",
    "plt.rcParams.update({\"font.size\": 16})\n",
    "\n",
    "\n",
    "# 保存图片\n",
    "plt.savefig(\"repeat_dock_pearson.png\")"
   ]
  },
  {
   "cell_type": "markdown",
   "metadata": {},
   "source": [
    "## 模型性能随训练数据量变化趋势"
   ]
  },
  {
   "cell_type": "markdown",
   "metadata": {},
   "source": [
    "### 读取数据"
   ]
  },
  {
   "cell_type": "code",
   "execution_count": null,
   "metadata": {},
   "outputs": [],
   "source": [
    "complex_id = [\"3a6p\", \"4z4c\", \"4z4d\", \"6cbd\"]\n",
    "dataset_size_tick = [\"100k\", \"300k\", \"500k\", \"700k\", \"870k\"]\n",
    "dataset_size = [100, 300, 500, 700, 870]\n",
    "val_pearson = [\n",
    "    [0.9092, 0.9168, 0.92, 0.9209, 0.922],\n",
    "    [0.9505, 0.9541, 0.9546, 0.9549, 0.9551],\n",
    "    [0.9398, 0.9563, 0.9567, 0.9571, 0.956],\n",
    "    [0.8909, 0.9057, 0.9063, 0.9102, 0.9107],\n",
    "]\n",
    "repeat_pearson = [0.9348, 0.9566, 0.9604, 0.9222]\n",
    "color = [\"#1f77b4\", \"#ff7f0e\", \"#2ca02c\", \"#d62728\"]"
   ]
  },
  {
   "cell_type": "code",
   "execution_count": null,
   "metadata": {},
   "outputs": [],
   "source": [
    "# 使用seaborn绘制折线图，以repeat dock为渐进参考，绘制田字格图\n",
    "fig, ax = plt.subplots(2, 2, figsize=(10, 6))\n",
    "for i in range(len(complex_id)):\n",
    "    row = i // 2\n",
    "    col = i % 2\n",
    "    sns.lineplot(\n",
    "        x=dataset_size, y=val_pearson[i], ax=ax[row][col], color=color[i], label=complex_id[i]\n",
    "    )\n",
    "    # 设置y轴的上限为1.0，下限自动\n",
    "    ax[row][col].set_ylim(min(val_pearson[i]) - 0.05, 1.0)\n",
    "    ax[row][col].axhline(y=repeat_pearson[i], color=color[i], linestyle=\"--\", label=\"Repeat Dock\")\n",
    "    ax[row][col].set_xlabel(\"Dataset Size\")\n",
    "    ax[row][col].set_ylabel(\"Pearson\")\n",
    "    ax[row][col].set_xticks(dataset_size)\n",
    "    ax[row][col].set_xticklabels(dataset_size_tick)\n",
    "    ax[row][col].legend()\n",
    "\n",
    "    # 设置线的粗细\n",
    "    plt.setp(ax[row][col].lines, linewidth=2)\n",
    "# 保存图片\n",
    "plt.savefig(\"dataset_size_pearson.png\")"
   ]
  },
  {
   "cell_type": "markdown",
   "metadata": {},
   "source": [
    "## 时间对比\n",
    "100万个分子使用autodock vina和 GPU对接的时间对比"
   ]
  },
  {
   "cell_type": "code",
   "execution_count": null,
   "metadata": {},
   "outputs": [],
   "source": [
    "complex_name = [\"3a6p\", \"4z4c\", \"4z4d\", \"6cbd\"]\n",
    "\n",
    "vina_time_core24 = [69797, 69088.00, 65262.50, 121541.50]\n",
    "vina_speed = [i / 10000 for i in vina_time_core24]\n",
    "gpu_speed = 50397 / 583_632_480"
   ]
  },
  {
   "cell_type": "code",
   "execution_count": null,
   "metadata": {},
   "outputs": [],
   "source": [
    "speed_up = [i / gpu_speed for i in vina_speed]\n",
    "speed_up"
   ]
  },
  {
   "cell_type": "markdown",
   "metadata": {},
   "source": []
  }
 ],
 "metadata": {
  "kernelspec": {
   "display_name": "hydra-pl",
   "language": "python",
   "name": "python3"
  },
  "language_info": {
   "codemirror_mode": {
    "name": "ipython",
    "version": 3
   },
   "file_extension": ".py",
   "mimetype": "text/x-python",
   "name": "python",
   "nbconvert_exporter": "python",
   "pygments_lexer": "ipython3",
   "version": "3.8.16"
  }
 },
 "nbformat": 4,
 "nbformat_minor": 2
}
