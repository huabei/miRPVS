{
 "cells": [
  {
   "cell_type": "code",
   "execution_count": null,
   "metadata": {},
   "outputs": [],
   "source": [
    "# 设置python的工作路径\n",
    "import os\n",
    "\n",
    "os.chdir(\"/home/huabei/projects/SMTarRNA\")"
   ]
  },
  {
   "cell_type": "code",
   "execution_count": null,
   "metadata": {
    "pycharm": {
     "is_executing": true
    }
   },
   "outputs": [],
   "source": [
    "# from utils import read_dock_score\n",
    "import pickle\n",
    "\n",
    "import matplotlib.pyplot as plt\n",
    "import numpy as np\n",
    "from sklearn.metrics import r2_score"
   ]
  },
  {
   "attachments": {},
   "cell_type": "markdown",
   "metadata": {},
   "source": [
    "# 计算重复对接的Pearson相关系数"
   ]
  },
  {
   "attachments": {},
   "cell_type": "markdown",
   "metadata": {},
   "source": [
    "## 文件地址"
   ]
  },
  {
   "cell_type": "code",
   "execution_count": null,
   "metadata": {},
   "outputs": [],
   "source": [
    "ex_8_dock_energy_file_1 = (\n",
    "    \"../data/dataset/outputs/3a6p_dOthers_apH_dock_energy_None_None_8_20230411221705.pkl\"\n",
    ")\n",
    "ex_8_dock_energy_file_2 = (\n",
    "    \"../data/dataset/outputs/3a6p_dOthers_apH_dock_energy_None_None_8_20230413092740.pkl\"\n",
    ")\n",
    "\n",
    "ex_16_dock_energy_file_1 = (\n",
    "    \"../data/dataset/outputs/3a6p_dOthers_apH_dock_energy_None_None_16_20230411221637.pkl\"\n",
    ")\n",
    "ex_16_dock_energy_file_2 = (\n",
    "    \"../data/dataset/outputs/3a6p_dOthers_apH_dock_energy_None_None_16_20230413092711.pkl\"\n",
    ")\n",
    "\n",
    "ex_32_dock_energy_file_1 = (\n",
    "    \"../data/dataset/outputs/3a6p_dOthers_apH_dock_energy_None_None_32_20230411221607.pkl\"\n",
    ")\n",
    "ex_32_dock_energy_file_2 = (\n",
    "    \"../data/dataset/outputs/3a6p_dOthers_apH_dock_energy_None_None_32_20230413092557.pkl\"\n",
    ")\n",
    "\n",
    "ex_64_dock_energy_file_1 = (\n",
    "    \"../data/dataset/outputs/3a6p_dOthers_apH_dock_energy_None_None_64_20230411221452.pkl\"\n",
    ")\n",
    "ex_64_dock_energy_file_2 = (\n",
    "    \"../data/dataset/outputs/3a6p_dOthers_apH_dock_energy_None_None_64_20230411221505.pkl\"\n",
    ")\n",
    "\n",
    "molecule_size_file = (\n",
    "    \"../data/dataset/outputs/zinc20_druglike_random_sample_molecule_1f600_molecule_size.pkl\"\n",
    ")"
   ]
  },
  {
   "attachments": {},
   "cell_type": "markdown",
   "metadata": {},
   "source": [
    "## 读取文件"
   ]
  },
  {
   "cell_type": "code",
   "execution_count": null,
   "metadata": {},
   "outputs": [],
   "source": [
    "ex_8_dock_energy_1 = pickle.load(open(ex_8_dock_energy_file_1, \"rb\"))\n",
    "ex8_dock_energy: dict\n",
    "ex_8_dock_energy_2 = pickle.load(open(ex_8_dock_energy_file_2, \"rb\"))\n",
    "ex_8_dock_energy_2: dict\n",
    "\n",
    "\n",
    "ex_16_dock_energy_1 = pickle.load(open(ex_16_dock_energy_file_1, \"rb\"))\n",
    "ex_16_dock_energy_1: dict\n",
    "ex_16_dock_energy_2 = pickle.load(open(ex_16_dock_energy_file_2, \"rb\"))\n",
    "ex_16_dock_energy_2: dict\n",
    "\n",
    "ex_32_dock_energy_1 = pickle.load(open(ex_32_dock_energy_file_1, \"rb\"))\n",
    "ex_32_dock_energy_1: dict\n",
    "ex_32_dock_energy_2 = pickle.load(open(ex_32_dock_energy_file_2, \"rb\"))\n",
    "ex_32_dock_energy_2: dict\n",
    "\n",
    "ex_64_dock_energy_1 = pickle.load(open(ex_64_dock_energy_file_1, \"rb\"))\n",
    "ex_64_dock_energy_1: dict\n",
    "ex_64_dock_energy_2 = pickle.load(open(ex_64_dock_energy_file_2, \"rb\"))\n",
    "ex_64_dock_energy_2: dict\n",
    "molecule_size = pickle.load(open(molecule_size_file, \"rb\"))"
   ]
  },
  {
   "attachments": {},
   "cell_type": "markdown",
   "metadata": {},
   "source": [
    "## 提取数据"
   ]
  },
  {
   "cell_type": "code",
   "execution_count": null,
   "metadata": {},
   "outputs": [],
   "source": [
    "ex_8_dock_energy_total_1 = [v[0, 0] for v in ex_8_dock_energy_1.values()]\n",
    "ex_8_dock_energy_total_2 = [v[0, 0] for v in ex_8_dock_energy_2.values()]\n",
    "\n",
    "ex_16_dock_energy_total_1 = [v[0, 0] for v in ex_16_dock_energy_1.values()]\n",
    "ex_16_dock_energy_total_2 = [v[0, 0] for v in ex_16_dock_energy_2.values()]\n",
    "\n",
    "ex_32_dock_energy_total_1 = [v[0, 0] for v in ex_32_dock_energy_1.values()]\n",
    "ex_32_dock_energy_total_2 = [v[0, 0] for v in ex_32_dock_energy_2.values()]\n",
    "\n",
    "ex_64_dock_energy_total_1 = [v[0, 0] for v in ex_64_dock_energy_1.values()]\n",
    "ex_64_dock_energy_total_2 = [v[0, 0] for v in ex_64_dock_energy_2.values()]\n",
    "\n",
    "pearson_8_8 = np.corrcoef(ex_8_dock_energy_total_1, ex_8_dock_energy_total_2)[0, 1]\n",
    "\n",
    "pearson_16_16 = np.corrcoef(ex_16_dock_energy_total_1, ex_16_dock_energy_total_2)[0, 1]\n",
    "\n",
    "pearson_32_32 = np.corrcoef(ex_32_dock_energy_total_1, ex_32_dock_energy_total_2)[0, 1]\n",
    "\n",
    "pearson_8_64_1 = np.corrcoef(ex_8_dock_energy_total_1, ex_64_dock_energy_total_1)[0, 1]\n",
    "pearson_8_64_2 = np.corrcoef(ex_8_dock_energy_total_1, ex_64_dock_energy_total_2)[0, 1]\n",
    "\n",
    "pearson_16_64_1 = np.corrcoef(ex_16_dock_energy_total_1, ex_64_dock_energy_total_1)[0, 1]\n",
    "pearson_16_64_2 = np.corrcoef(ex_16_dock_energy_total_1, ex_64_dock_energy_total_2)[0, 1]\n",
    "\n",
    "pearson_32_64_1 = np.corrcoef(ex_32_dock_energy_total_1, ex_64_dock_energy_total_1)[0, 1]\n",
    "pearson_32_64_2 = np.corrcoef(ex_32_dock_energy_total_1, ex_64_dock_energy_total_2)[0, 1]\n",
    "\n",
    "pearson_64_64 = np.corrcoef(ex_64_dock_energy_total_1, ex_64_dock_energy_total_2)[0, 1]\n",
    "\n",
    "r2_8_8 = r2_score(ex_8_dock_energy_total_1, ex_8_dock_energy_total_2)\n",
    "\n",
    "r2_16_16 = r2_score(ex_16_dock_energy_total_1, ex_16_dock_energy_total_2)\n",
    "\n",
    "r2_32_32 = r2_score(ex_32_dock_energy_total_1, ex_32_dock_energy_total_2)\n",
    "\n",
    "r2_8_64_1 = r2_score(ex_8_dock_energy_total_1, ex_64_dock_energy_total_1)\n",
    "r2_8_64_2 = r2_score(ex_8_dock_energy_total_1, ex_64_dock_energy_total_2)\n",
    "\n",
    "r2_16_64_1 = r2_score(ex_16_dock_energy_total_1, ex_64_dock_energy_total_1)\n",
    "r2_16_64_2 = r2_score(ex_16_dock_energy_total_1, ex_64_dock_energy_total_2)\n",
    "\n",
    "r2_32_64_1 = r2_score(ex_32_dock_energy_total_1, ex_64_dock_energy_total_1)\n",
    "r2_32_64_2 = r2_score(ex_32_dock_energy_total_1, ex_64_dock_energy_total_2)\n",
    "\n",
    "r2_64_64 = r2_score(ex_64_dock_energy_total_1, ex_64_dock_energy_total_2)\n",
    "\n",
    "\n",
    "pearson_8_64_1, pearson_8_64_2, pearson_16_64_1, pearson_16_64_2, pearson_32_64_1, pearson_32_64_2, pearson_64_64\n",
    "r2_8_64_1, r2_8_64_2, r2_16_64_1, r2_16_64_2, r2_32_64_1, r2_32_64_2, r2_64_64"
   ]
  },
  {
   "attachments": {},
   "cell_type": "markdown",
   "metadata": {},
   "source": [
    "## 绘图"
   ]
  },
  {
   "cell_type": "code",
   "execution_count": null,
   "metadata": {},
   "outputs": [],
   "source": [
    "# 绘制散点图，查看相关性，图片上显示相关系数\n",
    "# 根据molecule size设置渐变色\n",
    "from pandas import Series\n",
    "\n",
    "colors = []\n",
    "for k in ex_8_dock_energy_1.keys():\n",
    "    if type(molecule_size[k]) is Series:\n",
    "        colors.append(molecule_size[k][0])\n",
    "        continue\n",
    "    colors.append(molecule_size[k])\n",
    "# 归一化\n",
    "colors = np.array(colors)\n",
    "# colors = (colors - np.min(colors)) / (np.max(colors) - np.min(colors))\n",
    "\n",
    "# colors = 1 - colors\n",
    "s = 4\n",
    "cm = \"viridis\"\n",
    "fontsize = 12"
   ]
  },
  {
   "attachments": {},
   "cell_type": "markdown",
   "metadata": {},
   "source": [
    "# 各exhaustiveness下的重复对接的图"
   ]
  },
  {
   "cell_type": "code",
   "execution_count": null,
   "metadata": {},
   "outputs": [],
   "source": [
    "# 田字图\n",
    "\n",
    "fig, ax = plt.subplots(2, 2, figsize=(12, 12))\n",
    "sc = ax[0, 0].scatter(ex_8_dock_energy_total_1, ex_8_dock_energy_total_2, s=s, c=colors, cmap=cm)\n",
    "# ax[0, 0].set_title('8_1 vs 8-2')\n",
    "ax[0, 0].set_xlabel(\"8-1\\n(a) Score(kal/mol)\", fontsize=fontsize)\n",
    "ax[0, 0].set_xlim(-10, -4)\n",
    "ax[0, 0].set_ylim(-10, -4)\n",
    "ax[0, 0].set_ylabel(\"8-2\", fontsize=fontsize)\n",
    "ax[0, 0].text(\n",
    "    0.1,\n",
    "    0.9,\n",
    "    \"pearson: {:.4f}\\nr2: {:.4f}\".format(pearson_8_8, r2_8_8),\n",
    "    transform=ax[0, 0].transAxes,\n",
    "    fontsize=fontsize,\n",
    ")\n",
    "\n",
    "ax[0, 1].scatter(ex_16_dock_energy_total_1, ex_16_dock_energy_total_2, s=s, c=colors, cmap=cm)\n",
    "# ax[0, 1].set_title('16 vs 16-2')\n",
    "ax[0, 1].set_xlabel(\"16-1\\n(b) Score(kal/mol)\", fontsize=fontsize)\n",
    "ax[0, 1].set_xlim(-10, -4)\n",
    "ax[1, 1].set_ylim(-10, -4)\n",
    "ax[0, 1].set_ylabel(\"16-2\", fontsize=fontsize)\n",
    "ax[0, 1].text(\n",
    "    0.1,\n",
    "    0.9,\n",
    "    \"pearson: {:.4f}\\nr2: {:.4f}\".format(pearson_16_16, r2_16_16),\n",
    "    transform=ax[0, 1].transAxes,\n",
    "    fontsize=fontsize,\n",
    ")\n",
    "\n",
    "ax[1, 0].scatter(ex_32_dock_energy_total_1, ex_32_dock_energy_total_2, s=s, c=colors, cmap=cm)\n",
    "# ax[1, 0].set_title('32 vs 32-2')\n",
    "ax[1, 0].set_xlabel(\"32-1\\n(c) Score(kal/mol)\", fontsize=fontsize)\n",
    "ax[1, 0].set_xlim(-10, -4)\n",
    "ax[1, 0].set_ylim(-10, -4)\n",
    "ax[1, 0].set_ylabel(\"32-2\", fontsize=fontsize)\n",
    "ax[1, 0].text(\n",
    "    0.1,\n",
    "    0.9,\n",
    "    \"pearson: {:.4f}\\nr2: {:.4f}\".format(pearson_32_32, r2_32_32),\n",
    "    transform=ax[1, 0].transAxes,\n",
    "    fontsize=fontsize,\n",
    ")\n",
    "\n",
    "ax[1, 1].scatter(ex_64_dock_energy_total_1, ex_64_dock_energy_total_2, s=s, c=colors, cmap=cm)\n",
    "# ax[1, 1].set_title('64-1 vs 64-2')\n",
    "ax[1, 1].set_xlabel(\"64-1\\n(d) Score(kal/mol)\", fontsize=fontsize)\n",
    "ax[1, 1].set_xlim(-10, -4)\n",
    "ax[1, 1].set_ylim(-10, -4)\n",
    "ax[1, 1].set_ylabel(\"64-2\", fontsize=fontsize)\n",
    "ax[1, 1].text(\n",
    "    0.1,\n",
    "    0.9,\n",
    "    \"pearson: {:.4f}\\nr2: {:.4f}\".format(pearson_64_64, r2_64_64),\n",
    "    transform=ax[1, 1].transAxes,\n",
    "    fontsize=fontsize,\n",
    ")\n",
    "cax = plt.axes([0.92, 0.1, 0.01, 0.8])\n",
    "fig.colorbar(sc, cax=cax)\n",
    "# fig.tight_layout()\n",
    "plt.show()"
   ]
  },
  {
   "attachments": {},
   "cell_type": "markdown",
   "metadata": {},
   "source": [
    "# 各exhaustiveness和64的比较图"
   ]
  },
  {
   "cell_type": "code",
   "execution_count": null,
   "metadata": {},
   "outputs": [],
   "source": [
    "# 一行四列\n",
    "\n",
    "fig, ax = plt.subplots(1, 4, figsize=(18, 4))\n",
    "sc = ax[0].scatter(ex_8_dock_energy_total_1, ex_64_dock_energy_total_2, s=s, c=colors, cmap=cm)\n",
    "# ax[0].set_title('8 vs 64-2')\n",
    "ax[0].set_xlim(-10, -4)\n",
    "ax[0].set_xlabel(\"8-1\\n(a) Score(kal/mol)\", fontsize=fontsize)\n",
    "ax[0].set_ylabel(\"64-2\", fontsize=fontsize)\n",
    "ax[0].set_ylim(-10, -4)\n",
    "ax[0].text(\n",
    "    0.1,\n",
    "    0.9,\n",
    "    \"pearson: {:.4f}\\nr2: {:.4f}\".format(pearson_8_64_2, r2_8_64_2),\n",
    "    transform=ax[0].transAxes,\n",
    "    fontsize=fontsize,\n",
    ")\n",
    "\n",
    "ax[1].scatter(ex_16_dock_energy_total_1, ex_64_dock_energy_total_2, s=s, c=colors, cmap=cm)\n",
    "# ax[1].set_title('16 vs 64-2')\n",
    "ax[1].set_xlabel(\"16-1\\n(b) Score(kal/mol)\", fontsize=fontsize)\n",
    "ax[1].set_xlim(-10, -4)\n",
    "ax[1].set_ylim(-10, -4)\n",
    "ax[1].set_ylabel(\"64-2\", fontsize=fontsize)\n",
    "ax[1].text(\n",
    "    0.1,\n",
    "    0.9,\n",
    "    \"pearson: {:.4f}\\nr2: {:.4f}\".format(pearson_16_64_2, r2_16_64_2),\n",
    "    transform=ax[1].transAxes,\n",
    "    fontsize=fontsize,\n",
    ")\n",
    "\n",
    "ax[2].scatter(ex_32_dock_energy_total_1, ex_64_dock_energy_total_2, s=s, c=colors, cmap=cm)\n",
    "# ax[2].set_title('32 vs 64-2')\n",
    "ax[2].set_xlabel(\"32-1\\n(c) Score(kal/mol)\", fontsize=fontsize)\n",
    "ax[2].set_xlim(-10, -4)\n",
    "ax[2].set_ylim(-10, -4)\n",
    "ax[2].set_ylabel(\"64-2\", fontsize=fontsize)\n",
    "ax[2].text(\n",
    "    0.1,\n",
    "    0.9,\n",
    "    \"pearson: {:.4f}\\nr2: {:.4f}\".format(pearson_32_64_2, r2_32_64_2),\n",
    "    transform=ax[2].transAxes,\n",
    "    fontsize=fontsize,\n",
    ")\n",
    "\n",
    "ax[3].scatter(ex_64_dock_energy_total_1, ex_64_dock_energy_total_2, s=s, c=colors, cmap=cm)\n",
    "# ax[3].set_title('64-1 vs 64-2')\n",
    "ax[3].set_xlabel(\"64-1\\n(d) Score(kal/mol)\", fontsize=fontsize)\n",
    "ax[3].set_xlim(-10, -4)\n",
    "ax[3].set_ylim(-10, -4)\n",
    "ax[3].set_ylabel(\"64-2\", fontsize=fontsize)\n",
    "ax[3].text(\n",
    "    0.1,\n",
    "    0.9,\n",
    "    \"pearson: {:.4f}\\nr2: {:.4f}\".format(pearson_64_64, r2_64_64),\n",
    "    transform=ax[3].transAxes,\n",
    "    fontsize=fontsize,\n",
    ")\n",
    "cax = plt.axes([0.92, 0.1, 0.01, 0.8])\n",
    "fig.colorbar(sc, cax=cax)\n",
    "# fig.tight_layout()\n",
    "plt.show()"
   ]
  }
 ],
 "metadata": {
  "kernelspec": {
   "display_name": "Python 3.9.7 ('smtr')",
   "language": "python",
   "name": "python3"
  },
  "language_info": {
   "codemirror_mode": {
    "name": "ipython",
    "version": 3
   },
   "file_extension": ".py",
   "mimetype": "text/x-python",
   "name": "python",
   "nbconvert_exporter": "python",
   "pygments_lexer": "ipython3",
   "version": "3.9.16"
  },
  "vscode": {
   "interpreter": {
    "hash": "a75462293d05fc3e00128f4985dd13fcf50f4f5144b1474848efbcac1f09cd24"
   }
  }
 },
 "nbformat": 4,
 "nbformat_minor": 0
}
