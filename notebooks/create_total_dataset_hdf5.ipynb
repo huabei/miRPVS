{
 "cells": [
  {
   "cell_type": "code",
   "execution_count": null,
   "metadata": {},
   "outputs": [],
   "source": [
    "# 设置python的工作路径\n",
    "import os\n",
    "\n",
    "os.chdir(\"/home/huabei/projects/SMTarRNA\")"
   ]
  },
  {
   "cell_type": "code",
   "execution_count": null,
   "metadata": {},
   "outputs": [],
   "source": [
    "import logging\n",
    "import pickle\n",
    "import time\n",
    "from collections import Counter, defaultdict\n",
    "from functools import partial\n",
    "from queue import Queue\n",
    "from threading import Thread\n",
    "\n",
    "import matplotlib\n",
    "import matplotlib.pyplot as plt\n",
    "import pandas as pd\n",
    "from pandas import HDFStore\n",
    "from tqdm import tqdm\n",
    "\n",
    "matplotlib.use(\"Agg\")\n",
    "logging.basicConfig(level=logging.INFO)\n",
    "os.listdir()"
   ]
  },
  {
   "cell_type": "code",
   "execution_count": null,
   "metadata": {},
   "outputs": [],
   "source": [
    "ZINC_DATA_PATH = \"../data/dataset/ligand/index/\"\n",
    "# ZINC_HDF5_PATH = '../data/dataset/ZINC20-test.h5'\n",
    "\n",
    "# ZINC_DATA_PATH = 'ZINC-DrugLike-3D-20230407'\n",
    "# ZINC_DATA_PATH = 'test'\n",
    "# ZINC_HDF5_PATH = 'ZINC20-DrugLike-3D-20230402.h5'"
   ]
  },
  {
   "attachments": {},
   "cell_type": "markdown",
   "metadata": {},
   "source": [
    "# 构建h5数据集"
   ]
  },
  {
   "cell_type": "code",
   "execution_count": null,
   "metadata": {},
   "outputs": [],
   "source": [
    "# from create_total_dataset_hdf5 import create_total_dataset_hdf5\n",
    "import logging\n",
    "\n",
    "from dataset.create_total_dataset_hdf5 import create_total_dataset_hdf5\n",
    "\n",
    "# logging.basicConfig(level=logging.INFO)"
   ]
  },
  {
   "cell_type": "code",
   "execution_count": null,
   "metadata": {},
   "outputs": [],
   "source": [
    "create_total_dataset_hdf5(ZINC_DATA_PATH)\n",
    "print(\"Construct Done! Good Job!\")"
   ]
  },
  {
   "cell_type": "code",
   "execution_count": null,
   "metadata": {},
   "outputs": [],
   "source": [
    "store = HDFStore(\"../data/dataset/ZINC20-test/BA_index.h5\")\n",
    "store.keys()"
   ]
  },
  {
   "attachments": {},
   "cell_type": "markdown",
   "metadata": {},
   "source": [
    "# 筛选缺失的数据"
   ]
  },
  {
   "cell_type": "code",
   "execution_count": null,
   "metadata": {},
   "outputs": [],
   "source": [
    "# 已下载的数据\n",
    "total_file = []\n",
    "for _, _, files in os.walk(ZINC_DATA_PATH):\n",
    "    total_file.extend(files)\n",
    "total_file = [file for file in total_file if not file.endswith(\".h5\")]"
   ]
  },
  {
   "cell_type": "code",
   "execution_count": null,
   "metadata": {},
   "outputs": [],
   "source": [
    "# 需要下载的数据\n",
    "with open(\"ZINC-downloader-3D-pdbqt.gz.curl\", \"r\") as f:\n",
    "    need_download_cmd = f.readlines()\n",
    "need_download = {file.split(\" \")[-2].split(\"/\")[-1]: file for file in need_download_cmd}"
   ]
  },
  {
   "cell_type": "code",
   "execution_count": null,
   "metadata": {},
   "outputs": [],
   "source": [
    "# 验证已下载的数据包含于需要下载的数据\n",
    "total_file_set = set(total_file)\n",
    "need_download_set = set(need_download.keys())\n",
    "assert total_file_set.issubset(\n",
    "    need_download_set\n",
    "), \"total_file_set is not subset of need_download_set\"\n",
    "not_download = need_download_set - total_file_set"
   ]
  },
  {
   "cell_type": "code",
   "execution_count": null,
   "metadata": {},
   "outputs": [],
   "source": [
    "# 生成下载命令\n",
    "download_cmd = []\n",
    "for file in not_download:\n",
    "    download_cmd.append(need_download[file])\n",
    "len(download_cmd)\n",
    "download_cmd[:5]"
   ]
  },
  {
   "attachments": {},
   "cell_type": "markdown",
   "metadata": {},
   "source": [
    "# 获取数据集的统计信息"
   ]
  },
  {
   "cell_type": "code",
   "execution_count": null,
   "metadata": {},
   "outputs": [],
   "source": [
    "hdf_index_file = [\n",
    "    os.path.join(ZINC_DATA_PATH, i) for i in os.listdir(ZINC_DATA_PATH) if i.endswith(\"_index.h5\")\n",
    "]\n",
    "hdf_coor_file = [\n",
    "    os.path.join(ZINC_DATA_PATH, i) for i in os.listdir(ZINC_DATA_PATH) if i.endswith(\"_coor.h5\")\n",
    "]\n",
    "hdf_index_file.sort()\n",
    "hdf_coor_file.sort()\n",
    "all_hdf_file = list(zip(hdf_index_file, hdf_coor_file))\n",
    "all_hdf_file[:5]"
   ]
  },
  {
   "cell_type": "code",
   "execution_count": null,
   "metadata": {},
   "outputs": [],
   "source": []
  },
  {
   "attachments": {},
   "cell_type": "markdown",
   "metadata": {},
   "source": [
    "### 单线程完成分子个数和原子个数的统计"
   ]
  },
  {
   "cell_type": "code",
   "execution_count": null,
   "metadata": {},
   "outputs": [],
   "source": [
    "dataset_info = dict()\n",
    "for index_file, coor_file in tqdm(all_hdf_file):\n",
    "    index_store = HDFStore(index_file)\n",
    "    coor_store = HDFStore(coor_file)\n",
    "    total_molecule = 0\n",
    "    total_atom = defaultdict(lambda: 0)\n",
    "    for k in index_store.keys():\n",
    "        total_molecule += index_store[k].shape[0]\n",
    "        atom_num_tmp = Counter(coor_store[k][\"atom\"].to_list())\n",
    "        for atom, num in atom_num_tmp.items():\n",
    "            total_atom[atom] += num\n",
    "    dataset_info[os.path.basename(index_store._path)] = {\n",
    "        \"total_molecule\": total_molecule,\n",
    "        \"total_atom\": dict(total_atom),\n",
    "    }\n",
    "    index_store.close()\n",
    "    coor_store.close()\n",
    "with open(\"zinc20_druglike_dataset_info.pkl\", \"wb\") as f:\n",
    "    pickle.dump(dataset_info, f)\n",
    "print(\"All work completed\")"
   ]
  },
  {
   "attachments": {},
   "cell_type": "markdown",
   "metadata": {},
   "source": [
    "### 检查数据集的基本统计信息（文件数，分子数）"
   ]
  },
  {
   "cell_type": "code",
   "execution_count": null,
   "metadata": {},
   "outputs": [],
   "source": [
    "total_file = 0\n",
    "total_molecule = 0\n",
    "for index_file, _ in tqdm(all_hdf_file):\n",
    "    # 计算时间\n",
    "    t1 = time.time()\n",
    "    index_store = HDFStore(index_file)\n",
    "    t2 = time.time()\n",
    "    # print(index_store.keys())\n",
    "    total_file += len(index_store.keys())\n",
    "    for k in index_store.keys():\n",
    "        total_molecule += index_store[k].shape[0]\n",
    "    t3 = time.time()\n",
    "    logging.info(\n",
    "        f\"\\nfile: {index_file}, keys: {len(index_store.keys())}, time: {t2-t1} s, {t3-t2} s\"\n",
    "    )\n",
    "    index_store.close()\n",
    "total_file, total_molecule"
   ]
  },
  {
   "attachments": {},
   "cell_type": "markdown",
   "metadata": {},
   "source": [
    "### 多线程完成分子个数和原子个数的统计（待优化）"
   ]
  },
  {
   "cell_type": "code",
   "execution_count": null,
   "metadata": {},
   "outputs": [],
   "source": [
    "# 创建两个线程，一个线程用于读取数据，一个线程用于处理数据\n",
    "\n",
    "\n",
    "def read_data(q: Queue, file_list: list):\n",
    "    for index_file, coor_file in file_list:\n",
    "        logging.info(f\"index_file: {index_file}, coor_file: {coor_file}\")\n",
    "        q.put((HDFStore(index_file, mode=\"r\"), HDFStore(coor_file, mode=\"r\")))\n",
    "\n",
    "\n",
    "def process_data(index_store, coor_store):\n",
    "    logging.info(\"process_data is running\")\n",
    "    total_molecule_num = 0\n",
    "    total_atom = defaultdict(lambda: 0)\n",
    "    for path, sub_group, datasetes in tqdm(index_store.walk()):\n",
    "        for dataset in datasetes:\n",
    "            d = os.path.join(path, dataset)\n",
    "            data = index_store.get(d)\n",
    "            data: pd.DataFrame\n",
    "            total_molecule_num += len(data)\n",
    "            data = coor_store.get(d)\n",
    "            data: pd.DataFrame\n",
    "            # 统计原子数量\n",
    "            atom_num_tmp = Counter(data[\"atom\"].to_list())\n",
    "            # 统计原子总数\n",
    "            for key in atom_num_tmp.keys():\n",
    "                total_atom[key] += atom_num_tmp[key]\n",
    "    index_store.close()\n",
    "    coor_store.close()\n",
    "    return {\"total_molecule_num\": total_molecule_num, \"total_atom\": dict(total_atom)}\n",
    "\n",
    "\n",
    "# 创建生产者线程类\n",
    "class Producer(Thread):\n",
    "    def __init__(self, func, q: Queue, file_list: list):\n",
    "        super().__init__()\n",
    "        self.q = q\n",
    "        self.file_list = file_list\n",
    "        self.func = func\n",
    "        self.daemon = True\n",
    "\n",
    "    def run(self):\n",
    "        self.func(self.q, self.file_list)\n",
    "\n",
    "\n",
    "# 创建消费者线程类\n",
    "class Consumer(Thread):\n",
    "    def __init__(self, q: Queue, loops: int):\n",
    "        super().__init__()\n",
    "        self.q = q\n",
    "        self.daemon = True\n",
    "        self.loops = loops\n",
    "\n",
    "    def run(self):\n",
    "        self.results = dict()\n",
    "        for i in range(self.loops):\n",
    "            logging.info(\"Consumer is running\")\n",
    "            index_store, coor_store = self.q.get()\n",
    "            logging.info(\"Consumer get data\")\n",
    "            result = process_data(index_store, coor_store)\n",
    "            self.results[os.path.basename(index_store._path)] = result\n",
    "            self.q.task_done()"
   ]
  },
  {
   "attachments": {},
   "cell_type": "markdown",
   "metadata": {},
   "source": [
    "### 多线程"
   ]
  },
  {
   "cell_type": "code",
   "execution_count": null,
   "metadata": {},
   "outputs": [],
   "source": [
    "q = Queue()\n",
    "producer = Producer(read_data, q, all_hdf_file)\n",
    "consumer = Consumer(q, len(all_hdf_file))\n",
    "producer.start()\n",
    "consumer.start()\n",
    "q.join()\n",
    "producer.join()\n",
    "consumer.join()\n",
    "with open(\"zinc20_druglike_dataset_info.pkl\", \"wb\") as f:\n",
    "    pickle.dump(consumer.results, f)\n",
    "print(\"All work completed\")"
   ]
  },
  {
   "attachments": {},
   "cell_type": "markdown",
   "metadata": {},
   "source": [
    "### 随机抽取数据集中的分子\n",
    "抽取zinc id然后分组，通过路径找到对应的pdbqt.gz文件抽取分子。"
   ]
  },
  {
   "cell_type": "code",
   "execution_count": null,
   "metadata": {},
   "outputs": [],
   "source": [
    "import random\n",
    "\n",
    "random_sample_molecule = dict()\n",
    "ratio = 1 / 600\n",
    "for index_file, _ in tqdm(all_hdf_file):\n",
    "    index_store = HDFStore(index_file, mode=\"r\")\n",
    "    for path, sub_group, datasetes in tqdm(index_store.walk()):\n",
    "        for dataset in datasetes:\n",
    "            d = os.path.join(path, dataset)\n",
    "            zinc_id_tmp = index_store.get(d).index.to_list()\n",
    "            random_sample_molecule[d] = [zi for zi in zinc_id_tmp if random.random() < ratio]\n",
    "    index_store.close()\n",
    "\n",
    "with open(\"zinc20_druglike_random_sample_molecule_1f600.pkl\", \"wb\") as f:\n",
    "    pickle.dump(random_sample_molecule, f)"
   ]
  },
  {
   "cell_type": "code",
   "execution_count": null,
   "metadata": {},
   "outputs": [],
   "source": [
    "import gzip\n",
    "import io\n",
    "import re\n",
    "\n",
    "\n",
    "class ZincPdbqt:\n",
    "    \"\"\"\n",
    "    A class for pdbqt or pdbqt.gz file, this class could transfer str dict to some friendly format.\n",
    "    \"\"\"\n",
    "\n",
    "    def __init__(self, pdbqt_file):\n",
    "        # 读取.pdbqt.gz文件，转换为str\n",
    "        self.f_str = gzip.open(pdbqt_file, mode=\"rb\").read().decode()\n",
    "        # 读取.pdbqt.gz文件中的zinc_id\n",
    "        self.zinc_id = re.findall(\"Name = (.*?)\\n\", self.f_str)\n",
    "        # 读取.pdbqt.gz文件中的分子结构\n",
    "        if self.f_str.startswith(\"MODEL\"):\n",
    "            self.molecules = re.findall(\"MODEL.*?\\n(.*?)ENDMDL\\n\", self.f_str, re.S)\n",
    "        else:\n",
    "            self.molecules = [self.f_str]\n",
    "        # 生成一个list，包含zinc_id和分子结构\n",
    "        self.data = list(zip(self.zinc_id, self.molecules))\n",
    "\n",
    "    @property\n",
    "    def data_dict(self):\n",
    "        return dict(zip(self.zinc_id, self.molecules))\n",
    "\n",
    "\n",
    "def gz_writer(file_name: str) -> io.TextIOWrapper:\n",
    "    \"\"\"get a file name, return a gz file api with wb mode\"\"\"\n",
    "    output = gzip.open(file_name, \"wb\")\n",
    "    ecn = io.TextIOWrapper(output, encoding=\"utf-8\")\n",
    "    return ecn\n",
    "\n",
    "\n",
    "def write_pdbqt_to_gz(pdbqt_list, gz_file):\n",
    "    \"\"\"write a list of pdbqt to gz file\"\"\"\n",
    "    with gz_writer(gz_file) as f:\n",
    "        for pdbqt in tqdm(pdbqt_list, desc=\"write to gz\"):\n",
    "            f.writelines(\"MODEL\\n\" + pdbqt[1] + \"ENDMDL\\n\")\n",
    "\n",
    "\n",
    "def ele_filter(zinc_pdbqt_item, elements_list=None):\n",
    "    \"\"\"\n",
    "    if pdbqt item have element that not in elements_list, return False, else return True.\n",
    "    Use in filter() function.\n",
    "    :param zinc_pdbqt_item: [..., pdbqt_str]\n",
    "    :param elements_list: ['H', 'C', 'O']\n",
    "    :return: True or False.\n",
    "    \"\"\"\n",
    "    assert elements_list is not None, \"elements_list is None\"\n",
    "    lines = zinc_pdbqt_item[1].strip().split(\"\\n\")\n",
    "    elements_list = [i.upper() for i in elements_list]\n",
    "    for line in lines:\n",
    "        if line.startswith((\"ATOM\", \"HETATM\")):\n",
    "            # ele = line[12:16].strip()\n",
    "            # 去除元素符号中的非字母字符\n",
    "            ele = line[12:14].strip()\n",
    "            if ele.upper() in elements_list:\n",
    "                continue\n",
    "            else:\n",
    "                return False\n",
    "        else:\n",
    "            continue\n",
    "    return True"
   ]
  },
  {
   "cell_type": "code",
   "execution_count": null,
   "metadata": {},
   "outputs": [],
   "source": [
    "pdbqt_list = []\n",
    "for k, v in tqdm(random_sample_molecule.items(), desc=\"read pdbqt.gz\"):\n",
    "    # 跳过空的list\n",
    "    if not v:\n",
    "        continue\n",
    "    # 根据k生成文件路径\n",
    "    file = ZINC_DATA_PATH + k.replace(\"_\", \".\") + \".pdbqt.gz\"\n",
    "    # 分析文件，生成一个dict，key为zinc_id，value为分子结构\n",
    "    zinc_pdbqt = ZincPdbqt(file).data_dict\n",
    "    # 根据zinc_id，从dict中提取分子结构\n",
    "    try:\n",
    "        for zinc_id in v:\n",
    "            pdbqt_list.append((zinc_id, zinc_pdbqt[zinc_id]))\n",
    "    except KeyError:\n",
    "        print(f\"{zinc_id} not in {file}\")\n",
    "        continue\n",
    "    # break"
   ]
  },
  {
   "cell_type": "code",
   "execution_count": null,
   "metadata": {},
   "outputs": [],
   "source": [
    "elements_dict = dict(C=0, N=1, O=2, H=3, F=4, S=5, CL=6, Br=7, I=8, SI=9, P=10)\n",
    "elements_list = list(elements_dict.keys())\n",
    "ele_filter_ = partial(ele_filter, elements_list=elements_list)\n",
    "pdbqt_list = list(filter(ele_filter_, pdbqt_list))"
   ]
  },
  {
   "cell_type": "code",
   "execution_count": null,
   "metadata": {},
   "outputs": [],
   "source": [
    "len(pdbqt_list)"
   ]
  },
  {
   "cell_type": "code",
   "execution_count": null,
   "metadata": {},
   "outputs": [],
   "source": [
    "# 将pdbqt_list写入gz文件\n",
    "write_pdbqt_to_gz(pdbqt_list, \"outputs/zinc20_druglike_random_sample_molecule_1f600.pdbqt.gz\")"
   ]
  },
  {
   "attachments": {},
   "cell_type": "markdown",
   "metadata": {},
   "source": [
    "### 从pdbqt.gz文件中抽取分子"
   ]
  },
  {
   "cell_type": "code",
   "execution_count": null,
   "metadata": {},
   "outputs": [],
   "source": [
    "pdbqt_list_100k = random.sample(pdbqt_list, 100_000)\n",
    "write_pdbqt_to_gz(\n",
    "    pdbqt_list_100k, \"outputs/zinc20_druglike_random_sample_molecule_1f600_100k.pdbqt.gz\"\n",
    ")\n",
    "pdbqt_list_10k = random.sample(pdbqt_list_100k, 10000)\n",
    "write_pdbqt_to_gz(\n",
    "    pdbqt_list_10k, \"outputs/zinc20_druglike_random_sample_molecule_1f600_10k.pdbqt.gz\"\n",
    ")"
   ]
  },
  {
   "cell_type": "code",
   "execution_count": null,
   "metadata": {},
   "outputs": [],
   "source": [
    "random_sample = ZincPdbqt(\n",
    "    \"outputs/zinc20_druglike_random_sample_molecule_1f600.pdbqt.gz\"\n",
    ").data_dict"
   ]
  },
  {
   "attachments": {},
   "cell_type": "markdown",
   "metadata": {},
   "source": [
    "# 绘图"
   ]
  },
  {
   "cell_type": "code",
   "execution_count": null,
   "metadata": {},
   "outputs": [],
   "source": [
    "dataset_info = pickle.load(open(\"../data/dataset/zinc20_druglike_dataset_info.pkl\", \"rb\"))"
   ]
  },
  {
   "cell_type": "code",
   "execution_count": null,
   "metadata": {},
   "outputs": [],
   "source": [
    "total_molecule_num = 0\n",
    "total_atom_count = defaultdict(lambda: 0)\n",
    "for k, v in dataset_info.items():\n",
    "    total_molecule_num += v[\"total_molecule\"]\n",
    "    for atom, num in v[\"total_atom\"].items():\n",
    "        total_atom_count[atom] += num"
   ]
  },
  {
   "cell_type": "code",
   "execution_count": null,
   "metadata": {},
   "outputs": [],
   "source": [
    "total_atom_count = dict(total_atom_count)\n",
    "\n",
    "# 归一化\n",
    "total_atom_num = sum(total_atom_count.values())\n",
    "total_atom_count_p = {\n",
    "    k: v / total_atom_num\n",
    "    for k, v in sorted(total_atom_count.items(), key=lambda item: item[1], reverse=True)\n",
    "    if k not in [\"HD\", \"HH\", \"HE\"]\n",
    "}\n",
    "# 绘制漂亮的条形图\n",
    "fig, ax = plt.subplots(figsize=(10, 6))\n",
    "ax.bar(total_atom_count_p.keys(), total_atom_count_p.values())\n",
    "ax.set_xlabel(\"Atom\")\n",
    "ax.set_ylabel(\"Atom Count\")\n",
    "ax.set_title(\"ZINC20 Druglike Subset Atom Count\")\n",
    "\n",
    "# 保存为无背景的图片\n",
    "plt.savefig(\"zinc20_druglike_atom_count.png\")"
   ]
  },
  {
   "attachments": {},
   "cell_type": "markdown",
   "metadata": {},
   "source": [
    "## 提取信息"
   ]
  },
  {
   "cell_type": "code",
   "execution_count": null,
   "metadata": {},
   "outputs": [],
   "source": [
    "# 待提取的分子\n",
    "molecules = pickle.load(\n",
    "    open(\"../data/dataset/outputs/zinc20_druglike_random_sample_molecule_1f600.pkl\", \"rb\")\n",
    ")"
   ]
  },
  {
   "cell_type": "code",
   "execution_count": null,
   "metadata": {},
   "outputs": [],
   "source": [
    "molecule_size = dict()\n",
    "for k, v in tqdm(molecules.items()):\n",
    "    if not v:\n",
    "        continue\n",
    "    file = os.path.join(ZINC_DATA_PATH, k[1:3] + \"_index.h5\")\n",
    "    with HDFStore(file, \"r\") as store:\n",
    "        for zinc_id in v:\n",
    "            try:\n",
    "                mol = store[k].loc[zinc_id]\n",
    "                atom_num = mol[\"end\"] - mol[\"start\"]\n",
    "                molecule_size[zinc_id] = atom_num\n",
    "                # print(f'{zinc_id} has {atom_num} atoms')\n",
    "                # break\n",
    "            except KeyError:\n",
    "                print(f\"{zinc_id} not in {file}\")\n",
    "                continue\n",
    "        # break\n",
    "with open(\n",
    "    \"../data/dataset/outputs/zinc20_druglike_random_sample_molecule_1f600_molecule_size.pkl\", \"wb\"\n",
    ") as f:\n",
    "    pickle.dump(molecule_size, f)"
   ]
  },
  {
   "cell_type": "code",
   "execution_count": null,
   "metadata": {},
   "outputs": [],
   "source": [
    "molecule_size = pickle.load(\n",
    "    open(\n",
    "        \"../data/dataset/outputs/zinc20_druglike_random_sample_molecule_1f600_molecule_size.pkl\",\n",
    "        \"rb\",\n",
    "    )\n",
    ")\n",
    "list(molecule_size.items())[-1]"
   ]
  }
 ],
 "metadata": {
  "kernelspec": {
   "display_name": "Python 3",
   "language": "python",
   "name": "python3"
  },
  "language_info": {
   "codemirror_mode": {
    "name": "ipython",
    "version": 3
   },
   "file_extension": ".py",
   "mimetype": "text/x-python",
   "name": "python",
   "nbconvert_exporter": "python",
   "pygments_lexer": "ipython3",
   "version": "3.9.16"
  }
 },
 "nbformat": 4,
 "nbformat_minor": 2
}
