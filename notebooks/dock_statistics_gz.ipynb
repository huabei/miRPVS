{
 "cells": [
  {
   "cell_type": "markdown",
   "metadata": {},
   "source": [
    "# 统计对接后小分子的信息"
   ]
  },
  {
   "cell_type": "code",
   "execution_count": null,
   "metadata": {},
   "outputs": [],
   "source": [
    "# 设置python的工作路径\n",
    "import os\n",
    "\n",
    "os.chdir(\"/home/huabei/projects/SMTarRNA\")"
   ]
  },
  {
   "cell_type": "code",
   "execution_count": null,
   "metadata": {},
   "outputs": [],
   "source": [
    "import copy\n",
    "from collections import defaultdict\n",
    "from functools import partial\n",
    "\n",
    "import numpy as np\n",
    "import pandas as pd\n",
    "from tqdm import tqdm\n",
    "\n",
    "from utils import (\n",
    "    ZincPdbqt,\n",
    "    generate_coor,\n",
    "    get_pocket_info,\n",
    "    gz_writer,\n",
    "    ligand_pocket_position_statistics,\n",
    "    map_and_conjunction,\n",
    "    zinc_pdbqt_transform_decorator,\n",
    ")"
   ]
  },
  {
   "cell_type": "markdown",
   "metadata": {},
   "source": [
    "# Function define"
   ]
  },
  {
   "cell_type": "code",
   "execution_count": null,
   "metadata": {},
   "outputs": [],
   "source": [
    "@zinc_pdbqt_transform_decorator\n",
    "def transform(pdbqt_model):\n",
    "    return generate_coor(pdbqt_model)\n",
    "\n",
    "\n",
    "@zinc_pdbqt_transform_decorator\n",
    "def transform2(atom_list, pocket_alpha: list):\n",
    "    return ligand_pocket_position_statistics(pocket_alpha, atom_list)\n",
    "\n",
    "\n",
    "def main(dock_out_folder, fpocket_out_folder, pocket_index):\n",
    "    # 提取pocket的信息\n",
    "    pocket_dict = get_pocket_info(fpocket_out_folder)\n",
    "    # 提取对接输出目录\n",
    "    dock_conformation_sm = [\n",
    "        os.path.join(dock_out_folder, file_name)\n",
    "        for file_name in os.listdir(dock_out_folder)\n",
    "        if file_name.endswith(\".gz\")\n",
    "    ]\n",
    "\n",
    "    # 以每个分子中所有原子与最近的alpha球距离的平均值作为分子与口袋的距离\n",
    "    statis_results = []\n",
    "    for file in tqdm(dock_conformation_sm):\n",
    "        statis_results.append(\n",
    "            ZincPdbqt(\n",
    "                file,\n",
    "                transform=[transform, partial(transform2, pocket_alpha=pocket_dict[pocket_index])],\n",
    "            )\n",
    "        )\n",
    "    # results 的长度是分子的个数\n",
    "    return map_and_conjunction(list, statis_results)"
   ]
  },
  {
   "cell_type": "markdown",
   "metadata": {},
   "source": [
    "# main Function"
   ]
  },
  {
   "cell_type": "code",
   "execution_count": null,
   "metadata": {},
   "outputs": [],
   "source": [
    "if __name__ == \"__main__\":\n",
    "    # IO file\n",
    "    dock_out_folder = r\"/mnt/e/Python_Project/SMTarRNA/project/data/3a6p/100k/\"\n",
    "    fpocket_out_folder = (\n",
    "        r\"/mnt/e/Research/SM_miRNA/Data/Dock/complex/fpocket_results/3a6p_out/pockets\"\n",
    "    )\n",
    "    pocket = [\n",
    "        (\"3a6p\", 5),\n",
    "        (\"4z4c\", 1),\n",
    "        (\"4z4d\", 7),\n",
    "        (\"5zal\", 7),\n",
    "        (\"5zam\", 5),\n",
    "        (\"6cbd\", 44),\n",
    "        (\"6lxd\", 90),\n",
    "        (\"6v5b\", 19),\n",
    "    ]\n",
    "    results = main(dock_out_folder, fpocket_out_folder, 5)\n",
    "    pocket_sm = dict()\n",
    "    # for key, distance in min_distance_dict.items():\n",
    "    #     x = list()\n",
    "    #     for molecular in distance:\n",
    "    #         # m个原子的最近距离的平均值\n",
    "    #         # print(np.mean(distance))\n",
    "    #         x.append(np.mean(molecular))\n",
    "    #     pocket_sm[key] = np.where(np.array(x) < 1)[0].tolist()\n",
    "    # pocket_set = [set(pocket_sm[i+1]) for i in range(8)]\n",
    "    # total_set = set()\n",
    "    # for i in pocket_set:\n",
    "    #     total_set = total_set | i"
   ]
  },
  {
   "cell_type": "code",
   "execution_count": null,
   "metadata": {},
   "outputs": [],
   "source": [
    "len(results)"
   ]
  },
  {
   "cell_type": "code",
   "execution_count": null,
   "metadata": {},
   "outputs": [],
   "source": [
    "import matplotlib\n",
    "import matplotlib.pyplot as plt\n",
    "\n",
    "# matplotlib.use('')\n",
    "fig, ax = plt.subplots()\n",
    "distance = [i[1] for i in results]\n",
    "data = dict(x=distance)\n",
    "ax.scatter(\"x\", \"x\", data=data)\n",
    "fig.savefig(\"test.png\")"
   ]
  },
  {
   "cell_type": "code",
   "execution_count": null,
   "metadata": {},
   "outputs": [],
   "source": [
    "fig, ax = plt.subplots()\n",
    "distance = [i[1] for i in results]\n",
    "# data = dict(x=distance)\n",
    "ax.hist(distance, bins=20)\n",
    "# fig.savefig('test.png')"
   ]
  },
  {
   "cell_type": "code",
   "execution_count": null,
   "metadata": {},
   "outputs": [],
   "source": [
    "a = np.array(distance)\n",
    "r_position = np.where(a < 1)\n",
    "# r_position"
   ]
  },
  {
   "cell_type": "code",
   "execution_count": null,
   "metadata": {},
   "outputs": [],
   "source": [
    "# dock_out_folder = r'/mnt/e/Python_Project/SMTarRNA/project/data/3a6p/10k/'\n",
    "# 提取对接输出目录\n",
    "dock_conformation_sm = [\n",
    "    os.path.join(dock_out_folder, file_name)\n",
    "    for file_name in os.listdir(dock_out_folder)\n",
    "    if file_name.endswith(\".gz\")\n",
    "]\n",
    "\n",
    "# 以每个分子中所有原子与最近的alpha球距离的平均值作为分子与口袋的距离\n",
    "statis_results = []\n",
    "for file in tqdm(dock_conformation_sm):\n",
    "    statis_results.append(ZincPdbqt(file))\n",
    "total_molecular = map_and_conjunction(list, statis_results)\n",
    "# ecn = gz_writer('right_10k.pdbqt')"
   ]
  },
  {
   "cell_type": "code",
   "execution_count": null,
   "metadata": {},
   "outputs": [],
   "source": [
    "ecn = open(\"right_10k_small_pocket.pdbqt\", \"w\")\n",
    "for i in r_position[0]:\n",
    "    molecular = total_molecular[i][1]\n",
    "    ecn.writelines(\"MODEL \\n\" + molecular + \"ENDMDL\\n\")\n",
    "ecn.close()"
   ]
  },
  {
   "cell_type": "code",
   "execution_count": null,
   "metadata": {},
   "outputs": [],
   "source": [
    "with open(\"random_sample.pdbqt\", \"w\") as f:\n",
    "    for i in range(66):\n",
    "        f.writelines(\"MODEL \\n\" + total_molecular[i][1] + \"ENDMDL\\n\")"
   ]
  },
  {
   "cell_type": "code",
   "execution_count": null,
   "metadata": {},
   "outputs": [],
   "source": [
    "molecular"
   ]
  },
  {
   "cell_type": "code",
   "execution_count": null,
   "metadata": {},
   "outputs": [],
   "source": [
    "pocket_set = [set(pocket_sm[i + 1]) for i in range(8)]\n",
    "total_set = set()\n",
    "for i in pocket_set:\n",
    "    total_set = total_set | i"
   ]
  },
  {
   "cell_type": "code",
   "execution_count": null,
   "metadata": {},
   "outputs": [],
   "source": [
    "a = np.array([[1, 2, 3], [2, 3, 4]])\n",
    "b = np.array([[3, 4, 5], [4, 5, 6]])\n",
    "a = a[:, :, np.newaxis]\n",
    "b = b.T[np.newaxis, :]\n",
    "b.shape"
   ]
  },
  {
   "cell_type": "code",
   "execution_count": null,
   "metadata": {},
   "outputs": [],
   "source": [
    "import builtins\n",
    "\n",
    "dir(builtins)\n",
    "all()"
   ]
  },
  {
   "cell_type": "code",
   "execution_count": null,
   "metadata": {},
   "outputs": [],
   "source": [
    "file = \"/mnt/e/Python_Project/SMTarRNA/project/data/3a6p/100k/zinc_drug_like_3d_100k_rand_3a6p_dOthers_aH_dock_results_0-10044.pdbqt.gz\"\n",
    "\n",
    "data = ZincPdbqt(file, transform=[transform])"
   ]
  },
  {
   "cell_type": "code",
   "execution_count": null,
   "metadata": {},
   "outputs": [],
   "source": [
    "moleculars = [i for i in data]"
   ]
  },
  {
   "cell_type": "code",
   "execution_count": null,
   "metadata": {},
   "outputs": [],
   "source": [
    "atom_position = []\n",
    "for i in moleculars:\n",
    "    for t in i[1]:\n",
    "        atom_position.append(t[1:])"
   ]
  },
  {
   "cell_type": "code",
   "execution_count": null,
   "metadata": {},
   "outputs": [],
   "source": [
    "import matplotlib.pyplot as plt\n",
    "from scipy import spatial\n",
    "\n",
    "results = spatial.distance_matrix(atom_position[:100], atom_position[:100])\n",
    "fig, ax = plt.subplots()\n",
    "# data = dict(x=distance)\n",
    "ax.hist(results.reshape(-1, 1), bins=20)"
   ]
  },
  {
   "cell_type": "code",
   "execution_count": null,
   "metadata": {},
   "outputs": [],
   "source": []
  }
 ],
 "metadata": {
  "kernelspec": {
   "display_name": "Python 3.9.7 ('smtr')",
   "language": "python",
   "name": "python3"
  },
  "language_info": {
   "codemirror_mode": {
    "name": "ipython",
    "version": 3
   },
   "file_extension": ".py",
   "mimetype": "text/x-python",
   "name": "python",
   "nbconvert_exporter": "python",
   "pygments_lexer": "ipython3",
   "version": "3.9.7"
  },
  "vscode": {
   "interpreter": {
    "hash": "a75462293d05fc3e00128f4985dd13fcf50f4f5144b1474848efbcac1f09cd24"
   }
  }
 },
 "nbformat": 4,
 "nbformat_minor": 2
}
