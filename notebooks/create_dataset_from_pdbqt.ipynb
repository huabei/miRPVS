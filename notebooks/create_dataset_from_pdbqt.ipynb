{
 "cells": [
  {
   "cell_type": "markdown",
   "metadata": {},
   "source": [
    "# 构建数据集"
   ]
  },
  {
   "cell_type": "code",
   "execution_count": null,
   "metadata": {},
   "outputs": [],
   "source": [
    "# 设置python的工作路径\n",
    "import os\n",
    "\n",
    "os.chdir(\"/home/huabei/projects/SMTarRNA\")"
   ]
  },
  {
   "cell_type": "markdown",
   "metadata": {},
   "source": [
    "## 导入包"
   ]
  },
  {
   "cell_type": "code",
   "execution_count": null,
   "metadata": {},
   "outputs": [],
   "source": [
    "import pickle\n",
    "from functools import partial\n",
    "\n",
    "import pandas as pd\n",
    "from tqdm import tqdm\n",
    "\n",
    "from utils import ZincPdbqt, ele_filter, generate_coor, read_dock_score, write_data\n",
    "\n",
    "os.getcwd()"
   ]
  },
  {
   "cell_type": "markdown",
   "metadata": {},
   "source": [
    "## 从pkl文件读入对接能量分数"
   ]
  },
  {
   "cell_type": "code",
   "execution_count": null,
   "metadata": {},
   "outputs": [],
   "source": [
    "# origin_100K_data_path = 'data//100k'\n",
    "# origin_100K_data_path = 'data/3a6p/100k'\n",
    "origin_100K_data_path = \"../data/4z4d/100k_apH\"\n",
    "\n",
    "dock_score_100k = read_dock_score(origin_100K_data_path)\n",
    "# dock_score_10k = read_dock_score(origin_10K_data_path)\n",
    "score_dict = dock_score_100k\n",
    "# with open('E:/Python_Project/SMTarRNA/project/data/3a6p/3a6p_dock_origin_data/zinc_drug_like_3d_100k_dock_energy.pkl', 'rb') as f:\n",
    "#     score_dict = pickle.load(f)"
   ]
  },
  {
   "cell_type": "code",
   "execution_count": null,
   "metadata": {},
   "outputs": [],
   "source": [
    "# 存入csv\n",
    "# dataframe = pd.Series(score_dict)\n",
    "# dataframe.to_csv('drug_like_100k_energy.csv')"
   ]
  },
  {
   "cell_type": "code",
   "execution_count": null,
   "metadata": {},
   "outputs": [],
   "source": [
    "energy_d = pd.read_csv(\"../data/drug_like_100k_energy.csv\")\n",
    "smiles_d = pd.read_csv(\"../data/zinc_600m_100k_smiles.csv\")\n",
    "smiles_d.set_index(\"zinc_id\", inplace=True)\n",
    "smiles_d[\"smiles_len\"] = smiles_d[\"smiles\"].apply(lambda x: len(x), 0)\n",
    "smiles_d[\"smiles_len\"] = smiles_d[\"smiles_len\"].astype(\"int64\")"
   ]
  },
  {
   "cell_type": "code",
   "execution_count": null,
   "metadata": {},
   "outputs": [],
   "source": [
    "smiles_d_cleaned = pd.Series()\n",
    "for zinc_id in tqdm(energy_d[\"zinc_id\"]):\n",
    "    # print(zinc_id)\n",
    "    # print(smiles_d.loc[zinc_id]['smiles_len'].argmin())\n",
    "    if type(smiles_d[\"smiles\"].loc[zinc_id]) == str:\n",
    "        smiles_d_cleaned[zinc_id] = smiles_d[\"smiles\"].loc[zinc_id]\n",
    "    else:\n",
    "        smiles_d_cleaned[zinc_id] = (\n",
    "            smiles_d[\"smiles\"].loc[zinc_id].iloc[smiles_d.loc[zinc_id][\"smiles_len\"].argmin()]\n",
    "        )\n",
    "\n",
    "    # break"
   ]
  },
  {
   "cell_type": "code",
   "execution_count": null,
   "metadata": {},
   "outputs": [],
   "source": [
    "# energy_d.columns\n",
    "smiles_d_cleaned"
   ]
  },
  {
   "cell_type": "code",
   "execution_count": null,
   "metadata": {},
   "outputs": [],
   "source": [
    "# smiles_d_cleaned['energy'] = energy_d['energy']\n",
    "# energy_d.set_index('zinc_id', inplace=True)\n",
    "# out_dataframe = pd.DataFrame(data=dict(smiles=smiles_d_cleaned, energy=energy_d['energy']))\n",
    "# out_dataframe = pd.merge(left=smiles_d_cleaned, right=energy_d['energy'], )\n",
    "out_dataframe = pd.concat([smiles_d_cleaned, energy_d[\"energy\"]], axis=1)\n",
    "# energy_d['smiles'] = smiles_d_cleaned\n",
    "out_dataframe.to_csv(\"drug_like_100k_smiles_dataset.txt\", index=False)\n",
    "# smiles_d['smiles'].loc[zinc_id].iloc[smiles_d.loc[zinc_id]['smiles_len'].argmin()]"
   ]
  },
  {
   "cell_type": "markdown",
   "metadata": {},
   "source": [
    "## 读入小分子的结构"
   ]
  },
  {
   "cell_type": "code",
   "execution_count": null,
   "metadata": {},
   "outputs": [],
   "source": [
    "ligands_file_name = \"zinc/zinc_drug_like_3d_100k_rand.pdbqt.gz\"\n",
    "elements_list = [\"C\", \"H\", \"O\", \"N\", \"S\", \"P\", \"BR\", \"CL\", \"F\", \"I\"]\n",
    "transform = partial(ele_filter, elements_list=elements_list)\n",
    "ligands = ZincPdbqt(ligands_file_name, filter_=[transform])"
   ]
  },
  {
   "cell_type": "code",
   "execution_count": null,
   "metadata": {},
   "outputs": [],
   "source": [
    "len(ligands.zinc_id)\n",
    "with open(\"zinc_id.txt\", \"w\") as f:\n",
    "    f.write(\"\\n\".join(ligands.zinc_id))"
   ]
  },
  {
   "cell_type": "markdown",
   "metadata": {},
   "source": [
    "## 构建数据集"
   ]
  },
  {
   "cell_type": "code",
   "execution_count": null,
   "metadata": {},
   "outputs": [],
   "source": [
    "# ligands.zinc_id\n",
    "# print(len(ligands))\n",
    "# print(ligands.zinc_id[0])\n",
    "# score_dict[ligands.zinc_id[500]]\n",
    "# elements_list = ['C', 'H', 'O', 'N', 'S', 'P', 'BR', 'CL', 'F', 'I']\n",
    "f = open(\"4z4d_100K_rand.txt\", \"w\")\n",
    "f.write(\"e(kcalmol^-1)\\n\")\n",
    "data_dict = dict()\n",
    "for ligands_id, ligands_model in tqdm(ligands, desc=\"prepare\"):\n",
    "    if ligands_id not in list(score_dict.keys()):\n",
    "        print(f\"here wrong {ligands_id}\")\n",
    "        continue\n",
    "    data_dict[\"score\"] = score_dict[ligands_id]\n",
    "    data_dict[\"pos\"] = generate_coor(ligands_model)\n",
    "    data_dict[\"id\"] = ligands_id\n",
    "    f = write_data(f, data_dict)\n",
    "    # break\n",
    "f.close()"
   ]
  },
  {
   "cell_type": "code",
   "execution_count": null,
   "metadata": {},
   "outputs": [],
   "source": [
    "score_dict = dict()\n",
    "for i in range(102):\n",
    "    ligands_file_name = f\"/mnt/e/Python_Project/SMTarRNA/project/data/3a6p/3a6p_dock_origin_data/zinc_drug_like_3d_100k_dock_results_{i}.pdbqt.gz\"\n",
    "    ligands = ZincPdbqt(ligands_file_name)\n",
    "    score_dict.update(ligands.scores)\n",
    "    # break"
   ]
  },
  {
   "cell_type": "code",
   "execution_count": null,
   "metadata": {},
   "outputs": [],
   "source": [
    "len(score_dict.keys())"
   ]
  }
 ],
 "metadata": {
  "kernelspec": {
   "display_name": "Python 3.9.7 ('smtr')",
   "language": "python",
   "name": "python3"
  },
  "language_info": {
   "codemirror_mode": {
    "name": "ipython",
    "version": 3
   },
   "file_extension": ".py",
   "mimetype": "text/x-python",
   "name": "python",
   "nbconvert_exporter": "python",
   "pygments_lexer": "ipython3",
   "version": "3.9.7"
  },
  "vscode": {
   "interpreter": {
    "hash": "a75462293d05fc3e00128f4985dd13fcf50f4f5144b1474848efbcac1f09cd24"
   }
  }
 },
 "nbformat": 4,
 "nbformat_minor": 0
}
