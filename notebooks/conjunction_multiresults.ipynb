{
 "cells": [
  {
   "attachments": {},
   "cell_type": "markdown",
   "metadata": {},
   "source": [
    "# 分批对接结果的综合"
   ]
  },
  {
   "cell_type": "markdown",
   "metadata": {},
   "source": [
    "设置项目路径"
   ]
  },
  {
   "cell_type": "code",
   "execution_count": null,
   "metadata": {},
   "outputs": [],
   "source": [
    "# 设置工作目录\n",
    "import os\n",
    "\n",
    "os.chdir(\"/mnt/e/wsl_project_data/SMTarRNA\")\n",
    "# 设置python工作目录\n",
    "import sys\n",
    "\n",
    "sys.path.append(\"/home/huabei/projects/SMTarRNA\")"
   ]
  },
  {
   "attachments": {},
   "cell_type": "markdown",
   "metadata": {},
   "source": [
    "## 导入模块"
   ]
  },
  {
   "cell_type": "code",
   "execution_count": null,
   "metadata": {},
   "outputs": [],
   "source": [
    "import gzip\n",
    "import pickle\n",
    "\n",
    "import pandas as pd\n",
    "\n",
    "from src.dock_utils import ZincPdbqt\n",
    "\n",
    "os.listdir()"
   ]
  },
  {
   "attachments": {},
   "cell_type": "markdown",
   "metadata": {},
   "source": [
    "## 数据目录"
   ]
  },
  {
   "cell_type": "code",
   "execution_count": null,
   "metadata": {},
   "outputs": [],
   "source": [
    "data_dir = \"outputs/4z4c_1m/\""
   ]
  },
  {
   "attachments": {},
   "cell_type": "markdown",
   "metadata": {},
   "source": [
    "## 列出数据文件"
   ]
  },
  {
   "cell_type": "code",
   "execution_count": null,
   "metadata": {},
   "outputs": [],
   "source": [
    "data_files = os.listdir(data_dir)\n",
    "pkl_files = [f for f in data_files if f.endswith(\".pkl\")]\n",
    "pdbqt_gz_files = [f for f in data_files if f.endswith(\".pdbqt.gz\")]\n",
    "len(pkl_files), len(pdbqt_gz_files), pkl_files[:5], pdbqt_gz_files[:5]"
   ]
  },
  {
   "attachments": {},
   "cell_type": "markdown",
   "metadata": {},
   "source": [
    "## 拼接数据"
   ]
  },
  {
   "cell_type": "code",
   "execution_count": null,
   "metadata": {},
   "outputs": [],
   "source": [
    "total_data = dict()\n",
    "for f in pkl_files:\n",
    "    with open(os.path.join(data_dir, f), \"rb\") as f:\n",
    "        data = pickle.load(f)\n",
    "        total_data.update(data)\n",
    "print(f\"total data: {len(total_data)}\")"
   ]
  },
  {
   "cell_type": "code",
   "execution_count": null,
   "metadata": {},
   "outputs": [],
   "source": [
    "with open(os.path.join(data_dir, \"1m_total_data_dock_energy.pkl\"), \"wb\") as f:\n",
    "    pickle.dump(total_data, f)"
   ]
  },
  {
   "attachments": {},
   "cell_type": "markdown",
   "metadata": {},
   "source": [
    "## 构造hdf5数据集格式，包括两个表，一个坐标表，一个统计信息表。"
   ]
  },
  {
   "cell_type": "code",
   "execution_count": null,
   "metadata": {},
   "outputs": [],
   "source": [
    "def analyze_zinc_pdbqt_gz(pdbqt_gz_path: str):\n",
    "    \"\"\"此函数用于分析ZINC的pdbqt.gz文件，将其转换成3维坐标数据和原子在3维坐标数据中的起始和终止位置\n",
    "    input: pdbqt_gz_path: str, pdbqt.gz文件的路径\n",
    "    output: coor: pd.DataFrame, 3维坐标数据\n",
    "            index: pd.DataFrame, 每个分子中的原子在coor中的起始和终止位置\n",
    "    \"\"\"\n",
    "    coor = []\n",
    "    index = []\n",
    "    # 读取pdbqt.gz文件\n",
    "    with gzip.open(pdbqt_gz_path, \"rb\") as f:\n",
    "        t_start = 0  # 记录当前分子的原子起始位置\n",
    "        t_end = 0  # 记录当前分子的原子终止位置\n",
    "        for line in f:\n",
    "            if line.startswith(b\"ATOM\"):\n",
    "                coor.append(\n",
    "                    [\n",
    "                        str(line[12:14].strip(), \"utf-8\"),\n",
    "                        float(line[30:38]),\n",
    "                        float(line[38:46]),\n",
    "                        float(line[46:54]),\n",
    "                    ]\n",
    "                )\n",
    "                t_end += 1  # 记录已存入原子的个数\n",
    "            if line.startswith(b\"REMARK  Name = \"):  # 一个分子的起始位置\n",
    "                if t_end == 0:\n",
    "                    # 记录第一个分子的id\n",
    "                    zinc_id = str(line[15:].strip(), \"utf-8\")\n",
    "                    continue\n",
    "                index.append([zinc_id, t_start, t_end])  # 存储上一个分子的信息\n",
    "                zinc_id = str(line[15:].strip(), \"utf-8\")  # 记录当前分子的id\n",
    "                t_start = t_end  # 记录当前分子的原子起始位置\n",
    "        index.append([zinc_id, t_start, t_end])\n",
    "    return pd.DataFrame(coor, columns=[\"atom\", \"x\", \"y\", \"z\"]), pd.DataFrame(\n",
    "        index, columns=[\"zinc_id\", \"start\", \"end\"]\n",
    "    ).set_index(\"zinc_id\", drop=True)"
   ]
  },
  {
   "cell_type": "code",
   "execution_count": null,
   "metadata": {},
   "outputs": [],
   "source": [
    "# 获取训练样本的数据\n",
    "coor_df, index_df = analyze_zinc_pdbqt_gz(\n",
    "    \"ligand/zinc20_druglike_random_sample_molecule_1f600.pdbqt.gz\"\n",
    ")"
   ]
  },
  {
   "cell_type": "code",
   "execution_count": null,
   "metadata": {},
   "outputs": [],
   "source": [
    "# 根据表，添加对接能量\n",
    "# 提取最佳对接能量\n",
    "total_data_best = {k: v[0] for k, v in total_data.items()}\n",
    "len(total_data_best)"
   ]
  },
  {
   "cell_type": "code",
   "execution_count": null,
   "metadata": {},
   "outputs": [],
   "source": [
    "for zinc_id, energy in total_data_best.items():\n",
    "    # print(energy.shape)\n",
    "    assert energy.shape[0] == 5"
   ]
  },
  {
   "cell_type": "code",
   "execution_count": null,
   "metadata": {},
   "outputs": [],
   "source": [
    "# 生成最佳能量表\n",
    "total_data_best_df = pd.DataFrame.from_dict(\n",
    "    total_data_best,\n",
    "    columns=[\"total\", \"inter\", \"intra\", \"torsions\", \"intra best pose\"],\n",
    "    orient=\"index\",\n",
    ")"
   ]
  },
  {
   "cell_type": "code",
   "execution_count": null,
   "metadata": {},
   "outputs": [],
   "source": [
    "# 合并表\n",
    "total_data_best_df.index.name = \"zinc_id\"\n",
    "total_data_best_df = index_df.join(total_data_best_df, how=\"left\")\n",
    "total_data_best_df.head()"
   ]
  },
  {
   "cell_type": "code",
   "execution_count": null,
   "metadata": {},
   "outputs": [],
   "source": [
    "len(total_data_best_df)"
   ]
  },
  {
   "cell_type": "code",
   "execution_count": null,
   "metadata": {},
   "outputs": [],
   "source": [
    "# 保存为hdf5文件\n",
    "store = pd.HDFStore(\"outputs/4z4d-1m_total_data_best_df.h5\")\n",
    "store[\"label\"] = total_data_best_df\n",
    "store[\"pos\"] = coor_df\n",
    "store.close()"
   ]
  },
  {
   "cell_type": "code",
   "execution_count": null,
   "metadata": {},
   "outputs": [],
   "source": [
    "total_data_best_df.shape[0], len(total_data)  # 有重复分子"
   ]
  },
  {
   "cell_type": "code",
   "execution_count": null,
   "metadata": {},
   "outputs": [],
   "source": [
    "for i in total_data_best_df.iterrows():\n",
    "    print(i)\n",
    "    break"
   ]
  },
  {
   "cell_type": "code",
   "execution_count": null,
   "metadata": {},
   "outputs": [],
   "source": [
    "elements_dict = dict(C=0, N=1, O=2, H=3, F=4, S=5, CL=6, BR=7, I=8, SI=9, P=10)\n",
    "ele_df = pd.DataFrame.from_dict(\n",
    "    elements_dict, orient=\"index\", columns=[\"element_id\"], dtype=\"int8\"\n",
    ")"
   ]
  },
  {
   "cell_type": "code",
   "execution_count": null,
   "metadata": {},
   "outputs": [],
   "source": [
    "# coor_df['id'] = coor_df['atom'].map(ele_df['element_id'])\n",
    "# 查看重复index的行\n",
    "total_data_best_df.loc[total_data_best_df[total_data_best_df.index.duplicated()].index].head()"
   ]
  },
  {
   "attachments": {},
   "cell_type": "markdown",
   "metadata": {},
   "source": [
    "# 生成测试数据集"
   ]
  },
  {
   "cell_type": "markdown",
   "metadata": {},
   "source": []
  }
 ],
 "metadata": {
  "kernelspec": {
   "display_name": "Python 3",
   "language": "python",
   "name": "python3"
  },
  "language_info": {
   "codemirror_mode": {
    "name": "ipython",
    "version": 3
   },
   "file_extension": ".py",
   "mimetype": "text/x-python",
   "name": "python",
   "nbconvert_exporter": "python",
   "pygments_lexer": "ipython3",
   "version": "3.8.16"
  }
 },
 "nbformat": 4,
 "nbformat_minor": 2
}
