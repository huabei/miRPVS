{
 "cells": [
  {
   "cell_type": "code",
   "execution_count": null,
   "metadata": {
    "pycharm": {
     "name": "#%%\n"
    }
   },
   "outputs": [],
   "source": [
    "import gzip\n",
    "from collections import defaultdict\n",
    "\n",
    "import MDAnalysis as mda\n",
    "import rdkit\n",
    "from file_exits import ZincPdbqt\n",
    "from MDAnalysis.coordinates.PDBQT import PDBQTReader\n",
    "from MDAnalysis.topology.PDBQTParser import PDBQTParser"
   ]
  },
  {
   "cell_type": "code",
   "execution_count": null,
   "metadata": {
    "pycharm": {
     "name": "#%%\n"
    }
   },
   "outputs": [],
   "source": [
    "suppl = rdkit.Chem.SDMolSupplier(\"fda.sdf\")"
   ]
  },
  {
   "cell_type": "code",
   "execution_count": null,
   "metadata": {
    "pycharm": {
     "name": "#%%\n"
    }
   },
   "outputs": [],
   "source": [
    "def static_elements(suppl):\n",
    "    # 获取sdf文件中的分子元素统计信息\n",
    "    total_elements = list()\n",
    "    for mol in suppl:\n",
    "        atoms = mol.GetAtoms()\n",
    "        elements = [i.GetSymbol() for i in atoms]\n",
    "        total_elements.extend(elements)\n",
    "    # len(total_elements)\n",
    "    static_element = defaultdict(lambda: 0)\n",
    "    for t in total_elements:\n",
    "        static_elements[t] += 1\n",
    "    # static_elements.keys()\n",
    "    return static_element\n",
    "\n",
    "\n",
    "static_elements(suppl)"
   ]
  },
  {
   "cell_type": "code",
   "execution_count": null,
   "metadata": {
    "pycharm": {
     "name": "#%%\n"
    }
   },
   "outputs": [],
   "source": [
    "ligands_file_name = \"../zinc/zinc_drug_like_3d_100k.pdbqt.gz\"\n",
    "ligands = ZincPdbqt(ligands_file_name)"
   ]
  },
  {
   "cell_type": "code",
   "execution_count": null,
   "metadata": {
    "pycharm": {
     "name": "#%%\n"
    }
   },
   "outputs": [],
   "source": [
    "ligands.elements\n",
    "# tem = gzip.open('3a6p.pdbqt', mode='rb').read().decode()\n",
    "# pdbqt = PDBQTReader('3a6p.pdbqt')\n",
    "# pdbqt = PDBQTParser('3a6p.pdbqt')"
   ]
  },
  {
   "cell_type": "code",
   "execution_count": null,
   "metadata": {
    "pycharm": {
     "name": "#%%\n"
    }
   },
   "outputs": [],
   "source": [
    "# mda.Universe('3a6p.pdbqt', format='PDBQT')"
   ]
  }
 ],
 "metadata": {
  "kernelspec": {
   "display_name": "Python 3",
   "language": "python",
   "name": "python3"
  },
  "language_info": {
   "codemirror_mode": {
    "name": "ipython",
    "version": 2
   },
   "file_extension": ".py",
   "mimetype": "text/x-python",
   "name": "python",
   "nbconvert_exporter": "python",
   "pygments_lexer": "ipython2",
   "version": "2.7.6"
  }
 },
 "nbformat": 4,
 "nbformat_minor": 0
}
