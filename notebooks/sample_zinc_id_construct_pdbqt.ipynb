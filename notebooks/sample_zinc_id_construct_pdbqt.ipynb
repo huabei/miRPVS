{
 "cells": [
  {
   "cell_type": "markdown",
   "metadata": {},
   "source": [
    "在每个复合体的top分子中采样zinc id，根据zinc id在结构文件中找到相应的pdbqt结构，聚合后输出。"
   ]
  },
  {
   "cell_type": "code",
   "execution_count": null,
   "metadata": {},
   "outputs": [],
   "source": [
    "import os\n",
    "import sys\n",
    "\n",
    "sys.path.append(\"/home/huabei/projects/SMTarRNA\")\n",
    "os.chdir(\"/mnt/f/SMTarRNA_total_results/total_dataset_results/total_dataset_results/top_0_001\")\n",
    "\n",
    "os.listdir()"
   ]
  },
  {
   "cell_type": "markdown",
   "metadata": {},
   "source": [
    "## 读取所有top分子的pdbqt结构"
   ]
  },
  {
   "cell_type": "code",
   "execution_count": null,
   "metadata": {},
   "outputs": [],
   "source": [
    "import numpy as np\n",
    "\n",
    "from src.dock_utils.utils import ZincPdbqt, write_pdbqt_to_gz\n",
    "\n",
    "\n",
    "def read_zinc_id(file):\n",
    "    zinc_ids = np.loadtxt(file, delimiter=\",\")[:, 0].tolist()\n",
    "    zinc_ids = [int(zinc_id) for zinc_id in zinc_ids]\n",
    "    return zinc_ids"
   ]
  },
  {
   "cell_type": "code",
   "execution_count": null,
   "metadata": {},
   "outputs": [],
   "source": [
    "zinc_id_pdbqt = ZincPdbqt(\"four_complex_zinc_top_data_pdbqt.pdbqt.gz\")"
   ]
  },
  {
   "cell_type": "code",
   "execution_count": null,
   "metadata": {},
   "outputs": [],
   "source": [
    "from collections import defaultdict\n",
    "\n",
    "from tqdm import tqdm\n",
    "\n",
    "zinc_id_total = [int(z[4:]) for z in zinc_id_pdbqt.zinc_id]\n",
    "zinc_id_total_dict = dict()\n",
    "# 将zinc_id转换为索引，方便索引结构\n",
    "for i, zinc_id in tqdm(enumerate(zinc_id_total)):\n",
    "    zinc_id_total_dict[zinc_id] = i"
   ]
  },
  {
   "cell_type": "markdown",
   "metadata": {},
   "source": [
    "## 索引并采样top分子"
   ]
  },
  {
   "cell_type": "code",
   "execution_count": null,
   "metadata": {},
   "outputs": [],
   "source": [
    "# 索引top分子的zinc id\n",
    "complexes = [\"3a6p\", \"4z4d\", \"4z4c\", \"6cbd\"]\n",
    "complex_zinc_ids = [read_zinc_id(f\"{complex}_top_data.csv\") for complex in complexes]"
   ]
  },
  {
   "cell_type": "code",
   "execution_count": null,
   "metadata": {},
   "outputs": [],
   "source": [
    "results = defaultdict(list)\n",
    "for c in range(4):\n",
    "    for id in tqdm(set(complex_zinc_ids[c])):\n",
    "        results[c].append(zinc_id_pdbqt[zinc_id_total_dict[id]])"
   ]
  },
  {
   "cell_type": "code",
   "execution_count": null,
   "metadata": {},
   "outputs": [],
   "source": [
    "# 保存pdbqt.gz文件\n",
    "import random\n",
    "\n",
    "for c in range(4):\n",
    "    write_pdbqt_to_gz(random.sample(results[c], 10_000), f\"{complexes[c]}_top_data_10k.pdbqt.gz\")"
   ]
  },
  {
   "cell_type": "markdown",
   "metadata": {},
   "source": [
    "## 索引每一类的代表分子"
   ]
  },
  {
   "cell_type": "code",
   "execution_count": null,
   "metadata": {},
   "outputs": [],
   "source": [
    "# 用于索引每一类代表的分子结构\n",
    "from collections import namedtuple\n",
    "\n",
    "Cluster = namedtuple(\"Cluster\", [\"file_name\", \"zinc_ids\"])\n",
    "\n",
    "rep_file = \"../dock_interaction_analysis/cluster_representation_for_interaction_analysis.txt\"\n",
    "f = open(rep_file, \"r\")\n",
    "lines = f.read()\n",
    "f.close()\n",
    "analysis_file_content = []\n",
    "cmpx_clusters = lines.strip().split(\"\\n\\n\")\n",
    "for cluster_str in cmpx_clusters:\n",
    "    clusters = cluster_str.strip().split(\"\\n\")\n",
    "    cmpx = clusters[0]\n",
    "    for i, zinc_id_str in enumerate(clusters[1:]):\n",
    "        zinc_ids = zinc_id_str.strip().split(\" \")\n",
    "        analysis_file_content.append(Cluster(f\"{cmpx}_cluster_{i}.pdbqt.gz\", zinc_ids))\n",
    "len(analysis_file_content)"
   ]
  },
  {
   "cell_type": "code",
   "execution_count": null,
   "metadata": {},
   "outputs": [],
   "source": [
    "for c in analysis_file_content:\n",
    "    analysis_out_pdbqt_list = []\n",
    "    for id in c.zinc_ids:\n",
    "        analysis_out_pdbqt_list.append(zinc_id_pdbqt[zinc_id_total_dict[int(id[4:])]])\n",
    "    write_pdbqt_to_gz(analysis_out_pdbqt_list, c.file_name)"
   ]
  }
 ],
 "metadata": {
  "kernelspec": {
   "display_name": "hydra-pl",
   "language": "python",
   "name": "python3"
  },
  "language_info": {
   "codemirror_mode": {
    "name": "ipython",
    "version": 3
   },
   "file_extension": ".py",
   "mimetype": "text/x-python",
   "name": "python",
   "nbconvert_exporter": "python",
   "pygments_lexer": "ipython3",
   "version": "3.8.16"
  }
 },
 "nbformat": 4,
 "nbformat_minor": 2
}
