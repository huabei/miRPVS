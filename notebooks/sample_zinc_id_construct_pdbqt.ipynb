{
 "cells": [
  {
   "cell_type": "markdown",
   "metadata": {},
   "source": [
    "在每个复合体的top分子中采样zinc id，根据zinc id在结构文件中找到相应的pdbqt结构，聚合后输出。"
   ]
  },
  {
   "cell_type": "code",
   "execution_count": 1,
   "metadata": {},
   "outputs": [
    {
     "data": {
      "text/plain": [
       "['3a6p_distplot.svg',\n",
       " '3a6p_top_data.csv',\n",
       " '3a6p_top_data.np.pt',\n",
       " '3a6p_top_data_10k.pdbqt.gz',\n",
       " '3a6p_zinc_id_index.txt',\n",
       " '4z4c_distplot.svg',\n",
       " '4z4c_top_data.csv',\n",
       " '4z4c_top_data.np.pt',\n",
       " '4z4c_top_data_10k.pdbqt.gz',\n",
       " '4z4c_zinc_id_index.txt',\n",
       " '4z4d_distplot.svg',\n",
       " '4z4d_top_data.csv',\n",
       " '4z4d_top_data.np.pt',\n",
       " '4z4d_top_data_10k.pdbqt.gz',\n",
       " '4z4d_zinc_id_index.txt',\n",
       " '6cbd_distplot.svg',\n",
       " '6cbd_top_data.csv',\n",
       " '6cbd_top_data.np.pt',\n",
       " '6cbd_top_data_10k.pdbqt.gz',\n",
       " '6cbd_zinc_id_index.txt',\n",
       " 'four_complex_zinc_id_index.txt',\n",
       " 'four_complex_zinc_top_data_pdbqt.pdbqt.gz',\n",
       " 'total_zinc_id_set.pt',\n",
       " 'val']"
      ]
     },
     "execution_count": 1,
     "metadata": {},
     "output_type": "execute_result"
    }
   ],
   "source": [
    "import os\n",
    "import sys\n",
    "sys.path.append('/home/huabei/projects/SMTarRNA')\n",
    "os.chdir('/mnt/f/SMTarRNA_total_results/total_dataset_results/total_dataset_results/top_0_001')\n",
    "\n",
    "os.listdir()"
   ]
  },
  {
   "cell_type": "markdown",
   "metadata": {},
   "source": [
    "## 读取所有top分子的pdbqt结构"
   ]
  },
  {
   "cell_type": "code",
   "execution_count": 2,
   "metadata": {},
   "outputs": [],
   "source": [
    "from src.dock_utils.utils import ZincPdbqt, write_pdbqt_to_gz\n",
    "import numpy as np\n",
    "\n",
    "def read_zinc_id(file):\n",
    "    zinc_ids = np.loadtxt(file, delimiter=',')[:, 0].tolist()\n",
    "    zinc_ids = [int(zinc_id) for zinc_id in zinc_ids]\n",
    "    return zinc_ids"
   ]
  },
  {
   "cell_type": "code",
   "execution_count": 3,
   "metadata": {},
   "outputs": [],
   "source": [
    "zinc_id_pdbqt = ZincPdbqt('four_complex_zinc_top_data_pdbqt.pdbqt.gz')"
   ]
  },
  {
   "cell_type": "code",
   "execution_count": 7,
   "metadata": {},
   "outputs": [
    {
     "name": "stderr",
     "output_type": "stream",
     "text": [
      "1528094it [00:00, 4229429.91it/s]\n"
     ]
    }
   ],
   "source": [
    "from collections import defaultdict\n",
    "from tqdm import tqdm\n",
    "zinc_id_total = [int(z[4:]) for z in zinc_id_pdbqt.zinc_id]\n",
    "zinc_id_total_dict = dict()\n",
    "# 将zinc_id转换为索引，方便索引结构\n",
    "for i, zinc_id in tqdm(enumerate(zinc_id_total)):\n",
    "    zinc_id_total_dict[zinc_id] = i\n"
   ]
  },
  {
   "cell_type": "markdown",
   "metadata": {},
   "source": [
    "## 索引并采样top分子"
   ]
  },
  {
   "cell_type": "code",
   "execution_count": 17,
   "metadata": {},
   "outputs": [],
   "source": [
    "# 索引top分子的zinc id\n",
    "complexes = ['3a6p', '4z4d', '4z4c', '6cbd']\n",
    "complex_zinc_ids = [read_zinc_id(f'{complex}_top_data.csv') for complex in complexes]"
   ]
  },
  {
   "cell_type": "code",
   "execution_count": 29,
   "metadata": {},
   "outputs": [
    {
     "name": "stderr",
     "output_type": "stream",
     "text": [
      "100%|██████████| 426683/426683 [00:00<00:00, 1109249.86it/s]\n",
      "100%|██████████| 495182/495182 [00:00<00:00, 1259344.59it/s]\n",
      "100%|██████████| 502923/502923 [00:00<00:00, 1195487.14it/s]\n",
      "100%|██████████| 505528/505528 [00:00<00:00, 1149773.80it/s]\n"
     ]
    }
   ],
   "source": [
    "\n",
    "results = defaultdict(list)\n",
    "for c in range(4):\n",
    "    for id in tqdm(set(complex_zinc_ids[c])):\n",
    "        results[c].append(zinc_id_pdbqt[zinc_id_total_dict[id]])\n"
   ]
  },
  {
   "cell_type": "code",
   "execution_count": 31,
   "metadata": {},
   "outputs": [
    {
     "name": "stderr",
     "output_type": "stream",
     "text": [
      "write to gz: 100%|██████████| 10000/10000 [00:05<00:00, 1834.97it/s]\n",
      "write to gz: 100%|██████████| 10000/10000 [00:05<00:00, 1699.63it/s]\n",
      "write to gz: 100%|██████████| 10000/10000 [00:05<00:00, 1721.17it/s]\n",
      "write to gz: 100%|██████████| 10000/10000 [00:05<00:00, 1839.82it/s]\n"
     ]
    }
   ],
   "source": [
    "# 保存pdbqt.gz文件\n",
    "import random\n",
    "for c in range(4):\n",
    "    write_pdbqt_to_gz(random.sample(results[c], 10_000), f'{complexes[c]}_top_data_10k.pdbqt.gz')\n",
    "\n"
   ]
  },
  {
   "cell_type": "markdown",
   "metadata": {},
   "source": [
    "## 索引每一类的代表分子"
   ]
  },
  {
   "cell_type": "code",
   "execution_count": 11,
   "metadata": {},
   "outputs": [
    {
     "data": {
      "text/plain": [
       "40"
      ]
     },
     "execution_count": 11,
     "metadata": {},
     "output_type": "execute_result"
    }
   ],
   "source": [
    "## 用于索引每一类代表的分子结构\n",
    "from collections import namedtuple\n",
    "\n",
    "Cluster = namedtuple('Cluster', ['file_name', 'zinc_ids'])\n",
    "\n",
    "rep_file = '../dock_interaction_analysis/cluster_representation_for_interaction_analysis.txt'\n",
    "f = open(rep_file, 'r')\n",
    "lines = f.read()\n",
    "f.close()\n",
    "analysis_file_content = []\n",
    "cmpx_clusters = lines.strip().split('\\n\\n')\n",
    "for cluster_str in cmpx_clusters:\n",
    "    clusters = cluster_str.strip().split('\\n')\n",
    "    cmpx = clusters[0]\n",
    "    for i, zinc_id_str in enumerate(clusters[1:]):\n",
    "        zinc_ids = zinc_id_str.strip().split(' ')\n",
    "        analysis_file_content.append(Cluster(f'{cmpx}_cluster_{i}.pdbqt.gz', zinc_ids))\n",
    "len(analysis_file_content)"
   ]
  },
  {
   "cell_type": "code",
   "execution_count": 12,
   "metadata": {},
   "outputs": [
    {
     "name": "stderr",
     "output_type": "stream",
     "text": [
      "write to gz: 100%|██████████| 6/6 [00:00<00:00, 3146.51it/s]\n",
      "write to gz: 100%|██████████| 6/6 [00:00<00:00, 3080.65it/s]\n",
      "write to gz: 100%|██████████| 6/6 [00:00<00:00, 3631.43it/s]\n",
      "write to gz: 100%|██████████| 6/6 [00:00<00:00, 4829.37it/s]\n",
      "write to gz: 100%|██████████| 6/6 [00:00<00:00, 3205.84it/s]\n",
      "write to gz: 100%|██████████| 6/6 [00:00<00:00, 4953.90it/s]\n",
      "write to gz: 100%|██████████| 6/6 [00:00<00:00, 3032.76it/s]\n",
      "write to gz: 100%|██████████| 6/6 [00:00<00:00, 4632.03it/s]\n",
      "write to gz: 100%|██████████| 6/6 [00:00<00:00, 4621.82it/s]\n",
      "write to gz: 100%|██████████| 6/6 [00:00<00:00, 3245.53it/s]\n",
      "write to gz: 100%|██████████| 6/6 [00:00<00:00, 3081.03it/s]\n",
      "write to gz: 100%|██████████| 6/6 [00:00<00:00, 3609.56it/s]\n",
      "write to gz: 100%|██████████| 6/6 [00:00<00:00, 2977.85it/s]\n",
      "write to gz: 100%|██████████| 6/6 [00:00<00:00, 3407.69it/s]\n",
      "write to gz: 100%|██████████| 6/6 [00:00<00:00, 3378.87it/s]\n",
      "write to gz: 100%|██████████| 6/6 [00:00<00:00, 3033.12it/s]\n",
      "write to gz: 100%|██████████| 6/6 [00:00<00:00, 3335.87it/s]\n",
      "write to gz: 100%|██████████| 6/6 [00:00<00:00, 3063.03it/s]\n",
      "write to gz: 100%|██████████| 6/6 [00:00<00:00, 3152.82it/s]\n",
      "write to gz: 100%|██████████| 6/6 [00:00<00:00, 2839.43it/s]\n",
      "write to gz: 100%|██████████| 6/6 [00:00<00:00, 3054.48it/s]\n",
      "write to gz: 100%|██████████| 6/6 [00:00<00:00, 3341.19it/s]\n",
      "write to gz: 100%|██████████| 6/6 [00:00<00:00, 3402.17it/s]\n",
      "write to gz: 100%|██████████| 6/6 [00:00<00:00, 3235.10it/s]\n",
      "write to gz: 100%|██████████| 6/6 [00:00<00:00, 3596.66it/s]\n",
      "write to gz: 100%|██████████| 6/6 [00:00<00:00, 3241.77it/s]\n",
      "write to gz: 100%|██████████| 6/6 [00:00<00:00, 4871.43it/s]\n",
      "write to gz: 100%|██████████| 6/6 [00:00<00:00, 3222.26it/s]\n",
      "write to gz: 100%|██████████| 6/6 [00:00<00:00, 3424.39it/s]\n",
      "write to gz: 100%|██████████| 6/6 [00:00<00:00, 2952.00it/s]\n",
      "write to gz: 100%|██████████| 6/6 [00:00<00:00, 3178.31it/s]\n",
      "write to gz: 100%|██████████| 6/6 [00:00<00:00, 3508.41it/s]\n",
      "write to gz: 100%|██████████| 6/6 [00:00<00:00, 3051.14it/s]\n",
      "write to gz: 100%|██████████| 6/6 [00:00<00:00, 3407.23it/s]\n",
      "write to gz: 100%|██████████| 6/6 [00:00<00:00, 4992.23it/s]\n",
      "write to gz: 100%|██████████| 6/6 [00:00<00:00, 5128.56it/s]\n",
      "write to gz: 100%|██████████| 6/6 [00:00<00:00, 5030.15it/s]\n",
      "write to gz: 100%|██████████| 6/6 [00:00<00:00, 3299.57it/s]\n",
      "write to gz: 100%|██████████| 6/6 [00:00<00:00, 3537.01it/s]\n",
      "write to gz: 100%|██████████| 6/6 [00:00<00:00, 3293.96it/s]\n"
     ]
    }
   ],
   "source": [
    "\n",
    "for c in analysis_file_content:\n",
    "    analysis_out_pdbqt_list = []\n",
    "    for id in c.zinc_ids:\n",
    "        analysis_out_pdbqt_list.append(zinc_id_pdbqt[zinc_id_total_dict[int(id[4:])]])\n",
    "    write_pdbqt_to_gz(analysis_out_pdbqt_list, c.file_name)\n",
    "    "
   ]
  }
 ],
 "metadata": {
  "kernelspec": {
   "display_name": "hydra-pl",
   "language": "python",
   "name": "python3"
  },
  "language_info": {
   "codemirror_mode": {
    "name": "ipython",
    "version": 3
   },
   "file_extension": ".py",
   "mimetype": "text/x-python",
   "name": "python",
   "nbconvert_exporter": "python",
   "pygments_lexer": "ipython3",
   "version": "3.8.16"
  },
  "orig_nbformat": 4
 },
 "nbformat": 4,
 "nbformat_minor": 2
}
