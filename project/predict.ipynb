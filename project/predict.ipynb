{
 "cells": [
  {
   "cell_type": "code",
   "execution_count": 1,
   "metadata": {},
   "outputs": [],
   "source": [
    "from model import MInterface\n",
    "from data import DInterface\n"
   ]
  },
  {
   "cell_type": "code",
   "execution_count": 2,
   "metadata": {},
   "outputs": [],
   "source": [
    "model = MInterface.load_from_checkpoint('checkpoints/egnn/2023-02-26-21-17-54-best-epoch=45-val_loss=0.04.ckpt')"
   ]
  },
  {
   "cell_type": "code",
   "execution_count": 3,
   "metadata": {},
   "outputs": [
    {
     "name": "stderr",
     "output_type": "stream",
     "text": [
      "Processing...\n",
      "100%|██████████| 100446/100446 [00:15<00:00, 6625.69it/s]\n",
      "Done!\n"
     ]
    }
   ],
   "source": [
    "data = DInterface(dataset='zinc_complex3a6p_data', data_dir='data/3a6p/zinc_drug_like_100k/3a6p_pocket5_202020', batch_size=128)"
   ]
  },
  {
   "cell_type": "code",
   "execution_count": 4,
   "metadata": {},
   "outputs": [],
   "source": [
    "data.setup(stage='test')\n",
    "for batch in data.test_dataloader():\n",
    "    p, x = model.model.forward_(batch)\n",
    "    break\n"
   ]
  },
  {
   "cell_type": "code",
   "execution_count": 19,
   "metadata": {},
   "outputs": [],
   "source": [
    "\n",
    "molecule_pre = list()\n",
    "molecule_end = list()\n",
    "atoms = list()\n",
    "for i in range(128):\n",
    "    molecule_pre.append(batch.pos[batch.batch==i].detach().numpy())\n",
    "    molecule_end.append(x[batch.batch==i].detach().numpy())\n",
    "    atoms.append(batch.x[batch.batch==i].detach().numpy())"
   ]
  },
  {
   "cell_type": "code",
   "execution_count": 7,
   "metadata": {},
   "outputs": [],
   "source": [
    "import matplotlib.pyplot as plt\n",
    "import matplotlib\n",
    "from matplotlib.axes import Axes\n",
    "import numpy as np\n",
    "from torch import Tensor\n",
    "matplotlib.use('Qt5Agg')\n"
   ]
  },
  {
   "cell_type": "code",
   "execution_count": 40,
   "metadata": {},
   "outputs": [
    {
     "name": "stdout",
     "output_type": "stream",
     "text": [
      "Molecule ID: ZINC001528757027\n"
     ]
    }
   ],
   "source": [
    "elements_dict = {0: 'C', 1: 'H', 2: 'N', 3: 'O', 4: 'F', 5: 'S', 6: 'CL', 7: 'BR', 8: 'I', 9: 'P'}\n",
    "# elements_dict = {'C': 0, 'H': 1, 'N': 2, 'O': 3, 'F': 4, 'S': 5, 'CL': 6, 'BR': 7, 'I': 8, 'P': 9}\n",
    "fig = plt.figure()\n",
    "fig: plt.Figure\n",
    "ax = fig.add_subplot(projection='3d')\n",
    "ax: Axes\n",
    "t = 0\n",
    "ax.scatter(molecule_pre[t][:,0], molecule_pre[t][:,1], molecule_pre[t][:,2], c='b')\n",
    "# 加入分子的id\n",
    "molecules = batch.id.tolist()\n",
    "ax.text2D(0.05, 0.95, \"Molecule ID: ZINC{}\".format(str(molecules[t]+int(1e12))[1:]), transform=ax.transAxes)\n",
    "print(\"Molecule ID: ZINC{}\".format(str(molecules[t]+int(1e12))[1:]))\n",
    "ax.scatter(molecule_end[t][:,0], molecule_end[t][:,1], molecule_end[t][:,2], c='r')\n",
    "for i in range(molecule_pre[t].shape[0]):\n",
    "    ax.text(molecule_pre[t][i,0], molecule_pre[t][i,1], molecule_pre[t][i,2], elements_dict[atoms[t][i]], 'x')\n",
    "for i in range(molecule_end[t].shape[0]):\n",
    "    ax.plot([molecule_pre[t][i,0], molecule_end[t][i,0]], [molecule_pre[t][i,1], molecule_end[t][i,1]], [molecule_pre[t][i,2], molecule_end[t][i,2]], c='g')\n",
    "# 将对应的两个点连起来\n",
    "plt.show()"
   ]
  },
  {
   "cell_type": "code",
   "execution_count": 22,
   "outputs": [
    {
     "data": {
      "text/plain": "array([2, 1, 0, 2, 1, 3, 2, 0, 0, 0, 0, 3, 0, 0, 0, 0, 0, 0, 0, 0, 0, 0,\n       0, 0, 0, 2, 0, 0, 0, 0, 0], dtype=int64)"
     },
     "execution_count": 22,
     "metadata": {},
     "output_type": "execute_result"
    }
   ],
   "source": [
    "molecule_pre[t][:,0]\n",
    "atoms[t]"
   ],
   "metadata": {
    "collapsed": false
   }
  },
  {
   "cell_type": "code",
   "execution_count": 32,
   "outputs": [
    {
     "name": "stdout",
     "output_type": "stream",
     "text": [
      "Using matplotlib backend: Qt5Agg\n"
     ]
    },
    {
     "ename": "ValueError",
     "evalue": "operands could not be broadcast together with remapped shapes [original->remapped]: (100,)  and requested shape (2,)",
     "output_type": "error",
     "traceback": [
      "\u001B[1;31m---------------------------------------------------------------------------\u001B[0m",
      "\u001B[1;31mValueError\u001B[0m                                Traceback (most recent call last)",
      "Cell \u001B[1;32mIn[32], line 9\u001B[0m\n\u001B[0;32m      7\u001B[0m y \u001B[38;5;241m=\u001B[39m np\u001B[38;5;241m.\u001B[39msin(x)\n\u001B[0;32m      8\u001B[0m z \u001B[38;5;241m=\u001B[39m np\u001B[38;5;241m.\u001B[39mcos(x)\n\u001B[1;32m----> 9\u001B[0m \u001B[43max\u001B[49m\u001B[38;5;241;43m.\u001B[39;49m\u001B[43mplot\u001B[49m\u001B[43m(\u001B[49m\u001B[43mx\u001B[49m\u001B[43m,\u001B[49m\u001B[43m \u001B[49m\u001B[43my\u001B[49m\u001B[43m)\u001B[49m\n\u001B[0;32m     10\u001B[0m plt\u001B[38;5;241m.\u001B[39mshow()\n",
      "File \u001B[1;32mD:\\anaconda3\\envs\\pytorch112\\lib\\site-packages\\mpl_toolkits\\mplot3d\\axes3d.py:1489\u001B[0m, in \u001B[0;36mAxes3D.plot\u001B[1;34m(self, xs, ys, zdir, *args, **kwargs)\u001B[0m\n\u001B[0;32m   1487\u001B[0m lines \u001B[38;5;241m=\u001B[39m \u001B[38;5;28msuper\u001B[39m()\u001B[38;5;241m.\u001B[39mplot(xs, ys, \u001B[38;5;241m*\u001B[39margs, \u001B[38;5;241m*\u001B[39m\u001B[38;5;241m*\u001B[39mkwargs)\n\u001B[0;32m   1488\u001B[0m \u001B[38;5;28;01mfor\u001B[39;00m line \u001B[38;5;129;01min\u001B[39;00m lines:\n\u001B[1;32m-> 1489\u001B[0m     \u001B[43mart3d\u001B[49m\u001B[38;5;241;43m.\u001B[39;49m\u001B[43mline_2d_to_3d\u001B[49m\u001B[43m(\u001B[49m\u001B[43mline\u001B[49m\u001B[43m,\u001B[49m\u001B[43m \u001B[49m\u001B[43mzs\u001B[49m\u001B[38;5;241;43m=\u001B[39;49m\u001B[43mzs\u001B[49m\u001B[43m,\u001B[49m\u001B[43m \u001B[49m\u001B[43mzdir\u001B[49m\u001B[38;5;241;43m=\u001B[39;49m\u001B[43mzdir\u001B[49m\u001B[43m)\u001B[49m\n\u001B[0;32m   1491\u001B[0m xs, ys, zs \u001B[38;5;241m=\u001B[39m art3d\u001B[38;5;241m.\u001B[39mjuggle_axes(xs, ys, zs, zdir)\n\u001B[0;32m   1492\u001B[0m \u001B[38;5;28mself\u001B[39m\u001B[38;5;241m.\u001B[39mauto_scale_xyz(xs, ys, zs, had_data)\n",
      "File \u001B[1;32mD:\\anaconda3\\envs\\pytorch112\\lib\\site-packages\\mpl_toolkits\\mplot3d\\art3d.py:284\u001B[0m, in \u001B[0;36mline_2d_to_3d\u001B[1;34m(line, zs, zdir)\u001B[0m\n\u001B[0;32m    271\u001B[0m \u001B[38;5;250m\u001B[39m\u001B[38;5;124;03m\"\"\"\u001B[39;00m\n\u001B[0;32m    272\u001B[0m \u001B[38;5;124;03mConvert a `.Line2D` to a `.Line3D` object.\u001B[39;00m\n\u001B[0;32m    273\u001B[0m \n\u001B[1;32m   (...)\u001B[0m\n\u001B[0;32m    280\u001B[0m \u001B[38;5;124;03m    See `.get_dir_vector` for a description of the values.\u001B[39;00m\n\u001B[0;32m    281\u001B[0m \u001B[38;5;124;03m\"\"\"\u001B[39;00m\n\u001B[0;32m    283\u001B[0m line\u001B[38;5;241m.\u001B[39m\u001B[38;5;18m__class__\u001B[39m \u001B[38;5;241m=\u001B[39m Line3D\n\u001B[1;32m--> 284\u001B[0m \u001B[43mline\u001B[49m\u001B[38;5;241;43m.\u001B[39;49m\u001B[43mset_3d_properties\u001B[49m\u001B[43m(\u001B[49m\u001B[43mzs\u001B[49m\u001B[43m,\u001B[49m\u001B[43m \u001B[49m\u001B[43mzdir\u001B[49m\u001B[43m)\u001B[49m\n",
      "File \u001B[1;32mD:\\anaconda3\\envs\\pytorch112\\lib\\site-packages\\mpl_toolkits\\mplot3d\\art3d.py:221\u001B[0m, in \u001B[0;36mLine3D.set_3d_properties\u001B[1;34m(self, zs, zdir)\u001B[0m\n\u001B[0;32m    219\u001B[0m ys \u001B[38;5;241m=\u001B[39m \u001B[38;5;28mself\u001B[39m\u001B[38;5;241m.\u001B[39mget_ydata()\n\u001B[0;32m    220\u001B[0m zs \u001B[38;5;241m=\u001B[39m cbook\u001B[38;5;241m.\u001B[39m_to_unmasked_float_array(zs)\u001B[38;5;241m.\u001B[39mravel()\n\u001B[1;32m--> 221\u001B[0m zs \u001B[38;5;241m=\u001B[39m \u001B[43mnp\u001B[49m\u001B[38;5;241;43m.\u001B[39;49m\u001B[43mbroadcast_to\u001B[49m\u001B[43m(\u001B[49m\u001B[43mzs\u001B[49m\u001B[43m,\u001B[49m\u001B[43m \u001B[49m\u001B[38;5;28;43mlen\u001B[39;49m\u001B[43m(\u001B[49m\u001B[43mxs\u001B[49m\u001B[43m)\u001B[49m\u001B[43m)\u001B[49m\n\u001B[0;32m    222\u001B[0m \u001B[38;5;28mself\u001B[39m\u001B[38;5;241m.\u001B[39m_verts3d \u001B[38;5;241m=\u001B[39m juggle_axes(xs, ys, zs, zdir)\n\u001B[0;32m    223\u001B[0m \u001B[38;5;28mself\u001B[39m\u001B[38;5;241m.\u001B[39mstale \u001B[38;5;241m=\u001B[39m \u001B[38;5;28;01mTrue\u001B[39;00m\n",
      "File \u001B[1;32m<__array_function__ internals>:180\u001B[0m, in \u001B[0;36mbroadcast_to\u001B[1;34m(*args, **kwargs)\u001B[0m\n",
      "File \u001B[1;32mD:\\anaconda3\\envs\\pytorch112\\lib\\site-packages\\numpy\\lib\\stride_tricks.py:413\u001B[0m, in \u001B[0;36mbroadcast_to\u001B[1;34m(array, shape, subok)\u001B[0m\n\u001B[0;32m    367\u001B[0m \u001B[38;5;129m@array_function_dispatch\u001B[39m(_broadcast_to_dispatcher, module\u001B[38;5;241m=\u001B[39m\u001B[38;5;124m'\u001B[39m\u001B[38;5;124mnumpy\u001B[39m\u001B[38;5;124m'\u001B[39m)\n\u001B[0;32m    368\u001B[0m \u001B[38;5;28;01mdef\u001B[39;00m \u001B[38;5;21mbroadcast_to\u001B[39m(array, shape, subok\u001B[38;5;241m=\u001B[39m\u001B[38;5;28;01mFalse\u001B[39;00m):\n\u001B[0;32m    369\u001B[0m \u001B[38;5;250m    \u001B[39m\u001B[38;5;124;03m\"\"\"Broadcast an array to a new shape.\u001B[39;00m\n\u001B[0;32m    370\u001B[0m \n\u001B[0;32m    371\u001B[0m \u001B[38;5;124;03m    Parameters\u001B[39;00m\n\u001B[1;32m   (...)\u001B[0m\n\u001B[0;32m    411\u001B[0m \u001B[38;5;124;03m           [1, 2, 3]])\u001B[39;00m\n\u001B[0;32m    412\u001B[0m \u001B[38;5;124;03m    \"\"\"\u001B[39;00m\n\u001B[1;32m--> 413\u001B[0m     \u001B[38;5;28;01mreturn\u001B[39;00m \u001B[43m_broadcast_to\u001B[49m\u001B[43m(\u001B[49m\u001B[43marray\u001B[49m\u001B[43m,\u001B[49m\u001B[43m \u001B[49m\u001B[43mshape\u001B[49m\u001B[43m,\u001B[49m\u001B[43m \u001B[49m\u001B[43msubok\u001B[49m\u001B[38;5;241;43m=\u001B[39;49m\u001B[43msubok\u001B[49m\u001B[43m,\u001B[49m\u001B[43m \u001B[49m\u001B[43mreadonly\u001B[49m\u001B[38;5;241;43m=\u001B[39;49m\u001B[38;5;28;43;01mTrue\u001B[39;49;00m\u001B[43m)\u001B[49m\n",
      "File \u001B[1;32mD:\\anaconda3\\envs\\pytorch112\\lib\\site-packages\\numpy\\lib\\stride_tricks.py:349\u001B[0m, in \u001B[0;36m_broadcast_to\u001B[1;34m(array, shape, subok, readonly)\u001B[0m\n\u001B[0;32m    346\u001B[0m     \u001B[38;5;28;01mraise\u001B[39;00m \u001B[38;5;167;01mValueError\u001B[39;00m(\u001B[38;5;124m'\u001B[39m\u001B[38;5;124mall elements of broadcast shape must be non-\u001B[39m\u001B[38;5;124m'\u001B[39m\n\u001B[0;32m    347\u001B[0m                      \u001B[38;5;124m'\u001B[39m\u001B[38;5;124mnegative\u001B[39m\u001B[38;5;124m'\u001B[39m)\n\u001B[0;32m    348\u001B[0m extras \u001B[38;5;241m=\u001B[39m []\n\u001B[1;32m--> 349\u001B[0m it \u001B[38;5;241m=\u001B[39m \u001B[43mnp\u001B[49m\u001B[38;5;241;43m.\u001B[39;49m\u001B[43mnditer\u001B[49m\u001B[43m(\u001B[49m\n\u001B[0;32m    350\u001B[0m \u001B[43m    \u001B[49m\u001B[43m(\u001B[49m\u001B[43marray\u001B[49m\u001B[43m,\u001B[49m\u001B[43m)\u001B[49m\u001B[43m,\u001B[49m\u001B[43m \u001B[49m\u001B[43mflags\u001B[49m\u001B[38;5;241;43m=\u001B[39;49m\u001B[43m[\u001B[49m\u001B[38;5;124;43m'\u001B[39;49m\u001B[38;5;124;43mmulti_index\u001B[39;49m\u001B[38;5;124;43m'\u001B[39;49m\u001B[43m,\u001B[49m\u001B[43m \u001B[49m\u001B[38;5;124;43m'\u001B[39;49m\u001B[38;5;124;43mrefs_ok\u001B[39;49m\u001B[38;5;124;43m'\u001B[39;49m\u001B[43m,\u001B[49m\u001B[43m \u001B[49m\u001B[38;5;124;43m'\u001B[39;49m\u001B[38;5;124;43mzerosize_ok\u001B[39;49m\u001B[38;5;124;43m'\u001B[39;49m\u001B[43m]\u001B[49m\u001B[43m \u001B[49m\u001B[38;5;241;43m+\u001B[39;49m\u001B[43m \u001B[49m\u001B[43mextras\u001B[49m\u001B[43m,\u001B[49m\n\u001B[0;32m    351\u001B[0m \u001B[43m    \u001B[49m\u001B[43mop_flags\u001B[49m\u001B[38;5;241;43m=\u001B[39;49m\u001B[43m[\u001B[49m\u001B[38;5;124;43m'\u001B[39;49m\u001B[38;5;124;43mreadonly\u001B[39;49m\u001B[38;5;124;43m'\u001B[39;49m\u001B[43m]\u001B[49m\u001B[43m,\u001B[49m\u001B[43m \u001B[49m\u001B[43mitershape\u001B[49m\u001B[38;5;241;43m=\u001B[39;49m\u001B[43mshape\u001B[49m\u001B[43m,\u001B[49m\u001B[43m \u001B[49m\u001B[43morder\u001B[49m\u001B[38;5;241;43m=\u001B[39;49m\u001B[38;5;124;43m'\u001B[39;49m\u001B[38;5;124;43mC\u001B[39;49m\u001B[38;5;124;43m'\u001B[39;49m\u001B[43m)\u001B[49m\n\u001B[0;32m    352\u001B[0m \u001B[38;5;28;01mwith\u001B[39;00m it:\n\u001B[0;32m    353\u001B[0m     \u001B[38;5;66;03m# never really has writebackifcopy semantics\u001B[39;00m\n\u001B[0;32m    354\u001B[0m     broadcast \u001B[38;5;241m=\u001B[39m it\u001B[38;5;241m.\u001B[39mitviews[\u001B[38;5;241m0\u001B[39m]\n",
      "\u001B[1;31mValueError\u001B[0m: operands could not be broadcast together with remapped shapes [original->remapped]: (100,)  and requested shape (2,)"
     ]
    }
   ],
   "source": [
    "%matplotlib\n",
    "\n",
    "fig = plt.figure()\n",
    "ax = fig.add_subplot(projection='3d')\n",
    "x = np.arange(0, 10, 0.1)\n",
    "x = x.reshape(2, -1)\n",
    "y = np.sin(x)\n",
    "z = np.cos(x)\n",
    "ax.plot(x, y)\n",
    "plt.show()"
   ],
   "metadata": {
    "collapsed": false
   }
  }
 ],
 "metadata": {
  "kernelspec": {
   "display_name": "pytorch112",
   "language": "python",
   "name": "python3"
  },
  "language_info": {
   "codemirror_mode": {
    "name": "ipython",
    "version": 3
   },
   "file_extension": ".py",
   "mimetype": "text/x-python",
   "name": "python",
   "nbconvert_exporter": "python",
   "pygments_lexer": "ipython3",
   "version": "3.9.16"
  },
  "orig_nbformat": 4,
  "vscode": {
   "interpreter": {
    "hash": "3404ffa5c07468e75d419b788483d12e1584638ca41988906f0f37308bed32a4"
   }
  }
 },
 "nbformat": 4,
 "nbformat_minor": 2
}
