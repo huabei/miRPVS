{
 "cells": [
  {
   "cell_type": "code",
   "execution_count": 19,
   "metadata": {
    "pycharm": {
     "name": "#%%\n"
    }
   },
   "outputs": [],
   "source": [
    "from argparse import ArgumentParser\n",
    "from model.origgnn import MolecularGNN\n",
    "from utils.package import plot_fit_confidence_bond\n",
    "from pytorch_lightning import Trainer\n",
    "import pytorch_lightning as pl\n",
    "from collections import defaultdict\n",
    "from torch.utils.data import DataLoader\n",
    "from torch.utils.data import random_split\n",
    "import torch\n",
    "import numpy as np\n",
    "import time\n",
    "from sklearn.metrics import r2_score\n",
    "import matplotlib\n",
    "import matplotlib.pyplot as plt\n",
    "matplotlib.use('Agg')\n",
    "import random\n",
    "import math\n",
    "from multiprocessing import Pool"
   ]
  },
  {
   "cell_type": "code",
   "execution_count": 20,
   "metadata": {
    "pycharm": {
     "name": "#%%\n"
    }
   },
   "outputs": [],
   "source": [
    "# %%wandb\n",
    "def main(hparams):\n",
    "    print('start A process')\n",
    "    model_name = f'3dgnn-dim-{hparams.dim}-hlayer-{hparams.layer_hidden}-olayer-{hparams.layer_output}-' + time.strftime(\"%Y%m%d_%H%M%S\", time.localtime())\n",
    "    dict_args = vars(hparams)\n",
    "    model = MolecularGNN(**dict_args)\n",
    "    # logger\n",
    "    wandb_logger = pl.loggers.TensorBoardLogger(save_dir='log/hpc', name=model_name)\n",
    "    # callbacks\n",
    "    # early stopping\n",
    "    early_stopping = pl.callbacks.early_stopping.EarlyStopping(monitor='val_loss', patience=20, mode='min')\n",
    "    # checkpoint\n",
    "    checkpoint_callback = pl.callbacks.ModelCheckpoint(monitor='val_loss', mode='min', save_last=True,\n",
    "                                                         dirpath='checkpoints', filename=model_name)\n",
    "    if hparams.checkpoint == None:\n",
    "        trainer = Trainer.from_argparse_args(hparams, logger=wandb_logger, auto_lr_find=True, callbacks=[early_stopping, checkpoint_callback])\n",
    "    else:\n",
    "        trainer = Trainer(resume_from_checkpoint=hparams.checkpoint, callbacks=[early_stopping])\n",
    "    # trainer.tune(model)\n",
    " \n",
    "    # Train\n",
    "    trainer.fit(model)\n",
    "    # trainer.save_checkpoint(time.strftime(\"%Y%m%d_%H%M%S\", time.localtime()) + \".ckpt\")\n",
    "    trainer.test(model, dataloaders=model.val_dataloader(), verbose=False)\n",
    "    tensorboard = model.logger.experiment\n",
    "    x = np.array(model.predictions['true'])\n",
    "    y = np.array(model.predictions['pred'])\n",
    "    val_r2 = r2_score(x, y)\n",
    "    val_fig = plot_fit_confidence_bond(x, y, val_r2, annot=False)\n",
    "    \n",
    "    model.predictions = defaultdict(list)\n",
    "    trainer.test(model, dataloaders=model.train_dataloader(), verbose=False)\n",
    "    x = np.array(model.predictions['true'])\n",
    "    y = np.array(model.predictions['pred'])\n",
    "    train_r2 = r2_score(x, y)\n",
    "    train_fig = plot_fit_confidence_bond(x, y, train_r2, annot=False)\n",
    "    if True:\n",
    "        tensorboard.add_figure('train_res', train_fig)\n",
    "        tensorboard.add_figure('val_res', val_fig)\n",
    "        model.log({'val_r2': val_r2, 'train_r2':train_r2})\n",
    "\n",
    "def add_args():\n",
    "    parser = ArgumentParser()\n",
    "    parser.add_argument(\"--dim\", type=int, default=128)\n",
    "    parser.add_argument(\"--layer_hidden\",type=int, default=4)\n",
    "    parser.add_argument(\"--layer_output\",type=int, default=2)\n",
    "    parser.add_argument(\"--batch_size\",type=int, default=32)\n",
    "    parser.add_argument(\"--data_path\",type=str, default=None)\n",
    "    parser.add_argument(\"--checkpoint\",type=str, default=None)\n",
    "    return parser\n"
   ]
  },
  {
   "cell_type": "code",
   "execution_count": null,
   "metadata": {
    "pycharm": {
     "name": "#%%\n"
    }
   },
   "outputs": [],
   "source": [
    "\n",
    "if __name__ == \"__main__\":\n",
    "    \n",
    "    dataset_path = '/home/huabei/Projects/SMTarRNA/project/data/in_man_exhaustiveness_96_orig_conformation.txt'\n",
    "    # dataset_path = '/public/home/hpc192311018/Huabei/data/in-man-orig-conformation/exhaus_96/in_man_exhaustiveness_96_orig_conformation.txt'\n",
    "    checkpoint = '20220618_211314.ckpt'\n",
    "    # add model args\n",
    "    parser = add_args()\n",
    "    parser = MolecularGNN.add_model_specific_args(parent_parser=parser)\n",
    "    # add Trainer args\n",
    "    parser = Trainer.add_argparse_args(parser)\n",
    "    args = parser.parse_args(['--data_path', dataset_path, '--learning_rate', '0.0001', '--gpus=1', '--max_epochs', '1000'])\n",
    "\n",
    "    main(args)"
   ]
  },
  {
   "cell_type": "code",
   "execution_count": 30,
   "metadata": {
    "pycharm": {
     "name": "#%%\n"
    }
   },
   "outputs": [],
   "source": [
    "class ConfigGenerater():\n",
    "    def __init__(self, sweep_config: dict) -> None:\n",
    "        self.name = sweep_config['name']\n",
    "        self.method = sweep_config['method']\n",
    "        self.param_grid = sweep_config['parameters']\n",
    "\n",
    "    def get_random_value(self, conditions: dict):\n",
    "        if 'distribution' in conditions.keys():\n",
    "            min, max = conditions['min'], conditions['max']\n",
    "            if conditions['distribution'] == 'log_uniform_values':\n",
    "                value = random.uniform(math.log(min), math.log(max))\n",
    "                return math.exp(value)\n",
    "            elif conditions['distribution'] == 'int_uniform':\n",
    "                value = random.randint(min, max)\n",
    "                return value\n",
    "            elif conditions['distribution'] == 'uniform':\n",
    "                value = random.uniform(min, max)\n",
    "                return value\n",
    "            else:\n",
    "                print(f\"not surport distribution: {conditions['distribution']}\")\n",
    "        elif 'value' in conditions.keys():\n",
    "            value = conditions['value']\n",
    "            return value\n",
    "        elif 'values' in conditions.keys():\n",
    "            return random.sample(conditions['values'], 1)[0]\n",
    "        elif 'min' in conditions.keys() and 'max' in conditions.keys():\n",
    "            if type(conditions['min']) == int and type(conditions['max']) == int:\n",
    "                value = random.randint(conditions['min'], conditions['max'])\n",
    "                return value\n",
    "            else:\n",
    "                assert type(conditions['min']) == float\n",
    "                assert type(conditions['max']) == float\n",
    "                value = random.uniform(conditions['min'], conditions['max'])\n",
    "                return value\n",
    "        else:\n",
    "            raise ValueError('Unknow Conditions')\n",
    "\n",
    "    @property\n",
    "    def get_random_config(self):\n",
    "        random_params = {k: self.get_random_value(c) for k, c in self.param_grid.items()}\n",
    "        return random_params\n",
    "\n",
    "def arg_for_sweep(config: dict):\n",
    "    # prepare args\n",
    "    parser = add_args()\n",
    "    dataset_path = '/home/huabei/Projects/SMTarRNA/project/data/in_man_exhaustiveness_96_orig_conformation.txt'\n",
    "    # dataset_path = '/public/home/hpc192311018/Huabei/data/in-man-orig-conformation/exhaus_96/in_man_exhaustiveness_96_orig_conformation.txt'\n",
    "    checkpoint = '20220618_211314.ckpt'\n",
    "    # add model args\n",
    "    parser = MolecularGNN.add_model_specific_args(parent_parser=parser)\n",
    "    # add Trainer args\n",
    "    parser = Trainer.add_argparse_args(parser)\n",
    "    hyperparameter_list = ['--data_path', dataset_path, '--gpus=']\n",
    "    for key, value in config.items():\n",
    "        # print(key, value)\n",
    "        hyperparameter_list.extend(['--' + key, str(value)])\n",
    "    # print(hyperparameter_list)\n",
    "    args = parser.parse_args(hyperparameter_list)\n",
    "    # print('here is right')\n",
    "    return args\n",
    "def train(sweep_config: dict, cont: int, process=2):\n",
    "    \"\"\"process is multiprocess\"\"\"\n",
    "    config_generater = ConfigGenerater(sweep_config=sweep_config)\n",
    "    for i in range(cont):\n",
    "        print(f'start process{i}')\n",
    "        config = config_generater.get_random_config\n",
    "        print(config)\n",
    "        args = arg_for_sweep(config=config)\n",
    "        print(vars(args))\n",
    "        # main(args)"
   ]
  },
  {
   "cell_type": "code",
   "execution_count": 31,
   "metadata": {
    "pycharm": {
     "name": "#%%\n"
    }
   },
   "outputs": [],
   "source": [
    "sweep_config = {\n",
    "  \"name\" : \"sweep\",\n",
    "  \"method\" : \"random\",\n",
    "  \"parameters\": {\n",
    "    \"max_epochs\": {\n",
    "      \"value\": 2\n",
    "    },\n",
    "    \"learning_rate\": {\n",
    "      \"distribution\": \"log_uniform_values\",\n",
    "      \"min\": 0.00001,\n",
    "      \"max\": 0.001\n",
    "    },\n",
    "    \"lr_decay\": {\n",
    "      \"min\": 0.95,\n",
    "      \"max\": 0.999\n",
    "    },\n",
    "    \"dim\" : {\n",
    "      \"distribution\": \"int_uniform\",\n",
    "      \"min\": 128,\n",
    "      \"max\": 512\n",
    "    },\n",
    "    \"layer_hidden\": {\n",
    "      \"distribution\": \"int_uniform\",\n",
    "      \"min\": 8,\n",
    "      \"max\": 32\n",
    "    },\n",
    "    \"layer_output\": {\n",
    "      \"distribution\": \"int_uniform\",\n",
    "      \"min\": 8,\n",
    "      \"max\": 20\n",
    "    }\n",
    "  }\n",
    "}\n"
   ]
  },
  {
   "cell_type": "code",
   "execution_count": 32,
   "metadata": {
    "pycharm": {
     "name": "#%%\n"
    }
   },
   "outputs": [
    {
     "name": "stdout",
     "output_type": "stream",
     "text": [
      "start process0\n",
      "{'max_epochs': 2, 'learning_rate': 0.00047002102989889206, 'lr_decay': 0.9975357268787838, 'dim': 129, 'layer_hidden': 16, 'layer_output': 17}\n"
     ]
    },
    {
     "name": "stderr",
     "output_type": "stream",
     "text": [
      "usage: ipykernel_launcher.py [-h] [--dim DIM] [--layer_hidden LAYER_HIDDEN]\n",
      "                             [--layer_output LAYER_OUTPUT]\n",
      "                             [--batch_size BATCH_SIZE] [--data_path DATA_PATH]\n",
      "                             [--checkpoint CHECKPOINT]\n",
      "                             [--learning_rate LEARNING_RATE]\n",
      "                             [--lr_decay LR_DECAY] [--N_atoms N_ATOMS]\n",
      "                             [--num_workers NUM_WORKERS] [--logger [LOGGER]]\n",
      "                             [--checkpoint_callback [CHECKPOINT_CALLBACK]]\n",
      "                             [--enable_checkpointing [ENABLE_CHECKPOINTING]]\n",
      "                             [--default_root_dir DEFAULT_ROOT_DIR]\n",
      "                             [--gradient_clip_val GRADIENT_CLIP_VAL]\n",
      "                             [--gradient_clip_algorithm GRADIENT_CLIP_ALGORITHM]\n",
      "                             [--process_position PROCESS_POSITION]\n",
      "                             [--num_nodes NUM_NODES]\n",
      "                             [--num_processes NUM_PROCESSES]\n",
      "                             [--devices DEVICES] [--gpus GPUS]\n",
      "                             [--auto_select_gpus [AUTO_SELECT_GPUS]]\n",
      "                             [--tpu_cores TPU_CORES] [--ipus IPUS]\n",
      "                             [--log_gpu_memory LOG_GPU_MEMORY]\n",
      "                             [--progress_bar_refresh_rate PROGRESS_BAR_REFRESH_RATE]\n",
      "                             [--enable_progress_bar [ENABLE_PROGRESS_BAR]]\n",
      "                             [--overfit_batches OVERFIT_BATCHES]\n",
      "                             [--track_grad_norm TRACK_GRAD_NORM]\n",
      "                             [--check_val_every_n_epoch CHECK_VAL_EVERY_N_EPOCH]\n",
      "                             [--fast_dev_run [FAST_DEV_RUN]]\n",
      "                             [--accumulate_grad_batches ACCUMULATE_GRAD_BATCHES]\n",
      "                             [--max_epochs MAX_EPOCHS]\n",
      "                             [--min_epochs MIN_EPOCHS] [--max_steps MAX_STEPS]\n",
      "                             [--min_steps MIN_STEPS] [--max_time MAX_TIME]\n",
      "                             [--limit_train_batches LIMIT_TRAIN_BATCHES]\n",
      "                             [--limit_val_batches LIMIT_VAL_BATCHES]\n",
      "                             [--limit_test_batches LIMIT_TEST_BATCHES]\n",
      "                             [--limit_predict_batches LIMIT_PREDICT_BATCHES]\n",
      "                             [--val_check_interval VAL_CHECK_INTERVAL]\n",
      "                             [--flush_logs_every_n_steps FLUSH_LOGS_EVERY_N_STEPS]\n",
      "                             [--log_every_n_steps LOG_EVERY_N_STEPS]\n",
      "                             [--accelerator ACCELERATOR] [--strategy STRATEGY]\n",
      "                             [--sync_batchnorm [SYNC_BATCHNORM]]\n",
      "                             [--precision PRECISION]\n",
      "                             [--enable_model_summary [ENABLE_MODEL_SUMMARY]]\n",
      "                             [--weights_summary WEIGHTS_SUMMARY]\n",
      "                             [--weights_save_path WEIGHTS_SAVE_PATH]\n",
      "                             [--num_sanity_val_steps NUM_SANITY_VAL_STEPS]\n",
      "                             [--resume_from_checkpoint RESUME_FROM_CHECKPOINT]\n",
      "                             [--profiler PROFILER] [--benchmark [BENCHMARK]]\n",
      "                             [--deterministic [DETERMINISTIC]]\n",
      "                             [--reload_dataloaders_every_n_epochs RELOAD_DATALOADERS_EVERY_N_EPOCHS]\n",
      "                             [--auto_lr_find [AUTO_LR_FIND]]\n",
      "                             [--replace_sampler_ddp [REPLACE_SAMPLER_DDP]]\n",
      "                             [--detect_anomaly [DETECT_ANOMALY]]\n",
      "                             [--auto_scale_batch_size [AUTO_SCALE_BATCH_SIZE]]\n",
      "                             [--prepare_data_per_node [PREPARE_DATA_PER_NODE]]\n",
      "                             [--plugins PLUGINS] [--amp_backend AMP_BACKEND]\n",
      "                             [--amp_level AMP_LEVEL]\n",
      "                             [--move_metrics_to_cpu [MOVE_METRICS_TO_CPU]]\n",
      "                             [--multiple_trainloader_mode MULTIPLE_TRAINLOADER_MODE]\n",
      "                             [--stochastic_weight_avg [STOCHASTIC_WEIGHT_AVG]]\n",
      "                             [--terminate_on_nan [TERMINATE_ON_NAN]]\n",
      "ipykernel_launcher.py: error: argument --gpus: invalid _gpus_allowed_type value: '[1]'\n"
     ]
    },
    {
     "ename": "AssertionError",
     "evalue": "",
     "output_type": "error",
     "traceback": [
      "\u001B[0;31m---------------------------------------------------------------------------\u001B[0m",
      "\u001B[0;31mValueError\u001B[0m                                Traceback (most recent call last)",
      "File \u001B[0;32m~/anaconda3/envs/smtr/lib/python3.9/argparse.py:2478\u001B[0m, in \u001B[0;36mArgumentParser._get_value\u001B[0;34m(self, action, arg_string)\u001B[0m\n\u001B[1;32m   2477\u001B[0m \u001B[39mtry\u001B[39;00m:\n\u001B[0;32m-> 2478\u001B[0m     result \u001B[39m=\u001B[39m type_func(arg_string)\n\u001B[1;32m   2480\u001B[0m \u001B[39m# ArgumentTypeErrors indicate errors\u001B[39;00m\n",
      "File \u001B[0;32m~/anaconda3/envs/smtr/lib/python3.9/site-packages/pytorch_lightning/utilities/argparse.py:303\u001B[0m, in \u001B[0;36m_gpus_allowed_type\u001B[0;34m(x)\u001B[0m\n\u001B[1;32m    302\u001B[0m     \u001B[39mreturn\u001B[39;00m \u001B[39mstr\u001B[39m(x)\n\u001B[0;32m--> 303\u001B[0m \u001B[39mreturn\u001B[39;00m \u001B[39mint\u001B[39;49m(x)\n",
      "\u001B[0;31mValueError\u001B[0m: invalid literal for int() with base 10: '[1]'",
      "\nDuring handling of the above exception, another exception occurred:\n",
      "\u001B[0;31mArgumentError\u001B[0m                             Traceback (most recent call last)",
      "File \u001B[0;32m~/anaconda3/envs/smtr/lib/python3.9/argparse.py:1853\u001B[0m, in \u001B[0;36mArgumentParser.parse_known_args\u001B[0;34m(self, args, namespace)\u001B[0m\n\u001B[1;32m   1852\u001B[0m \u001B[39mtry\u001B[39;00m:\n\u001B[0;32m-> 1853\u001B[0m     namespace, args \u001B[39m=\u001B[39m \u001B[39mself\u001B[39;49m\u001B[39m.\u001B[39;49m_parse_known_args(args, namespace)\n\u001B[1;32m   1854\u001B[0m \u001B[39mexcept\u001B[39;00m ArgumentError:\n",
      "File \u001B[0;32m~/anaconda3/envs/smtr/lib/python3.9/argparse.py:2062\u001B[0m, in \u001B[0;36mArgumentParser._parse_known_args\u001B[0;34m(self, arg_strings, namespace)\u001B[0m\n\u001B[1;32m   2061\u001B[0m     \u001B[39m# consume the next optional and any arguments for it\u001B[39;00m\n\u001B[0;32m-> 2062\u001B[0m     start_index \u001B[39m=\u001B[39m consume_optional(start_index)\n\u001B[1;32m   2064\u001B[0m \u001B[39m# consume any positionals following the last Optional\u001B[39;00m\n",
      "File \u001B[0;32m~/anaconda3/envs/smtr/lib/python3.9/argparse.py:2002\u001B[0m, in \u001B[0;36mArgumentParser._parse_known_args.<locals>.consume_optional\u001B[0;34m(start_index)\u001B[0m\n\u001B[1;32m   2001\u001B[0m \u001B[39mfor\u001B[39;00m action, args, option_string \u001B[39min\u001B[39;00m action_tuples:\n\u001B[0;32m-> 2002\u001B[0m     take_action(action, args, option_string)\n\u001B[1;32m   2003\u001B[0m \u001B[39mreturn\u001B[39;00m stop\n",
      "File \u001B[0;32m~/anaconda3/envs/smtr/lib/python3.9/argparse.py:1914\u001B[0m, in \u001B[0;36mArgumentParser._parse_known_args.<locals>.take_action\u001B[0;34m(action, argument_strings, option_string)\u001B[0m\n\u001B[1;32m   1913\u001B[0m seen_actions\u001B[39m.\u001B[39madd(action)\n\u001B[0;32m-> 1914\u001B[0m argument_values \u001B[39m=\u001B[39m \u001B[39mself\u001B[39;49m\u001B[39m.\u001B[39;49m_get_values(action, argument_strings)\n\u001B[1;32m   1916\u001B[0m \u001B[39m# error if this argument is not allowed with other previously\u001B[39;00m\n\u001B[1;32m   1917\u001B[0m \u001B[39m# seen arguments, assuming that actions that use the default\u001B[39;00m\n\u001B[1;32m   1918\u001B[0m \u001B[39m# value don't really count as \"present\"\u001B[39;00m\n",
      "File \u001B[0;32m~/anaconda3/envs/smtr/lib/python3.9/argparse.py:2445\u001B[0m, in \u001B[0;36mArgumentParser._get_values\u001B[0;34m(self, action, arg_strings)\u001B[0m\n\u001B[1;32m   2444\u001B[0m arg_string, \u001B[39m=\u001B[39m arg_strings\n\u001B[0;32m-> 2445\u001B[0m value \u001B[39m=\u001B[39m \u001B[39mself\u001B[39;49m\u001B[39m.\u001B[39;49m_get_value(action, arg_string)\n\u001B[1;32m   2446\u001B[0m \u001B[39mself\u001B[39m\u001B[39m.\u001B[39m_check_value(action, value)\n",
      "File \u001B[0;32m~/anaconda3/envs/smtr/lib/python3.9/argparse.py:2491\u001B[0m, in \u001B[0;36mArgumentParser._get_value\u001B[0;34m(self, action, arg_string)\u001B[0m\n\u001B[1;32m   2490\u001B[0m     msg \u001B[39m=\u001B[39m _(\u001B[39m'\u001B[39m\u001B[39minvalid \u001B[39m\u001B[39m%(type)s\u001B[39;00m\u001B[39m value: \u001B[39m\u001B[39m%(value)r\u001B[39;00m\u001B[39m'\u001B[39m)\n\u001B[0;32m-> 2491\u001B[0m     \u001B[39mraise\u001B[39;00m ArgumentError(action, msg \u001B[39m%\u001B[39m args)\n\u001B[1;32m   2493\u001B[0m \u001B[39m# return the converted value\u001B[39;00m\n",
      "\u001B[0;31mArgumentError\u001B[0m: argument --gpus: invalid _gpus_allowed_type value: '[1]'",
      "\nDuring handling of the above exception, another exception occurred:\n",
      "\u001B[0;31mSystemExit\u001B[0m                                Traceback (most recent call last)",
      "    \u001B[0;31m[... skipping hidden 1 frame]\u001B[0m\n",
      "\u001B[1;32m/home/huabei/Projects/SMTarRNA/project/hpc_origgnn.ipynb Cell 6'\u001B[0m in \u001B[0;36m<cell line: 2>\u001B[0;34m()\u001B[0m\n\u001B[1;32m      <a href='vscode-notebook-cell://wsl%2Bubuntu/home/huabei/Projects/SMTarRNA/project/hpc_origgnn.ipynb#ch0000005vscode-remote?line=0'>1</a>\u001B[0m \u001B[39mimport\u001B[39;00m \u001B[39mmath\u001B[39;00m\n\u001B[0;32m----> <a href='vscode-notebook-cell://wsl%2Bubuntu/home/huabei/Projects/SMTarRNA/project/hpc_origgnn.ipynb#ch0000005vscode-remote?line=1'>2</a>\u001B[0m train(sweep_config, \u001B[39m10\u001B[39;49m, process\u001B[39m=\u001B[39;49m\u001B[39m2\u001B[39;49m)\n",
      "\u001B[1;32m/home/huabei/Projects/SMTarRNA/project/hpc_origgnn.ipynb Cell 4'\u001B[0m in \u001B[0;36mtrain\u001B[0;34m(sweep_config, cont, process)\u001B[0m\n\u001B[1;32m     <a href='vscode-notebook-cell://wsl%2Bubuntu/home/huabei/Projects/SMTarRNA/project/hpc_origgnn.ipynb#ch0000003vscode-remote?line=66'>67</a>\u001B[0m \u001B[39mprint\u001B[39m(config)\n\u001B[0;32m---> <a href='vscode-notebook-cell://wsl%2Bubuntu/home/huabei/Projects/SMTarRNA/project/hpc_origgnn.ipynb#ch0000003vscode-remote?line=67'>68</a>\u001B[0m args \u001B[39m=\u001B[39m arg_for_sweep(config\u001B[39m=\u001B[39;49mconfig)\n\u001B[1;32m     <a href='vscode-notebook-cell://wsl%2Bubuntu/home/huabei/Projects/SMTarRNA/project/hpc_origgnn.ipynb#ch0000003vscode-remote?line=68'>69</a>\u001B[0m \u001B[39mprint\u001B[39m(\u001B[39mvars\u001B[39m(args))\n",
      "\u001B[1;32m/home/huabei/Projects/SMTarRNA/project/hpc_origgnn.ipynb Cell 4'\u001B[0m in \u001B[0;36marg_for_sweep\u001B[0;34m(config)\u001B[0m\n\u001B[1;32m     <a href='vscode-notebook-cell://wsl%2Bubuntu/home/huabei/Projects/SMTarRNA/project/hpc_origgnn.ipynb#ch0000003vscode-remote?line=56'>57</a>\u001B[0m \u001B[39m# print(hyperparameter_list)\u001B[39;00m\n\u001B[0;32m---> <a href='vscode-notebook-cell://wsl%2Bubuntu/home/huabei/Projects/SMTarRNA/project/hpc_origgnn.ipynb#ch0000003vscode-remote?line=57'>58</a>\u001B[0m args \u001B[39m=\u001B[39m parser\u001B[39m.\u001B[39;49mparse_args(hyperparameter_list)\n\u001B[1;32m     <a href='vscode-notebook-cell://wsl%2Bubuntu/home/huabei/Projects/SMTarRNA/project/hpc_origgnn.ipynb#ch0000003vscode-remote?line=58'>59</a>\u001B[0m \u001B[39m# print('here is right')\u001B[39;00m\n",
      "File \u001B[0;32m~/anaconda3/envs/smtr/lib/python3.9/argparse.py:1820\u001B[0m, in \u001B[0;36mArgumentParser.parse_args\u001B[0;34m(self, args, namespace)\u001B[0m\n\u001B[1;32m   1819\u001B[0m \u001B[39mdef\u001B[39;00m \u001B[39mparse_args\u001B[39m(\u001B[39mself\u001B[39m, args\u001B[39m=\u001B[39m\u001B[39mNone\u001B[39;00m, namespace\u001B[39m=\u001B[39m\u001B[39mNone\u001B[39;00m):\n\u001B[0;32m-> 1820\u001B[0m     args, argv \u001B[39m=\u001B[39m \u001B[39mself\u001B[39;49m\u001B[39m.\u001B[39;49mparse_known_args(args, namespace)\n\u001B[1;32m   1821\u001B[0m     \u001B[39mif\u001B[39;00m argv:\n",
      "File \u001B[0;32m~/anaconda3/envs/smtr/lib/python3.9/argparse.py:1856\u001B[0m, in \u001B[0;36mArgumentParser.parse_known_args\u001B[0;34m(self, args, namespace)\u001B[0m\n\u001B[1;32m   1855\u001B[0m         err \u001B[39m=\u001B[39m _sys\u001B[39m.\u001B[39mexc_info()[\u001B[39m1\u001B[39m]\n\u001B[0;32m-> 1856\u001B[0m         \u001B[39mself\u001B[39;49m\u001B[39m.\u001B[39;49merror(\u001B[39mstr\u001B[39;49m(err))\n\u001B[1;32m   1857\u001B[0m \u001B[39melse\u001B[39;00m:\n",
      "File \u001B[0;32m~/anaconda3/envs/smtr/lib/python3.9/argparse.py:2577\u001B[0m, in \u001B[0;36mArgumentParser.error\u001B[0;34m(self, message)\u001B[0m\n\u001B[1;32m   2576\u001B[0m args \u001B[39m=\u001B[39m {\u001B[39m'\u001B[39m\u001B[39mprog\u001B[39m\u001B[39m'\u001B[39m: \u001B[39mself\u001B[39m\u001B[39m.\u001B[39mprog, \u001B[39m'\u001B[39m\u001B[39mmessage\u001B[39m\u001B[39m'\u001B[39m: message}\n\u001B[0;32m-> 2577\u001B[0m \u001B[39mself\u001B[39;49m\u001B[39m.\u001B[39;49mexit(\u001B[39m2\u001B[39;49m, _(\u001B[39m'\u001B[39;49m\u001B[39m%(prog)s\u001B[39;49;00m\u001B[39m: error: \u001B[39;49m\u001B[39m%(message)s\u001B[39;49;00m\u001B[39m\\n\u001B[39;49;00m\u001B[39m'\u001B[39;49m) \u001B[39m%\u001B[39;49m args)\n",
      "File \u001B[0;32m~/anaconda3/envs/smtr/lib/python3.9/argparse.py:2564\u001B[0m, in \u001B[0;36mArgumentParser.exit\u001B[0;34m(self, status, message)\u001B[0m\n\u001B[1;32m   2563\u001B[0m     \u001B[39mself\u001B[39m\u001B[39m.\u001B[39m_print_message(message, _sys\u001B[39m.\u001B[39mstderr)\n\u001B[0;32m-> 2564\u001B[0m _sys\u001B[39m.\u001B[39;49mexit(status)\n",
      "\u001B[0;31mSystemExit\u001B[0m: 2",
      "\nDuring handling of the above exception, another exception occurred:\n",
      "\u001B[0;31mAssertionError\u001B[0m                            Traceback (most recent call last)",
      "    \u001B[0;31m[... skipping hidden 1 frame]\u001B[0m\n",
      "File \u001B[0;32m~/anaconda3/envs/smtr/lib/python3.9/site-packages/IPython/core/interactiveshell.py:1982\u001B[0m, in \u001B[0;36mInteractiveShell.showtraceback\u001B[0;34m(self, exc_tuple, filename, tb_offset, exception_only, running_compiled_code)\u001B[0m\n\u001B[1;32m   1979\u001B[0m \u001B[39mif\u001B[39;00m exception_only:\n\u001B[1;32m   1980\u001B[0m     stb \u001B[39m=\u001B[39m [\u001B[39m'\u001B[39m\u001B[39mAn exception has occurred, use \u001B[39m\u001B[39m%\u001B[39m\u001B[39mtb to see \u001B[39m\u001B[39m'\u001B[39m\n\u001B[1;32m   1981\u001B[0m            \u001B[39m'\u001B[39m\u001B[39mthe full traceback.\u001B[39m\u001B[39m\\n\u001B[39;00m\u001B[39m'\u001B[39m]\n\u001B[0;32m-> 1982\u001B[0m     stb\u001B[39m.\u001B[39mextend(\u001B[39mself\u001B[39;49m\u001B[39m.\u001B[39;49mInteractiveTB\u001B[39m.\u001B[39;49mget_exception_only(etype,\n\u001B[1;32m   1983\u001B[0m                                                      value))\n\u001B[1;32m   1984\u001B[0m \u001B[39melse\u001B[39;00m:\n\u001B[1;32m   1985\u001B[0m     \u001B[39mtry\u001B[39;00m:\n\u001B[1;32m   1986\u001B[0m         \u001B[39m# Exception classes can customise their traceback - we\u001B[39;00m\n\u001B[1;32m   1987\u001B[0m         \u001B[39m# use this in IPython.parallel for exceptions occurring\u001B[39;00m\n\u001B[1;32m   1988\u001B[0m         \u001B[39m# in the engines. This should return a list of strings.\u001B[39;00m\n",
      "File \u001B[0;32m~/anaconda3/envs/smtr/lib/python3.9/site-packages/IPython/core/ultratb.py:585\u001B[0m, in \u001B[0;36mListTB.get_exception_only\u001B[0;34m(self, etype, value)\u001B[0m\n\u001B[1;32m    577\u001B[0m \u001B[39mdef\u001B[39;00m \u001B[39mget_exception_only\u001B[39m(\u001B[39mself\u001B[39m, etype, value):\n\u001B[1;32m    578\u001B[0m     \u001B[39m\"\"\"Only print the exception type and message, without a traceback.\u001B[39;00m\n\u001B[1;32m    579\u001B[0m \n\u001B[1;32m    580\u001B[0m \u001B[39m    Parameters\u001B[39;00m\n\u001B[0;32m   (...)\u001B[0m\n\u001B[1;32m    583\u001B[0m \u001B[39m    value : exception value\u001B[39;00m\n\u001B[1;32m    584\u001B[0m \u001B[39m    \"\"\"\u001B[39;00m\n\u001B[0;32m--> 585\u001B[0m     \u001B[39mreturn\u001B[39;00m ListTB\u001B[39m.\u001B[39;49mstructured_traceback(\u001B[39mself\u001B[39;49m, etype, value)\n",
      "File \u001B[0;32m~/anaconda3/envs/smtr/lib/python3.9/site-packages/IPython/core/ultratb.py:443\u001B[0m, in \u001B[0;36mListTB.structured_traceback\u001B[0;34m(self, etype, evalue, etb, tb_offset, context)\u001B[0m\n\u001B[1;32m    440\u001B[0m     chained_exc_ids\u001B[39m.\u001B[39madd(\u001B[39mid\u001B[39m(exception[\u001B[39m1\u001B[39m]))\n\u001B[1;32m    441\u001B[0m     chained_exceptions_tb_offset \u001B[39m=\u001B[39m \u001B[39m0\u001B[39m\n\u001B[1;32m    442\u001B[0m     out_list \u001B[39m=\u001B[39m (\n\u001B[0;32m--> 443\u001B[0m         \u001B[39mself\u001B[39;49m\u001B[39m.\u001B[39;49mstructured_traceback(\n\u001B[1;32m    444\u001B[0m             etype, evalue, (etb, chained_exc_ids),\n\u001B[1;32m    445\u001B[0m             chained_exceptions_tb_offset, context)\n\u001B[1;32m    446\u001B[0m         \u001B[39m+\u001B[39m chained_exception_message\n\u001B[1;32m    447\u001B[0m         \u001B[39m+\u001B[39m out_list)\n\u001B[1;32m    449\u001B[0m \u001B[39mreturn\u001B[39;00m out_list\n",
      "File \u001B[0;32m~/anaconda3/envs/smtr/lib/python3.9/site-packages/IPython/core/ultratb.py:1118\u001B[0m, in \u001B[0;36mAutoFormattedTB.structured_traceback\u001B[0;34m(self, etype, value, tb, tb_offset, number_of_lines_of_context)\u001B[0m\n\u001B[1;32m   1116\u001B[0m \u001B[39melse\u001B[39;00m:\n\u001B[1;32m   1117\u001B[0m     \u001B[39mself\u001B[39m\u001B[39m.\u001B[39mtb \u001B[39m=\u001B[39m tb\n\u001B[0;32m-> 1118\u001B[0m \u001B[39mreturn\u001B[39;00m FormattedTB\u001B[39m.\u001B[39;49mstructured_traceback(\n\u001B[1;32m   1119\u001B[0m     \u001B[39mself\u001B[39;49m, etype, value, tb, tb_offset, number_of_lines_of_context)\n",
      "File \u001B[0;32m~/anaconda3/envs/smtr/lib/python3.9/site-packages/IPython/core/ultratb.py:1012\u001B[0m, in \u001B[0;36mFormattedTB.structured_traceback\u001B[0;34m(self, etype, value, tb, tb_offset, number_of_lines_of_context)\u001B[0m\n\u001B[1;32m   1009\u001B[0m mode \u001B[39m=\u001B[39m \u001B[39mself\u001B[39m\u001B[39m.\u001B[39mmode\n\u001B[1;32m   1010\u001B[0m \u001B[39mif\u001B[39;00m mode \u001B[39min\u001B[39;00m \u001B[39mself\u001B[39m\u001B[39m.\u001B[39mverbose_modes:\n\u001B[1;32m   1011\u001B[0m     \u001B[39m# Verbose modes need a full traceback\u001B[39;00m\n\u001B[0;32m-> 1012\u001B[0m     \u001B[39mreturn\u001B[39;00m VerboseTB\u001B[39m.\u001B[39;49mstructured_traceback(\n\u001B[1;32m   1013\u001B[0m         \u001B[39mself\u001B[39;49m, etype, value, tb, tb_offset, number_of_lines_of_context\n\u001B[1;32m   1014\u001B[0m     )\n\u001B[1;32m   1015\u001B[0m \u001B[39melif\u001B[39;00m mode \u001B[39m==\u001B[39m \u001B[39m'\u001B[39m\u001B[39mMinimal\u001B[39m\u001B[39m'\u001B[39m:\n\u001B[1;32m   1016\u001B[0m     \u001B[39mreturn\u001B[39;00m ListTB\u001B[39m.\u001B[39mget_exception_only(\u001B[39mself\u001B[39m, etype, value)\n",
      "File \u001B[0;32m~/anaconda3/envs/smtr/lib/python3.9/site-packages/IPython/core/ultratb.py:865\u001B[0m, in \u001B[0;36mVerboseTB.structured_traceback\u001B[0;34m(self, etype, evalue, etb, tb_offset, number_of_lines_of_context)\u001B[0m\n\u001B[1;32m    856\u001B[0m \u001B[39mdef\u001B[39;00m \u001B[39mstructured_traceback\u001B[39m(\n\u001B[1;32m    857\u001B[0m     \u001B[39mself\u001B[39m,\n\u001B[1;32m    858\u001B[0m     etype: \u001B[39mtype\u001B[39m,\n\u001B[0;32m   (...)\u001B[0m\n\u001B[1;32m    862\u001B[0m     number_of_lines_of_context: \u001B[39mint\u001B[39m \u001B[39m=\u001B[39m \u001B[39m5\u001B[39m,\n\u001B[1;32m    863\u001B[0m ):\n\u001B[1;32m    864\u001B[0m     \u001B[39m\"\"\"Return a nice text document describing the traceback.\"\"\"\u001B[39;00m\n\u001B[0;32m--> 865\u001B[0m     formatted_exception \u001B[39m=\u001B[39m \u001B[39mself\u001B[39;49m\u001B[39m.\u001B[39;49mformat_exception_as_a_whole(etype, evalue, etb, number_of_lines_of_context,\n\u001B[1;32m    866\u001B[0m                                                            tb_offset)\n\u001B[1;32m    868\u001B[0m     colors \u001B[39m=\u001B[39m \u001B[39mself\u001B[39m\u001B[39m.\u001B[39mColors  \u001B[39m# just a shorthand + quicker name lookup\u001B[39;00m\n\u001B[1;32m    869\u001B[0m     colorsnormal \u001B[39m=\u001B[39m colors\u001B[39m.\u001B[39mNormal  \u001B[39m# used a lot\u001B[39;00m\n",
      "File \u001B[0;32m~/anaconda3/envs/smtr/lib/python3.9/site-packages/IPython/core/ultratb.py:799\u001B[0m, in \u001B[0;36mVerboseTB.format_exception_as_a_whole\u001B[0;34m(self, etype, evalue, etb, number_of_lines_of_context, tb_offset)\u001B[0m\n\u001B[1;32m    796\u001B[0m \u001B[39massert\u001B[39;00m \u001B[39misinstance\u001B[39m(tb_offset, \u001B[39mint\u001B[39m)\n\u001B[1;32m    797\u001B[0m head \u001B[39m=\u001B[39m \u001B[39mself\u001B[39m\u001B[39m.\u001B[39mprepare_header(etype, \u001B[39mself\u001B[39m\u001B[39m.\u001B[39mlong_header)\n\u001B[1;32m    798\u001B[0m records \u001B[39m=\u001B[39m (\n\u001B[0;32m--> 799\u001B[0m     \u001B[39mself\u001B[39;49m\u001B[39m.\u001B[39;49mget_records(etb, number_of_lines_of_context, tb_offset) \u001B[39mif\u001B[39;00m etb \u001B[39melse\u001B[39;00m []\n\u001B[1;32m    800\u001B[0m )\n\u001B[1;32m    802\u001B[0m frames \u001B[39m=\u001B[39m []\n\u001B[1;32m    803\u001B[0m skipped \u001B[39m=\u001B[39m \u001B[39m0\u001B[39m\n",
      "File \u001B[0;32m~/anaconda3/envs/smtr/lib/python3.9/site-packages/IPython/core/ultratb.py:854\u001B[0m, in \u001B[0;36mVerboseTB.get_records\u001B[0;34m(self, etb, number_of_lines_of_context, tb_offset)\u001B[0m\n\u001B[1;32m    848\u001B[0m     formatter \u001B[39m=\u001B[39m \u001B[39mNone\u001B[39;00m\n\u001B[1;32m    849\u001B[0m options \u001B[39m=\u001B[39m stack_data\u001B[39m.\u001B[39mOptions(\n\u001B[1;32m    850\u001B[0m     before\u001B[39m=\u001B[39mbefore,\n\u001B[1;32m    851\u001B[0m     after\u001B[39m=\u001B[39mafter,\n\u001B[1;32m    852\u001B[0m     pygments_formatter\u001B[39m=\u001B[39mformatter,\n\u001B[1;32m    853\u001B[0m )\n\u001B[0;32m--> 854\u001B[0m \u001B[39mreturn\u001B[39;00m \u001B[39mlist\u001B[39;49m(stack_data\u001B[39m.\u001B[39;49mFrameInfo\u001B[39m.\u001B[39;49mstack_data(etb, options\u001B[39m=\u001B[39;49moptions))[tb_offset:]\n",
      "File \u001B[0;32m~/anaconda3/envs/smtr/lib/python3.9/site-packages/stack_data/core.py:546\u001B[0m, in \u001B[0;36mFrameInfo.stack_data\u001B[0;34m(cls, frame_or_tb, options, collapse_repeated_frames)\u001B[0m\n\u001B[1;32m    530\u001B[0m \u001B[39m@classmethod\u001B[39m\n\u001B[1;32m    531\u001B[0m \u001B[39mdef\u001B[39;00m \u001B[39mstack_data\u001B[39m(\n\u001B[1;32m    532\u001B[0m         \u001B[39mcls\u001B[39m,\n\u001B[0;32m   (...)\u001B[0m\n\u001B[1;32m    536\u001B[0m         collapse_repeated_frames: \u001B[39mbool\u001B[39m \u001B[39m=\u001B[39m \u001B[39mTrue\u001B[39;00m\n\u001B[1;32m    537\u001B[0m ) \u001B[39m-\u001B[39m\u001B[39m>\u001B[39m Iterator[Union[\u001B[39m'\u001B[39m\u001B[39mFrameInfo\u001B[39m\u001B[39m'\u001B[39m, RepeatedFrames]]:\n\u001B[1;32m    538\u001B[0m     \u001B[39m\"\"\"\u001B[39;00m\n\u001B[1;32m    539\u001B[0m \u001B[39m    An iterator of FrameInfo and RepeatedFrames objects representing\u001B[39;00m\n\u001B[1;32m    540\u001B[0m \u001B[39m    a full traceback or stack. Similar consecutive frames are collapsed into RepeatedFrames\u001B[39;00m\n\u001B[0;32m   (...)\u001B[0m\n\u001B[1;32m    544\u001B[0m \u001B[39m    and optionally an Options object to configure.\u001B[39;00m\n\u001B[1;32m    545\u001B[0m \u001B[39m    \"\"\"\u001B[39;00m\n\u001B[0;32m--> 546\u001B[0m     stack \u001B[39m=\u001B[39m \u001B[39mlist\u001B[39;49m(iter_stack(frame_or_tb))\n\u001B[1;32m    548\u001B[0m     \u001B[39m# Reverse the stack from a frame so that it's in the same order\u001B[39;00m\n\u001B[1;32m    549\u001B[0m     \u001B[39m# as the order from a traceback, which is the order of a printed\u001B[39;00m\n\u001B[1;32m    550\u001B[0m     \u001B[39m# traceback when read top to bottom (most recent call last)\u001B[39;00m\n\u001B[1;32m    551\u001B[0m     \u001B[39mif\u001B[39;00m is_frame(frame_or_tb):\n",
      "File \u001B[0;32m~/anaconda3/envs/smtr/lib/python3.9/site-packages/stack_data/utils.py:98\u001B[0m, in \u001B[0;36miter_stack\u001B[0;34m(frame_or_tb)\u001B[0m\n\u001B[1;32m     96\u001B[0m \u001B[39mwhile\u001B[39;00m frame_or_tb:\n\u001B[1;32m     97\u001B[0m     \u001B[39myield\u001B[39;00m frame_or_tb\n\u001B[0;32m---> 98\u001B[0m     \u001B[39mif\u001B[39;00m is_frame(frame_or_tb):\n\u001B[1;32m     99\u001B[0m         frame_or_tb \u001B[39m=\u001B[39m frame_or_tb\u001B[39m.\u001B[39mf_back\n\u001B[1;32m    100\u001B[0m     \u001B[39melse\u001B[39;00m:\n",
      "File \u001B[0;32m~/anaconda3/envs/smtr/lib/python3.9/site-packages/stack_data/utils.py:91\u001B[0m, in \u001B[0;36mis_frame\u001B[0;34m(frame_or_tb)\u001B[0m\n\u001B[1;32m     90\u001B[0m \u001B[39mdef\u001B[39;00m \u001B[39mis_frame\u001B[39m(frame_or_tb: Union[FrameType, TracebackType]) \u001B[39m-\u001B[39m\u001B[39m>\u001B[39m \u001B[39mbool\u001B[39m:\n\u001B[0;32m---> 91\u001B[0m     assert_(\u001B[39misinstance\u001B[39;49m(frame_or_tb, (types\u001B[39m.\u001B[39;49mFrameType, types\u001B[39m.\u001B[39;49mTracebackType)))\n\u001B[1;32m     92\u001B[0m     \u001B[39mreturn\u001B[39;00m \u001B[39misinstance\u001B[39m(frame_or_tb, (types\u001B[39m.\u001B[39mFrameType,))\n",
      "File \u001B[0;32m~/anaconda3/envs/smtr/lib/python3.9/site-packages/stack_data/utils.py:172\u001B[0m, in \u001B[0;36massert_\u001B[0;34m(condition, error)\u001B[0m\n\u001B[1;32m    170\u001B[0m \u001B[39mif\u001B[39;00m \u001B[39misinstance\u001B[39m(error, \u001B[39mstr\u001B[39m):\n\u001B[1;32m    171\u001B[0m     error \u001B[39m=\u001B[39m \u001B[39mAssertionError\u001B[39;00m(error)\n\u001B[0;32m--> 172\u001B[0m \u001B[39mraise\u001B[39;00m error\n",
      "\u001B[0;31mAssertionError\u001B[0m: "
     ]
    }
   ],
   "source": [
    "import math\n",
    "train(sweep_config, 10, process=2)"
   ]
  },
  {
   "cell_type": "code",
   "execution_count": 92,
   "metadata": {
    "pycharm": {
     "name": "#%%\n"
    }
   },
   "outputs": [
    {
     "data": {
      "text/plain": [
       "39529"
      ]
     },
     "execution_count": 92,
     "metadata": {},
     "output_type": "execute_result"
    }
   ],
   "source": [
    "import os \n",
    "from multiprocessing import Pool\n",
    "def main(args):\n",
    "    time.sleep(3)\n",
    "    print(args.dim, '\\n')\n",
    "os.getpid()\n",
    "# time.sleep(5)"
   ]
  }
 ],
 "metadata": {
  "kernelspec": {
   "display_name": "Python 3.9.7 ('smtr')",
   "language": "python",
   "name": "python3"
  },
  "language_info": {
   "codemirror_mode": {
    "name": "ipython",
    "version": 3
   },
   "file_extension": ".py",
   "mimetype": "text/x-python",
   "name": "python",
   "nbconvert_exporter": "python",
   "pygments_lexer": "ipython3",
   "version": "3.9.7"
  },
  "orig_nbformat": 4,
  "vscode": {
   "interpreter": {
    "hash": "a75462293d05fc3e00128f4985dd13fcf50f4f5144b1474848efbcac1f09cd24"
   }
  }
 },
 "nbformat": 4,
 "nbformat_minor": 2
}