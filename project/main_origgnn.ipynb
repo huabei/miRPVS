{
 "cells": [
  {
   "cell_type": "code",
   "execution_count": 1,
   "metadata": {},
   "outputs": [],
   "source": [
    "from argparse import ArgumentParser\n",
    "from model.origgnn import MolecularGNN\n",
    "from utils.package import plot_fit_confidence_bond\n",
    "from pytorch_lightning import Trainer\n",
    "import pytorch_lightning as pl\n",
    "from collections import defaultdict\n",
    "from torch.utils.data import DataLoader\n",
    "from torch.utils.data import random_split\n",
    "import torch\n",
    "import numpy as np\n",
    "import time\n",
    "from sklearn.metrics import r2_score\n",
    "import matplotlib\n",
    "import matplotlib.pyplot as plt\n",
    "matplotlib.use('Agg')"
   ]
  },
  {
   "cell_type": "code",
   "execution_count": 3,
   "metadata": {},
   "outputs": [
    {
     "name": "stderr",
     "output_type": "stream",
     "text": [
      "/home/huabei/anaconda3/envs/smtr/lib/python3.9/site-packages/pytorch_lightning/loggers/wandb.py:347: UserWarning: There is a wandb run already in progress and newly created instances of `WandbLogger` will reuse this run. If this is not desired, call `wandb.finish()` before instantiating `WandbLogger`.\n",
      "  rank_zero_warn(\n",
      "GPU available: True, used: True\n",
      "TPU available: False, using: 0 TPU cores\n",
      "IPU available: False, using: 0 IPUs\n",
      "HPU available: False, using: 0 HPUs\n",
      "/home/huabei/anaconda3/envs/smtr/lib/python3.9/site-packages/pytorch_lightning/callbacks/model_checkpoint.py:611: UserWarning: Checkpoint directory /mnt/e/Python_Project/SMTarRNA/project/checkpoints exists and is not empty.\n",
      "  rank_zero_warn(f\"Checkpoint directory {dirpath} exists and is not empty.\")\n",
      "LOCAL_RANK: 0 - CUDA_VISIBLE_DEVICES: [0]\n",
      "\n",
      "  | Name       | Type       | Params\n",
      "------------------------------------------\n",
      "0 | embed_atom | Embedding  | 4.1 K \n",
      "1 | gamma      | ModuleList | 192   \n",
      "2 | W_atom     | ModuleList | 6.3 M \n",
      "3 | W_output   | ModuleList | 2.1 M \n",
      "4 | W_property | Linear     | 513   \n",
      "------------------------------------------\n",
      "8.4 M     Trainable params\n",
      "0         Non-trainable params\n",
      "8.4 M     Total params\n",
      "33.639    Total estimated model params size (MB)\n"
     ]
    },
    {
     "data": {
      "application/vnd.jupyter.widget-view+json": {
       "model_id": "211b59d74222447d8803759ab8cd162b",
       "version_major": 2,
       "version_minor": 0
      },
      "text/plain": [
       "Sanity Checking: 0it [00:00, ?it/s]"
      ]
     },
     "metadata": {},
     "output_type": "display_data"
    },
    {
     "data": {
      "application/vnd.jupyter.widget-view+json": {
       "model_id": "03f6c6304ad64cb8b949d04aab35fb57",
       "version_major": 2,
       "version_minor": 0
      },
      "text/plain": [
       "Training: 0it [00:00, ?it/s]"
      ]
     },
     "metadata": {},
     "output_type": "display_data"
    },
    {
     "data": {
      "application/vnd.jupyter.widget-view+json": {
       "model_id": "ea504669212142c2813a0ecaf49f838f",
       "version_major": 2,
       "version_minor": 0
      },
      "text/plain": [
       "Validation: 0it [00:00, ?it/s]"
      ]
     },
     "metadata": {},
     "output_type": "display_data"
    },
    {
     "name": "stderr",
     "output_type": "stream",
     "text": [
      "/home/huabei/anaconda3/envs/smtr/lib/python3.9/site-packages/pytorch_lightning/trainer/trainer.py:724: UserWarning: Detected KeyboardInterrupt, attempting graceful shutdown...\n",
      "  rank_zero_warn(\"Detected KeyboardInterrupt, attempting graceful shutdown...\")\n",
      "LOCAL_RANK: 0 - CUDA_VISIBLE_DEVICES: [0]\n"
     ]
    },
    {
     "data": {
      "application/vnd.jupyter.widget-view+json": {
       "model_id": "895a65121b4843f4b9bd3b25913748b8",
       "version_major": 2,
       "version_minor": 0
      },
      "text/plain": [
       "Testing: 0it [00:00, ?it/s]"
      ]
     },
     "metadata": {},
     "output_type": "display_data"
    },
    {
     "name": "stderr",
     "output_type": "stream",
     "text": [
      "LOCAL_RANK: 0 - CUDA_VISIBLE_DEVICES: [0]\n"
     ]
    },
    {
     "data": {
      "application/vnd.jupyter.widget-view+json": {
       "model_id": "c253b23b53a64f90a299f13193a948f0",
       "version_major": 2,
       "version_minor": 0
      },
      "text/plain": [
       "Testing: 0it [00:00, ?it/s]"
      ]
     },
     "metadata": {},
     "output_type": "display_data"
    }
   ],
   "source": [
    "# %%wandb\n",
    "def main(hparams):\n",
    "    \n",
    "    model_name = f'3dgnn-dim-{hparams.dim}-hlayer-{hparams.layer_hidden}-olayer-{hparams.layer_output}-' + time.strftime(\"%Y%m%d_%H%M%S\", time.localtime())\n",
    "    dict_args = vars(hparams)\n",
    "    model = MolecularGNN(**dict_args)\n",
    "    # logger\n",
    "    wandb_logger = pl.loggers.TensorBoardLogger(save_dir='log/origgnn', name=model_name)\n",
    "    # callbacks\n",
    "    # early stopping\n",
    "    early_stopping = pl.callbacks.early_stopping.EarlyStopping(monitor='val_loss', patience=20, mode='min')\n",
    "    # checkpoint\n",
    "    checkpoint_callback = pl.callbacks.ModelCheckpoint(monitor='val_loss', mode='min', save_last=True,\n",
    "                                                         dirpath='checkpoints', filename=model_name)\n",
    "    if hparams.checkpoint == None:\n",
    "        trainer = Trainer.from_argparse_args(hparams, logger=wandb_logger, auto_lr_find=True, callbacks=[early_stopping, checkpoint_callback])\n",
    "    else:\n",
    "        trainer = Trainer(resume_from_checkpoint=hparams.checkpoint, callbacks=[early_stopping])\n",
    "    # trainer.tune(model)\n",
    " \n",
    "    # Train\n",
    "    trainer.fit(model)\n",
    "    # trainer.save_checkpoint(time.strftime(\"%Y%m%d_%H%M%S\", time.localtime()) + \".ckpt\")\n",
    "    trainer.test(model, dataloaders=model.val_dataloader(), verbose=False)\n",
    "    tensorboard = model.logger.experiment\n",
    "    x = np.array(model.predictions['true'])\n",
    "    y = np.array(model.predictions['pred'])\n",
    "    val_r2 = r2_score(x, y)\n",
    "    val_fig = plot_fit_confidence_bond(x, y, val_r2, annot=False)\n",
    "    \n",
    "    model.predictions = defaultdict(list)\n",
    "    trainer.test(model, dataloaders=model.train_dataloader(), verbose=False)\n",
    "    x = np.array(model.predictions['true'])\n",
    "    y = np.array(model.predictions['pred'])\n",
    "    train_r2 = r2_score(x, y)\n",
    "    train_fig = plot_fit_confidence_bond(x, y, train_r2, annot=False)\n",
    "    if True:\n",
    "        tensorboard.add_figure('train_res', train_fig)\n",
    "        tensorboard.add_figure('val_res', val_fig)\n",
    "        model.log({'val_r2': val_r2, 'train_r2':train_r2})\n",
    "\n",
    "\n",
    "if __name__ == \"__main__\":\n",
    "    parser = ArgumentParser()\n",
    "    parser.add_argument(\"--dim\", type=int, default=512)\n",
    "    parser.add_argument(\"--layer_hidden\",type=int, default=24)\n",
    "    parser.add_argument(\"--layer_output\",type=int, default=8)\n",
    "    parser.add_argument(\"--batch_size\",type=int, default=128)\n",
    "    parser.add_argument(\"--data_path\",type=str, default=None)\n",
    "    parser.add_argument(\"--checkpoint\",type=str, default=None)\n",
    "    dataset_path = '/home/huabei/Projects/SMTarRNA/project/data/in_man_exhaustiveness_96_orig_conformation.txt'\n",
    "    checkpoint = '20220618_211314.ckpt'\n",
    "    # add model args\n",
    "    parser = MolecularGNN.add_model_specific_args(parent_parser=parser)\n",
    "    # add Trainer args\n",
    "    parser = Trainer.add_argparse_args(parser)\n",
    "    args = parser.parse_args(['--data_path', dataset_path, '--learning_rate', '0.0001', '--gpus=1', '--max_epochs', '1000'])\n",
    "\n",
    "    main(args)"
   ]
  },
  {
   "cell_type": "code",
   "execution_count": null,
   "metadata": {},
   "outputs": [],
   "source": []
  },
  {
   "cell_type": "code",
   "execution_count": null,
   "metadata": {},
   "outputs": [],
   "source": []
  }
 ],
 "metadata": {
  "kernelspec": {
   "display_name": "Python 3.9.7 ('smtr')",
   "language": "python",
   "name": "python3"
  },
  "language_info": {
   "codemirror_mode": {
    "name": "ipython",
    "version": 3
   },
   "file_extension": ".py",
   "mimetype": "text/x-python",
   "name": "python",
   "nbconvert_exporter": "python",
   "pygments_lexer": "ipython3",
   "version": "3.9.7"
  },
  "orig_nbformat": 4,
  "vscode": {
   "interpreter": {
    "hash": "a75462293d05fc3e00128f4985dd13fcf50f4f5144b1474848efbcac1f09cd24"
   }
  }
 },
 "nbformat": 4,
 "nbformat_minor": 2
}
