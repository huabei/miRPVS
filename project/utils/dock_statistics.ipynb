{
 "cells": [
  {
   "cell_type": "markdown",
   "metadata": {},
   "source": [
    "# 统计对接后小分子的信息"
   ]
  },
  {
   "cell_type": "code",
   "execution_count": 1,
   "metadata": {},
   "outputs": [],
   "source": [
    "import os\n",
    "import pandas as pd\n",
    "from collections import defaultdict\n",
    "import numpy as np\n",
    "import copy\n",
    "from tqdm import tqdm\n",
    "from package import get_pdbqt_info, get_pdb_atom_info"
   ]
  },
  {
   "cell_type": "markdown",
   "metadata": {},
   "source": [
    "# Function define"
   ]
  },
  {
   "cell_type": "code",
   "execution_count": 2,
   "metadata": {},
   "outputs": [],
   "source": [
    "\n",
    "\n",
    "def get_statistics(pocket_dict:dict, atom_lists):\n",
    "    # 计算对接后的分子中原子距离pocket中alpha球的距离,return nxm\n",
    "    results_dict = defaultdict(list)\n",
    "    atom_array = map(get_xyz, atom_lists)\n",
    "    for key, pocket in pocket_dict.items():\n",
    "        # pocket matrix\n",
    "        print(f'pocket{key}')\n",
    "        alpha_sphere = get_xyz(pocket)\n",
    "        # print(alpha_sphere)\n",
    "        for atom_xyz in tqdm(copy.deepcopy(atom_array)):\n",
    "            # molecule matrix\n",
    "            # atom_xyz = get_xyz(atom_list)\n",
    "            # 计算分子中每个原子据所有alpha球的距离（n, 3, m)， n为alpha球的个数\n",
    "            vector_matrix = atom_xyz.T[np.newaxis, :] - alpha_sphere[:, :, np.newaxis]\n",
    "            # 利用爱因斯坦求和简记法对中间一个维度求和->(n, m)\n",
    "            distance_matrix = np.einsum('ijk, ijk->ik', vector_matrix, vector_matrix)\n",
    "            # 获取所有原子最近alpha球的距离(1xm)\n",
    "            results_dict[key].append(np.sqrt(np.min(distance_matrix, axis=0)))\n",
    "    return results_dict\n",
    "            \n",
    "\n",
    "def get_pocket_info(pocket_folder):\n",
    "    pocket_num = int(len(os.listdir(pocket_folder)) / 2)\n",
    "    # print(pocket_num)\n",
    "    # 获取pocket中alpha球的位置\n",
    "    pocket_dict = dict()\n",
    "    for i in range(pocket_num):\n",
    "        i += 1\n",
    "        pocket_dict[i] = get_pdb_atom_info(os.path.join(pocket_folder, f'pocket{i}_vert.pqr'))['ATOM']\n",
    "    return pocket_dict\n",
    "\n",
    "\n",
    "def get_xyz(atom_list):\n",
    "    df = pd.DataFrame(atom_list, columns=['atom', 'x', 'y', 'z'])\n",
    "    # print(df['atom'])\n",
    "    return df[['x', 'y', 'z']].to_numpy()\n",
    "\n",
    "\n",
    "def main(dock_out_folder, fpocket_out_folder):\n",
    "    # 提取小分子的信息\n",
    "    dock_conformation_sm = [os.path.join(dock_out_folder, file_name) for file_name in os.listdir(dock_out_folder)]\n",
    "    dock_results = map(get_pdbqt_info, dock_conformation_sm)\n",
    "    # 提取pocket的信息\n",
    "    pocket_dict = get_pocket_info(fpocket_out_folder+'/pockets')\n",
    "    # 得到每个分子中m个原子各自最近的alpha球的距离\n",
    "    min_distance_dict = get_statistics(pocket_dict, dock_results)\n",
    "    \n",
    "    pocket_sm = dict()\n",
    "    for key, distance in min_distance_dict.items():\n",
    "        x = list()\n",
    "        for molecular in distance:\n",
    "            # m个原子的最近距离的平均值\n",
    "            x.append(np.mean(distance))\n",
    "        pocket_sm[key] = np.array(x)\n",
    "\n",
    "    "
   ]
  },
  {
   "cell_type": "markdown",
   "metadata": {},
   "source": [
    "# main Function"
   ]
  },
  {
   "cell_type": "code",
   "execution_count": 7,
   "metadata": {},
   "outputs": [
    {
     "name": "stdout",
     "output_type": "stream",
     "text": [
      "pocket1\n",
      "pocket2\n",
      "pocket3\n",
      "pocket4\n",
      "pocket5\n",
      "pocket6\n",
      "pocket7\n",
      "pocket8\n"
     ]
    }
   ],
   "source": [
    "if __name__ == \"__main__\":\n",
    "    # IO file\n",
    "    dock_out_folder = r'/home/huabei/soft_folder/smtr_data/Dock/miRNA/mir-21/pri/dock_results/mk_in_man_Dock_results/exhaustiveness_96/1'\n",
    "    fpocket_out_folder = r'/mnt/e/tmp/fpocket/pri_mir_21_top_1_out'\n",
    "    # 提取小分子的信息\n",
    "    dock_conformation_sm = [os.path.join(dock_out_folder, file_name) for file_name in os.listdir(dock_out_folder)]\n",
    "    dock_results = map(get_pdbqt_info, dock_conformation_sm)\n",
    "    # 提取pocket的信息\n",
    "    pocket_dict = get_pocket_info(fpocket_out_folder+'/pockets')\n",
    "    # 得到每个分子中m个原子各自最近的alpha球的距离\n",
    "    min_distance_dict = get_statistics(pocket_dict, dock_results)\n",
    "    \n",
    "    pocket_sm = dict()\n",
    "    for key, distance in min_distance_dict.items():\n",
    "        x = list()\n",
    "        for molecular in distance:\n",
    "            # m个原子的最近距离的平均值\n",
    "            # print(np.mean(distance))\n",
    "            x.append(np.mean(molecular))\n",
    "        pocket_sm[key] = np.where(np.array(x) < 1)[0].tolist()\n",
    "    pocket_set = [set(pocket_sm[i+1]) for i in range(8)]\n",
    "    total_set = set()\n",
    "    for i in pocket_set:\n",
    "        total_set = total_set | i\n",
    "    \n"
   ]
  },
  {
   "cell_type": "code",
   "execution_count": 41,
   "metadata": {},
   "outputs": [
    {
     "data": {
      "text/plain": [
       "567"
      ]
     },
     "execution_count": 41,
     "metadata": {},
     "output_type": "execute_result"
    }
   ],
   "source": [
    "len(pocket_sm[3])"
   ]
  },
  {
   "cell_type": "code",
   "execution_count": 44,
   "metadata": {},
   "outputs": [],
   "source": [
    "pocket_set = [set(pocket_sm[i+1]) for i in range(8)]\n",
    "total_set = set()\n",
    "for i in pocket_set:\n",
    "    total_set = total_set | i\n"
   ]
  },
  {
   "cell_type": "code",
   "execution_count": 13,
   "metadata": {},
   "outputs": [
    {
     "data": {
      "text/plain": [
       "(1, 3, 2)"
      ]
     },
     "execution_count": 13,
     "metadata": {},
     "output_type": "execute_result"
    }
   ],
   "source": [
    "a = np.array([[1, 2, 3], [2, 3, 4]])\n",
    "b = np.array([[3, 4, 5], [4, 5, 6]])\n",
    "a = a[:, :,np.newaxis]\n",
    "b = b.T[np.newaxis, :]\n",
    "b.shape"
   ]
  },
  {
   "cell_type": "code",
   "execution_count": 15,
   "metadata": {},
   "outputs": [
    {
     "data": {
      "text/plain": [
       "array([[12, 27],\n",
       "       [ 3, 12]])"
      ]
     },
     "execution_count": 15,
     "metadata": {},
     "output_type": "execute_result"
    }
   ],
   "source": [
    "c = b - a\n",
    "c\n",
    "np.einsum('ijk,ijk->ik', c, c)"
   ]
  },
  {
   "cell_type": "code",
   "execution_count": 39,
   "metadata": {},
   "outputs": [
    {
     "data": {
      "text/plain": [
       "(array([2, 3]),)"
      ]
     },
     "execution_count": 39,
     "metadata": {},
     "output_type": "execute_result"
    }
   ],
   "source": [
    "np.where(np.array([1, 2, 3, 4])>2)"
   ]
  },
  {
   "cell_type": "code",
   "execution_count": 6,
   "metadata": {},
   "outputs": [
    {
     "data": {
      "text/plain": [
       "array([2748.453102, 2647.989273, 2622.614099, 2650.155056, 2807.312772,\n",
       "       2866.511501, 2859.235045, 2730.593141, 2836.873688, 2865.430457,\n",
       "       2826.91055 , 3021.695928, 3019.638267, 3112.921141, 3222.004525,\n",
       "       3204.902482, 3289.469249, 3344.063757, 3087.475544, 3012.517262,\n",
       "       3271.240889, 3091.783057, 3243.338025, 2488.516044, 2386.461254,\n",
       "       2260.713206, 2172.613262, 2109.389821, 2160.883909, 2014.399364,\n",
       "       2104.673801, 1940.147882, 1988.425293])"
      ]
     },
     "execution_count": 6,
     "metadata": {},
     "output_type": "execute_result"
    }
   ],
   "source": [
    "distance[0]"
   ]
  }
 ],
 "metadata": {
  "kernelspec": {
   "display_name": "Python 3.9.7 ('smtr')",
   "language": "python",
   "name": "python3"
  },
  "language_info": {
   "codemirror_mode": {
    "name": "ipython",
    "version": 3
   },
   "file_extension": ".py",
   "mimetype": "text/x-python",
   "name": "python",
   "nbconvert_exporter": "python",
   "pygments_lexer": "ipython3",
   "version": "3.9.7"
  },
  "orig_nbformat": 4,
  "vscode": {
   "interpreter": {
    "hash": "a75462293d05fc3e00128f4985dd13fcf50f4f5144b1474848efbcac1f09cd24"
   }
  }
 },
 "nbformat": 4,
 "nbformat_minor": 2
}
