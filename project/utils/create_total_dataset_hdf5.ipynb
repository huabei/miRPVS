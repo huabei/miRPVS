{
 "cells": [
  {
   "cell_type": "code",
   "execution_count": 1,
   "metadata": {},
   "outputs": [
    {
     "data": {
      "text/plain": [
       "['Dock',\n",
       " 'utils.py',\n",
       " 'DrugAI_drug-likeness.ipynb',\n",
       " 'dataset',\n",
       " 'hpc_jp',\n",
       " '.gitignore',\n",
       " 'right_10k.pdbqt',\n",
       " 'dock_statistics.ipynb',\n",
       " '__pycache__',\n",
       " 'dataset_info.pkl',\n",
       " 'autodock_vina_batch_dock.ipynb',\n",
       " 'package.py',\n",
       " 'elements_statistics.ipynb',\n",
       " 'create_total_dataset_hdf5.ipynb',\n",
       " 'create_dataset_from_pdbqt.ipynb',\n",
       " 'drug_like_100k_smiles_dataset.txt',\n",
       " 'test.ipynb',\n",
       " 'dock_statistics_gz.ipynb',\n",
       " 'random_sample.ipynb',\n",
       " 'random_sample.pdbqt',\n",
       " 'zinc20_druglike_atom_count.png',\n",
       " 'run.py',\n",
       " 'create_dataset_from_not_pdbqt_format.ipynb',\n",
       " 'test.py',\n",
       " 'fpocket',\n",
       " 'statistics_bind_ratio.ipynb',\n",
       " 'repeat_dock.ipynb',\n",
       " 'right_10k_small_pocket.pdbqt',\n",
       " 'fpocket_filter.ipynb',\n",
       " '__init__.py',\n",
       " 'zinc']"
      ]
     },
     "execution_count": 1,
     "metadata": {},
     "output_type": "execute_result"
    }
   ],
   "source": [
    "import os\n",
    "from pandas import HDFStore\n",
    "from tqdm import tqdm\n",
    "import logging\n",
    "import time\n",
    "import pickle\n",
    "import matplotlib.pyplot as plt\n",
    "import matplotlib\n",
    "import pandas as pd\n",
    "from collections import defaultdict, Counter\n",
    "from tqdm import tqdm\n",
    "import pickle\n",
    "from queue import Queue\n",
    "from threading import Thread\n",
    "from functools import partial\n",
    "matplotlib.use('Agg')\n",
    "logging.basicConfig(level=logging.INFO)\n",
    "os.listdir()"
   ]
  },
  {
   "cell_type": "code",
   "execution_count": 2,
   "metadata": {},
   "outputs": [],
   "source": [
    "ZINC_DATA_PATH = '../data/dataset/ligand/index/'\n",
    "# ZINC_HDF5_PATH = '../data/dataset/ZINC20-test.h5'\n",
    "\n",
    "# ZINC_DATA_PATH = 'ZINC-DrugLike-3D-20230407'\n",
    "# ZINC_DATA_PATH = 'test'\n",
    "# ZINC_HDF5_PATH = 'ZINC20-DrugLike-3D-20230402.h5'\n"
   ]
  },
  {
   "attachments": {},
   "cell_type": "markdown",
   "metadata": {},
   "source": [
    "# 构建h5数据集"
   ]
  },
  {
   "cell_type": "code",
   "execution_count": 3,
   "metadata": {},
   "outputs": [],
   "source": [
    "\n",
    "from dataset.create_total_dataset_hdf5 import create_total_dataset_hdf5\n",
    "# from create_total_dataset_hdf5 import create_total_dataset_hdf5\n",
    "import logging\n",
    "# logging.basicConfig(level=logging.INFO)"
   ]
  },
  {
   "cell_type": "code",
   "execution_count": null,
   "metadata": {},
   "outputs": [],
   "source": [
    "create_total_dataset_hdf5(ZINC_DATA_PATH)\n",
    "print('Construct Done! Good Job!')"
   ]
  },
  {
   "cell_type": "code",
   "execution_count": 5,
   "metadata": {},
   "outputs": [
    {
     "data": {
      "text/plain": [
       "['/BA/EDRP/BAEDRP_xaa',\n",
       " '/BA/EDRO/BAEDRO_xaa',\n",
       " '/BA/EDRN/BAEDRN_xaa',\n",
       " '/BA/EDRM/BAEDRM_xaa',\n",
       " '/BA/EDRL/BAEDRL_xaa',\n",
       " '/BA/EDMP/BAEDMP_xaa',\n",
       " '/BA/EDMO/BAEDMO_xaa',\n",
       " '/BA/EDMN/BAEDMN_xaa',\n",
       " '/BA/EDMM/BAEDMM_xaa',\n",
       " '/BA/EDML/BAEDML_xaa',\n",
       " '/BA/EBRP/BAEBRP_xaa',\n",
       " '/BA/EBRO/BAEBRO_xaa',\n",
       " '/BA/EBRN/BAEBRN_xaa',\n",
       " '/BA/EBRM/BAEBRM_xaa',\n",
       " '/BA/EBRL/BAEBRL_xaa',\n",
       " '/BA/EBMP/BAEBMP_xaa',\n",
       " '/BA/EBMO/BAEBMO_xaa',\n",
       " '/BA/EBMN/BAEBMN_xaa',\n",
       " '/BA/EBMM/BAEBMM_xaa',\n",
       " '/BA/EBML/BAEBML_xaa',\n",
       " '/BA/EARP/BAEARP_xaa',\n",
       " '/BA/EARO/BAEARO_xaa',\n",
       " '/BA/EARN/BAEARN_xaa',\n",
       " '/BA/EARM/BAEARM_xaa',\n",
       " '/BA/EARL/BAEARL_xaa',\n",
       " '/BA/EAMO/BAEAMO_xaa',\n",
       " '/BA/EAMN/BAEAMN_xaa',\n",
       " '/BA/EAMM/BAEAMM_xaa',\n",
       " '/BA/CDRN/BACDRN_xaa',\n",
       " '/BA/CBRO/BACBRO_xaa',\n",
       " '/BA/CBRN/BACBRN_xaa',\n",
       " '/BA/CBRM/BACBRM_xaa',\n",
       " '/BA/CBRL/BACBRL_xaa',\n",
       " '/BA/CBMN/BACBMN_xaa',\n",
       " '/BA/CBMM/BACBMM_xaa',\n",
       " '/BA/CARO/BACARO_xaa',\n",
       " '/BA/CARN/BACARN_xaa',\n",
       " '/BA/CARM/BACARM_xaa',\n",
       " '/BA/CARL/BACARL_xaa',\n",
       " '/BA/CAMO/BACAMO_xaa',\n",
       " '/BA/CAMN/BACAMN_xaa',\n",
       " '/BA/CAMM/BACAMM_xaa',\n",
       " '/BA/BDRO/BABDRO_xaa',\n",
       " '/BA/BDRN/BABDRN_xaa',\n",
       " '/BA/BDRM/BABDRM_xaa',\n",
       " '/BA/BDMO/BABDMO_xaa',\n",
       " '/BA/BDMN/BABDMN_xaa',\n",
       " '/BA/BDMM/BABDMM_xaa',\n",
       " '/BA/BBRP/BABBRP_xaa',\n",
       " '/BA/BBRO/BABBRO_xaa',\n",
       " '/BA/BBRN/BABBRN_xaa',\n",
       " '/BA/BBRM/BABBRM_xaa',\n",
       " '/BA/BBRL/BABBRL_xaa',\n",
       " '/BA/BBMM/BABBMM_xaa',\n",
       " '/BA/BBML/BABBML_xaa',\n",
       " '/BA/BARP/BABARP_xaa',\n",
       " '/BA/BARO/BABARO_xaa',\n",
       " '/BA/BARN/BABARN_xaa',\n",
       " '/BA/BARM/BABARM_xaa',\n",
       " '/BA/BARL/BABARL_xaa',\n",
       " '/BA/BAMO/BABAMO_xaa',\n",
       " '/BA/BAMN/BABAMN_xaa',\n",
       " '/BA/BAMM/BABAMM_xaa',\n",
       " '/BA/BAML/BABAML_xaa',\n",
       " '/BA/ADRP/BAADRP_xaa',\n",
       " '/BA/ADRO/BAADRO_xaa',\n",
       " '/BA/ADRN/BAADRN_xaa',\n",
       " '/BA/ADRM/BAADRM_xaa',\n",
       " '/BA/ADRL/BAADRL_xaa',\n",
       " '/BA/ADMP/BAADMP_xaa',\n",
       " '/BA/ADMO/BAADMO_xaa',\n",
       " '/BA/ADMN/BAADMN_xaa',\n",
       " '/BA/ADMM/BAADMM_xaa',\n",
       " '/BA/ADML/BAADML_xaa',\n",
       " '/BA/ABRP/BAABRP_xaa',\n",
       " '/BA/ABRO/BAABRO_xaa',\n",
       " '/BA/ABRN/BAABRN_xaa',\n",
       " '/BA/ABRM/BAABRM_xaa',\n",
       " '/BA/ABRL/BAABRL_xaa',\n",
       " '/BA/ABMP/BAABMP_xaa',\n",
       " '/BA/ABMO/BAABMO_xaa',\n",
       " '/BA/ABMN/BAABMN_xaa',\n",
       " '/BA/ABMM/BAABMM_xaa',\n",
       " '/BA/ABML/BAABML_xaa',\n",
       " '/BA/AARP/BAAARP_xaa',\n",
       " '/BA/AARO/BAAARO_xaa',\n",
       " '/BA/AARN/BAAARN_xaa',\n",
       " '/BA/AARM/BAAARM_xaa',\n",
       " '/BA/AARL/BAAARL_xaa',\n",
       " '/BA/AAMP/BAAAMP_xaa',\n",
       " '/BA/AAMO/BAAAMO_xaa',\n",
       " '/BA/AAMN/BAAAMN_xaa',\n",
       " '/BA/AAMM/BAAAMM_xaa',\n",
       " '/BA/AAML/BAAAML_xaa']"
      ]
     },
     "execution_count": 5,
     "metadata": {},
     "output_type": "execute_result"
    }
   ],
   "source": [
    "store = HDFStore('../data/dataset/ZINC20-test/BA_index.h5')\n",
    "store.keys()"
   ]
  },
  {
   "attachments": {},
   "cell_type": "markdown",
   "metadata": {},
   "source": [
    "# 筛选缺失的数据"
   ]
  },
  {
   "cell_type": "code",
   "execution_count": 12,
   "metadata": {},
   "outputs": [],
   "source": [
    "# 已下载的数据\n",
    "total_file = []\n",
    "for _, _, files in os.walk(ZINC_DATA_PATH):\n",
    "    total_file.extend(files)\n",
    "total_file = [file for file in total_file if not file.endswith('.h5')]"
   ]
  },
  {
   "cell_type": "code",
   "execution_count": 32,
   "metadata": {},
   "outputs": [],
   "source": [
    "# 需要下载的数据\n",
    "with open('ZINC-downloader-3D-pdbqt.gz.curl', 'r') as f:\n",
    "    need_download_cmd = f.readlines()\n",
    "need_download = {file.split(' ')[-2].split('/')[-1]: file for file in need_download_cmd}"
   ]
  },
  {
   "cell_type": "code",
   "execution_count": 33,
   "metadata": {},
   "outputs": [],
   "source": [
    "# 验证已下载的数据包含于需要下载的数据\n",
    "total_file_set = set(total_file)\n",
    "need_download_set = set(need_download.keys())\n",
    "assert total_file_set.issubset(need_download_set), 'total_file_set is not subset of need_download_set'\n",
    "not_download = need_download_set - total_file_set"
   ]
  },
  {
   "cell_type": "code",
   "execution_count": 35,
   "metadata": {},
   "outputs": [
    {
     "data": {
      "text/plain": [
       "['curl --remote-time --fail --create-dirs -o DC/ADRN/DCADRN.xlu.pdbqt.gz http://files.docking.org/3D/DC/ADRN/DCADRN.xlu.pdbqt.gz\\n',\n",
       " 'curl --remote-time --fail --create-dirs -o FC/AARL/FCAARL.xaa.pdbqt.gz http://files.docking.org/3D/FC/AARL/FCAARL.xaa.pdbqt.gz\\n',\n",
       " 'curl --remote-time --fail --create-dirs -o DC/BCRN/DCBCRN.xaa.pdbqt.gz http://files.docking.org/3D/DC/BCRN/DCBCRN.xaa.pdbqt.gz\\n',\n",
       " 'curl --remote-time --fail --create-dirs -o DC/ADRN/DCADRN.xvv.pdbqt.gz http://files.docking.org/3D/DC/ADRN/DCADRN.xvv.pdbqt.gz\\n',\n",
       " 'curl --remote-time --fail --create-dirs -o DC/ADRN/DCADRN.xfw.pdbqt.gz http://files.docking.org/3D/DC/ADRN/DCADRN.xfw.pdbqt.gz\\n']"
      ]
     },
     "execution_count": 35,
     "metadata": {},
     "output_type": "execute_result"
    }
   ],
   "source": [
    "# 生成下载命令\n",
    "download_cmd = []\n",
    "for file in not_download:\n",
    "    download_cmd.append(need_download[file])\n",
    "len(download_cmd)\n",
    "download_cmd[:5]"
   ]
  },
  {
   "attachments": {},
   "cell_type": "markdown",
   "metadata": {},
   "source": [
    "# 获取数据集的统计信息"
   ]
  },
  {
   "cell_type": "code",
   "execution_count": 3,
   "metadata": {},
   "outputs": [
    {
     "data": {
      "text/plain": [
       "[('ZINC-DrugLike-3D-20230407/BA_index.h5',\n",
       "  'ZINC-DrugLike-3D-20230407/BA_coor.h5'),\n",
       " ('ZINC-DrugLike-3D-20230407/BB_index.h5',\n",
       "  'ZINC-DrugLike-3D-20230407/BB_coor.h5'),\n",
       " ('ZINC-DrugLike-3D-20230407/BC_index.h5',\n",
       "  'ZINC-DrugLike-3D-20230407/BC_coor.h5'),\n",
       " ('ZINC-DrugLike-3D-20230407/BD_index.h5',\n",
       "  'ZINC-DrugLike-3D-20230407/BD_coor.h5'),\n",
       " ('ZINC-DrugLike-3D-20230407/BE_index.h5',\n",
       "  'ZINC-DrugLike-3D-20230407/BE_coor.h5')]"
      ]
     },
     "execution_count": 3,
     "metadata": {},
     "output_type": "execute_result"
    }
   ],
   "source": [
    "hdf_index_file = [os.path.join(ZINC_DATA_PATH, i) for i in os.listdir(ZINC_DATA_PATH) if i.endswith('_index.h5')]\n",
    "hdf_coor_file = [os.path.join(ZINC_DATA_PATH, i) for i in os.listdir(ZINC_DATA_PATH) if i.endswith('_coor.h5')]\n",
    "hdf_index_file.sort()\n",
    "hdf_coor_file.sort()\n",
    "all_hdf_file = list(zip(hdf_index_file, hdf_coor_file))\n",
    "all_hdf_file[:5]"
   ]
  },
  {
   "cell_type": "code",
   "execution_count": 4,
   "metadata": {
    "collapsed": false
   },
   "outputs": [],
   "source": []
  },
  {
   "attachments": {},
   "cell_type": "markdown",
   "metadata": {},
   "source": [
    "### 单线程完成分子个数和原子个数的统计"
   ]
  },
  {
   "cell_type": "code",
   "execution_count": 10,
   "metadata": {},
   "outputs": [
    {
     "name": "stderr",
     "output_type": "stream",
     "text": [
      "100%|██████████| 90/90 [3:32:05<00:00, 141.40s/it]  "
     ]
    },
    {
     "name": "stdout",
     "output_type": "stream",
     "text": [
      "All work completed\n"
     ]
    },
    {
     "name": "stderr",
     "output_type": "stream",
     "text": [
      "\n"
     ]
    }
   ],
   "source": [
    "dataset_info = dict()\n",
    "for index_file, coor_file in tqdm(all_hdf_file):\n",
    "    index_store = HDFStore(index_file)\n",
    "    coor_store = HDFStore(coor_file)\n",
    "    total_molecule = 0\n",
    "    total_atom = defaultdict(lambda: 0)\n",
    "    for k in index_store.keys():\n",
    "        total_molecule += index_store[k].shape[0]\n",
    "        atom_num_tmp = Counter(coor_store[k]['atom'].to_list())\n",
    "        for atom, num in atom_num_tmp.items():\n",
    "            total_atom[atom] += num\n",
    "    dataset_info[os.path.basename(index_store._path)] = {'total_molecule': total_molecule, 'total_atom': dict(total_atom)}\n",
    "    index_store.close()\n",
    "    coor_store.close()\n",
    "with open('zinc20_druglike_dataset_info.pkl', 'wb') as f:\n",
    "    pickle.dump(dataset_info, f)\n",
    "print('All work completed')"
   ]
  },
  {
   "attachments": {},
   "cell_type": "markdown",
   "metadata": {},
   "source": [
    "### 检查数据集的基本统计信息（文件数，分子数）"
   ]
  },
  {
   "cell_type": "code",
   "execution_count": 9,
   "metadata": {},
   "outputs": [
    {
     "name": "stderr",
     "output_type": "stream",
     "text": [
      "  0%|          | 0/90 [00:00<?, ?it/s]INFO:root:file: ZINC-DrugLike-3D-20230407/BA_index.h5, keys: 94, time: 0.0012006759643554688 s, 1.1743741035461426 s\n",
      "  1%|          | 1/90 [00:01<01:51,  1.25s/it]INFO:root:file: ZINC-DrugLike-3D-20230407/BB_index.h5, keys: 111, time: 0.0013637542724609375 s, 1.2752056121826172 s\n",
      "  2%|▏         | 2/90 [00:02<01:56,  1.33s/it]INFO:root:file: ZINC-DrugLike-3D-20230407/BC_index.h5, keys: 147, time: 0.002186298370361328 s, 3.549278736114502 s\n",
      "  3%|▎         | 3/90 [00:06<03:28,  2.40s/it]INFO:root:file: ZINC-DrugLike-3D-20230407/BD_index.h5, keys: 210, time: 0.0011677742004394531 s, 8.756614208221436 s\n",
      "  4%|▍         | 4/90 [00:15<07:08,  4.98s/it]INFO:root:file: ZINC-DrugLike-3D-20230407/BE_index.h5, keys: 158, time: 0.0015916824340820312 s, 4.049213171005249 s\n",
      "  6%|▌         | 5/90 [00:19<06:39,  4.70s/it]INFO:root:file: ZINC-DrugLike-3D-20230407/BF_index.h5, keys: 140, time: 0.0019834041595458984 s, 3.245058059692383 s\n",
      "  7%|▋         | 6/90 [00:22<05:56,  4.25s/it]INFO:root:file: ZINC-DrugLike-3D-20230407/BG_index.h5, keys: 102, time: 0.0014569759368896484 s, 1.4821884632110596 s\n",
      "  8%|▊         | 7/90 [00:24<04:40,  3.37s/it]INFO:root:file: ZINC-DrugLike-3D-20230407/BH_index.h5, keys: 76, time: 0.0019445419311523438 s, 0.7512407302856445 s\n",
      "  9%|▉         | 8/90 [00:25<03:30,  2.56s/it]INFO:root:file: ZINC-DrugLike-3D-20230407/BI_index.h5, keys: 58, time: 0.0015652179718017578 s, 0.3967752456665039 s\n",
      " 10%|█         | 9/90 [00:25<02:34,  1.90s/it]INFO:root:file: ZINC-DrugLike-3D-20230407/BJ_index.h5, keys: 40, time: 0.0014226436614990234 s, 0.21410560607910156 s\n",
      " 11%|█         | 10/90 [00:25<01:51,  1.39s/it]INFO:root:file: ZINC-DrugLike-3D-20230407/CA_index.h5, keys: 101, time: 0.001123666763305664 s, 0.868687629699707 s\n",
      " 12%|█▏        | 11/90 [00:26<01:39,  1.26s/it]INFO:root:file: ZINC-DrugLike-3D-20230407/CB_index.h5, keys: 171, time: 0.0013756752014160156 s, 7.187170743942261 s\n",
      " 13%|█▎        | 12/90 [00:34<04:02,  3.11s/it]INFO:root:file: ZINC-DrugLike-3D-20230407/CC_index.h5, keys: 329, time: 0.0013775825500488281 s, 19.768821954727173 s\n",
      " 14%|█▍        | 13/90 [00:54<10:33,  8.22s/it]INFO:root:file: ZINC-DrugLike-3D-20230407/CD_index.h5, keys: 401, time: 0.0011754035949707031 s, 30.390220403671265 s\n",
      " 16%|█▌        | 14/90 [01:24<19:01, 15.02s/it]INFO:root:file: ZINC-DrugLike-3D-20230407/CE_index.h5, keys: 295, time: 0.003457307815551758 s, 17.96406602859497 s\n",
      " 17%|█▋        | 15/90 [01:43<19:57, 15.97s/it]INFO:root:file: ZINC-DrugLike-3D-20230407/CF_index.h5, keys: 280, time: 0.0016858577728271484 s, 16.54951286315918 s\n",
      " 18%|█▊        | 16/90 [01:59<19:59, 16.21s/it]INFO:root:file: ZINC-DrugLike-3D-20230407/CG_index.h5, keys: 271, time: 0.0024094581604003906 s, 15.685267925262451 s\n",
      " 19%|█▉        | 17/90 [02:15<19:39, 16.15s/it]INFO:root:file: ZINC-DrugLike-3D-20230407/CH_index.h5, keys: 179, time: 0.0021202564239501953 s, 7.28326940536499 s\n",
      " 20%|██        | 18/90 [02:23<16:14, 13.53s/it]INFO:root:file: ZINC-DrugLike-3D-20230407/CI_index.h5, keys: 96, time: 0.002216815948486328 s, 0.9485316276550293 s\n",
      " 21%|██        | 19/90 [02:24<11:34,  9.78s/it]INFO:root:file: ZINC-DrugLike-3D-20230407/CJ_index.h5, keys: 77, time: 0.0015311241149902344 s, 0.5366554260253906 s\n",
      " 22%|██▏       | 20/90 [02:24<08:11,  7.03s/it]INFO:root:file: ZINC-DrugLike-3D-20230407/DA_index.h5, keys: 104, time: 0.0015790462493896484 s, 1.7461113929748535 s\n",
      " 23%|██▎       | 21/90 [02:26<06:17,  5.47s/it]INFO:root:file: ZINC-DrugLike-3D-20230407/DB_index.h5, keys: 207, time: 0.001580953598022461 s, 9.944900751113892 s\n",
      " 24%|██▍       | 22/90 [02:36<07:46,  6.87s/it]INFO:root:file: ZINC-DrugLike-3D-20230407/DC_index.h5, keys: 409, time: 0.0022411346435546875 s, 16.93316078186035 s\n",
      " 26%|██▌       | 23/90 [02:54<11:08,  9.98s/it]INFO:root:file: ZINC-DrugLike-3D-20230407/DD_index.h5, keys: 584, time: 0.0011439323425292969 s, 48.73549938201904 s\n",
      " 27%|██▋       | 24/90 [03:43<23:55, 21.76s/it]INFO:root:file: ZINC-DrugLike-3D-20230407/DE_index.h5, keys: 438, time: 0.0016262531280517578 s, 38.71401834487915 s\n",
      " 28%|██▊       | 25/90 [04:22<29:11, 26.95s/it]INFO:root:file: ZINC-DrugLike-3D-20230407/DF_index.h5, keys: 1269, time: 0.0014307498931884766 s, 17.840298891067505 s\n",
      " 29%|██▉       | 26/90 [04:41<26:09, 24.52s/it]INFO:root:file: ZINC-DrugLike-3D-20230407/DG_index.h5, keys: 358, time: 0.0017130374908447266 s, 25.51333498954773 s\n",
      " 30%|███       | 27/90 [05:07<26:08, 24.90s/it]INFO:root:file: ZINC-DrugLike-3D-20230407/DH_index.h5, keys: 189, time: 0.0019483566284179688 s, 7.598942756652832 s\n",
      " 31%|███       | 28/90 [05:14<20:24, 19.76s/it]INFO:root:file: ZINC-DrugLike-3D-20230407/DI_index.h5, keys: 120, time: 0.0015494823455810547 s, 1.748849630355835 s\n",
      " 32%|███▏      | 29/90 [05:16<14:37, 14.39s/it]INFO:root:file: ZINC-DrugLike-3D-20230407/DJ_index.h5, keys: 96, time: 0.0016057491302490234 s, 0.798621654510498 s\n",
      " 33%|███▎      | 30/90 [05:17<10:20, 10.34s/it]INFO:root:file: ZINC-DrugLike-3D-20230407/EA_index.h5, keys: 112, time: 0.0013947486877441406 s, 2.0314204692840576 s\n",
      " 34%|███▍      | 31/90 [05:19<07:44,  7.88s/it]INFO:root:file: ZINC-DrugLike-3D-20230407/EB_index.h5, keys: 236, time: 0.0019843578338623047 s, 13.233916282653809 s\n",
      " 36%|███▌      | 32/90 [05:33<09:13,  9.54s/it]INFO:root:file: ZINC-DrugLike-3D-20230407/EC_index.h5, keys: 357, time: 0.0016582012176513672 s, 23.928719997406006 s\n",
      " 37%|███▋      | 33/90 [05:57<13:14, 13.94s/it]INFO:root:file: ZINC-DrugLike-3D-20230407/ED_index.h5, keys: 1491, time: 0.001569986343383789 s, 23.96637201309204 s\n",
      " 38%|███▊      | 34/90 [06:22<16:07, 17.29s/it]INFO:root:file: ZINC-DrugLike-3D-20230407/EE_index.h5, keys: 306, time: 0.0013744831085205078 s, 22.18308115005493 s\n",
      " 39%|███▉      | 35/90 [06:44<17:15, 18.82s/it]INFO:root:file: ZINC-DrugLike-3D-20230407/EF_index.h5, keys: 361, time: 0.0016045570373535156 s, 26.837756156921387 s\n",
      " 40%|████      | 36/90 [07:12<19:11, 21.32s/it]INFO:root:file: ZINC-DrugLike-3D-20230407/EG_index.h5, keys: 238, time: 0.0019791126251220703 s, 13.772892475128174 s\n",
      " 41%|████      | 37/90 [07:25<16:52, 19.11s/it]INFO:root:file: ZINC-DrugLike-3D-20230407/EH_index.h5, keys: 214, time: 0.0016031265258789062 s, 11.06295895576477 s\n",
      " 42%|████▏     | 38/90 [07:37<14:30, 16.75s/it]INFO:root:file: ZINC-DrugLike-3D-20230407/EI_index.h5, keys: 169, time: 0.0036406517028808594 s, 5.964988470077515 s\n",
      " 43%|████▎     | 39/90 [07:43<11:31, 13.56s/it]INFO:root:file: ZINC-DrugLike-3D-20230407/EJ_index.h5, keys: 90, time: 0.002338409423828125 s, 0.5951757431030273 s\n",
      " 44%|████▍     | 40/90 [07:44<08:04,  9.70s/it]INFO:root:file: ZINC-DrugLike-3D-20230407/FA_index.h5, keys: 85, time: 0.001409292221069336 s, 0.816631555557251 s\n",
      " 46%|████▌     | 41/90 [07:44<05:45,  7.06s/it]INFO:root:file: ZINC-DrugLike-3D-20230407/FB_index.h5, keys: 122, time: 0.001581430435180664 s, 2.3541033267974854 s\n",
      " 47%|████▋     | 42/90 [07:47<04:32,  5.68s/it]INFO:root:file: ZINC-DrugLike-3D-20230407/FC_index.h5, keys: 146, time: 0.0015218257904052734 s, 6.192373991012573 s\n",
      " 48%|████▊     | 43/90 [07:53<04:35,  5.87s/it]INFO:root:file: ZINC-DrugLike-3D-20230407/FD_index.h5, keys: 405, time: 0.0014197826385498047 s, 29.84317922592163 s\n",
      " 49%|████▉     | 44/90 [08:23<10:05, 13.16s/it]INFO:root:file: ZINC-DrugLike-3D-20230407/FE_index.h5, keys: 239, time: 0.0014910697937011719 s, 11.746294736862183 s\n",
      " 50%|█████     | 45/90 [08:35<09:35, 12.79s/it]INFO:root:file: ZINC-DrugLike-3D-20230407/FF_index.h5, keys: 451, time: 0.0018894672393798828 s, 35.655966997146606 s\n",
      " 51%|█████     | 46/90 [09:11<14:29, 19.76s/it]INFO:root:file: ZINC-DrugLike-3D-20230407/FG_index.h5, keys: 263, time: 0.0031731128692626953 s, 15.388978958129883 s\n",
      " 52%|█████▏    | 47/90 [09:27<13:15, 18.51s/it]INFO:root:file: ZINC-DrugLike-3D-20230407/FH_index.h5, keys: 149, time: 0.0016477108001708984 s, 3.639523506164551 s\n",
      " 53%|█████▎    | 48/90 [09:31<09:51, 14.09s/it]INFO:root:file: ZINC-DrugLike-3D-20230407/FI_index.h5, keys: 165, time: 0.001634836196899414 s, 5.162926435470581 s\n",
      " 54%|█████▍    | 49/90 [09:36<07:49, 11.45s/it]INFO:root:file: ZINC-DrugLike-3D-20230407/FJ_index.h5, keys: 102, time: 0.0015110969543457031 s, 0.7044835090637207 s\n",
      " 56%|█████▌    | 50/90 [09:37<05:30,  8.26s/it]INFO:root:file: ZINC-DrugLike-3D-20230407/GA_index.h5, keys: 83, time: 0.0016028881072998047 s, 0.7189393043518066 s\n",
      " 57%|█████▋    | 51/90 [09:38<03:54,  6.02s/it]INFO:root:file: ZINC-DrugLike-3D-20230407/GB_index.h5, keys: 97, time: 0.001550912857055664 s, 0.9558267593383789 s\n",
      " 58%|█████▊    | 52/90 [09:39<02:52,  4.53s/it]INFO:root:file: ZINC-DrugLike-3D-20230407/GC_index.h5, keys: 138, time: 0.0015664100646972656 s, 2.706416606903076 s\n",
      " 59%|█████▉    | 53/90 [09:41<02:28,  4.02s/it]INFO:root:file: ZINC-DrugLike-3D-20230407/GD_index.h5, keys: 151, time: 0.002318143844604492 s, 3.805464029312134 s\n",
      " 60%|██████    | 54/90 [09:45<02:23,  4.00s/it]INFO:root:file: ZINC-DrugLike-3D-20230407/GE_index.h5, keys: 140, time: 0.002168893814086914 s, 2.6885151863098145 s\n",
      " 61%|██████    | 55/90 [09:48<02:07,  3.64s/it]INFO:root:file: ZINC-DrugLike-3D-20230407/GF_index.h5, keys: 324, time: 0.0016331672668457031 s, 4.670763969421387 s\n",
      " 62%|██████▏   | 56/90 [09:53<02:16,  4.02s/it]INFO:root:file: ZINC-DrugLike-3D-20230407/GG_index.h5, keys: 143, time: 0.0021522045135498047 s, 3.2701992988586426 s\n",
      " 63%|██████▎   | 57/90 [09:57<02:06,  3.84s/it]INFO:root:file: ZINC-DrugLike-3D-20230407/GH_index.h5, keys: 330, time: 0.0015494823455810547 s, 22.663416385650635 s\n",
      " 64%|██████▍   | 58/90 [10:19<05:05,  9.56s/it]INFO:root:file: ZINC-DrugLike-3D-20230407/GI_index.h5, keys: 126, time: 0.0019736289978027344 s, 1.7857275009155273 s\n",
      " 66%|██████▌   | 59/90 [10:21<03:45,  7.26s/it]INFO:root:file: ZINC-DrugLike-3D-20230407/GJ_index.h5, keys: 97, time: 0.0016486644744873047 s, 0.6105265617370605 s\n",
      " 67%|██████▋   | 60/90 [10:22<02:38,  5.29s/it]INFO:root:file: ZINC-DrugLike-3D-20230407/HA_index.h5, keys: 80, time: 0.0015878677368164062 s, 0.5385282039642334 s\n",
      " 68%|██████▊   | 61/90 [10:23<01:52,  3.89s/it]INFO:root:file: ZINC-DrugLike-3D-20230407/HB_index.h5, keys: 97, time: 0.00182342529296875 s, 0.8103992938995361 s\n",
      " 69%|██████▉   | 62/90 [10:24<01:23,  3.00s/it]INFO:root:file: ZINC-DrugLike-3D-20230407/HC_index.h5, keys: 113, time: 0.001965045928955078 s, 0.9298572540283203 s\n",
      " 70%|███████   | 63/90 [10:25<01:05,  2.41s/it]INFO:root:file: ZINC-DrugLike-3D-20230407/HD_index.h5, keys: 115, time: 0.001608133316040039 s, 0.9678232669830322 s\n",
      " 71%|███████   | 64/90 [10:26<00:52,  2.01s/it]INFO:root:file: ZINC-DrugLike-3D-20230407/HE_index.h5, keys: 120, time: 0.0014798641204833984 s, 1.0509142875671387 s\n",
      " 72%|███████▏  | 65/90 [10:27<00:43,  1.76s/it]INFO:root:file: ZINC-DrugLike-3D-20230407/HF_index.h5, keys: 122, time: 0.0015377998352050781 s, 1.084625244140625 s\n",
      " 73%|███████▎  | 66/90 [10:28<00:38,  1.59s/it]INFO:root:file: ZINC-DrugLike-3D-20230407/HG_index.h5, keys: 111, time: 0.0014600753784179688 s, 0.837977409362793 s\n",
      " 74%|███████▍  | 67/90 [10:29<00:32,  1.40s/it]INFO:root:file: ZINC-DrugLike-3D-20230407/HH_index.h5, keys: 181, time: 0.001598358154296875 s, 6.177083730697632 s\n",
      " 76%|███████▌  | 68/90 [10:35<01:03,  2.88s/it]INFO:root:file: ZINC-DrugLike-3D-20230407/HI_index.h5, keys: 163, time: 0.0019621849060058594 s, 5.108997583389282 s\n",
      " 77%|███████▋  | 69/90 [10:41<01:15,  3.59s/it]INFO:root:file: ZINC-DrugLike-3D-20230407/HJ_index.h5, keys: 94, time: 0.0020868778228759766 s, 0.670769214630127 s\n",
      " 78%|███████▊  | 70/90 [10:41<00:54,  2.74s/it]INFO:root:file: ZINC-DrugLike-3D-20230407/IA_index.h5, keys: 78, time: 0.0016167163848876953 s, 0.49906373023986816 s\n",
      " 79%|███████▉  | 71/90 [10:42<00:39,  2.09s/it]INFO:root:file: ZINC-DrugLike-3D-20230407/IB_index.h5, keys: 98, time: 0.0016226768493652344 s, 0.6885833740234375 s\n",
      " 80%|████████  | 72/90 [10:43<00:30,  1.70s/it]INFO:root:file: ZINC-DrugLike-3D-20230407/IC_index.h5, keys: 109, time: 0.001110076904296875 s, 0.7529191970825195 s\n",
      " 81%|████████  | 73/90 [10:44<00:24,  1.45s/it]INFO:root:file: ZINC-DrugLike-3D-20230407/ID_index.h5, keys: 105, time: 0.0015292167663574219 s, 0.7037999629974365 s\n",
      " 82%|████████▏ | 74/90 [10:44<00:20,  1.25s/it]INFO:root:file: ZINC-DrugLike-3D-20230407/IE_index.h5, keys: 104, time: 0.0022780895233154297 s, 0.7029924392700195 s\n",
      " 83%|████████▎ | 75/90 [10:45<00:16,  1.12s/it]INFO:root:file: ZINC-DrugLike-3D-20230407/IF_index.h5, keys: 103, time: 0.0024030208587646484 s, 0.7398591041564941 s\n",
      " 84%|████████▍ | 76/90 [10:46<00:14,  1.04s/it]INFO:root:file: ZINC-DrugLike-3D-20230407/IG_index.h5, keys: 106, time: 0.0015833377838134766 s, 0.7753055095672607 s\n",
      " 86%|████████▌ | 77/90 [10:47<00:12,  1.01it/s]INFO:root:file: ZINC-DrugLike-3D-20230407/IH_index.h5, keys: 109, time: 0.002300262451171875 s, 0.8155291080474854 s\n",
      " 87%|████████▋ | 78/90 [10:48<00:11,  1.03it/s]INFO:root:file: ZINC-DrugLike-3D-20230407/II_index.h5, keys: 111, time: 0.0016894340515136719 s, 0.8209748268127441 s\n",
      " 88%|████████▊ | 79/90 [10:49<00:10,  1.04it/s]INFO:root:file: ZINC-DrugLike-3D-20230407/IJ_index.h5, keys: 101, time: 0.0015380382537841797 s, 0.7464380264282227 s\n",
      " 89%|████████▉ | 80/90 [10:50<00:09,  1.08it/s]INFO:root:file: ZINC-DrugLike-3D-20230407/JA_index.h5, keys: 81, time: 0.0013082027435302734 s, 0.5093810558319092 s\n",
      " 90%|█████████ | 81/90 [10:50<00:07,  1.21it/s]INFO:root:file: ZINC-DrugLike-3D-20230407/JB_index.h5, keys: 100, time: 0.0032618045806884766 s, 0.739210844039917 s\n",
      " 91%|█████████ | 82/90 [10:51<00:06,  1.21it/s]INFO:root:file: ZINC-DrugLike-3D-20230407/JC_index.h5, keys: 110, time: 0.0016019344329833984 s, 0.898815393447876 s\n",
      " 92%|█████████▏| 83/90 [10:52<00:06,  1.13it/s]INFO:root:file: ZINC-DrugLike-3D-20230407/JD_index.h5, keys: 112, time: 0.0015902519226074219 s, 0.9180088043212891 s\n",
      " 93%|█████████▎| 84/90 [10:53<00:05,  1.08it/s]INFO:root:file: ZINC-DrugLike-3D-20230407/JE_index.h5, keys: 98, time: 0.0015978813171386719 s, 0.6564207077026367 s\n",
      " 94%|█████████▍| 85/90 [10:54<00:04,  1.14it/s]INFO:root:file: ZINC-DrugLike-3D-20230407/JF_index.h5, keys: 110, time: 0.0014958381652832031 s, 0.9357335567474365 s\n",
      " 96%|█████████▌| 86/90 [10:55<00:03,  1.08it/s]INFO:root:file: ZINC-DrugLike-3D-20230407/JG_index.h5, keys: 117, time: 0.0015747547149658203 s, 1.0579462051391602 s\n",
      " 97%|█████████▋| 87/90 [10:56<00:03,  1.00s/it]INFO:root:file: ZINC-DrugLike-3D-20230407/JH_index.h5, keys: 121, time: 0.0015728473663330078 s, 1.092024564743042 s\n",
      " 98%|█████████▊| 88/90 [10:57<00:02,  1.06s/it]INFO:root:file: ZINC-DrugLike-3D-20230407/JI_index.h5, keys: 119, time: 0.0016148090362548828 s, 1.101592779159546 s\n",
      " 99%|█████████▉| 89/90 [10:58<00:01,  1.11s/it]INFO:root:file: ZINC-DrugLike-3D-20230407/JJ_index.h5, keys: 117, time: 0.0016238689422607422 s, 0.9917347431182861 s\n",
      "100%|██████████| 90/90 [11:00<00:00,  7.33s/it]\n"
     ]
    },
    {
     "data": {
      "text/plain": [
       "(17745, 583632480)"
      ]
     },
     "execution_count": 9,
     "metadata": {},
     "output_type": "execute_result"
    }
   ],
   "source": [
    "total_file = 0\n",
    "total_molecule = 0\n",
    "for index_file, _ in tqdm(all_hdf_file):\n",
    "    # 计算时间\n",
    "    t1 = time.time()\n",
    "    index_store = HDFStore(index_file)\n",
    "    t2 = time.time()\n",
    "    # print(index_store.keys())\n",
    "    total_file += len(index_store.keys())\n",
    "    for k in index_store.keys():\n",
    "        total_molecule += index_store[k].shape[0]\n",
    "    t3 = time.time()\n",
    "    logging.info(f'\\nfile: {index_file}, keys: {len(index_store.keys())}, time: {t2-t1} s, {t3-t2} s')\n",
    "    index_store.close()\n",
    "total_file, total_molecule"
   ]
  },
  {
   "attachments": {},
   "cell_type": "markdown",
   "metadata": {},
   "source": [
    "### 多线程完成分子个数和原子个数的统计（待优化）"
   ]
  },
  {
   "cell_type": "code",
   "execution_count": 6,
   "metadata": {},
   "outputs": [],
   "source": [
    "\n",
    "# 创建两个线程，一个线程用于读取数据，一个线程用于处理数据\n",
    "\n",
    "def read_data(q: Queue, file_list: list):\n",
    "    for index_file, coor_file in file_list:\n",
    "        logging.info(f'index_file: {index_file}, coor_file: {coor_file}')\n",
    "        q.put((HDFStore(index_file, mode='r'), HDFStore(coor_file, mode='r')))\n",
    "\n",
    "def process_data(index_store, coor_store):\n",
    "    logging.info('process_data is running')\n",
    "    total_molecule_num = 0\n",
    "    total_atom = defaultdict(lambda: 0)\n",
    "    for path, sub_group, datasetes in tqdm(index_store.walk()):\n",
    "        for dataset in datasetes:\n",
    "            d = os.path.join(path, dataset)\n",
    "            data = index_store.get(d)\n",
    "            data: pd.DataFrame\n",
    "            total_molecule_num += len(data)\n",
    "            data = coor_store.get(d)\n",
    "            data: pd.DataFrame\n",
    "            # 统计原子数量\n",
    "            atom_num_tmp = Counter(data['atom'].to_list())\n",
    "            # 统计原子总数\n",
    "            for key in atom_num_tmp.keys():\n",
    "                total_atom[key] += atom_num_tmp[key]\n",
    "    index_store.close()\n",
    "    coor_store.close()\n",
    "    return {'total_molecule_num': total_molecule_num, 'total_atom': dict(total_atom)}\n",
    "\n",
    "# 创建生产者线程类\n",
    "class Producer(Thread):\n",
    "    def __init__(self, func, q: Queue, file_list: list):\n",
    "        super().__init__()\n",
    "        self.q = q\n",
    "        self.file_list = file_list\n",
    "        self.func = func\n",
    "        self.daemon = True\n",
    "\n",
    "    def run(self):\n",
    "        self.func(self.q, self.file_list)\n",
    "    \n",
    "# 创建消费者线程类\n",
    "class Consumer(Thread):\n",
    "    def __init__(self, q: Queue, loops: int):\n",
    "        super().__init__()\n",
    "        self.q = q\n",
    "        self.daemon = True\n",
    "        self.loops = loops\n",
    "\n",
    "    def run(self):\n",
    "        self.results = dict()\n",
    "        for i in range(self.loops):\n",
    "            logging.info('Consumer is running')\n",
    "            index_store, coor_store = self.q.get()\n",
    "            logging.info('Consumer get data')\n",
    "            result  = process_data(index_store, coor_store)\n",
    "            self.results[os.path.basename(index_store._path)] = result\n",
    "            self.q.task_done()\n",
    "\n"
   ]
  },
  {
   "attachments": {},
   "cell_type": "markdown",
   "metadata": {},
   "source": [
    "### 多线程"
   ]
  },
  {
   "cell_type": "code",
   "execution_count": null,
   "metadata": {},
   "outputs": [],
   "source": [
    "q = Queue()\n",
    "producer = Producer(read_data, q, all_hdf_file)\n",
    "consumer = Consumer(q, len(all_hdf_file))\n",
    "producer.start()\n",
    "consumer.start()\n",
    "q.join()\n",
    "producer.join()\n",
    "consumer.join()\n",
    "with open('zinc20_druglike_dataset_info.pkl', 'wb') as f:\n",
    "    pickle.dump(consumer.results, f)\n",
    "print('All work completed')"
   ]
  },
  {
   "attachments": {},
   "cell_type": "markdown",
   "metadata": {},
   "source": [
    "### 随机抽取数据集中的分子\n",
    "抽取zinc id然后分组，通过路径找到对应的pdbqt.gz文件抽取分子。"
   ]
  },
  {
   "cell_type": "code",
   "execution_count": null,
   "metadata": {},
   "outputs": [],
   "source": [
    "import random\n",
    "random_sample_molecule = dict()\n",
    "ratio = 1/600\n",
    "for index_file, _ in tqdm(all_hdf_file):\n",
    "    index_store = HDFStore(index_file, mode='r')\n",
    "    for path, sub_group, datasetes in tqdm(index_store.walk()):\n",
    "        for dataset in datasetes:\n",
    "            d = os.path.join(path, dataset)\n",
    "            zinc_id_tmp = index_store.get(d).index.to_list()\n",
    "            random_sample_molecule[d] = [zi for zi in zinc_id_tmp if random.random() < ratio]\n",
    "    index_store.close()\n",
    "\n",
    "with open('zinc20_druglike_random_sample_molecule_1f600.pkl', 'wb') as f:\n",
    "    pickle.dump(random_sample_molecule, f)\n"
   ]
  },
  {
   "cell_type": "code",
   "execution_count": 31,
   "metadata": {},
   "outputs": [],
   "source": [
    "import gzip\n",
    "import re\n",
    "import io\n",
    "\n",
    "class ZincPdbqt():\n",
    "    \"\"\"\n",
    "    A class for pdbqt or pdbqt.gz file, this class could transfer str dict to some friendly format.\n",
    "    \"\"\"\n",
    "    def __init__(self, pdbqt_file):\n",
    "        # 读取.pdbqt.gz文件，转换为str\n",
    "        self.f_str = gzip.open(pdbqt_file, mode='rb').read().decode()\n",
    "        # 读取.pdbqt.gz文件中的zinc_id\n",
    "        self.zinc_id = re.findall('Name = (.*?)\\n', self.f_str)\n",
    "        # 读取.pdbqt.gz文件中的分子结构\n",
    "        if self.f_str.startswith('MODEL'):\n",
    "            self.molecules = re.findall('MODEL.*?\\n(.*?)ENDMDL\\n', self.f_str, re.S)\n",
    "        else:\n",
    "            self.molecules = [self.f_str]\n",
    "        # 生成一个list，包含zinc_id和分子结构\n",
    "        self.data = list(zip(self.zinc_id, self.molecules))\n",
    "\n",
    "    @property\n",
    "    def data_dict(self):\n",
    "        return dict(zip(self.zinc_id, self.molecules))\n",
    "def gz_writer(file_name: str) -> io.TextIOWrapper:\n",
    "    \"\"\" get a file name, return a gz file api with wb mode\"\"\"\n",
    "    output = gzip.open(file_name, 'wb')\n",
    "    ecn = io.TextIOWrapper(output, encoding='utf-8')\n",
    "    return ecn\n",
    "\n",
    "def write_pdbqt_to_gz(pdbqt_list, gz_file):\n",
    "    \"\"\"write a list of pdbqt to gz file\"\"\"\n",
    "    with gz_writer(gz_file) as f:\n",
    "        for pdbqt in tqdm(pdbqt_list, desc='write to gz'):\n",
    "            f.writelines('MODEL\\n'+pdbqt[1]+'ENDMDL\\n')\n",
    "\n",
    "def ele_filter(zinc_pdbqt_item, elements_list=None):\n",
    "    \"\"\"\n",
    "    if pdbqt item have element that not in elements_list, return False, else return True.\n",
    "    Use in filter() function.\n",
    "    :param zinc_pdbqt_item: [..., pdbqt_str]\n",
    "    :param elements_list: ['H', 'C', 'O']\n",
    "    :return: True or False.\n",
    "    \"\"\"\n",
    "    assert elements_list is not None, 'elements_list is None'\n",
    "    lines = zinc_pdbqt_item[1].strip().split('\\n')\n",
    "    elements_list = [i.upper() for i in elements_list]\n",
    "    for line in lines:\n",
    "        if line.startswith(('ATOM', 'HETATM')):\n",
    "            # ele = line[12:16].strip()\n",
    "            # 去除元素符号中的非字母字符\n",
    "            ele = line[12:14].strip()\n",
    "            if ele.upper() in elements_list:\n",
    "                continue\n",
    "            else:\n",
    "                return False\n",
    "        else:\n",
    "            continue\n",
    "    return True\n"
   ]
  },
  {
   "cell_type": "code",
   "execution_count": 28,
   "metadata": {},
   "outputs": [
    {
     "name": "stderr",
     "output_type": "stream",
     "text": [
      "read pdbqt.gz: 100%|██████████| 17745/17745 [7:40:00<00:00,  1.56s/it]   \n"
     ]
    }
   ],
   "source": [
    "\n",
    "pdbqt_list = []\n",
    "for k, v in tqdm(random_sample_molecule.items(), desc='read pdbqt.gz'):\n",
    "    # 跳过空的list\n",
    "    if not v:\n",
    "        continue\n",
    "    # 根据k生成文件路径\n",
    "    file = ZINC_DATA_PATH + k.replace('_', '.') + '.pdbqt.gz'\n",
    "    # 分析文件，生成一个dict，key为zinc_id，value为分子结构\n",
    "    zinc_pdbqt = ZincPdbqt(file).data_dict\n",
    "    # 根据zinc_id，从dict中提取分子结构\n",
    "    try:\n",
    "        for zinc_id in v:\n",
    "            pdbqt_list.append((zinc_id, zinc_pdbqt[zinc_id]))\n",
    "    except KeyError:\n",
    "        print(f'{zinc_id} not in {file}')\n",
    "        continue\n",
    "    # break\n"
   ]
  },
  {
   "cell_type": "code",
   "execution_count": 33,
   "metadata": {},
   "outputs": [],
   "source": [
    "elements_dict = dict(C=0, N=1, O=2, H=3, F=4, S=5, CL=6, Br=7, I=8, SI=9, P=10)\n",
    "elements_list = list(elements_dict.keys())\n",
    "ele_filter_ = partial(ele_filter, elements_list=elements_list)\n",
    "pdbqt_list = list(filter(ele_filter_, pdbqt_list))"
   ]
  },
  {
   "cell_type": "code",
   "execution_count": 34,
   "metadata": {},
   "outputs": [
    {
     "data": {
      "text/plain": [
       "971559"
      ]
     },
     "execution_count": 34,
     "metadata": {},
     "output_type": "execute_result"
    }
   ],
   "source": [
    "len(pdbqt_list)\n"
   ]
  },
  {
   "cell_type": "code",
   "execution_count": 29,
   "metadata": {},
   "outputs": [
    {
     "name": "stderr",
     "output_type": "stream",
     "text": [
      "write to gz: 100%|██████████| 971561/971561 [12:01<00:00, 1346.40it/s]\n"
     ]
    }
   ],
   "source": [
    "# 将pdbqt_list写入gz文件\n",
    "write_pdbqt_to_gz(pdbqt_list, 'outputs/zinc20_druglike_random_sample_molecule_1f600.pdbqt.gz')"
   ]
  },
  {
   "attachments": {},
   "cell_type": "markdown",
   "metadata": {},
   "source": [
    "### 从pdbqt.gz文件中抽取分子"
   ]
  },
  {
   "cell_type": "code",
   "execution_count": 30,
   "metadata": {},
   "outputs": [
    {
     "name": "stderr",
     "output_type": "stream",
     "text": [
      "write to gz: 100%|██████████| 100000/100000 [01:14<00:00, 1336.89it/s]\n",
      "write to gz: 100%|██████████| 10000/10000 [00:07<00:00, 1398.40it/s]\n"
     ]
    }
   ],
   "source": [
    "pdbqt_list_100k = random.sample(pdbqt_list, 100_000)\n",
    "write_pdbqt_to_gz(pdbqt_list_100k, 'outputs/zinc20_druglike_random_sample_molecule_1f600_100k.pdbqt.gz')\n",
    "pdbqt_list_10k = random.sample(pdbqt_list_100k, 10000)\n",
    "write_pdbqt_to_gz(pdbqt_list_10k, 'outputs/zinc20_druglike_random_sample_molecule_1f600_10k.pdbqt.gz')"
   ]
  },
  {
   "cell_type": "code",
   "execution_count": 35,
   "metadata": {},
   "outputs": [],
   "source": [
    "random_sample = ZincPdbqt('outputs/zinc20_druglike_random_sample_molecule_1f600.pdbqt.gz').data_dict"
   ]
  },
  {
   "attachments": {},
   "cell_type": "markdown",
   "metadata": {},
   "source": [
    "# 绘图"
   ]
  },
  {
   "cell_type": "code",
   "execution_count": 4,
   "metadata": {},
   "outputs": [],
   "source": [
    "dataset_info = pickle.load(open('../data/dataset/zinc20_druglike_dataset_info.pkl', 'rb'))"
   ]
  },
  {
   "cell_type": "code",
   "execution_count": 29,
   "metadata": {},
   "outputs": [],
   "source": [
    "total_molecule_num = 0\n",
    "total_atom_count = defaultdict(lambda: 0)\n",
    "for k, v in dataset_info.items():\n",
    "    total_molecule_num += v['total_molecule']\n",
    "    for atom, num in v['total_atom'].items():\n",
    "        total_atom_count[atom] += num\n"
   ]
  },
  {
   "cell_type": "code",
   "execution_count": 41,
   "metadata": {},
   "outputs": [],
   "source": [
    "total_atom_count = dict(total_atom_count)\n",
    "\n",
    "# 归一化\n",
    "total_atom_num = sum(total_atom_count.values())\n",
    "total_atom_count_p = {k: v/total_atom_num for k, v in sorted(total_atom_count.items(), key=lambda item: item[1], reverse=True) if k not in ['HD','HH','HE']}\n",
    "# 绘制漂亮的条形图\n",
    "fig, ax = plt.subplots(figsize=(10, 6))\n",
    "ax.bar(total_atom_count_p.keys(), total_atom_count_p.values())\n",
    "ax.set_xlabel('Atom')\n",
    "ax.set_ylabel('Atom Count')\n",
    "ax.set_title('ZINC20 Druglike Subset Atom Count')\n",
    "\n",
    "# 保存为无背景的图片\n",
    "plt.savefig('zinc20_druglike_atom_count.png')"
   ]
  },
  {
   "attachments": {},
   "cell_type": "markdown",
   "metadata": {},
   "source": [
    "## 提取信息"
   ]
  },
  {
   "cell_type": "code",
   "execution_count": 3,
   "metadata": {},
   "outputs": [],
   "source": [
    "# 待提取的分子\n",
    "molecules = pickle.load(open('../data/dataset/outputs/zinc20_druglike_random_sample_molecule_1f600.pkl', 'rb'))\n",
    "\n"
   ]
  },
  {
   "cell_type": "code",
   "execution_count": 4,
   "metadata": {
    "collapsed": false
   },
   "outputs": [
    {
     "name": "stderr",
     "output_type": "stream",
     "text": [
      "100%|██████████| 17745/17745 [10:06:29<00:00,  2.05s/it]  \n"
     ]
    }
   ],
   "source": [
    "molecule_size = dict()\n",
    "for k, v in tqdm(molecules.items()):\n",
    "    if not v:\n",
    "        continue\n",
    "    file = os.path.join(ZINC_DATA_PATH, k[1:3]+'_index.h5')\n",
    "    with HDFStore(file, 'r') as store:\n",
    "        for zinc_id in v:\n",
    "            try:\n",
    "                mol = store[k].loc[zinc_id]\n",
    "                atom_num = mol['end'] - mol['start']\n",
    "                molecule_size[zinc_id] = atom_num\n",
    "                # print(f'{zinc_id} has {atom_num} atoms')\n",
    "                # break\n",
    "            except KeyError:\n",
    "                print(f'{zinc_id} not in {file}')\n",
    "                continue\n",
    "        # break\n",
    "with open('../data/dataset/outputs/zinc20_druglike_random_sample_molecule_1f600_molecule_size.pkl', 'wb') as f:\n",
    "    pickle.dump(molecule_size, f)"
   ]
  },
  {
   "cell_type": "code",
   "execution_count": 8,
   "metadata": {},
   "outputs": [
    {
     "data": {
      "text/plain": [
       "('ZINC001461654371', 30)"
      ]
     },
     "execution_count": 8,
     "metadata": {},
     "output_type": "execute_result"
    }
   ],
   "source": [
    "molecule_size = pickle.load(open('../data/dataset/outputs/zinc20_druglike_random_sample_molecule_1f600_molecule_size.pkl', 'rb'))\n",
    "list(molecule_size.items())[-1]"
   ]
  }
 ],
 "metadata": {
  "kernelspec": {
   "display_name": "Python 3",
   "language": "python",
   "name": "python3"
  },
  "language_info": {
   "codemirror_mode": {
    "name": "ipython",
    "version": 3
   },
   "file_extension": ".py",
   "mimetype": "text/x-python",
   "name": "python",
   "nbconvert_exporter": "python",
   "pygments_lexer": "ipython3",
   "version": "3.9.16"
  },
  "orig_nbformat": 4
 },
 "nbformat": 4,
 "nbformat_minor": 2
}
