{
 "cells": [
  {
   "cell_type": "markdown",
   "metadata": {},
   "source": [
    "# 此文件用于筛选fpocket的输出结果"
   ]
  },
  {
   "cell_type": "code",
   "execution_count": 100,
   "metadata": {},
   "outputs": [],
   "source": [
    "import os\n",
    "import copy"
   ]
  },
  {
   "cell_type": "markdown",
   "metadata": {},
   "source": [
    "# 函数定义"
   ]
  },
  {
   "cell_type": "code",
   "execution_count": 122,
   "metadata": {},
   "outputs": [],
   "source": [
    "def is_dibind(file, base=0) -> bool:\n",
    "    # 用于判断pocket文件中是否同时有蛋白质残基和RNA残基\n",
    "    # return bool\n",
    "    with open(file, 'r') as f:\n",
    "        cont = 1\n",
    "        for line in f:\n",
    "            # print(line)\n",
    "            if line[:4] != 'ATOM': continue\n",
    "            if cont == 1:\n",
    "                residue_name_length = len(f.readline()[17:20].strip())\n",
    "            residue_name = line[17:20].strip()\n",
    "            cont += 1\n",
    "            if len(residue_name) == residue_name_length:\n",
    "                continue\n",
    "            else:\n",
    "                return True\n",
    "    return False\n",
    "\n",
    "def read_druggability(pockets_info):\n",
    "    score_dict = dict()\n",
    "    with open(pockets_info, 'r') as f:\n",
    "        pockets = f.read().strip().split('\\n\\n')\n",
    "        for i, p in enumerate(pockets):\n",
    "            i += 1\n",
    "            score_dict[i] = float(p.split('\\n')[2].split('\\t')[2])\n",
    "    return score_dict\n",
    "\n",
    "def fpocket_filter(fpocket_out_folder, low_line=0.5):\n",
    "    # 此函数用于过滤pocket，利用di_bind函数和分数\n",
    "    pocket_folder = os.path.join(fpocket_out_folder, 'pockets')\n",
    "    pockets_info_file = os.path.join(fpocket_out_folder, fpocket_out_folder.split('/')[-1][:-4]+'_info.txt')\n",
    "    # pockets_file = [os.path.join(pocket_folder, file) for file in os.listdir(pocket_folder) if file[-3:]=='pdb']\n",
    "    pockets_score = read_druggability(pockets_info_file)\n",
    "    results = list()\n",
    "    for i in pockets_score.keys():\n",
    "        pocket_file_path = os.path.join(pocket_folder,f'pocket{i}_atm.pdb')\n",
    "        if pockets_score[i] > low_line and is_dibind(pocket_file_path):\n",
    "            results.append(i)\n",
    "    return results\n",
    "\n",
    "def rewrite_out_file(pdb_out_file:str, pockets:list):\n",
    "    # 此函数用于将不在pockets的pocket删除，并将剩余的pocket重新编号\n",
    "    with open(pdb_out_file, 'r') as f:\n",
    "        line_list = f.read().strip().split('\\n')\n",
    "        # out_line = copy.deepcopy(line_list)\n",
    "        for i, line in enumerate(line_list):\n",
    "            # print(i)\n",
    "            line_list[i] = line + '\\n'\n",
    "            line += '\\n'\n",
    "            if line[:6] == 'HETATM' and line[17:20] == 'STP':\n",
    "                if int(line[22:26]) not in pockets:\n",
    "                    line_list[i] = ''\n",
    "                else:\n",
    "                    line_list[i] = line[:22] + (' '*(4-len(str(pockets.index(int(line[22:26]))+1))) + str(pockets.index(int(line[22:26]))+1)) + line[26:]\n",
    "\n",
    "    with open(pdb_out_file.replace('.pdb', '_new.pdb'), 'w') as f:\n",
    "        f.writelines(line_list)\n",
    "        "
   ]
  },
  {
   "cell_type": "markdown",
   "metadata": {},
   "source": [
    "# main函数"
   ]
  },
  {
   "cell_type": "code",
   "execution_count": 123,
   "metadata": {},
   "outputs": [],
   "source": [
    "if __name__ == \"__main__\":\n",
    "    # fpocket输出文件夹，例：\"E:\\tmp\\fpocket\\6v5b_out\"\n",
    "    fpocket_out_folder = r'/mnt/e/tmp/fpocket/6v5b_out'\n",
    "    pdb_out_file = os.path.join(fpocket_out_folder, fpocket_out_folder.split('/')[-1]+'.pdb')\n",
    "    pockets = fpocket_filter(fpocket_out_folder, low_line=0.1)\n",
    "    # print(pockets)\n",
    "    rewrite_out_file(pdb_out_file, pockets)"
   ]
  },
  {
   "cell_type": "code",
   "execution_count": 72,
   "metadata": {},
   "outputs": [
    {
     "data": {
      "text/plain": [
       "{0: '0.031',\n",
       " 1: '0.003',\n",
       " 2: '0.002',\n",
       " 3: '0.004',\n",
       " 4: '0.017',\n",
       " 5: '0.036',\n",
       " 6: '0.109',\n",
       " 7: '0.000',\n",
       " 8: '0.108',\n",
       " 9: '0.000',\n",
       " 10: '0.001',\n",
       " 11: '0.002',\n",
       " 12: '0.085',\n",
       " 13: '0.001',\n",
       " 14: '0.001',\n",
       " 15: '0.000',\n",
       " 16: '0.003',\n",
       " 17: '0.002',\n",
       " 18: '0.528',\n",
       " 19: '0.005',\n",
       " 20: '0.011',\n",
       " 21: '0.000',\n",
       " 22: '0.011',\n",
       " 23: '0.007',\n",
       " 24: '0.023',\n",
       " 25: '0.001',\n",
       " 26: '0.000',\n",
       " 27: '0.000',\n",
       " 28: '0.001',\n",
       " 29: '0.002',\n",
       " 30: '0.001',\n",
       " 31: '0.001',\n",
       " 32: '0.020',\n",
       " 33: '0.000',\n",
       " 34: '0.001',\n",
       " 35: '0.000',\n",
       " 36: '0.001',\n",
       " 37: '0.000',\n",
       " 38: '0.003',\n",
       " 39: '0.001',\n",
       " 40: '0.081',\n",
       " 41: '0.001',\n",
       " 42: '0.003',\n",
       " 43: '0.001',\n",
       " 44: '0.000',\n",
       " 45: '0.001',\n",
       " 46: '0.000',\n",
       " 47: '0.001',\n",
       " 48: '0.001',\n",
       " 49: '0.003',\n",
       " 50: '0.000',\n",
       " 51: '0.001',\n",
       " 52: '0.001',\n",
       " 53: '0.000',\n",
       " 54: '0.000',\n",
       " 55: '0.002',\n",
       " 56: '0.003',\n",
       " 57: '0.888',\n",
       " 58: '0.028',\n",
       " 59: '0.000',\n",
       " 60: '0.000',\n",
       " 61: '0.001',\n",
       " 62: '0.012',\n",
       " 63: '0.001',\n",
       " 64: '0.000',\n",
       " 65: '0.002',\n",
       " 66: '0.003',\n",
       " 67: '0.000',\n",
       " 68: '0.001',\n",
       " 69: '0.002',\n",
       " 70: '0.006',\n",
       " 71: '0.226',\n",
       " 72: '0.008',\n",
       " 73: '0.000',\n",
       " 74: '0.002',\n",
       " 75: '0.001',\n",
       " 76: '0.001',\n",
       " 77: '0.001',\n",
       " 78: '0.002',\n",
       " 79: '0.000',\n",
       " 80: '0.000',\n",
       " 81: '0.013',\n",
       " 82: '0.000',\n",
       " 83: '0.001',\n",
       " 84: '0.004',\n",
       " 85: '0.000',\n",
       " 86: '0.000',\n",
       " 87: '0.000',\n",
       " 88: '0.000',\n",
       " 89: '0.000',\n",
       " 90: '0.001',\n",
       " 91: '0.001',\n",
       " 92: '0.001',\n",
       " 93: '0.001',\n",
       " 94: '0.006',\n",
       " 95: '0.000',\n",
       " 96: '0.001',\n",
       " 97: '0.001',\n",
       " 98: '0.001',\n",
       " 99: '0.000',\n",
       " 100: '0.000',\n",
       " 101: '0.002',\n",
       " 102: '0.001',\n",
       " 103: '0.001',\n",
       " 104: '0.001',\n",
       " 105: '0.366',\n",
       " 106: '0.121',\n",
       " 107: '0.054',\n",
       " 108: '0.001',\n",
       " 109: '0.000',\n",
       " 110: '0.000',\n",
       " 111: '0.075',\n",
       " 112: '0.004',\n",
       " 113: '0.016'}"
      ]
     },
     "execution_count": 72,
     "metadata": {},
     "output_type": "execute_result"
    }
   ],
   "source": [
    "read_druggability(fpocket_out_folder+'/6v5b_info.txt')"
   ]
  },
  {
   "cell_type": "markdown",
   "metadata": {},
   "source": [
    "# 输出文件"
   ]
  },
  {
   "cell_type": "code",
   "execution_count": 37,
   "metadata": {},
   "outputs": [],
   "source": [
    "19, 58"
   ]
  }
 ],
 "metadata": {
  "kernelspec": {
   "display_name": "Python 3.9.7 ('smtr')",
   "language": "python",
   "name": "python3"
  },
  "language_info": {
   "codemirror_mode": {
    "name": "ipython",
    "version": 3
   },
   "file_extension": ".py",
   "mimetype": "text/x-python",
   "name": "python",
   "nbconvert_exporter": "python",
   "pygments_lexer": "ipython3",
   "version": "3.9.7"
  },
  "orig_nbformat": 4,
  "vscode": {
   "interpreter": {
    "hash": "a75462293d05fc3e00128f4985dd13fcf50f4f5144b1474848efbcac1f09cd24"
   }
  }
 },
 "nbformat": 4,
 "nbformat_minor": 2
}
