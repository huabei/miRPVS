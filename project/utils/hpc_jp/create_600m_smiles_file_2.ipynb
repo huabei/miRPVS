{
 "cells": [
  {
   "cell_type": "code",
   "execution_count": 1,
   "metadata": {},
   "outputs": [
    {
     "data": {
      "text/plain": [
       "'/public/home/hpc192311018/Huabei/bin'"
      ]
     },
     "execution_count": 1,
     "metadata": {},
     "output_type": "execute_result"
    }
   ],
   "source": [
    "import pandas as pd\n",
    "import os\n",
    "from tqdm.notebook import tqdm\n",
    "from functools import partial\n",
    "os.getcwd()"
   ]
  },
  {
   "cell_type": "code",
   "execution_count": 2,
   "metadata": {},
   "outputs": [],
   "source": [
    "os.chdir('/public/home/hpc192311018/Huabei/python_scripts/data/zinc-drug-like-smiles')"
   ]
  },
  {
   "cell_type": "code",
   "execution_count": 4,
   "metadata": {},
   "outputs": [
    {
     "name": "stdout",
     "output_type": "stream",
     "text": [
      "9781\n"
     ]
    }
   ],
   "source": [
    "f = open('../ZINC-downloader-3D-smi.database_index', 'r')\n",
    "# f = open('../ZINC-downloader-3D-smi-test.database_index', 'r')\n",
    "f_wrong = open('../wrong_file.txt', 'w')\n",
    "\n",
    "f_list = list(f)\n",
    "# 排除空文件\n",
    "f_list = [file_name.strip() for file_name in f_list if os.path.getsize(file_name.strip())!=0]\n",
    "print(len(f_list))\n",
    "f.close()"
   ]
  },
  {
   "cell_type": "code",
   "execution_count": 5,
   "metadata": {},
   "outputs": [
    {
     "data": {
      "application/vnd.jupyter.widget-view+json": {
       "model_id": "3c8fcd52702b49a58532a72cd25f448b",
       "version_major": 2,
       "version_minor": 0
      },
      "text/plain": [
       "  0%|          | 0/9781 [00:00<?, ?it/s]"
      ]
     },
     "metadata": {},
     "output_type": "display_data"
    }
   ],
   "source": [
    "out_file = open('../zinc_600m.smi', 'w')\n",
    "out_file.write('smiles zinc_id\\n')\n",
    "for file_name in tqdm(f_list):\n",
    "    f = open(file_name, 'r')\n",
    "    out_file.writelines(f.readlines()[1:])\n",
    "    f.close()\n",
    "out_file.close()\n"
   ]
  },
  {
   "cell_type": "code",
   "execution_count": 7,
   "metadata": {},
   "outputs": [
    {
     "data": {
      "application/vnd.jupyter.widget-view+json": {
       "model_id": "259a823d9dab46668d458447eb7ec817",
       "version_major": 2,
       "version_minor": 0
      },
      "text/plain": [
       "0it [00:00, ?it/s]"
      ]
     },
     "metadata": {},
     "output_type": "display_data"
    }
   ],
   "source": [
    "df = pd.read_csv('../zinc_600m.smi', sep=' ', chunksize=1000000)\n",
    "zinc_id_100k = pd.read_csv('../zinc_id_100k.csv')\n",
    "results = list()\n",
    "for i, chunk in tqdm(enumerate(df)):\n",
    "    results.append(pd.merge(chunk, zinc_id_100k, how='inner', on='zinc_id'))\n",
    "out = pd.concat(results)\n",
    "out.to_csv('../zinc_600m_100k.csv', index=False, header=True, sep=',')\n",
    "\n"
   ]
  },
  {
   "cell_type": "code",
   "execution_count": 6,
   "metadata": {},
   "outputs": [
    {
     "data": {
      "text/html": [
       "<div>\n",
       "<style scoped>\n",
       "    .dataframe tbody tr th:only-of-type {\n",
       "        vertical-align: middle;\n",
       "    }\n",
       "\n",
       "    .dataframe tbody tr th {\n",
       "        vertical-align: top;\n",
       "    }\n",
       "\n",
       "    .dataframe thead th {\n",
       "        text-align: right;\n",
       "    }\n",
       "</style>\n",
       "<table border=\"1\" class=\"dataframe\">\n",
       "  <thead>\n",
       "    <tr style=\"text-align: right;\">\n",
       "      <th></th>\n",
       "      <th>smiles</th>\n",
       "      <th>zinc_id</th>\n",
       "    </tr>\n",
       "  </thead>\n",
       "  <tbody>\n",
       "    <tr>\n",
       "      <th>0</th>\n",
       "      <td>COCCN1C[C@@H](C(=O)NC[C@H]2CCN2CCO)CC1=O</td>\n",
       "      <td>ZINC001038316934</td>\n",
       "    </tr>\n",
       "    <tr>\n",
       "      <th>1</th>\n",
       "      <td>C[N@@H+]1CCC[C@H]1C(=O)NCCNC(=O)[C@@H]1CCCNC1=O</td>\n",
       "      <td>ZINC001491187135</td>\n",
       "    </tr>\n",
       "    <tr>\n",
       "      <th>2</th>\n",
       "      <td>COC(=O)[C@H]1C[NH2+]CCCN1C(=O)[C@H]1CCC(=O)N1</td>\n",
       "      <td>ZINC000592549511</td>\n",
       "    </tr>\n",
       "    <tr>\n",
       "      <th>3</th>\n",
       "      <td>O=C(NC[C@H]1COCC[NH2+]1)NC[C@@H]1CCCNC1=O</td>\n",
       "      <td>ZINC000627061940</td>\n",
       "    </tr>\n",
       "    <tr>\n",
       "      <th>4</th>\n",
       "      <td>CN1C(=O)C(=O)N(CC(=O)N2C[C@H]3[C@@H](C2)[C@@H]...</td>\n",
       "      <td>ZINC000627650812</td>\n",
       "    </tr>\n",
       "  </tbody>\n",
       "</table>\n",
       "</div>"
      ],
      "text/plain": [
       "                                              smiles           zinc_id\n",
       "0           COCCN1C[C@@H](C(=O)NC[C@H]2CCN2CCO)CC1=O  ZINC001038316934\n",
       "1    C[N@@H+]1CCC[C@H]1C(=O)NCCNC(=O)[C@@H]1CCCNC1=O  ZINC001491187135\n",
       "2      COC(=O)[C@H]1C[NH2+]CCCN1C(=O)[C@H]1CCC(=O)N1  ZINC000592549511\n",
       "3          O=C(NC[C@H]1COCC[NH2+]1)NC[C@@H]1CCCNC1=O  ZINC000627061940\n",
       "4  CN1C(=O)C(=O)N(CC(=O)N2C[C@H]3[C@@H](C2)[C@@H]...  ZINC000627650812"
      ]
     },
     "execution_count": 6,
     "metadata": {},
     "output_type": "execute_result"
    }
   ],
   "source": [
    "len(results)\n",
    "results[1].head()"
   ]
  },
  {
   "cell_type": "code",
   "execution_count": 6,
   "metadata": {},
   "outputs": [
    {
     "data": {
      "text/html": [
       "<div>\n",
       "<style scoped>\n",
       "    .dataframe tbody tr th:only-of-type {\n",
       "        vertical-align: middle;\n",
       "    }\n",
       "\n",
       "    .dataframe tbody tr th {\n",
       "        vertical-align: top;\n",
       "    }\n",
       "\n",
       "    .dataframe thead th {\n",
       "        text-align: right;\n",
       "    }\n",
       "</style>\n",
       "<table border=\"1\" class=\"dataframe\">\n",
       "  <thead>\n",
       "    <tr style=\"text-align: right;\">\n",
       "      <th></th>\n",
       "      <th>zinc_id</th>\n",
       "    </tr>\n",
       "  </thead>\n",
       "  <tbody>\n",
       "    <tr>\n",
       "      <th>0</th>\n",
       "      <td>ZINC001484687115</td>\n",
       "    </tr>\n",
       "    <tr>\n",
       "      <th>1</th>\n",
       "      <td>ZINC000971930080</td>\n",
       "    </tr>\n",
       "    <tr>\n",
       "      <th>2</th>\n",
       "      <td>ZINC000982286002</td>\n",
       "    </tr>\n",
       "    <tr>\n",
       "      <th>3</th>\n",
       "      <td>ZINC001482054465</td>\n",
       "    </tr>\n",
       "    <tr>\n",
       "      <th>4</th>\n",
       "      <td>ZINC000944737603</td>\n",
       "    </tr>\n",
       "  </tbody>\n",
       "</table>\n",
       "</div>"
      ],
      "text/plain": [
       "            zinc_id\n",
       "0  ZINC001484687115\n",
       "1  ZINC000971930080\n",
       "2  ZINC000982286002\n",
       "3  ZINC001482054465\n",
       "4  ZINC000944737603"
      ]
     },
     "execution_count": 6,
     "metadata": {},
     "output_type": "execute_result"
    }
   ],
   "source": [
    "zinc_id_100k = pd.read_csv('../zinc_id_100k.csv')\n",
    "results = df.loc(zinc_id_100k['zinc_id'])"
   ]
  }
 ],
 "metadata": {
  "kernelspec": {
   "display_name": "Python 3",
   "language": "python",
   "name": "python3"
  },
  "language_info": {
   "codemirror_mode": {
    "name": "ipython",
    "version": 3
   },
   "file_extension": ".py",
   "mimetype": "text/x-python",
   "name": "python",
   "nbconvert_exporter": "python",
   "pygments_lexer": "ipython3",
   "version": "3.8.12"
  },
  "orig_nbformat": 4
 },
 "nbformat": 4,
 "nbformat_minor": 2
}
