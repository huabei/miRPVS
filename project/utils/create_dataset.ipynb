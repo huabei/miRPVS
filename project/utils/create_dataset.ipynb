{
 "cells": [
  {
   "cell_type": "code",
   "execution_count": 9,
   "metadata": {},
   "outputs": [],
   "source": [
    "import os\n",
    "from package import get_pdbqt_info, get_sdf_info, get_autodock_best_score, get_pdb_atom_info, write_data\n",
    "from tqdm import tqdm\n",
    "import re"
   ]
  },
  {
   "cell_type": "code",
   "execution_count": 15,
   "metadata": {},
   "outputs": [],
   "source": [
    "def main(struc_file_path, dock_file_path, out_put_file, struc_file_format='sdf'):\n",
    "    root_dir = os.getcwd()\n",
    "    struc_path = os.path.join(root_dir, struc_file_path)\n",
    "    results_path = os.path.join(root_dir, dock_file_path)\n",
    "    output_file = os.path.join(root_dir, out_put_file)\n",
    "    # generate sdf pos\n",
    "    if struc_file_format == 'sdf':\n",
    "        struc_data_from = 'sdf'\n",
    "        inf = open(struc_path, 'rb')\n",
    "        struc_data = get_sdf_info(inf=inf)\n",
    "    else:\n",
    "        struc_data_from = struc_file_format\n",
    "    \n",
    "    total_data = dict()\n",
    "    f = open(output_file, 'w')\n",
    "    f.write('e(kcalmol^-1)\\n')\n",
    "    for file_name in tqdm(os.listdir(results_path), desc='prepare dataset'):\n",
    "        # print(f'write file {file_name[:-6]}')\n",
    "        # prepare file path\n",
    "        results_file = os.path.join(results_path, file_name)\n",
    "        total_data['id'] = file_name[:-6]\n",
    "        try:\n",
    "            total_data['score'] = get_autodock_best_score(results_file)\n",
    "        except:\n",
    "            print(file_name)\n",
    "            continue\n",
    "        # if os.path.exists()\n",
    "        # get_data\n",
    "        if struc_data_from == 'pdb':\n",
    "            # print('extract structure form pdb file')\n",
    "            struc_file_name = file_name.replace('_out.pdbqt', '.pdb')\n",
    "            struc_file = os.path.join(struc_path, struc_file_name)\n",
    "            total_data['pos'] = get_pdb_atom_info(struc_file)['HETATM']\n",
    "        if struc_data_from == 'pdbqt':\n",
    "            # print('extract structure form pdbqt file')\n",
    "            total_data['pos'] = get_pdbqt_info(results_file, idx=0)\n",
    "        if struc_data_from == 'sdf':\n",
    "            # print('extract structure form sdf file')\n",
    "            # cont = file_name[7:-10]\n",
    "            # print(re.findall(r'(\\d+)', file_name)[0])\n",
    "            cont = re.findall(r'(\\d+)', file_name)[0]\n",
    "            # continue\n",
    "            # cont = file_name[4:-10]\n",
    "            total_data['pos'] = struc_data[cont]['pos']\n",
    "\n",
    "        # write_data\n",
    "        write_data(f, total_data)\n",
    "        # break\n",
    "    print('Congratulate')\n",
    "    f.close()\n",
    "    \n"
   ]
  },
  {
   "cell_type": "code",
   "execution_count": 16,
   "metadata": {},
   "outputs": [
    {
     "data": {
      "text/plain": [
       "['123']"
      ]
     },
     "execution_count": 16,
     "metadata": {},
     "output_type": "execute_result"
    }
   ],
   "source": [
    "re.findall(r'(\\d+)', 'abc_db_123_.jin')"
   ]
  },
  {
   "cell_type": "code",
   "execution_count": 17,
   "metadata": {},
   "outputs": [
    {
     "name": "stderr",
     "output_type": "stream",
     "text": [
      "prepare dataset: 100%|██████████| 34134/34134 [04:31<00:00, 125.90it/s]"
     ]
    },
    {
     "name": "stdout",
     "output_type": "stream",
     "text": [
      "Congratulate\n"
     ]
    },
    {
     "name": "stderr",
     "output_type": "stream",
     "text": [
      "\n"
     ]
    }
   ],
   "source": [
    "if __name__ == '__main__':\n",
    "    # prepare files folder path\n",
    "    # pyfile_path, struc_file_path, results_file_path, output_file = sys.argv\n",
    "    struc_file_format, struc_file_path, dock_file_path, output_file = ('pdbqt', r\"/home/huabei/soft_folder/smtr_data/Dock/SM/in-man.sdf\",\n",
    "    r\"/home/huabei/soft_folder/smtr_data/Dock/miRNA/mir-21/pri/dock_results/mk_in_man_Dock_results/exhaustiveness_96/1\", 'in_man_exhaustiveness_96_dock_conformation_0_lipinski.txt')\n",
    "    main(struc_file_path, dock_file_path, output_file, struc_file_format)"
   ]
  }
 ],
 "metadata": {
  "kernelspec": {
   "display_name": "Python 3.9.7 ('smtr')",
   "language": "python",
   "name": "python3"
  },
  "language_info": {
   "codemirror_mode": {
    "name": "ipython",
    "version": 3
   },
   "file_extension": ".py",
   "mimetype": "text/x-python",
   "name": "python",
   "nbconvert_exporter": "python",
   "pygments_lexer": "ipython3",
   "version": "3.9.7"
  },
  "orig_nbformat": 4,
  "vscode": {
   "interpreter": {
    "hash": "a75462293d05fc3e00128f4985dd13fcf50f4f5144b1474848efbcac1f09cd24"
   }
  }
 },
 "nbformat": 4,
 "nbformat_minor": 2
}
