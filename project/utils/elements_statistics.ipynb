{
 "cells": [
  {
   "cell_type": "code",
   "execution_count": 1,
   "metadata": {
    "collapsed": true,
    "pycharm": {
     "name": "#%%\n"
    }
   },
   "outputs": [],
   "source": [
    "import rdkit\n",
    "from collections import defaultdict\n",
    "from file_exits import ZincPdbqt\n",
    "from MDAnalysis.coordinates.PDBQT import PDBQTReader\n",
    "from MDAnalysis.topology.PDBQTParser import PDBQTParser\n",
    "import MDAnalysis as mda\n",
    "import gzip"
   ]
  },
  {
   "cell_type": "code",
   "execution_count": 2,
   "outputs": [],
   "source": [
    "suppl = rdkit.Chem.SDMolSupplier('fda.sdf')\n"
   ],
   "metadata": {
    "collapsed": false,
    "pycharm": {
     "name": "#%%\n"
    }
   }
  },
  {
   "cell_type": "code",
   "execution_count": 18,
   "outputs": [
    {
     "data": {
      "text/plain": "defaultdict(<function __main__.<lambda>()>,\n            {'C': 29634,\n             'O': 5895,\n             'P': 52,\n             'Cl': 352,\n             'N': 3493,\n             'F': 476,\n             'S': 388,\n             'Br': 13,\n             'I': 73,\n             'Si': 6,\n             'B': 6})"
     },
     "execution_count": 18,
     "metadata": {},
     "output_type": "execute_result"
    }
   ],
   "source": [
    "def static_elements(suppl):\n",
    "    # 获取sdf文件中的分子元素统计信息\n",
    "    total_elements = list()\n",
    "    for mol in suppl:\n",
    "        atoms = mol.GetAtoms()\n",
    "        elements = [i.GetSymbol() for i in atoms]\n",
    "        total_elements.extend(elements)\n",
    "    # len(total_elements)\n",
    "    static_element = defaultdict(lambda: 0)\n",
    "    for t in total_elements:\n",
    "        static_elements[t] += 1\n",
    "    # static_elements.keys()\n",
    "    return static_element\n",
    "static_elements(suppl)"
   ],
   "metadata": {
    "collapsed": false,
    "pycharm": {
     "name": "#%%\n"
    }
   }
  },
  {
   "cell_type": "code",
   "execution_count": 2,
   "outputs": [],
   "source": [
    "ligands_file_name = '../zinc/zinc_drug_like_3d_100k.pdbqt.gz'\n",
    "ligands = ZincPdbqt(ligands_file_name)"
   ],
   "metadata": {
    "collapsed": false,
    "pycharm": {
     "name": "#%%\n"
    }
   }
  },
  {
   "cell_type": "code",
   "execution_count": 3,
   "outputs": [
    {
     "data": {
      "text/plain": "defaultdict(<function file_exits.ZincPdbqt.elements.<locals>.<lambda>()>,\n            {'C': 1691143,\n             'N': 319980,\n             'H': 170771,\n             'O': 248764,\n             'S': 25475,\n             'F': 36057,\n             'CL': 9909,\n             'BR': 3189,\n             'P': 18,\n             'I': 232,\n             'SI': 14})"
     },
     "execution_count": 3,
     "metadata": {},
     "output_type": "execute_result"
    }
   ],
   "source": [
    "ligands.elements\n",
    "# tem = gzip.open('3a6p.pdbqt', mode='rb').read().decode()\n",
    "# pdbqt = PDBQTReader('3a6p.pdbqt')\n",
    "# pdbqt = PDBQTParser('3a6p.pdbqt')"
   ],
   "metadata": {
    "collapsed": false,
    "pycharm": {
     "name": "#%%\n"
    }
   }
  },
  {
   "cell_type": "code",
   "execution_count": 2,
   "outputs": [],
   "source": [
    "# mda.Universe('3a6p.pdbqt', format='PDBQT')"
   ],
   "metadata": {
    "collapsed": false,
    "pycharm": {
     "name": "#%%\n"
    }
   }
  }
 ],
 "metadata": {
  "kernelspec": {
   "display_name": "Python 3",
   "language": "python",
   "name": "python3"
  },
  "language_info": {
   "codemirror_mode": {
    "name": "ipython",
    "version": 2
   },
   "file_extension": ".py",
   "mimetype": "text/x-python",
   "name": "python",
   "nbconvert_exporter": "python",
   "pygments_lexer": "ipython2",
   "version": "2.7.6"
  }
 },
 "nbformat": 4,
 "nbformat_minor": 0
}