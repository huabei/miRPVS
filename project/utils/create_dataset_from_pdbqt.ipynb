{
 "cells": [
  {
   "cell_type": "markdown",
   "metadata": {
    "collapsed": false
   },
   "source": [
    "# 构建数据集"
   ]
  },
  {
   "cell_type": "markdown",
   "metadata": {
    "collapsed": false
   },
   "source": [
    "## 导入包"
   ]
  },
  {
   "cell_type": "code",
   "execution_count": 1,
   "metadata": {
    "collapsed": true
   },
   "outputs": [
    {
     "data": {
      "text/plain": [
       "'/mnt/e/Python_Project/SMTarRNA/project/utils'"
      ]
     },
     "execution_count": 1,
     "metadata": {},
     "output_type": "execute_result"
    }
   ],
   "source": [
    "import pickle\n",
    "from utils import ZincPdbqt, generate_coor, write_data, ele_filter, read_dock_score\n",
    "from tqdm import tqdm\n",
    "import os\n",
    "from functools import partial\n",
    "import pandas as pd\n",
    "os.getcwd()"
   ]
  },
  {
   "cell_type": "markdown",
   "metadata": {
    "collapsed": false
   },
   "source": [
    "## 从pkl文件读入对接能量分数"
   ]
  },
  {
   "cell_type": "code",
   "execution_count": 2,
   "metadata": {
    "collapsed": false
   },
   "outputs": [],
   "source": [
    "# origin_100K_data_path = 'data//100k'\n",
    "# origin_100K_data_path = 'data/3a6p/100k'\n",
    "origin_100K_data_path = '../data/4z4d/100k_apH'\n",
    "\n",
    "dock_score_100k = read_dock_score(origin_100K_data_path)\n",
    "# dock_score_10k = read_dock_score(origin_10K_data_path)\n",
    "score_dict = dock_score_100k\n",
    "# with open('E:/Python_Project/SMTarRNA/project/data/3a6p/3a6p_dock_origin_data/zinc_drug_like_3d_100k_dock_energy.pkl', 'rb') as f:\n",
    "#     score_dict = pickle.load(f)"
   ]
  },
  {
   "cell_type": "code",
   "execution_count": 5,
   "metadata": {
    "collapsed": false
   },
   "outputs": [],
   "source": [
    "# 存入csv\n",
    "dataframe = pd.Series(score_dict)\n",
    "dataframe.to_csv('drug_like_100k_energy.csv')"
   ]
  },
  {
   "cell_type": "code",
   "execution_count": 7,
   "metadata": {
    "collapsed": false
   },
   "outputs": [],
   "source": [
    "energy_d = pd.read_csv('../data/drug_like_100k_energy.csv')\n",
    "smiles_d = pd.read_csv('../data/zinc_600m_100k_smiles.csv')\n",
    "smiles_d.set_index('zinc_id', inplace=True)\n",
    "smiles_d['smiles_len'] = smiles_d['smiles'].apply(lambda x: len(x), 0)\n",
    "smiles_d['smiles_len'] = smiles_d['smiles_len'].astype('int64')\n",
    "\n"
   ]
  },
  {
   "cell_type": "code",
   "execution_count": 32,
   "metadata": {
    "collapsed": false
   },
   "outputs": [
    {
     "name": "stderr",
     "output_type": "stream",
     "text": [
      "/tmp/ipykernel_30285/939222829.py:1: FutureWarning: The default dtype for empty Series will be 'object' instead of 'float64' in a future version. Specify a dtype explicitly to silence this warning.\n",
      "  smiles_d_cleaned = pd.Series()\n",
      "100%|██████████| 100444/100444 [11:04<00:00, 151.15it/s]\n"
     ]
    }
   ],
   "source": [
    "smiles_d_cleaned = pd.Series()\n",
    "for zinc_id in tqdm(energy_d['zinc_id']):\n",
    "    # print(zinc_id)\n",
    "    # print(smiles_d.loc[zinc_id]['smiles_len'].argmin())\n",
    "    if type(smiles_d['smiles'].loc[zinc_id]) == str:\n",
    "        smiles_d_cleaned[zinc_id] = smiles_d['smiles'].loc[zinc_id]\n",
    "    else:\n",
    "        smiles_d_cleaned[zinc_id] = smiles_d['smiles'].loc[zinc_id].iloc[smiles_d.loc[zinc_id]['smiles_len'].argmin()]\n",
    "\n",
    "    # break"
   ]
  },
  {
   "cell_type": "code",
   "execution_count": 40,
   "metadata": {
    "collapsed": false
   },
   "outputs": [
    {
     "data": {
      "text/plain": [
       "ZINC001484687115      CO[C@@H](CC(C)C)C(=O)N1CCO[C@@H](CNCc2nnnn2C)C1\n",
       "ZINC000971930080     CCC[N@H+](C)[C@H]1CCN(C(=O)C[C@H]2CC(C)(C)CO2)C1\n",
       "ZINC000982286002    COc1ccc(CN2C[C@]3(C)CN(C(=O)C4(C)CC4)C[C@]3(C)...\n",
       "ZINC001482054465       C=C(C)CC[NH2+]C[C@H]1CCCN1C(=O)[C@H]1CCC(=O)N1\n",
       "ZINC000944737603       Cc1coc(C(=O)NC[C@H]2CN(C(=O)c3csc(C)n3)CCO2)c1\n",
       "                                          ...                        \n",
       "ZINC001083284498    CC(C)=CCN1C[C@H]2OCCN(C(=O)c3cn(CC(N)=O)nn3)[C...\n",
       "ZINC001364849572             COCc1nc(CNS(=O)(=O)[C@@H]2COC[C@H]2O)cs1\n",
       "ZINC000491008935                CCOC(=O)N(C)C1CCN(CC(=O)N(C)C2CC2)CC1\n",
       "ZINC000262257209           C[C@H](NC(=O)C[C@@H]1COCCN1)c1cc(Cl)ccc1Cl\n",
       "energy              0        -6.981\n",
       "1        -6.090\n",
       "2        -7.73...\n",
       "Length: 100445, dtype: object"
      ]
     },
     "execution_count": 40,
     "metadata": {},
     "output_type": "execute_result"
    }
   ],
   "source": [
    "# energy_d.columns\n",
    "smiles_d_cleaned"
   ]
  },
  {
   "cell_type": "code",
   "execution_count": 44,
   "metadata": {
    "collapsed": false
   },
   "outputs": [],
   "source": [
    "# smiles_d_cleaned['energy'] = energy_d['energy']\n",
    "# energy_d.set_index('zinc_id', inplace=True)\n",
    "# out_dataframe = pd.DataFrame(data=dict(smiles=smiles_d_cleaned, energy=energy_d['energy']))\n",
    "# out_dataframe = pd.merge(left=smiles_d_cleaned, right=energy_d['energy'], )\n",
    "out_dataframe = pd.concat([smiles_d_cleaned, energy_d['energy']], axis=1)\n",
    "# energy_d['smiles'] = smiles_d_cleaned\n",
    "out_dataframe.to_csv('drug_like_100k_smiles_dataset.txt', index=False)\n",
    "# smiles_d['smiles'].loc[zinc_id].iloc[smiles_d.loc[zinc_id]['smiles_len'].argmin()]"
   ]
  },
  {
   "cell_type": "code",
   "execution_count": 3,
   "metadata": {
    "collapsed": false
   },
   "outputs": [
    {
     "name": "stdout",
     "output_type": "stream",
     "text": [
      "100444\n"
     ]
    },
    {
     "data": {
      "text/plain": [
       "'ZINC001484687115'"
      ]
     },
     "execution_count": 3,
     "metadata": {},
     "output_type": "execute_result"
    }
   ],
   "source": [
    "print(len(score_dict.keys()))\n",
    "list(score_dict.keys())[0]"
   ]
  },
  {
   "cell_type": "markdown",
   "metadata": {
    "collapsed": false
   },
   "source": [
    "## 读入小分子的结构"
   ]
  },
  {
   "cell_type": "code",
   "execution_count": 4,
   "metadata": {
    "collapsed": false
   },
   "outputs": [],
   "source": [
    "ligands_file_name = 'zinc/zinc_drug_like_3d_100k_rand.pdbqt.gz'\n",
    "elements_list = ['C', 'H', 'O', 'N', 'S', 'P', 'BR', 'CL', 'F', 'I']\n",
    "transform = partial(ele_filter, elements_list=elements_list)\n",
    "ligands = ZincPdbqt(ligands_file_name, filter_=[transform])"
   ]
  },
  {
   "cell_type": "code",
   "execution_count": 4,
   "metadata": {
    "collapsed": false
   },
   "outputs": [],
   "source": [
    "len(ligands.zinc_id)\n",
    "with open('zinc_id.txt', 'w') as f:\n",
    "    f.write('\\n'.join(ligands.zinc_id))\n"
   ]
  },
  {
   "cell_type": "markdown",
   "metadata": {
    "collapsed": false
   },
   "source": [
    "## 构建数据集"
   ]
  },
  {
   "cell_type": "code",
   "execution_count": 5,
   "metadata": {
    "collapsed": false
   },
   "outputs": [
    {
     "name": "stderr",
     "output_type": "stream",
     "text": [
      "prepare: 100%|██████████| 100446/100446 [01:47<00:00, 934.51it/s]\n"
     ]
    }
   ],
   "source": [
    "# ligands.zinc_id\n",
    "# print(len(ligands))\n",
    "# print(ligands.zinc_id[0])\n",
    "# score_dict[ligands.zinc_id[500]]\n",
    "# elements_list = ['C', 'H', 'O', 'N', 'S', 'P', 'BR', 'CL', 'F', 'I']\n",
    "f = open('4z4d_100K_rand.txt', 'w')\n",
    "f.write('e(kcalmol^-1)\\n')\n",
    "data_dict = dict()\n",
    "for ligands_id, ligands_model in tqdm(ligands, desc='prepare'):\n",
    "    if ligands_id not in list(score_dict.keys()):\n",
    "        print(f'here wrong {ligands_id}')\n",
    "        continue\n",
    "    data_dict['score'] = score_dict[ligands_id]\n",
    "    data_dict['pos'] = generate_coor(ligands_model)\n",
    "    data_dict['id'] = ligands_id\n",
    "    f = write_data(f, data_dict)\n",
    "    # break\n",
    "f.close()"
   ]
  },
  {
   "cell_type": "code",
   "execution_count": 7,
   "metadata": {
    "collapsed": false
   },
   "outputs": [],
   "source": [
    "score_dict = dict()\n",
    "for i in range(102):\n",
    "    ligands_file_name = f'/mnt/e/Python_Project/SMTarRNA/project/data/3a6p/3a6p_dock_origin_data/zinc_drug_like_3d_100k_dock_results_{i}.pdbqt.gz'\n",
    "    ligands = ZincPdbqt(ligands_file_name)\n",
    "    score_dict.update(ligands.scores)\n",
    "    # break\n"
   ]
  },
  {
   "cell_type": "code",
   "execution_count": 8,
   "metadata": {
    "collapsed": false
   },
   "outputs": [
    {
     "data": {
      "text/plain": [
       "101442"
      ]
     },
     "execution_count": 8,
     "metadata": {},
     "output_type": "execute_result"
    }
   ],
   "source": [
    "len(score_dict.keys())"
   ]
  }
 ],
 "metadata": {
  "kernelspec": {
   "display_name": "Python 3.9.7 ('smtr')",
   "language": "python",
   "name": "python3"
  },
  "language_info": {
   "codemirror_mode": {
    "name": "ipython",
    "version": 3
   },
   "file_extension": ".py",
   "mimetype": "text/x-python",
   "name": "python",
   "nbconvert_exporter": "python",
   "pygments_lexer": "ipython3",
   "version": "3.9.7"
  },
  "vscode": {
   "interpreter": {
    "hash": "a75462293d05fc3e00128f4985dd13fcf50f4f5144b1474848efbcac1f09cd24"
   }
  }
 },
 "nbformat": 4,
 "nbformat_minor": 0
}
