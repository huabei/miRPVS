{
 "cells": [
  {
   "cell_type": "markdown",
   "source": [
    "# 构建数据集"
   ],
   "metadata": {
    "collapsed": false
   }
  },
  {
   "cell_type": "markdown",
   "source": [
    "## 导入包"
   ],
   "metadata": {
    "collapsed": false
   }
  },
  {
   "cell_type": "code",
   "execution_count": 1,
   "metadata": {
    "collapsed": true
   },
   "outputs": [
    {
     "data": {
      "text/plain": "'/mnt/e/Python_Project/SMTarRNA/project/utils'"
     },
     "execution_count": 1,
     "metadata": {},
     "output_type": "execute_result"
    }
   ],
   "source": [
    "import pickle\n",
    "from utils import ZincPdbqt, generate_coor, write_data, ele_filter, read_dock_score\n",
    "from tqdm import tqdm\n",
    "import os\n",
    "from functools import partial\n",
    "os.getcwd()"
   ]
  },
  {
   "cell_type": "markdown",
   "source": [
    "## 从pkl文件读入对接能量分数"
   ],
   "metadata": {
    "collapsed": false
   }
  },
  {
   "cell_type": "code",
   "execution_count": 3,
   "outputs": [],
   "source": [
    "origin_100K_data_path = '../data/3a6p/100k'\n",
    "# origin_10K_data_path = '../data/3a6p/10k'\n",
    "\n",
    "dock_score_100k = read_dock_score(origin_100K_data_path)\n",
    "# dock_score_10k = read_dock_score(origin_10K_data_path)\n",
    "score_dict = dock_score_100k\n",
    "# with open('E:/Python_Project/SMTarRNA/project/data/3a6p/3a6p_dock_origin_data/zinc_drug_like_3d_100k_dock_energy.pkl', 'rb') as f:\n",
    "#     score_dict = pickle.load(f)"
   ],
   "metadata": {
    "collapsed": false
   }
  },
  {
   "cell_type": "code",
   "execution_count": 4,
   "outputs": [
    {
     "name": "stdout",
     "output_type": "stream",
     "text": [
      "100444\n"
     ]
    },
    {
     "data": {
      "text/plain": "'ZINC001484687115'"
     },
     "execution_count": 4,
     "metadata": {},
     "output_type": "execute_result"
    }
   ],
   "source": [
    "print(len(score_dict.keys()))\n",
    "list(score_dict.keys())[0]"
   ],
   "metadata": {
    "collapsed": false
   }
  },
  {
   "cell_type": "markdown",
   "source": [
    "## 读入小分子的结构"
   ],
   "metadata": {
    "collapsed": false
   }
  },
  {
   "cell_type": "code",
   "execution_count": 5,
   "outputs": [],
   "source": [
    "ligands_file_name = 'zinc/zinc_drug_like_3d_100k_rand.pdbqt.gz'\n",
    "elements_list = ['C', 'H', 'O', 'N', 'S', 'P', 'BR', 'CL', 'F', 'I']\n",
    "transform = partial(ele_filter, elements_list=elements_list)\n",
    "ligands = ZincPdbqt(ligands_file_name, filter_=[transform])"
   ],
   "metadata": {
    "collapsed": false
   }
  },
  {
   "cell_type": "markdown",
   "source": [
    "## 构建数据集"
   ],
   "metadata": {
    "collapsed": false
   }
  },
  {
   "cell_type": "code",
   "execution_count": 6,
   "outputs": [
    {
     "name": "stderr",
     "output_type": "stream",
     "text": [
      "prepare: 100%|██████████| 100446/100446 [01:46<00:00, 947.10it/s]\n"
     ]
    }
   ],
   "source": [
    "# ligands.zinc_id\n",
    "# print(len(ligands))\n",
    "# print(ligands.zinc_id[0])\n",
    "# score_dict[ligands.zinc_id[500]]\n",
    "# elements_list = ['C', 'H', 'O', 'N', 'S', 'P', 'BR', 'CL', 'F', 'I']\n",
    "f = open('3a6p_exhaus_96_100K_latest.txt', 'w')\n",
    "f.write('e(kcalmol^-1)\\n')\n",
    "data_dict = dict()\n",
    "for ligands_id, ligands_model in tqdm(ligands, desc='prepare'):\n",
    "    if ligands_id not in list(score_dict.keys()):\n",
    "        print(f'here wrong {ligands_id}')\n",
    "        continue\n",
    "    data_dict['score'] = score_dict[ligands_id]\n",
    "    data_dict['pos'] = generate_coor(ligands_model)\n",
    "    data_dict['id'] = ligands_id\n",
    "    f = write_data(f, data_dict)\n",
    "    # break\n",
    "f.close()"
   ],
   "metadata": {
    "collapsed": false
   }
  },
  {
   "cell_type": "code",
   "execution_count": 7,
   "outputs": [],
   "source": [
    "score_dict = dict()\n",
    "for i in range(102):\n",
    "    ligands_file_name = f'/mnt/e/Python_Project/SMTarRNA/project/data/3a6p/3a6p_dock_origin_data/zinc_drug_like_3d_100k_dock_results_{i}.pdbqt.gz'\n",
    "    ligands = ZincPdbqt(ligands_file_name)\n",
    "    score_dict.update(ligands.scores)\n",
    "    # break\n"
   ],
   "metadata": {
    "collapsed": false
   }
  },
  {
   "cell_type": "code",
   "execution_count": 8,
   "outputs": [
    {
     "data": {
      "text/plain": "101442"
     },
     "execution_count": 8,
     "metadata": {},
     "output_type": "execute_result"
    }
   ],
   "source": [
    "len(score_dict.keys())"
   ],
   "metadata": {
    "collapsed": false
   }
  }
 ],
 "metadata": {
  "kernelspec": {
   "display_name": "Python 3",
   "language": "python",
   "name": "python3"
  },
  "language_info": {
   "codemirror_mode": {
    "name": "ipython",
    "version": 2
   },
   "file_extension": ".py",
   "mimetype": "text/x-python",
   "name": "python",
   "nbconvert_exporter": "python",
   "pygments_lexer": "ipython2",
   "version": "2.7.6"
  }
 },
 "nbformat": 4,
 "nbformat_minor": 0
}
