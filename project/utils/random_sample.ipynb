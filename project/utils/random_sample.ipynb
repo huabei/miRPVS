{
 "cells": [
  {
   "cell_type": "code",
   "execution_count": 5,
   "metadata": {
    "collapsed": true
   },
   "outputs": [],
   "source": [
    "import pandas as pd\n",
    "import gzip\n",
    "import re\n",
    "from utils import get_zinc_id_index, random_accept, pdbqt_split, zinc_id_find, ZincPdbqt, ele_transform\n",
    "import os\n",
    "import pickle\n",
    "from collections import defaultdict\n",
    "from tqdm import tqdm\n",
    "from functools import partial\n",
    "import io"
   ]
  },
  {
   "cell_type": "code",
   "execution_count": 2,
   "outputs": [],
   "source": [
    "zinc_pdbqt_100k_file_name = 'zinc/zinc_drug_like_3d_100k.pdbqt.gz'\n",
    "zinc_pdbqt_10k_file_name = 'zinc/zinc_drug_like_3d_100k_to_10k.pdbqt.gz'"
   ],
   "metadata": {
    "collapsed": false
   }
  },
  {
   "cell_type": "code",
   "execution_count": 7,
   "outputs": [],
   "source": [
    "\n",
    "\n",
    "def molecular_random_sample(source_file: str, target_file: str) -> None:\n",
    "    # random_10k_index = defaultdict()\n",
    "    with gzip.open(target_file, 'wb') as output:\n",
    "        with io.TextIOWrapper(output, encoding='utf-8') as ecn:\n",
    "            molecules = pdbqt_split(source_file)\n",
    "            for molecule in molecules:\n",
    "                if random_accept(1 / 10):\n",
    "                    ecn.writelines(molecule)\n",
    "\n",
    "\n",
    "molecular_random_sample(source_file=zinc_pdbqt_100k_file_name, target_file=zinc_pdbqt_10k_file_name)"
   ],
   "metadata": {
    "collapsed": false
   }
  },
  {
   "cell_type": "code",
   "execution_count": 8,
   "outputs": [
    {
     "data": {
      "text/plain": "10012"
     },
     "execution_count": 8,
     "metadata": {},
     "output_type": "execute_result"
    }
   ],
   "source": [
    "elements_list = ['C', 'H', 'O', 'N', 'S', 'P', 'BR', 'CL', 'F', 'I']\n",
    "transform = partial(ele_transform, elements_list=elements_list)\n",
    "len(ZincPdbqt(zinc_pdbqt_10k_file_name, transform=transform))"
   ],
   "metadata": {
    "collapsed": false
   }
  },
  {
   "cell_type": "code",
   "execution_count": null,
   "outputs": [],
   "source": [],
   "metadata": {
    "collapsed": false
   }
  },
  {
   "cell_type": "code",
   "execution_count": null,
   "outputs": [],
   "source": [],
   "metadata": {
    "collapsed": false
   }
  },
  {
   "cell_type": "code",
   "execution_count": null,
   "outputs": [],
   "source": [],
   "metadata": {
    "collapsed": false
   }
  },
  {
   "cell_type": "code",
   "execution_count": null,
   "outputs": [],
   "source": [],
   "metadata": {
    "collapsed": false
   }
  }
 ],
 "metadata": {
  "kernelspec": {
   "display_name": "Python 3",
   "language": "python",
   "name": "python3"
  },
  "language_info": {
   "codemirror_mode": {
    "name": "ipython",
    "version": 2
   },
   "file_extension": ".py",
   "mimetype": "text/x-python",
   "name": "python",
   "nbconvert_exporter": "python",
   "pygments_lexer": "ipython2",
   "version": "2.7.6"
  }
 },
 "nbformat": 4,
 "nbformat_minor": 0
}
