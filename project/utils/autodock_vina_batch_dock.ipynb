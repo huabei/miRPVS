{
 "cells": [
  {
   "cell_type": "markdown",
   "metadata": {
    "collapsed": false
   },
   "source": [
    "# 导入包"
   ]
  },
  {
   "cell_type": "code",
   "execution_count": 1,
   "metadata": {
    "collapsed": true
   },
   "outputs": [
    {
     "name": "stdout",
     "output_type": "stream",
     "text": [
      "/home/huabei/projects/SMTarRNA/project/utils\n"
     ]
    }
   ],
   "source": [
    "from vina import Vina\n",
    "from utils import ZincPdbqt, gz_writer\n",
    "import os\n",
    "from tqdm import tqdm\n",
    "import pickle\n",
    "print(os.getcwd())"
   ]
  },
  {
   "cell_type": "markdown",
   "metadata": {
    "collapsed": false
   },
   "source": [
    "# 创建Vina对象"
   ]
  },
  {
   "cell_type": "code",
   "execution_count": 4,
   "metadata": {},
   "outputs": [],
   "source": [
    "receptor = '../data/dataset/receptor/3a6p_dOthers_apH.pdbqt'\n",
    "ligand_dataset = '../data/dataset/ligand/zinc20_druglike_random_sample_molecule_1f600_10k.pdbqt.gz'"
   ]
  },
  {
   "cell_type": "code",
   "execution_count": 3,
   "metadata": {
    "collapsed": false
   },
   "outputs": [
    {
     "name": "stdout",
     "output_type": "stream",
     "text": [
      "Computing Vina grid ... done.\n"
     ]
    }
   ],
   "source": [
    "v = Vina(sf_name='vina')\n",
    "# 设置受体文件\n",
    "v.set_receptor(rigid_pdbqt_filename=receptor)\n",
    "# 计算受体力场\n",
    "\n",
    "# 3a6p:center=[11.944, 77.055, 34.959], box_size=[20, 20, 20]\n",
    "v.compute_vina_maps(center=[11.944, 77.055, 34.959], box_size=[20, 20, 20], spacing=0.375)"
   ]
  },
  {
   "cell_type": "markdown",
   "metadata": {
    "collapsed": false
   },
   "source": [
    "# 准备配体"
   ]
  },
  {
   "cell_type": "code",
   "execution_count": 5,
   "metadata": {
    "collapsed": false
   },
   "outputs": [],
   "source": [
    "# ligands_file_name = 'test_ligand.pdbqt.gz'\n",
    "ligands = ZincPdbqt(ligand_dataset)\n",
    "# iter_l = iter(ligands)\n",
    "# len(ligands)\n",
    "# next(iter_l)"
   ]
  },
  {
   "attachments": {},
   "cell_type": "markdown",
   "metadata": {},
   "source": [
    "# 对接"
   ]
  },
  {
   "cell_type": "code",
   "execution_count": 6,
   "metadata": {
    "collapsed": false
   },
   "outputs": [
    {
     "name": "stderr",
     "output_type": "stream",
     "text": [
      "Docking:   0%|          | 0/10000 [00:00<?, ?it/s]"
     ]
    },
    {
     "name": "stdout",
     "output_type": "stream",
     "text": [
      "ZINC000877398040\n"
     ]
    },
    {
     "name": "stderr",
     "output_type": "stream",
     "text": [
      "Docking:   0%|          | 0/10000 [00:05<?, ?it/s]"
     ]
    },
    {
     "name": "stdout",
     "output_type": "stream",
     "text": [
      "Performing docking (random seed: 2087353022) ... \n",
      "0%   10   20   30   40   50   60   70   80   90   100%\n",
      "|----|----|----|----|----|----|----|----|----|----|\n",
      "***************************************************\n",
      "\n",
      "mode |   affinity | dist from best mode\n",
      "     | (kcal/mol) | rmsd l.b.| rmsd u.b.\n",
      "-----+------------+----------+----------\n",
      "   1       -7.882          0          0\n",
      "   2         -7.6      2.056      7.448\n",
      "   3       -7.558      1.946      7.723\n",
      "   4       -7.419      4.126      6.508\n",
      "   5       -7.394      4.119      6.279\n",
      "   6       -7.355      1.623      7.354\n",
      "   7        -7.35      2.533      6.884\n",
      "   8       -7.265      3.073      5.037\n",
      "   9       -7.166      4.276      6.701\n",
      "  10       -7.162      3.832      6.414\n",
      "  11       -7.143      4.192      6.326\n",
      "  12       -7.102      2.013       7.54\n",
      "  13       -7.088      2.231      2.438\n",
      "  14       -7.075      3.542      6.019\n",
      "  15       -7.046      1.911      7.822\n",
      "  16       -7.032      5.494      9.401\n",
      "  17       -7.032       4.73      6.956\n",
      "  18       -6.972       2.94      5.126\n",
      "  19       -6.944      2.055      7.659\n",
      "  20       -6.927      2.429      6.216\n"
     ]
    },
    {
     "name": "stderr",
     "output_type": "stream",
     "text": [
      "\n"
     ]
    }
   ],
   "source": [
    "\n",
    "for zinc_id, ligand_str in tqdm(ligands, desc='Docking'):\n",
    "    print(zinc_id)\n",
    "    v.set_ligand_from_string(ligand_str)\n",
    "    # 对接\n",
    "    v.dock(exhaustiveness=32)\n",
    "    break\n",
    "\n"
   ]
  },
  {
   "attachments": {},
   "cell_type": "markdown",
   "metadata": {},
   "source": [
    "# 结果分析"
   ]
  },
  {
   "cell_type": "code",
   "execution_count": 22,
   "metadata": {
    "collapsed": false
   },
   "outputs": [
    {
     "name": "stdout",
     "output_type": "stream",
     "text": [
      "REMARK VINA RESULT:    -7.598      0.000      0.000\n",
      "REMARK INTER + INTRA:          -9.533\n",
      "REMARK INTER:                  -9.250\n",
      "REMARK INTRA:                  -0.283\n",
      "REMARK UNBOUND:                -0.158\n",
      "REMARK  Name = ZINC000877398040\n",
      "REMARK                            x       y       z     vdW  Elec       q    Type\n",
      "REMARK                         _______ _______ _______ _____ _____    ______ ____\n",
      "ROOT\n",
      "ATOM      1  O   LIG    1       17.221  74.390  35.170  0.00  0.00    -0.500 OA\n",
      "ATOM      2  C   LIG    1       17.031  73.343  34.587  0.00  0.00    +0.520 C \n",
      "ATOM      3  N   LIG    1       17.024  72.182  35.274  0.00  0.00    -0.740 N \n",
      "ATOM      4  H   LIG    1       16.873  71.345  34.808  0.00  0.00    +0.400 HD\n",
      "ENDROOT\n",
      "BRANCH   3   5\n",
      "ATOM      5  C   LIG    1       17.244  72.186  36.721  0.00  0.00    +0.170 C \n",
      "ATOM      6  C   LIG    1       18.717  72.306  37.042  0.00  0.00    +0.070 C \n",
      "ATOM      7  C   LIG    1       19.259  70.850  36.941  0.00  0.00    +0.060 C \n",
      "ATOM      8  C   LIG    1       18.005  69.937  36.745  0.00  0.00    +0.080 C \n",
      "ATOM      9  C   LIG    1       16.173  72.999  37.432  0.00  0.00    +0.090 C \n",
      "ATOM     10  C   LIG    1       14.959  72.056  37.340  0.00  0.00    +0.280 C \n",
      "ATOM     11  N   LIG    1       15.503  70.675  37.143  0.00  0.00    -0.490 N \n",
      "ATOM     12  H   LIG    1       15.098  70.041  37.815  0.00  0.00    +0.440 HD\n",
      "ATOM     13  H   LIG    1       15.312  70.357  36.203  0.00  0.00    +0.420 HD\n",
      "ATOM     14  C   LIG    1       16.915  70.781  37.351  0.00  0.00    +0.120 C \n",
      "ENDBRANCH   3   5\n",
      "BRANCH   2  15\n",
      "ATOM     15  C   LIG    1       16.810  73.339  33.097  0.00  0.00    +0.160 C \n",
      "BRANCH  15  16\n",
      "ATOM     16  C   LIG    1       15.448  73.907  32.790  0.00  0.00    -0.230 A \n",
      "ATOM     17  C   LIG    1       14.265  73.425  33.238  0.00  0.00    +0.250 A \n",
      "ATOM     18  N   LIG    1       13.285  74.212  32.739  0.00  0.00    -0.310 N \n",
      "ATOM     19  N   LIG    1       13.888  75.209  31.962  0.00  0.00    -0.280 NA\n",
      "ATOM     20  C   LIG    1       15.183  75.028  31.996  0.00  0.00    +0.260 A \n",
      "BRANCH  18  21\n",
      "ATOM     21  C   LIG    1       11.910  74.059  32.963  0.00  0.00    +0.150 A \n",
      "ATOM     22  C   LIG    1       11.121  73.406  32.027  0.00  0.00    -0.010 A \n",
      "ATOM     23  C   LIG    1        9.766  73.256  32.250  0.00  0.00    +0.050 A \n",
      "ATOM     24  C   LIG    1        9.196  73.757  33.405  0.00  0.00    +0.010 A \n",
      "ATOM     25  C   LIG    1        9.979  74.408  34.341  0.00  0.00    +0.050 A \n",
      "ATOM     26  C   LIG    1       11.335  74.555  34.126  0.00  0.00    +0.020 A \n",
      "ENDBRANCH  18  21\n",
      "ENDBRANCH  15  16\n",
      "ENDBRANCH   2  15\n",
      "TORSDOF 4\n",
      "\n"
     ]
    }
   ],
   "source": [
    "data = pickle.load(open('../data/dataset/outputs/zinc20_druglike_random_sample_molecule_1f600_10k_3a6p_dOthers_apH_dock_energy_None-10.pkl', 'rb'))\n",
    "p = ZincPdbqt('../data/dataset/outputs/zinc20_druglike_random_sample_molecule_1f600_10k_3a6p_dOthers_apH_dock_results_None-10.pdbqt.gz')\n",
    "print(p[0][1])"
   ]
  },
  {
   "cell_type": "markdown",
   "metadata": {
    "collapsed": false
   },
   "source": [
    "# 进行批量对接"
   ]
  },
  {
   "cell_type": "code",
   "execution_count": null,
   "metadata": {
    "collapsed": false
   },
   "outputs": [],
   "source": [
    "# v.set_ligand_from_file(\"test_ligand.pdbqt\")\n",
    "dock_results_file_name = ligands_file_name.replace('.pdbqt.gz', '_dock_results.pdbqt.gz')\n",
    "dock_energy_dict_file_name = ligands_file_name.replace('.pdbqt.gz', '_dock_energy.pkl')\n",
    "dock_energy = dict()\n",
    "dock_results_file_name_list = [ligands_file_name.replace('.pdbqt.gz', f'_dock_results_{i}.pdbqt.gz') for i in range((len(ligands)//1000)+1)]\n",
    "# print(dock_results_file_name_list)\n",
    "# raise ValueError\n",
    "writer = gz_writer(dock_results_file_name_list[0])\n",
    "i = 0\n",
    "f = open('docked_100k_zinc_id.txt', 'a+')\n",
    "docked_ligand_id_tmp = list()\n",
    "# 进行对接\n",
    "for ligand_id, ligand_pdbqt in tqdm(ligands, desc='docking'):\n",
    "    i += 1\n",
    "    # 传入配体pdbqt字符串\n",
    "    # print(ligand_id, ligand_pdbqt)\n",
    "    docked_zinc_id = f.read()\n",
    "    # 如果已对接，进行下一个\n",
    "    if ligand_id in docked_zinc_id:\n",
    "        continue\n",
    "    # i += 1\n",
    "    v.set_ligand_from_string(ligand_pdbqt)\n",
    "    # 对接\n",
    "    v.dock(exhaustiveness=32)\n",
    "    # 将最后一个能量结果存入文件\n",
    "    energy = v.energies()[0, 0]\n",
    "    dock_energy[ligand_id] = energy\n",
    "    # v.write_pose(dock_results_file_name)\n",
    "    writer.writelines(v.poses(n_poses=1))\n",
    "    docked_ligand_id_tmp.append(ligand_id+'\\n')\n",
    "    # if i % 100 == 0:\n",
    "    #     writer.flush()\n",
    "    if i % 1000 == 0:\n",
    "        print('writing')\n",
    "        writer.close()\n",
    "        # 写入已对接分子号缓存\n",
    "        f.writelines(docked_ligand_id_tmp)\n",
    "        f.flush()\n",
    "        # 清空暂存已对接分子列表\n",
    "        docked_ligand_id_tmp = list()\n",
    "        writer = gz_writer(dock_results_file_name_list[i//1000])\n",
    "    # i+=1\n",
    "f.writelines(docked_ligand_id_tmp)\n",
    "f.close()\n",
    "writer.close()\n",
    "with open(dock_energy_dict_file_name, 'wb', buffering=0) as handle:\n",
    "    pickle.dump(dock_energy, handle, protocol=pickle.HIGHEST_PROTOCOL)\n"
   ]
  },
  {
   "cell_type": "code",
   "execution_count": 5,
   "metadata": {
    "collapsed": false
   },
   "outputs": [],
   "source": [
    "# print(v.score())\n",
    "# print(v.optimize())\n",
    "writer.close()"
   ]
  },
  {
   "cell_type": "markdown",
   "metadata": {
    "collapsed": false
   },
   "source": [
    "# 进行对接"
   ]
  },
  {
   "cell_type": "code",
   "execution_count": 8,
   "metadata": {
    "collapsed": false
   },
   "outputs": [
    {
     "name": "stdout",
     "output_type": "stream",
     "text": [
      "Performing docking (random seed: -1274779443) ... \n",
      "0%   10   20   30   40   50   60   70   80   90   100%\n",
      "|----|----|----|----|----|----|----|----|----|----|\n",
      "***************************************************\n"
     ]
    }
   ],
   "source": [
    "v.dock(exhaustiveness=32)"
   ]
  },
  {
   "cell_type": "markdown",
   "metadata": {
    "collapsed": false
   },
   "source": [
    "# 输出文件"
   ]
  },
  {
   "cell_type": "code",
   "execution_count": 5,
   "metadata": {
    "collapsed": false
   },
   "outputs": [
    {
     "data": {
      "text/plain": [
       "[('ZINC000001768908',\n",
       "  'REMARK  Name = ZINC000001768908\\nREMARK                            x       y       z     vdW  Elec       q    Type\\nREMARK                         _______ _______ _______ _____ _____    ______ ____\\nROOT\\nATOM      1  C   UNK    1       -0.699   1.479   1.216  0.00  0.00    +0.110 C \\nENDROOT\\nBRANCH   1   2\\nATOM      2  N   UNK    1       -0.012   1.005   0.008  0.00  0.00    -0.620 N \\nATOM      3  H   UNK    1       -0.500   1.339  -0.810  0.00  0.00    +0.440 HD\\nATOM      4  H   UNK    1        0.935   1.354   0.000  0.00  0.00    +0.430 HD\\nATOM      5  H   UNK    1        0.002  -0.004   0.002  0.00  0.00    +0.420 HD\\nENDBRANCH   1   2\\nBRANCH   1   6\\nATOM      6  C   UNK    1       -0.720   2.985   1.224  0.00  0.00    +0.500 C \\nATOM      7  O   UNK    1       -1.247   3.583   2.147  0.00  0.00    -0.630 OA\\nATOM      8  O   UNK    1       -0.209   3.607   0.308  0.00  0.00    -0.670 OA\\nENDBRANCH   1   6\\nBRANCH   1   9\\nATOM      9  C   UNK    1        0.041   0.972   2.456  0.00  0.00    -0.340 C \\nBRANCH   9  10\\nATOM     10  S   UNK    1        0.065  -0.842   2.446  0.00  0.00    +2.420 S \\nATOM     11  O   UNK    1        0.843  -1.278   1.339  0.00  0.00    -0.950 OA\\nATOM     12  O   UNK    1       -1.268  -1.314   2.585  0.00  0.00    -0.920 OA\\nBRANCH  10  13\\nATOM     13  C   UNK    1        0.973  -1.213   3.972  0.00  0.00    -0.390 C \\nBRANCH  13  14\\nATOM     14  C   UNK    1        1.093  -2.706   4.135  0.00  0.00    +0.520 C \\nATOM     15  O   UNK    1        1.672  -3.169   5.103  0.00  0.00    -0.660 OA\\nATOM     16  O   UNK    1        0.612  -3.451   3.298  0.00  0.00    -0.670 OA\\nENDBRANCH  13  14\\nENDBRANCH  10  13\\nENDBRANCH   9  10\\nENDBRANCH   1   9\\nTORSDOF 6\\n'),\n",
       " ('ZINC000044608174',\n",
       "  'REMARK  Name = ZINC000044608174\\nREMARK                            x       y       z     vdW  Elec       q    Type\\nREMARK                         _______ _______ _______ _____ _____    ______ ____\\nROOT\\nATOM      1  C   LIG    1        0.673  -0.582   1.123  0.00  0.00    +0.180 C \\nATOM      2  C   LIG    1       -0.330  -0.815   2.257  0.00  0.00    +0.130 C \\nATOM      3  C   LIG    1        0.381  -1.506   3.423  0.00  0.00    +0.140 C \\nATOM      4  O   LIG    1        0.956  -2.733   2.969  0.00  0.00    -0.370 OA\\nATOM      5  C   LIG    1        1.936  -2.574   1.942  0.00  0.00    +0.360 C \\nATOM      6  C   LIG    1        1.289  -1.925   0.715  0.00  0.00    +0.270 C \\nENDROOT\\nBRANCH   6   7\\nATOM      7  N   LIG    1        2.305  -1.708  -0.317  0.00  0.00    -0.710 N \\nATOM      8  H   LIG    1        2.751  -0.849  -0.386  0.00  0.00    +0.400 HD\\nATOM      9  C   LIG    1        2.621  -2.701  -1.171  0.00  0.00    +0.510 C \\nATOM     10  O   LIG    1        2.063  -3.775  -1.085  0.00  0.00    -0.540 OA\\nATOM     11  C   LIG    1        3.667  -2.479  -2.233  0.00  0.00    +0.110 C \\nENDBRANCH   6   7\\nBRANCH   1  13\\nATOM     12  C   LIG    1       -0.017   1.425   0.010  0.00  0.00    +0.200 C \\nATOM     13  O   LIG    1        0.002  -0.004   0.002  0.00  0.00    -0.360 OA\\nENDBRANCH   1  13\\nBRANCH   5  14\\nATOM     14  O   LIG    1        2.994  -1.740   2.418  0.00  0.00    -0.580 OA\\nATOM     15  H   LIG    1        3.450  -2.090   3.196  0.00  0.00    +0.390 HD\\nENDBRANCH   5  14\\nBRANCH   2  16\\nATOM     16  O   LIG    1       -1.397  -1.642   1.789  0.00  0.00    -0.540 OA\\nATOM     17  H   LIG    1       -2.070  -1.831   2.456  0.00  0.00    +0.380 HD\\nENDBRANCH   2  16\\nBRANCH   3  18\\nATOM     18  C   LIG    1       -0.628  -1.796   4.537  0.00  0.00    +0.200 C \\nBRANCH  18  19\\nATOM     19  O   LIG    1        0.056  -2.334   5.670  0.00  0.00    -0.560 OA\\nATOM     20  H   LIG    1       -0.523  -2.542   6.416  0.00  0.00    +0.380 HD\\nENDBRANCH  18  19\\nENDBRANCH   3  18\\nTORSDOF 6\\n')]"
      ]
     },
     "execution_count": 5,
     "metadata": {},
     "output_type": "execute_result"
    }
   ],
   "source": [
    "ligands[:2]"
   ]
  }
 ],
 "metadata": {
  "kernelspec": {
   "display_name": "Python 3",
   "language": "python",
   "name": "python3"
  },
  "language_info": {
   "codemirror_mode": {
    "name": "ipython",
    "version": 3
   },
   "file_extension": ".py",
   "mimetype": "text/x-python",
   "name": "python",
   "nbconvert_exporter": "python",
   "pygments_lexer": "ipython3",
   "version": "3.9.16"
  }
 },
 "nbformat": 4,
 "nbformat_minor": 0
}
