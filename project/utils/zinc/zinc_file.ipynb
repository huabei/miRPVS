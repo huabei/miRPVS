{
 "cells": [
  {
   "cell_type": "code",
   "execution_count": 3,
   "metadata": {
    "collapsed": false
   },
   "outputs": [],
   "source": [
    "import pandas as pd\n",
    "import gzip\n",
    "import re \n",
    "from utils import get_zinc_id_index, random_accept, pdbqt_split, zinc_id_find\n",
    "import os\n",
    "import pickle\n",
    "from collections import defaultdict\n",
    "from tqdm import tqdm\n",
    "import io"
   ]
  },
  {
   "cell_type": "code",
   "execution_count": null,
   "metadata": {
    "collapsed": false
   },
   "outputs": [],
   "source": []
  },
  {
   "cell_type": "markdown",
   "metadata": {
    "collapsed": false
   },
   "source": [
    "# create 910M molecular index file"
   ]
  },
  {
   "cell_type": "code",
   "execution_count": null,
   "metadata": {
    "collapsed": false
   },
   "outputs": [],
   "source": [
    "index_file = 'zinc_3d_pdbqt.index'\n",
    "# f_path = next(f)\n",
    "# root_dir = os.getcwd()\n",
    "root_dir = '/public/home/hpc212311013/data/zinc_drug_like/'\n",
    "zinc_pdbqt_index = get_zinc_id_index(index_file, root_dir)\n",
    "pkl_name = 'zinc_pdbqt_3d_index.pkl'\n",
    "with open(pkl_name, 'wb') as handle:\n",
    "    pickle.dump(zinc_pdbqt_index, handle, protocol=pickle.HIGHEST_PROTOCOL)\n",
    "print('--ok---'*5)"
   ]
  },
  {
   "cell_type": "markdown",
   "metadata": {
    "collapsed": false
   },
   "source": [
    "# 获取所有分子的zinc id"
   ]
  },
  {
   "cell_type": "code",
   "execution_count": null,
   "metadata": {
    "collapsed": false
   },
   "outputs": [],
   "source": [
    "id_list = list()\n",
    "for i in zinc_pdbqt_index.values():\n",
    "    id_list.extend(i)\n",
    "print(len(id_list))"
   ]
  },
  {
   "cell_type": "markdown",
   "metadata": {
    "collapsed": false
   },
   "source": [
    "# 读取网站上的分子数目"
   ]
  },
  {
   "cell_type": "code",
   "execution_count": null,
   "metadata": {
    "collapsed": false
   },
   "outputs": [],
   "source": [
    "df = pd.read_csv('zinc_3d_default_num.csv')\n",
    "df.set_index('clo', inplace=True)\n",
    "df.loc['A', 'B']"
   ]
  },
  {
   "cell_type": "markdown",
   "metadata": {
    "collapsed": false
   },
   "source": [
    "# 读取.gz文件"
   ]
  },
  {
   "cell_type": "code",
   "execution_count": null,
   "metadata": {
    "collapsed": false
   },
   "outputs": [],
   "source": [
    "zf = gzip.open(\"/home/huabei/Projects/SMTarRNA/project/utils/zinc/BAAAML.xaa.pdbqt.gz\", mode='rb')\n",
    "results = zf.read().decode()\n",
    "# for line in zf.readlines():\n",
    "#     s = line.decode()\n",
    "#     print(s)\n",
    "# pat = re.compile('Name = (.*?) ', re.S)\n",
    "re.findall('Name = (.*?)\\n', results)"
   ]
  },
  {
   "cell_type": "markdown",
   "metadata": {
    "collapsed": false
   },
   "source": [
    "# 读取随机抽取的1M分子的列表，并且与索引文件对比，生成所有分子的位置索引，即需要读取的文件。"
   ]
  },
  {
   "cell_type": "code",
   "execution_count": null,
   "metadata": {
    "collapsed": false
   },
   "outputs": [],
   "source": [
    "import time\n",
    "random_1m_molecular_index = defaultdict(list)\n",
    "print('read index file')\n",
    "f = gzip.open('zinc_pdbqt_3d_index.pkl.gz', 'rb')\n",
    "index_all_dict = pickle.load(f)\n"
   ]
  },
  {
   "cell_type": "code",
   "execution_count": null,
   "metadata": {
    "collapsed": false
   },
   "outputs": [],
   "source": [
    "print('read random 1m id')\n",
    "random_1m_zinc_id = pickle.load(open('random_sample_1000k_id.pkl', 'rb'))\n"
   ]
  },
  {
   "cell_type": "code",
   "execution_count": null,
   "metadata": {
    "collapsed": false
   },
   "outputs": [],
   "source": [
    "time.time()"
   ]
  },
  {
   "cell_type": "code",
   "execution_count": null,
   "metadata": {
    "collapsed": false
   },
   "outputs": [],
   "source": [
    "print(time.time())\n",
    "for keys, vals in tqdm(index_all_dict.items()):\n",
    "    print(time.time())\n",
    "    for t in tqdm(vals):\n",
    "        # print(time.time)\n",
    "        if t in random_1m_zinc_id:\n",
    "            # print(time.time())\n",
    "            random_1m_molecular_index[keys].append(t)"
   ]
  },
  {
   "cell_type": "code",
   "execution_count": null,
   "metadata": {
    "collapsed": false
   },
   "outputs": [],
   "source": [
    "\n",
    "random_1m_index_pkl_name = 'zinc_pdbqt_3d_random_1m_index.pkl'\n",
    "with open(pkl_name, 'wb') as handle:\n",
    "    pickle.dump(random_1m_index_pkl_name, handle, protocol=pickle.HIGHEST_PROTOCOL)\n"
   ]
  },
  {
   "cell_type": "markdown",
   "metadata": {
    "collapsed": false
   },
   "source": [
    "# 挑选生成的1M个分子，存到一个.gz文件"
   ]
  },
  {
   "cell_type": "code",
   "execution_count": null,
   "metadata": {
    "collapsed": false
   },
   "outputs": [],
   "source": [
    "random_1m_index_pkl_name = 'zinc_pdbqt_3d_random_1m_index.pkl'\n",
    "random_1m_index = pickle.load(open(random_1m_index_pkl_name, 'rb'))\n",
    "for file, id in tqdm(random_1m_index.items()):\n",
    "    gzfile_path = '/'.join((file[:2], file[2:6], file))\n",
    "    with gzip.open(gzfile_path, 'rb') as f:\n",
    "        gz_file_content = f.read().decode()\n",
    "        for tmp_id in id:\n",
    "            pat = re.compile(f'(MODEL.*?{tmp_id}.*?ENDMDL)', flags=re.S)\n",
    "            pdbqt_files = pat.findall(gz_file_content)\n",
    "            pdbqt_file_one = '\\n'.join(pdbqt_files)\n",
    "            print(pdbqt_file_one)\n",
    "            raise ValueError\n"
   ]
  },
  {
   "cell_type": "code",
   "execution_count": null,
   "metadata": {
    "collapsed": false
   },
   "outputs": [],
   "source": [
    "\n",
    "index_file = 'zinc_3d_pdbqt.index'\n",
    "# f_path = next(f)\n",
    "# root_dir = os.getcwd()\n",
    "root_dir = '/public/home/hpc212311013/data/zinc_drug_like/'\n",
    "\n",
    "zinc_pdbqt_1m_file_name = 'zinc_drug_like_3d.pdbqt.gz'\n",
    "zinc_pdbqt_1m_file_index = 'zinc_drug_like_3d.pdbqt.index.pkl'\n",
    "pdbqt_1m_index = defaultdict(list)\n",
    "with gzip.open(zinc_pdbqt_1m_file_name, 'wb') as output:\n",
    "    with io.TextIOWrapper(output, encoding='utf-8') as ecn:\n",
    "        with open(index_file, 'r') as f:\n",
    "            for f_path in tqdm(f):\n",
    "                f_path = os.path.join(root_dir, f_path.strip())\n",
    "                molecules = pdbqt_split(f_path)\n",
    "                for molecule in molecules:\n",
    "                    if random_accept(1/600):\n",
    "                        pdbqt_1m_index[f_path.split('/')[-1]].extend(re.findall('Name = (.*?)\\n', molecule))\n",
    "                        ecn.writelines(molecule)\n",
    "with open(zinc_pdbqt_1m_file_index, 'wb') as handle:\n",
    "    pickle.dump(pdbqt_1m_index, handle, protocol=pickle.HIGHEST_PROTOCOL)"
   ]
  },
  {
   "cell_type": "markdown",
   "metadata": {
    "collapsed": false
   },
   "source": [
    "## 随机从1000K的分子中抽取分子"
   ]
  },
  {
   "cell_type": "code",
   "execution_count": 4,
   "metadata": {
    "collapsed": false
   },
   "outputs": [],
   "source": [
    "zinc_pdbqt_1m_file_name = 'zinc_drug_like_3d_1m.pdbqt.gz'\n",
    "zinc_pdbqt_10k_file_name = 'zinc_drug_like_3d_100k.pdbqt.gz'\n",
    "random_10k_index = defaultdict()\n",
    "with gzip.open(zinc_pdbqt_10k_file_name, 'wb') as output:\n",
    "    with io.TextIOWrapper(output, encoding='utf-8') as ecn:\n",
    "        molecules = pdbqt_split(zinc_pdbqt_1m_file_name)\n",
    "        for molecule in molecules:\n",
    "            if random_accept(1/10):\n",
    "                ecn.writelines(molecule)"
   ]
  },
  {
   "cell_type": "code",
   "execution_count": null,
   "metadata": {
    "collapsed": false
   },
   "outputs": [],
   "source": []
  },
  {
   "cell_type": "code",
   "execution_count": 2,
   "metadata": {},
   "outputs": [],
   "source": [
    "df = pd.read_csv('zinc_3d_default_num.csv')\n",
    "df.set_index('clo', inplace=True)\n",
    "df.loc['A', 'B']"
   ]
  },
  {
   "cell_type": "markdown",
   "metadata": {},
   "source": [
    "# 读取.gz文件"
   ]
  },
  {
   "cell_type": "code",
   "execution_count": null,
   "metadata": {},
   "outputs": [],
   "source": [
    "zf = gzip.open(\"/home/huabei/Projects/SMTarRNA/project/utils/zinc/BAAAML.xaa.pdbqt.gz\", mode='rb')\n",
    "results = zf.read().decode()\n",
    "# for line in zf.readlines():\n",
    "#     s = line.decode()\n",
    "#     print(s)\n",
    "# pat = re.compile('Name = (.*?) ', re.S)\n",
    "re.findall('Name = (.*?)\\n', results)"
   ]
  },
  {
   "cell_type": "markdown",
   "metadata": {},
   "source": [
    "# 读取随机抽取的1M分子的列表，并且与索引文件对比，生成所有分子的位置索引，即需要读取的文件。"
   ]
  },
  {
   "cell_type": "code",
   "execution_count": 3,
   "metadata": {},
   "outputs": [
    {
     "name": "stdout",
     "output_type": "stream",
     "text": [
      "read index file\n"
     ]
    }
   ],
   "source": [
    "import time\n",
    "random_1m_molecular_index = defaultdict(list)\n",
    "print('read index file')\n",
    "f = gzip.open('zinc_pdbqt_3d_index.pkl.gz', 'rb')\n",
    "index_all_dict = pickle.load(f)\n"
   ]
  },
  {
   "cell_type": "code",
   "execution_count": 4,
   "metadata": {},
   "outputs": [
    {
     "name": "stdout",
     "output_type": "stream",
     "text": [
      "read random 1m id\n"
     ]
    }
   ],
   "source": [
    "print('read random 1m id')\n",
    "random_1m_zinc_id = pickle.load(open('random_sample_1000k_id.pkl', 'rb'))\n"
   ]
  },
  {
   "cell_type": "code",
   "execution_count": 6,
   "metadata": {},
   "outputs": [
    {
     "data": {
      "text/plain": [
       "1656676497.3396094"
      ]
     },
     "execution_count": 6,
     "metadata": {},
     "output_type": "execute_result"
    }
   ],
   "source": [
    "time.time()"
   ]
  },
  {
   "cell_type": "code",
   "execution_count": null,
   "metadata": {},
   "outputs": [],
   "source": [
    "print(time.time())\n",
    "for keys, vals in tqdm(index_all_dict.items()):\n",
    "    print(time.time())\n",
    "    for t in tqdm(vals):\n",
    "        # print(time.time)\n",
    "        if t in random_1m_zinc_id:\n",
    "            # print(time.time())\n",
    "            random_1m_molecular_index[keys].append(t)"
   ]
  },
  {
   "cell_type": "code",
   "execution_count": null,
   "metadata": {},
   "outputs": [],
   "source": [
    "\n",
    "random_1m_index_pkl_name = 'zinc_pdbqt_3d_random_1m_index.pkl'\n",
    "with open(pkl_name, 'wb') as handle:\n",
    "    pickle.dump(random_1m_index_pkl_name, handle, protocol=pickle.HIGHEST_PROTOCOL)\n"
   ]
  },
  {
   "cell_type": "markdown",
   "metadata": {},
   "source": [
    "# 挑选生成的1M个分子，存到一个.gz文件"
   ]
  },
  {
   "cell_type": "code",
   "execution_count": null,
   "metadata": {},
   "outputs": [],
   "source": [
    "random_1m_index_pkl_name = 'zinc_pdbqt_3d_random_1m_index.pkl'\n",
    "random_1m_index = pickle.load(open(random_1m_index_pkl_name, 'rb'))\n",
    "for file, id in tqdm(random_1m_index.items()):\n",
    "    gzfile_path = '/'.join((file[:2], file[2:6], file))\n",
    "    with gzip.open(gzfile_path, 'rb') as f:\n",
    "        gz_file_content = f.read().decode()\n",
    "        for tmp_id in id:\n",
    "            pat = re.compile(f'(MODEL.*?{tmp_id}.*?ENDMDL)', flags=re.S)\n",
    "            pdbqt_files = pat.findall(gz_file_content)\n",
    "            pdbqt_file_one = '\\n'.join(pdbqt_files)\n",
    "            print(pdbqt_file_one)\n",
    "            raise ValueError\n"
   ]
  },
  {
   "cell_type": "code",
   "execution_count": 59,
   "metadata": {},
   "outputs": [
    {
     "data": {
      "text/plain": [
       "''"
      ]
     },
     "execution_count": 59,
     "metadata": {},
     "output_type": "execute_result"
    }
   ],
   "source": [
    "import io\n",
    "\n",
    "\n",
    "index_file = 'zinc_3d_pdbqt.index'\n",
    "# f_path = next(f)\n",
    "# root_dir = os.getcwd()\n",
    "root_dir = '/public/home/hpc212311013/data/zinc_drug_like/'\n",
    "\n",
    "zinc_pdbqt_1m_file_name = 'zinc_drug_like_3d.pdbqt.gz'\n",
    "zinc_pdbqt_1m_file_index = 'zinc_drug_like_3d.pdbqt.index.pkl'\n",
    "pdbqt_1m_index = defaultdict(list)\n",
    "with gzip.open(zinc_pdbqt_1m_file_name, 'wb') as output:\n",
    "    with io.TextIOWrapper(output, encoding='utf-8') as ecn:\n",
    "        with open(index_file, 'r') as f:\n",
    "            for f_path in tqdm(f):\n",
    "                f_path = os.path.join(root_dir, f_path.strip())\n",
    "                molecules = pdbqt_split(f_path)\n",
    "                for molecule in molecules:\n",
    "                    if random_accept(1/600):\n",
    "                        pdbqt_1m_index[f_path.split('/')[-1]].extend(re.findall('Name = (.*?)\\n', molecule))\n",
    "                        ecn.writelines(molecule)\n",
    "with open(zinc_pdbqt_1m_file_index, 'wb') as handle:\n",
    "    pickle.dump(pdbqt_1m_index, handle, protocol=pickle.HIGHEST_PROTOCOL)"
   ]
  },
  {
   "cell_type": "markdown",
   "metadata": {},
   "source": [
    "## 随机从1000K的分子中抽取分子"
   ]
  },
  {
   "cell_type": "code",
   "execution_count": null,
   "metadata": {},
   "outputs": [],
   "source": [
    "zinc_pdbqt_1m_file_name = 'zinc_drug_like_3d_1m.pdbqt.gz'\n",
    "zinc_pdbqt_10k_file_name = 'zinc_drug_like_3d_10k.pdbqt.gz'\n",
    "random_10k_index = defaultdict()\n",
    "with gzip.open(zinc_pdbqt_10k_file_name, 'wb') as output:\n",
    "    with io.TextIOWrapper(output, encoding='utf-8') as ecn:\n",
    "        molecules = pdbqt_split(zinc_pdbqt_1m_file_name)\n",
    "        for molecule in molecules:\n",
    "            if random_accept(1/100):\n",
    "                ecn.writelines(molecule)"
   ]
  },
  {
   "cell_type": "code",
   "execution_count": null,
   "metadata": {},
   "outputs": [],
   "source": []
  }
 ],
 "metadata": {
  "kernelspec": {
   "display_name": "Python 3.7.13 ('py37')",
   "language": "python",
   "name": "python3"
  },
  "language_info": {
   "codemirror_mode": {
    "name": "ipython",
    "version": 3
   },
   "file_extension": ".py",
   "mimetype": "text/x-python",
   "name": "python",
   "nbconvert_exporter": "python",
   "pygments_lexer": "ipython3",
   "version": "3.7.13"
  },
  "orig_nbformat": 4,
  "vscode": {
   "interpreter": {
    "hash": "72978145884c0378bfe05f23ea8aff1ed8f0c1b4a3add03e2362dc10350ce8c9"
   }
  }
 },
 "nbformat": 4,
 "nbformat_minor": 2
}
