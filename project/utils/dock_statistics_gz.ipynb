{
 "cells": [
  {
   "cell_type": "markdown",
   "metadata": {},
   "source": [
    "# 统计对接后小分子的信息"
   ]
  },
  {
   "cell_type": "code",
   "execution_count": 1,
   "metadata": {},
   "outputs": [],
   "source": [
    "import os\n",
    "import pandas as pd\n",
    "from collections import defaultdict\n",
    "import numpy as np\n",
    "import copy\n",
    "from tqdm import tqdm\n",
    "from utils import ligand_pocket_position_statistics, ZincPdbqt, generate_coor, get_pocket_info, map_and_conjunction, zinc_pdbqt_transform_decorator, gz_writer\n",
    "from functools import partial"
   ]
  },
  {
   "cell_type": "markdown",
   "metadata": {},
   "source": [
    "# Function define"
   ]
  },
  {
   "cell_type": "code",
   "execution_count": 2,
   "metadata": {},
   "outputs": [],
   "source": [
    "\n",
    "@zinc_pdbqt_transform_decorator\n",
    "def transform(pdbqt_model):\n",
    "    return generate_coor(pdbqt_model)\n",
    "\n",
    "\n",
    "@zinc_pdbqt_transform_decorator\n",
    "def transform2(atom_list, pocket_alpha: list):\n",
    "    return ligand_pocket_position_statistics(pocket_alpha, atom_list)\n",
    "\n",
    "\n",
    "def main(dock_out_folder, fpocket_out_folder, pocket_index):\n",
    "    # 提取pocket的信息\n",
    "    pocket_dict = get_pocket_info(fpocket_out_folder)\n",
    "    # 提取对接输出目录\n",
    "    dock_conformation_sm = [os.path.join(dock_out_folder, file_name) for file_name in os.listdir(dock_out_folder) if file_name.endswith('.gz')]\n",
    "\n",
    "    # 以每个分子中所有原子与最近的alpha球距离的平均值作为分子与口袋的距离\n",
    "    statis_results = []\n",
    "    for file in tqdm(dock_conformation_sm):\n",
    "        statis_results.append(ZincPdbqt(file, transform=[transform, partial(transform2, pocket_alpha=pocket_dict[pocket_index])]))\n",
    "    # results 的长度是分子的个数\n",
    "    return map_and_conjunction(list, statis_results)\n"
   ]
  },
  {
   "cell_type": "markdown",
   "metadata": {},
   "source": [
    "# main Function"
   ]
  },
  {
   "cell_type": "code",
   "execution_count": 3,
   "metadata": {},
   "outputs": [
    {
     "name": "stderr",
     "output_type": "stream",
     "text": [
      "100%|██████████| 10/10 [01:20<00:00,  8.02s/it]\n"
     ]
    }
   ],
   "source": [
    "if __name__ == \"__main__\":\n",
    "    # IO file\n",
    "    dock_out_folder = r'/mnt/e/Python_Project/SMTarRNA/project/data/3a6p/100k/'\n",
    "    fpocket_out_folder = r'/mnt/e/Research/SM_miRNA/Data/Dock/complex/fpocket_results/3a6p_out/pockets'\n",
    "    pocket = [('3a6p', 5),\n",
    "              ('4z4c', 1),\n",
    "              ('4z4d', 7),\n",
    "              ('5zal', 7),\n",
    "              ('5zam', 5),\n",
    "              ('6cbd', 44),\n",
    "              ('6lxd', 90),\n",
    "              ('6v5b', 19)]\n",
    "    results = main(dock_out_folder, fpocket_out_folder, 5)\n",
    "    # pocket_sm = dict()\n",
    "    # for key, distance in min_distance_dict.items():\n",
    "    #     x = list()\n",
    "    #     for molecular in distance:\n",
    "    #         # m个原子的最近距离的平均值\n",
    "    #         # print(np.mean(distance))\n",
    "    #         x.append(np.mean(molecular))\n",
    "    #     pocket_sm[key] = np.where(np.array(x) < 1)[0].tolist()\n",
    "    # pocket_set = [set(pocket_sm[i+1]) for i in range(8)]\n",
    "    # total_set = set()\n",
    "    # for i in pocket_set:\n",
    "    #     total_set = total_set | i\n",
    "    \n"
   ]
  },
  {
   "cell_type": "code",
   "execution_count": 4,
   "outputs": [
    {
     "data": {
      "text/plain": "100446"
     },
     "execution_count": 4,
     "metadata": {},
     "output_type": "execute_result"
    }
   ],
   "source": [
    "len(results)"
   ],
   "metadata": {
    "collapsed": false
   }
  },
  {
   "cell_type": "code",
   "execution_count": 5,
   "metadata": {},
   "outputs": [
    {
     "data": {
      "text/plain": "<Figure size 432x288 with 1 Axes>",
      "image/png": "[encoded data removed]"
     },
     "metadata": {
      "needs_background": "light"
     },
     "output_type": "display_data"
    }
   ],
   "source": [
    "import matplotlib.pyplot as plt\n",
    "import matplotlib\n",
    "# matplotlib.use('')\n",
    "fig, ax = plt.subplots()\n",
    "distance = [i[1] for i in results]\n",
    "data = dict(x=distance)\n",
    "ax.scatter('x', 'x', data=data)\n",
    "fig.savefig('test.png')"
   ]
  },
  {
   "cell_type": "code",
   "execution_count": 6,
   "outputs": [
    {
     "data": {
      "text/plain": "(array([4.1060e+03, 2.4322e+04, 2.3661e+04, 1.2361e+04, 7.7670e+03,\n        6.7390e+03, 6.7090e+03, 5.8520e+03, 4.2330e+03, 2.5410e+03,\n        1.2670e+03, 5.7500e+02, 1.9900e+02, 5.8000e+01, 1.6000e+01,\n        6.0000e+00, 2.0000e+00, 1.3000e+01, 1.3000e+01, 6.0000e+00]),\n array([0.63744417, 0.9230168 , 1.20858944, 1.49416207, 1.7797347 ,\n        2.06530734, 2.35087997, 2.63645261, 2.92202524, 3.20759788,\n        3.49317051, 3.77874314, 4.06431578, 4.34988841, 4.63546105,\n        4.92103368, 5.20660632, 5.49217895, 5.77775158, 6.06332422,\n        6.34889685]),\n <BarContainer object of 20 artists>)"
     },
     "execution_count": 6,
     "metadata": {},
     "output_type": "execute_result"
    },
    {
     "data": {
      "text/plain": "<Figure size 432x288 with 1 Axes>",
      "image/png": "[encoded data removed]"
     },
     "metadata": {
      "needs_background": "light"
     },
     "output_type": "display_data"
    }
   ],
   "source": [
    "fig, ax = plt.subplots()\n",
    "distance = [i[1] for i in results]\n",
    "# data = dict(x=distance)\n",
    "ax.hist(distance, bins=20)\n",
    "# fig.savefig('test.png')"
   ],
   "metadata": {
    "collapsed": false
   }
  },
  {
   "cell_type": "code",
   "execution_count": 11,
   "outputs": [],
   "source": [
    "a = np.array(distance)\n",
    "r_position = np.where(a<1)\n",
    "# r_position"
   ],
   "metadata": {
    "collapsed": false
   }
  },
  {
   "cell_type": "code",
   "execution_count": 12,
   "outputs": [
    {
     "name": "stderr",
     "output_type": "stream",
     "text": [
      "100%|██████████| 10/10 [00:00<00:00, 28.96it/s]\n"
     ]
    }
   ],
   "source": [
    "# dock_out_folder = r'/mnt/e/Python_Project/SMTarRNA/project/data/3a6p/10k/'\n",
    "# 提取对接输出目录\n",
    "dock_conformation_sm = [os.path.join(dock_out_folder, file_name) for file_name in os.listdir(dock_out_folder) if file_name.endswith('.gz')]\n",
    "\n",
    "# 以每个分子中所有原子与最近的alpha球距离的平均值作为分子与口袋的距离\n",
    "statis_results = []\n",
    "for file in tqdm(dock_conformation_sm):\n",
    "    statis_results.append(ZincPdbqt(file))\n",
    "total_molecular = map_and_conjunction(list, statis_results)\n",
    "# ecn = gz_writer('right_10k.pdbqt')"
   ],
   "metadata": {
    "collapsed": false
   }
  },
  {
   "cell_type": "code",
   "execution_count": null,
   "outputs": [],
   "source": [
    "ecn = open('right_10k_small_pocket.pdbqt', 'w')\n",
    "for i in r_position[0]:\n",
    "    molecular = total_molecular[i][1]\n",
    "    ecn.writelines('MODEL \\n' + molecular + 'ENDMDL\\n')\n",
    "ecn.close()"
   ],
   "metadata": {
    "collapsed": false
   }
  },
  {
   "cell_type": "code",
   "execution_count": 13,
   "outputs": [],
   "source": [
    "with open('random_sample.pdbqt', 'w') as f:\n",
    "    for i in range(66):\n",
    "        f.writelines('MODEL \\n' + total_molecular[i][1] + 'ENDMDL\\n')\n"
   ],
   "metadata": {
    "collapsed": false
   }
  },
  {
   "cell_type": "code",
   "execution_count": 16,
   "outputs": [
    {
     "data": {
      "text/plain": "('ZINC000861619001',\n 'REMARK VINA RESULT:    -6.069      0.000      0.000\\nREMARK INTER + INTRA:          -8.898\\nREMARK INTER:                  -8.327\\nREMARK INTRA:                  -0.570\\nREMARK UNBOUND:                -0.700\\nREMARK  Name = ZINC000861619001\\nREMARK                            x       y       z     vdW  Elec       q    Type\\nREMARK                         _______ _______ _______ _____ _____    ______ ____\\nROOT\\nATOM      1  N   LIG    1       15.698  58.994  25.904  0.00  0.00    -0.740 N \\nATOM      2  H   LIG    1       15.137  58.204  25.869  0.00  0.00    +0.400 HD\\nATOM      3  C   LIG    1       16.451  59.334  24.839  0.00  0.00    +0.710 C \\nATOM      4  N   LIG    1       16.500  58.524  23.763  0.00  0.00    -0.630 N \\nATOM      5  C   LIG    1       15.664  57.317  23.687  0.00  0.00    +0.220 C \\nATOM      6  C   LIG    1       14.912  57.328  22.353  0.00  0.00    +0.210 C \\nATOM      7  N   LIG    1       15.874  57.487  21.254  0.00  0.00    -0.680 NA\\nATOM      8  H   LIG    1       16.530  56.721  21.234  0.00  0.00    +0.340 HD\\nATOM      9  C   LIG    1       16.573  58.777  21.339  0.00  0.00    +0.210 C \\nATOM     10  C   LIG    1       17.388  58.827  22.630  0.00  0.00    +0.200 C \\nATOM     11  O   LIG    1       17.086  60.371  24.849  0.00  0.00    -0.570 OA\\nENDROOT\\nBRANCH  10  12\\nATOM     12  C   LIG    1       17.993  60.223  22.801  0.00  0.00    +0.020 C \\nATOM     13  C   LIG    1       17.298  61.199  21.850  0.00  0.00    +0.020 C \\nATOM     14  C   LIG    1       19.487  60.174  22.480  0.00  0.00    +0.010 C \\nENDBRANCH  10  12\\nBRANCH   1  15\\nATOM     15  C   LIG    1       15.726  59.820  27.114  0.00  0.00    +0.310 C \\nBRANCH  15  16\\nATOM     16  C   LIG    1       14.343  60.429  27.348  0.00  0.00    +0.180 C \\nBRANCH  16  17\\nATOM     17  O   LIG    1       14.269  61.705  26.710  0.00  0.00    -0.380 OA\\nBRANCH  17  18\\nATOM     18  C   LIG    1       13.202  61.825  25.768  0.00  0.00    +0.330 C \\nBRANCH  18  20\\nATOM     19  C   LIG    1       14.196  62.337  23.369  0.00  0.00    +0.050 C \\nATOM     20  C   LIG    1       13.755  62.110  24.434  0.00  0.00    -0.200 C \\nENDBRANCH  18  20\\nENDBRANCH  17  18\\nENDBRANCH  16  17\\nENDBRANCH  15  16\\nENDBRANCH   1  15\\nTORSDOF 6\\n')"
     },
     "execution_count": 16,
     "metadata": {},
     "output_type": "execute_result"
    }
   ],
   "source": [
    "molecular"
   ],
   "metadata": {
    "collapsed": false
   }
  },
  {
   "cell_type": "code",
   "execution_count": 44,
   "metadata": {},
   "outputs": [],
   "source": [
    "pocket_set = [set(pocket_sm[i+1]) for i in range(8)]\n",
    "total_set = set()\n",
    "for i in pocket_set:\n",
    "    total_set = total_set | i\n"
   ]
  },
  {
   "cell_type": "code",
   "execution_count": 13,
   "metadata": {},
   "outputs": [
    {
     "data": {
      "text/plain": [
       "(1, 3, 2)"
      ]
     },
     "execution_count": 13,
     "metadata": {},
     "output_type": "execute_result"
    }
   ],
   "source": [
    "a = np.array([[1, 2, 3], [2, 3, 4]])\n",
    "b = np.array([[3, 4, 5], [4, 5, 6]])\n",
    "a = a[:, :,np.newaxis]\n",
    "b = b.T[np.newaxis, :]\n",
    "b.shape"
   ]
  },
  {
   "cell_type": "code",
   "execution_count": 27,
   "metadata": {},
   "outputs": [
    {
     "data": {
      "text/plain": "['ArithmeticError',\n 'AssertionError',\n 'AttributeError',\n 'BaseException',\n 'BlockingIOError',\n 'BrokenPipeError',\n 'BufferError',\n 'BytesWarning',\n 'ChildProcessError',\n 'ConnectionAbortedError',\n 'ConnectionError',\n 'ConnectionRefusedError',\n 'ConnectionResetError',\n 'DeprecationWarning',\n 'EOFError',\n 'Ellipsis',\n 'EnvironmentError',\n 'Exception',\n 'False',\n 'FileExistsError',\n 'FileNotFoundError',\n 'FloatingPointError',\n 'FutureWarning',\n 'GeneratorExit',\n 'IOError',\n 'ImportError',\n 'ImportWarning',\n 'IndentationError',\n 'IndexError',\n 'InterruptedError',\n 'IsADirectoryError',\n 'KeyError',\n 'KeyboardInterrupt',\n 'LookupError',\n 'MemoryError',\n 'ModuleNotFoundError',\n 'NameError',\n 'None',\n 'NotADirectoryError',\n 'NotImplemented',\n 'NotImplementedError',\n 'OSError',\n 'OverflowError',\n 'PendingDeprecationWarning',\n 'PermissionError',\n 'ProcessLookupError',\n 'RecursionError',\n 'ReferenceError',\n 'ResourceWarning',\n 'RuntimeError',\n 'RuntimeWarning',\n 'StopAsyncIteration',\n 'StopIteration',\n 'SyntaxError',\n 'SyntaxWarning',\n 'SystemError',\n 'SystemExit',\n 'TabError',\n 'TimeoutError',\n 'True',\n 'TypeError',\n 'UnboundLocalError',\n 'UnicodeDecodeError',\n 'UnicodeEncodeError',\n 'UnicodeError',\n 'UnicodeTranslateError',\n 'UnicodeWarning',\n 'UserWarning',\n 'ValueError',\n 'Warning',\n 'ZeroDivisionError',\n '__IPYTHON__',\n '__build_class__',\n '__debug__',\n '__doc__',\n '__import__',\n '__loader__',\n '__name__',\n '__package__',\n '__spec__',\n 'abs',\n 'all',\n 'any',\n 'ascii',\n 'bin',\n 'bool',\n 'breakpoint',\n 'bytearray',\n 'bytes',\n 'callable',\n 'chr',\n 'classmethod',\n 'compile',\n 'complex',\n 'copyright',\n 'credits',\n 'delattr',\n 'dict',\n 'dir',\n 'display',\n 'divmod',\n 'enumerate',\n 'eval',\n 'exec',\n 'execfile',\n 'filter',\n 'float',\n 'format',\n 'frozenset',\n 'get_ipython',\n 'getattr',\n 'globals',\n 'hasattr',\n 'hash',\n 'help',\n 'hex',\n 'id',\n 'input',\n 'int',\n 'isinstance',\n 'issubclass',\n 'iter',\n 'len',\n 'license',\n 'list',\n 'locals',\n 'map',\n 'max',\n 'memoryview',\n 'min',\n 'next',\n 'object',\n 'oct',\n 'open',\n 'ord',\n 'pow',\n 'print',\n 'property',\n 'range',\n 'repr',\n 'reversed',\n 'round',\n 'runfile',\n 'set',\n 'setattr',\n 'slice',\n 'sorted',\n 'staticmethod',\n 'str',\n 'sum',\n 'super',\n 'tuple',\n 'type',\n 'vars',\n 'zip']"
     },
     "execution_count": 27,
     "metadata": {},
     "output_type": "execute_result"
    }
   ],
   "source": [
    "import builtins\n",
    "dir(builtins)\n",
    "all()"
   ]
  },
  {
   "cell_type": "code",
   "execution_count": 3,
   "metadata": {},
   "outputs": [],
   "source": [
    "file = '/mnt/e/Python_Project/SMTarRNA/project/data/3a6p/100k/zinc_drug_like_3d_100k_rand_3a6p_dOthers_aH_dock_results_0-10044.pdbqt.gz'\n",
    "\n",
    "data = ZincPdbqt(file, transform=[transform])"
   ]
  },
  {
   "cell_type": "code",
   "execution_count": 4,
   "metadata": {},
   "outputs": [],
   "source": [
    "moleculars = [i for i in data]"
   ]
  },
  {
   "cell_type": "code",
   "execution_count": 5,
   "outputs": [],
   "source": [
    "atom_position = []\n",
    "for i in moleculars:\n",
    "    for t in i[1]:\n",
    "        atom_position.append(t[1:])\n"
   ],
   "metadata": {
    "collapsed": false
   }
  },
  {
   "cell_type": "code",
   "execution_count": 6,
   "outputs": [
    {
     "data": {
      "text/plain": "(array([ 150.,  450.,  526.,  940., 1030.,  920., 1124., 1108.,  936.,\n         826.,  652.,  486.,  346.,  224.,  136.,   76.,   40.,   16.,\n          12.,    2.]),\n array([ 0.        ,  0.79607674,  1.59215348,  2.38823021,  3.18430695,\n         3.98038369,  4.77646043,  5.57253716,  6.3686139 ,  7.16469064,\n         7.96076738,  8.75684412,  9.55292085, 10.34899759, 11.14507433,\n        11.94115107, 12.73722781, 13.53330454, 14.32938128, 15.12545802,\n        15.92153476]),\n <BarContainer object of 20 artists>)"
     },
     "execution_count": 6,
     "metadata": {},
     "output_type": "execute_result"
    },
    {
     "data": {
      "text/plain": "<Figure size 432x288 with 1 Axes>",
      "image/png": "[encoded data removed]"
     },
     "metadata": {
      "needs_background": "light"
     },
     "output_type": "display_data"
    }
   ],
   "source": [
    "from scipy import spatial\n",
    "import matplotlib.pyplot as plt\n",
    "results = spatial.distance_matrix(atom_position[:100], atom_position[:100])\n",
    "fig, ax = plt.subplots()\n",
    "# data = dict(x=distance)\n",
    "ax.hist(results.reshape(-1, 1), bins=20)"
   ],
   "metadata": {
    "collapsed": false
   }
  },
  {
   "cell_type": "code",
   "execution_count": null,
   "outputs": [],
   "source": [],
   "metadata": {
    "collapsed": false
   }
  }
 ],
 "metadata": {
  "kernelspec": {
   "display_name": "Python 3.9.7 ('smtr')",
   "language": "python",
   "name": "python3"
  },
  "language_info": {
   "codemirror_mode": {
    "name": "ipython",
    "version": 3
   },
   "file_extension": ".py",
   "mimetype": "text/x-python",
   "name": "python",
   "nbconvert_exporter": "python",
   "pygments_lexer": "ipython3",
   "version": "3.9.7"
  },
  "orig_nbformat": 4,
  "vscode": {
   "interpreter": {
    "hash": "a75462293d05fc3e00128f4985dd13fcf50f4f5144b1474848efbcac1f09cd24"
   }
  }
 },
 "nbformat": 4,
 "nbformat_minor": 2
}
