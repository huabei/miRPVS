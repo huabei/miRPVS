{
 "cells": [
  {
   "attachments": {},
   "cell_type": "markdown",
   "metadata": {},
   "source": [
    "# 分批对接结果的综合"
   ]
  },
  {
   "attachments": {},
   "cell_type": "markdown",
   "metadata": {},
   "source": [
    "## 导入模块"
   ]
  },
  {
   "cell_type": "code",
   "execution_count": 1,
   "metadata": {},
   "outputs": [
    {
     "data": {
      "text/plain": [
       "['batch_dock_speed_test.sh',\n",
       " 'receptor',\n",
       " 'log',\n",
       " 'batch_dock.sh',\n",
       " 'outputs',\n",
       " '.ipynb_checkpoints',\n",
       " 'slurm-5990317.out',\n",
       " 'ligand',\n",
       " '__pycache__',\n",
       " 'batch_dock_job_.py',\n",
       " 'utils.py',\n",
       " 'autodock_vina_batch_dock.py',\n",
       " 'batch_dock_2_jobs.sh',\n",
       " 'slurm-5975874.out',\n",
       " 'jp.log',\n",
       " 'slurm-6833143.out']"
      ]
     },
     "execution_count": 1,
     "metadata": {},
     "output_type": "execute_result"
    }
   ],
   "source": [
    "import pickle\n",
    "import os\n",
    "import gzip\n",
    "from utils import ZincPdbqt\n",
    "import pandas as pd\n",
    "os.listdir()"
   ]
  },
  {
   "attachments": {},
   "cell_type": "markdown",
   "metadata": {},
   "source": [
    "## 数据目录"
   ]
  },
  {
   "cell_type": "code",
   "execution_count": 2,
   "metadata": {},
   "outputs": [],
   "source": [
    "data_dir = 'outputs/3a6p_1m/'"
   ]
  },
  {
   "attachments": {},
   "cell_type": "markdown",
   "metadata": {},
   "source": [
    "## 列出数据文件"
   ]
  },
  {
   "cell_type": "code",
   "execution_count": 3,
   "metadata": {},
   "outputs": [
    {
     "data": {
      "text/plain": [
       "(51,\n",
       " 50,\n",
       " ['3a6p_dOthers_apH_dock_energy_699516_718947_32_20230417105435.pkl',\n",
       "  '3a6p_dOthers_apH_dock_energy_38862_58293_32_20230414141038.pkl',\n",
       "  '3a6p_dOthers_apH_dock_energy_349758_369189_32_20230414141536.pkl',\n",
       "  '3a6p_dOthers_apH_dock_energy_388620_408051_32_20230414141534.pkl',\n",
       "  '3a6p_dOthers_apH_dock_energy_369189_388620_32_20230414141536.pkl'],\n",
       " ['3a6p_dOthers_apH_dock_results_641223_660654_32_20230414141605.pdbqt.gz',\n",
       "  '3a6p_dOthers_apH_dock_results_563499_582930_32_20230414141606.pdbqt.gz',\n",
       "  '3a6p_dOthers_apH_dock_results_893826_913257_32_20230414141605.pdbqt.gz',\n",
       "  '3a6p_dOthers_apH_dock_results_932688_952125_32_20230414141607.pdbqt.gz',\n",
       "  '3a6p_dOthers_apH_dock_results_505206_524637_32_20230414141605.pdbqt.gz'])"
      ]
     },
     "execution_count": 3,
     "metadata": {},
     "output_type": "execute_result"
    }
   ],
   "source": [
    "data_files = os.listdir(data_dir)\n",
    "pkl_files = [f for f in data_files if f.endswith('.pkl')]\n",
    "pdbqt_gz_files = [f for f in data_files if f.endswith('.pdbqt.gz')]\n",
    "len(pkl_files), len(pdbqt_gz_files), pkl_files[:5], pdbqt_gz_files[:5]"
   ]
  },
  {
   "attachments": {},
   "cell_type": "markdown",
   "metadata": {},
   "source": [
    "## 拼接数据"
   ]
  },
  {
   "cell_type": "code",
   "execution_count": 4,
   "metadata": {},
   "outputs": [
    {
     "name": "stdout",
     "output_type": "stream",
     "text": [
      "total data: 971167\n"
     ]
    }
   ],
   "source": [
    "total_data = dict()\n",
    "for f in pkl_files:\n",
    "    with open(os.path.join(data_dir, f), 'rb') as f:\n",
    "        data = pickle.load(f)\n",
    "        total_data.update(data)\n",
    "print(f'total data: {len(total_data)}')"
   ]
  },
  {
   "cell_type": "code",
   "execution_count": 5,
   "metadata": {},
   "outputs": [],
   "source": [
    "with open(os.path.join(data_dir, 'total_data_dock_energy.pkl'), 'wb') as f:\n",
    "    pickle.dump(total_data, f)"
   ]
  },
  {
   "attachments": {},
   "cell_type": "markdown",
   "metadata": {},
   "source": [
    "## 构造hdf5数据集格式，包括两个表，一个坐标表，一个统计信息表。"
   ]
  },
  {
   "cell_type": "code",
   "execution_count": 6,
   "metadata": {},
   "outputs": [],
   "source": [
    "def analyze_zinc_pdbqt_gz(pdbqt_gz_path: str):\n",
    "    \"\"\"此函数用于分析ZINC的pdbqt.gz文件，将其转换成3维坐标数据和原子在3维坐标数据中的起始和终止位置\n",
    "    input: pdbqt_gz_path: str, pdbqt.gz文件的路径\n",
    "    output: coor: pd.DataFrame, 3维坐标数据\n",
    "            index: pd.DataFrame, 每个分子中的原子在coor中的起始和终止位置\n",
    "    \"\"\"\n",
    "    coor = []\n",
    "    index = []\n",
    "    # 读取pdbqt.gz文件\n",
    "    with gzip.open(pdbqt_gz_path, 'rb') as f:\n",
    "        t_start = 0 # 记录当前分子的原子起始位置\n",
    "        t_end = 0 # 记录当前分子的原子终止位置\n",
    "        for line in f:\n",
    "            if line.startswith(b'ATOM'):\n",
    "                coor.append([str(line[12:14].strip(), 'utf-8'), float(line[30:38]), float(line[38:46]), float(line[46:54])])\n",
    "                t_end += 1 # 记录已存入原子的个数\n",
    "            if line.startswith(b'REMARK  Name = '): # 一个分子的起始位置\n",
    "                if t_end == 0:\n",
    "                    # 记录第一个分子的id\n",
    "                    zinc_id = str(line[15:].strip(), 'utf-8')\n",
    "                    continue\n",
    "                index.append([zinc_id, t_start, t_end])  # 存储上一个分子的信息\n",
    "                zinc_id = str(line[15:].strip(), 'utf-8')  # 记录当前分子的id\n",
    "                t_start = t_end # 记录当前分子的原子起始位置\n",
    "        index.append([zinc_id, t_start, t_end])\n",
    "    return pd.DataFrame(coor, columns=['atom', 'x', 'y', 'z']), pd.DataFrame(index, columns=['zinc_id', 'start', 'end']).set_index('zinc_id', drop=True)"
   ]
  },
  {
   "cell_type": "code",
   "execution_count": 7,
   "metadata": {},
   "outputs": [],
   "source": [
    "# 生成表\n",
    "coor_df, index_df = analyze_zinc_pdbqt_gz('ligand/zinc20_druglike_random_sample_molecule_1f600.pdbqt.gz')"
   ]
  },
  {
   "cell_type": "code",
   "execution_count": 8,
   "metadata": {},
   "outputs": [],
   "source": [
    "# 根据表，添加对接能量\n",
    "# 提取最佳对接能量\n",
    "total_data_best = {k: v[0] for k, v in total_data.items()}\n"
   ]
  },
  {
   "cell_type": "code",
   "execution_count": 12,
   "metadata": {},
   "outputs": [],
   "source": [
    "for zinc_id, energy in total_data_best.items():\n",
    "    # print(energy.shape)\n",
    "    assert energy.shape[0] == 5"
   ]
  },
  {
   "cell_type": "code",
   "execution_count": 19,
   "metadata": {},
   "outputs": [],
   "source": [
    "# 生成表\n",
    "total_data_best_df = pd.DataFrame.from_dict(total_data_best, columns=['total', 'inter', 'intra', 'torsions', 'intra best pose'], orient='index')"
   ]
  },
  {
   "cell_type": "code",
   "execution_count": 20,
   "metadata": {},
   "outputs": [],
   "source": [
    "# 合并表\n",
    "total_data_best_df.index.name = 'zinc_id'\n",
    "total_data_best_df = index_df.join(total_data_best_df, how='left')"
   ]
  },
  {
   "cell_type": "code",
   "execution_count": 11,
   "metadata": {},
   "outputs": [],
   "source": [
    "# 保存为hdf5文件\n",
    "store = pd.HDFStore('outputs/3a6p_1m/total_data_best_df.h5')\n",
    "store['label'] = total_data_best_df\n",
    "store['pos'] = coor_df\n",
    "store.close()"
   ]
  },
  {
   "cell_type": "code",
   "execution_count": 12,
   "metadata": {},
   "outputs": [
    {
     "data": {
      "text/plain": [
       "(971561, 971167)"
      ]
     },
     "execution_count": 12,
     "metadata": {},
     "output_type": "execute_result"
    }
   ],
   "source": [
    "total_data_best_df.shape[0], len(total_data)"
   ]
  },
  {
   "cell_type": "code",
   "execution_count": 46,
   "metadata": {},
   "outputs": [
    {
     "name": "stdout",
     "output_type": "stream",
     "text": [
      "('ZINC000000023541', total                   -6.764\n",
      "inter                   -7.947\n",
      "intra                   -0.264\n",
      "torsions                 1.186\n",
      "intra best pose         -0.260\n",
      "start              4441801.000\n",
      "end                4441822.000\n",
      "Name: ZINC000000023541, dtype: float64)\n"
     ]
    }
   ],
   "source": [
    "for i in total_data_best_df.iterrows():\n",
    "    print(i)\n",
    "    break"
   ]
  },
  {
   "cell_type": "code",
   "execution_count": 58,
   "metadata": {},
   "outputs": [],
   "source": [
    "elements_dict = dict(C=0, N=1, O=2, H=3, F=4, S=5, CL=6, BR=7, I=8, SI=9, P=10)\n",
    "ele_df = pd.DataFrame.from_dict(elements_dict, orient='index', columns=['element_id'], dtype='int8')\n"
   ]
  },
  {
   "cell_type": "code",
   "execution_count": 26,
   "metadata": {},
   "outputs": [
    {
     "data": {
      "text/html": [
       "<div>\n",
       "<style scoped>\n",
       "    .dataframe tbody tr th:only-of-type {\n",
       "        vertical-align: middle;\n",
       "    }\n",
       "\n",
       "    .dataframe tbody tr th {\n",
       "        vertical-align: top;\n",
       "    }\n",
       "\n",
       "    .dataframe thead th {\n",
       "        text-align: right;\n",
       "    }\n",
       "</style>\n",
       "<table border=\"1\" class=\"dataframe\">\n",
       "  <thead>\n",
       "    <tr style=\"text-align: right;\">\n",
       "      <th></th>\n",
       "      <th>start</th>\n",
       "      <th>end</th>\n",
       "      <th>total</th>\n",
       "      <th>inter</th>\n",
       "      <th>intra</th>\n",
       "      <th>torsions</th>\n",
       "      <th>intra best pose</th>\n",
       "    </tr>\n",
       "    <tr>\n",
       "      <th>zinc_id</th>\n",
       "      <th></th>\n",
       "      <th></th>\n",
       "      <th></th>\n",
       "      <th></th>\n",
       "      <th></th>\n",
       "      <th></th>\n",
       "      <th></th>\n",
       "    </tr>\n",
       "  </thead>\n",
       "  <tbody>\n",
       "    <tr>\n",
       "      <th>ZINC000008566663</th>\n",
       "      <td>16700195</td>\n",
       "      <td>16700223</td>\n",
       "      <td>-7.342</td>\n",
       "      <td>-9.907</td>\n",
       "      <td>-0.677</td>\n",
       "      <td>2.575</td>\n",
       "      <td>-0.667</td>\n",
       "    </tr>\n",
       "    <tr>\n",
       "      <th>ZINC000008566663</th>\n",
       "      <td>16703220</td>\n",
       "      <td>16703248</td>\n",
       "      <td>-7.342</td>\n",
       "      <td>-9.907</td>\n",
       "      <td>-0.677</td>\n",
       "      <td>2.575</td>\n",
       "      <td>-0.667</td>\n",
       "    </tr>\n",
       "    <tr>\n",
       "      <th>ZINC000009109203</th>\n",
       "      <td>23964033</td>\n",
       "      <td>23964070</td>\n",
       "      <td>-8.466</td>\n",
       "      <td>-10.973</td>\n",
       "      <td>-1.963</td>\n",
       "      <td>2.475</td>\n",
       "      <td>-1.996</td>\n",
       "    </tr>\n",
       "    <tr>\n",
       "      <th>ZINC000009109203</th>\n",
       "      <td>23964070</td>\n",
       "      <td>23964107</td>\n",
       "      <td>-8.466</td>\n",
       "      <td>-10.973</td>\n",
       "      <td>-1.963</td>\n",
       "      <td>2.475</td>\n",
       "      <td>-1.996</td>\n",
       "    </tr>\n",
       "    <tr>\n",
       "      <th>ZINC000014079500</th>\n",
       "      <td>22983664</td>\n",
       "      <td>22983691</td>\n",
       "      <td>-6.874</td>\n",
       "      <td>-10.460</td>\n",
       "      <td>-1.003</td>\n",
       "      <td>3.215</td>\n",
       "      <td>-1.373</td>\n",
       "    </tr>\n",
       "  </tbody>\n",
       "</table>\n",
       "</div>"
      ],
      "text/plain": [
       "                     start       end  total   inter  intra  torsions  \\\n",
       "zinc_id                                                                \n",
       "ZINC000008566663  16700195  16700223 -7.342  -9.907 -0.677     2.575   \n",
       "ZINC000008566663  16703220  16703248 -7.342  -9.907 -0.677     2.575   \n",
       "ZINC000009109203  23964033  23964070 -8.466 -10.973 -1.963     2.475   \n",
       "ZINC000009109203  23964070  23964107 -8.466 -10.973 -1.963     2.475   \n",
       "ZINC000014079500  22983664  22983691 -6.874 -10.460 -1.003     3.215   \n",
       "\n",
       "                  intra best pose  \n",
       "zinc_id                            \n",
       "ZINC000008566663           -0.667  \n",
       "ZINC000008566663           -0.667  \n",
       "ZINC000009109203           -1.996  \n",
       "ZINC000009109203           -1.996  \n",
       "ZINC000014079500           -1.373  "
      ]
     },
     "execution_count": 26,
     "metadata": {},
     "output_type": "execute_result"
    }
   ],
   "source": [
    "# coor_df['id'] = coor_df['atom'].map(ele_df['element_id'])\n",
    "# 查看重复index的行\n",
    "total_data_best_df.loc[total_data_best_df[total_data_best_df.index.duplicated()].index].head()"
   ]
  }
 ],
 "metadata": {
  "kernelspec": {
   "display_name": "Python 3",
   "language": "python",
   "name": "python3"
  },
  "language_info": {
   "codemirror_mode": {
    "name": "ipython",
    "version": 3
   },
   "file_extension": ".py",
   "mimetype": "text/x-python",
   "name": "python",
   "nbconvert_exporter": "python",
   "pygments_lexer": "ipython3",
   "version": "3.8.12"
  },
  "orig_nbformat": 4
 },
 "nbformat": 4,
 "nbformat_minor": 2
}
