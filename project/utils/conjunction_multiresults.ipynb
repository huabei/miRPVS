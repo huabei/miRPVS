{
 "cells": [
  {
   "attachments": {},
   "cell_type": "markdown",
   "metadata": {},
   "source": [
    "# 分批对接结果的综合"
   ]
  },
  {
   "attachments": {},
   "cell_type": "markdown",
   "metadata": {},
   "source": [
    "## 导入模块"
   ]
  },
  {
   "cell_type": "code",
   "execution_count": 1,
   "metadata": {},
   "outputs": [
    {
     "data": {
      "text/plain": [
       "['batch_dock_speed_test.sh',\n",
       " 'receptor',\n",
       " 'log',\n",
       " 'batch_dock.sh',\n",
       " 'outputs',\n",
       " '.ipynb_checkpoints',\n",
       " 'ligand',\n",
       " '__pycache__',\n",
       " 'batch_dock_job_.py',\n",
       " 'utils.py',\n",
       " 'autodock_vina_batch_dock.py',\n",
       " 'batch_dock_2_jobs.sh',\n",
       " 'slurm-5975874.out']"
      ]
     },
     "execution_count": 1,
     "metadata": {},
     "output_type": "execute_result"
    }
   ],
   "source": [
    "import pickle\n",
    "import os\n",
    "import gzip\n",
    "from utils import ZincPdbqt\n",
    "import pandas as pd\n",
    "os.listdir()"
   ]
  },
  {
   "attachments": {},
   "cell_type": "markdown",
   "metadata": {},
   "source": [
    "## 数据目录"
   ]
  },
  {
   "cell_type": "code",
   "execution_count": 2,
   "metadata": {},
   "outputs": [],
   "source": [
    "data_dir = 'outputs/3a6p_1m/'"
   ]
  },
  {
   "attachments": {},
   "cell_type": "markdown",
   "metadata": {},
   "source": [
    "## 列出数据文件"
   ]
  },
  {
   "cell_type": "code",
   "execution_count": 3,
   "metadata": {},
   "outputs": [
    {
     "data": {
      "text/plain": [
       "(44,\n",
       " 50,\n",
       " ['3a6p_dOthers_apH_dock_energy_38862_58293_32_20230414141038.pkl',\n",
       "  '3a6p_dOthers_apH_dock_energy_349758_369189_32_20230414141536.pkl',\n",
       "  '3a6p_dOthers_apH_dock_energy_388620_408051_32_20230414141534.pkl',\n",
       "  '3a6p_dOthers_apH_dock_energy_369189_388620_32_20230414141536.pkl',\n",
       "  '3a6p_dOthers_apH_dock_energy_427482_446913_32_20230414141534.pkl'],\n",
       " ['3a6p_dOthers_apH_dock_results_641223_660654_32_20230414141605.pdbqt.gz',\n",
       "  '3a6p_dOthers_apH_dock_results_563499_582930_32_20230414141606.pdbqt.gz',\n",
       "  '3a6p_dOthers_apH_dock_results_893826_913257_32_20230414141605.pdbqt.gz',\n",
       "  '3a6p_dOthers_apH_dock_results_932688_952125_32_20230414141607.pdbqt.gz',\n",
       "  '3a6p_dOthers_apH_dock_results_505206_524637_32_20230414141605.pdbqt.gz'])"
      ]
     },
     "execution_count": 3,
     "metadata": {},
     "output_type": "execute_result"
    }
   ],
   "source": [
    "data_files = os.listdir(data_dir)\n",
    "pkl_files = [f for f in data_files if f.endswith('.pkl')]\n",
    "pdbqt_gz_files = [f for f in data_files if f.endswith('.pdbqt.gz')]\n",
    "len(pkl_files), len(pdbqt_gz_files), pkl_files[:5], pdbqt_gz_files[:5]"
   ]
  },
  {
   "attachments": {},
   "cell_type": "markdown",
   "metadata": {},
   "source": [
    "## 拼接数据"
   ]
  },
  {
   "cell_type": "code",
   "execution_count": 4,
   "metadata": {},
   "outputs": [
    {
     "data": {
      "text/plain": [
       "835276"
      ]
     },
     "execution_count": 4,
     "metadata": {},
     "output_type": "execute_result"
    }
   ],
   "source": [
    "total_data = dict()\n",
    "for f in pkl_files:\n",
    "    with open(os.path.join(data_dir, f), 'rb') as f:\n",
    "        data = pickle.load(f)\n",
    "        total_data.update(data)\n",
    "len(total_data)"
   ]
  },
  {
   "cell_type": "code",
   "execution_count": 11,
   "metadata": {},
   "outputs": [],
   "source": [
    "with open(os.path.join(data_dir, 'total_data_dock_energy.pkl'), 'wb') as f:\n",
    "    pickle.dump(total_data, f)"
   ]
  },
  {
   "attachments": {},
   "cell_type": "markdown",
   "metadata": {},
   "source": [
    "## 构造hdf5数据集格式，包括两个表，一个坐标表，一个统计信息表。"
   ]
  },
  {
   "cell_type": "code",
   "execution_count": 5,
   "metadata": {},
   "outputs": [],
   "source": [
    "def analyze_zinc_pdbqt_gz(pdbqt_gz_path: str):\n",
    "    \"\"\"此函数用于分析ZINC的pdbqt.gz文件，将其转换成3维坐标数据和原子在3维坐标数据中的起始和终止位置\n",
    "    input: pdbqt_gz_path: str, pdbqt.gz文件的路径\n",
    "    output: coor: pd.DataFrame, 3维坐标数据\n",
    "            index: pd.DataFrame, 每个分子中的原子在coor中的起始和终止位置\n",
    "    \"\"\"\n",
    "    coor = []\n",
    "    index = []\n",
    "    # 读取pdbqt.gz文件\n",
    "    with gzip.open(pdbqt_gz_path, 'rb') as f:\n",
    "        t_start = 0 # 记录当前分子的原子起始位置\n",
    "        t_end = 0 # 记录当前分子的原子终止位置\n",
    "        for line in f:\n",
    "            if line.startswith(b'ATOM'):\n",
    "                coor.append([str(line[12:14].strip(), 'utf-8'), float(line[30:38]), float(line[38:46]), float(line[46:54])])\n",
    "                t_end += 1 # 记录已存入原子的个数\n",
    "            if line.startswith(b'REMARK  Name = '): # 一个分子的起始位置\n",
    "                if t_end == 0:\n",
    "                    # 记录第一个分子的id\n",
    "                    zinc_id = str(line[15:].strip(), 'utf-8')\n",
    "                    continue\n",
    "                index.append([zinc_id, t_start, t_end])  # 存储上一个分子的信息\n",
    "                zinc_id = str(line[15:].strip(), 'utf-8')  # 记录当前分子的id\n",
    "                t_start = t_end # 记录当前分子的原子起始位置\n",
    "        index.append([zinc_id, t_start, t_end])\n",
    "    return pd.DataFrame(coor, columns=['atom', 'x', 'y', 'z']), pd.DataFrame(index, columns=['zinc_id', 'start', 'end']).set_index('zinc_id', drop=True)"
   ]
  },
  {
   "cell_type": "code",
   "execution_count": 6,
   "metadata": {},
   "outputs": [],
   "source": [
    "# 生成表\n",
    "coor_df, index_df = analyze_zinc_pdbqt_gz('ligand/zinc20_druglike_random_sample_molecule_1f600.pdbqt.gz')"
   ]
  },
  {
   "cell_type": "code",
   "execution_count": 7,
   "metadata": {},
   "outputs": [],
   "source": [
    "# 根据表，添加对接能量\n",
    "# 提取最佳对接能量\n",
    "total_data_best = {k: v[0] for k, v in total_data.items()}\n"
   ]
  },
  {
   "cell_type": "code",
   "execution_count": 12,
   "metadata": {},
   "outputs": [],
   "source": [
    "for zinc_id, energy in total_data_best.items():\n",
    "    # print(energy.shape)\n",
    "    assert energy.shape[0] == 5"
   ]
  },
  {
   "cell_type": "code",
   "execution_count": 21,
   "metadata": {},
   "outputs": [],
   "source": [
    "# 生成表\n",
    "total_data_best_df = pd.DataFrame.from_dict(total_data_best, columns=['total', 'inter', 'intra', 'torsions', 'intra best pose'], orient='index')"
   ]
  },
  {
   "cell_type": "code",
   "execution_count": 22,
   "metadata": {},
   "outputs": [],
   "source": [
    "# 合并表\n",
    "total_data_best_df.index.name = 'zinc_id'\n",
    "total_data_best_df = total_data_best_df.join(index_df)"
   ]
  },
  {
   "cell_type": "code",
   "execution_count": null,
   "metadata": {},
   "outputs": [],
   "source": [
    "# 保存为hdf5文件\n",
    "store = pd.HDFStore('outputs/3a6p_1m/total_data_best_df.h5')\n",
    "store['label'] = total_data_best_df\n",
    "store['pos'] = coor_df\n",
    "store.close()"
   ]
  },
  {
   "cell_type": "code",
   "execution_count": 36,
   "metadata": {},
   "outputs": [
    {
     "data": {
      "text/plain": [
       "(835610, 835276)"
      ]
     },
     "execution_count": 36,
     "metadata": {},
     "output_type": "execute_result"
    }
   ],
   "source": [
    "total_data_best_df.shape[0], len(total_data)"
   ]
  },
  {
   "cell_type": "code",
   "execution_count": 46,
   "metadata": {},
   "outputs": [
    {
     "name": "stdout",
     "output_type": "stream",
     "text": [
      "('ZINC000000023541', total                   -6.764\n",
      "inter                   -7.947\n",
      "intra                   -0.264\n",
      "torsions                 1.186\n",
      "intra best pose         -0.260\n",
      "start              4441801.000\n",
      "end                4441822.000\n",
      "Name: ZINC000000023541, dtype: float64)\n"
     ]
    }
   ],
   "source": [
    "for i in total_data_best_df.iterrows():\n",
    "    print(i)\n",
    "    break"
   ]
  },
  {
   "cell_type": "code",
   "execution_count": 58,
   "metadata": {},
   "outputs": [],
   "source": [
    "elements_dict = dict(C=0, N=1, O=2, H=3, F=4, S=5, CL=6, BR=7, I=8, SI=9, P=10)\n",
    "ele_df = pd.DataFrame.from_dict(elements_dict, orient='index', columns=['element_id'], dtype='int8')\n"
   ]
  },
  {
   "cell_type": "code",
   "execution_count": 31,
   "metadata": {},
   "outputs": [
    {
     "data": {
      "text/html": [
       "<div>\n",
       "<style scoped>\n",
       "    .dataframe tbody tr th:only-of-type {\n",
       "        vertical-align: middle;\n",
       "    }\n",
       "\n",
       "    .dataframe tbody tr th {\n",
       "        vertical-align: top;\n",
       "    }\n",
       "\n",
       "    .dataframe thead th {\n",
       "        text-align: right;\n",
       "    }\n",
       "</style>\n",
       "<table border=\"1\" class=\"dataframe\">\n",
       "  <thead>\n",
       "    <tr style=\"text-align: right;\">\n",
       "      <th></th>\n",
       "      <th>total</th>\n",
       "      <th>inter</th>\n",
       "      <th>intra</th>\n",
       "      <th>torsions</th>\n",
       "      <th>intra best pose</th>\n",
       "      <th>start</th>\n",
       "      <th>end</th>\n",
       "    </tr>\n",
       "    <tr>\n",
       "      <th>zinc_id</th>\n",
       "      <th></th>\n",
       "      <th></th>\n",
       "      <th></th>\n",
       "      <th></th>\n",
       "      <th></th>\n",
       "      <th></th>\n",
       "      <th></th>\n",
       "    </tr>\n",
       "  </thead>\n",
       "  <tbody>\n",
       "    <tr>\n",
       "      <th>ZINC000000023541</th>\n",
       "      <td>-6.764</td>\n",
       "      <td>-7.947</td>\n",
       "      <td>-0.264</td>\n",
       "      <td>1.186</td>\n",
       "      <td>-0.260</td>\n",
       "      <td>4441801</td>\n",
       "      <td>4441822</td>\n",
       "    </tr>\n",
       "    <tr>\n",
       "      <th>ZINC000000027943</th>\n",
       "      <td>-6.242</td>\n",
       "      <td>-7.414</td>\n",
       "      <td>-0.065</td>\n",
       "      <td>1.095</td>\n",
       "      <td>-0.142</td>\n",
       "      <td>5758277</td>\n",
       "      <td>5758294</td>\n",
       "    </tr>\n",
       "    <tr>\n",
       "      <th>ZINC000000029829</th>\n",
       "      <td>-6.333</td>\n",
       "      <td>-7.251</td>\n",
       "      <td>-0.638</td>\n",
       "      <td>1.111</td>\n",
       "      <td>-0.445</td>\n",
       "      <td>2564893</td>\n",
       "      <td>2564911</td>\n",
       "    </tr>\n",
       "    <tr>\n",
       "      <th>ZINC000000030076</th>\n",
       "      <td>-6.643</td>\n",
       "      <td>-7.823</td>\n",
       "      <td>-0.261</td>\n",
       "      <td>1.165</td>\n",
       "      <td>-0.276</td>\n",
       "      <td>3789268</td>\n",
       "      <td>3789290</td>\n",
       "    </tr>\n",
       "    <tr>\n",
       "      <th>ZINC000000030450</th>\n",
       "      <td>-5.653</td>\n",
       "      <td>-7.676</td>\n",
       "      <td>-0.402</td>\n",
       "      <td>1.983</td>\n",
       "      <td>-0.441</td>\n",
       "      <td>3788253</td>\n",
       "      <td>3788272</td>\n",
       "    </tr>\n",
       "  </tbody>\n",
       "</table>\n",
       "</div>"
      ],
      "text/plain": [
       "                  total  inter  intra  torsions  intra best pose    start  \\\n",
       "zinc_id                                                                     \n",
       "ZINC000000023541 -6.764 -7.947 -0.264     1.186           -0.260  4441801   \n",
       "ZINC000000027943 -6.242 -7.414 -0.065     1.095           -0.142  5758277   \n",
       "ZINC000000029829 -6.333 -7.251 -0.638     1.111           -0.445  2564893   \n",
       "ZINC000000030076 -6.643 -7.823 -0.261     1.165           -0.276  3789268   \n",
       "ZINC000000030450 -5.653 -7.676 -0.402     1.983           -0.441  3788253   \n",
       "\n",
       "                      end  \n",
       "zinc_id                    \n",
       "ZINC000000023541  4441822  \n",
       "ZINC000000027943  5758294  \n",
       "ZINC000000029829  2564911  \n",
       "ZINC000000030076  3789290  \n",
       "ZINC000000030450  3788272  "
      ]
     },
     "execution_count": 31,
     "metadata": {},
     "output_type": "execute_result"
    }
   ],
   "source": [
    "# coor_df['id'] = coor_df['atom'].map(ele_df['element_id'])\n",
    "# 查看含有none的行\n",
    "total_data_best_df[total_data_best_df.isnull().any(axis=1)]\n",
    "total_data_best_df.head()"
   ]
  }
 ],
 "metadata": {
  "kernelspec": {
   "display_name": "Python 3",
   "language": "python",
   "name": "python3"
  },
  "language_info": {
   "codemirror_mode": {
    "name": "ipython",
    "version": 3
   },
   "file_extension": ".py",
   "mimetype": "text/x-python",
   "name": "python",
   "nbconvert_exporter": "python",
   "pygments_lexer": "ipython3",
   "version": "3.8.12"
  },
  "orig_nbformat": 4
 },
 "nbformat": 4,
 "nbformat_minor": 2
}
