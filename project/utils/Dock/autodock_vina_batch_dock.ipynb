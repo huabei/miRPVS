{
 "cells": [
  {
   "cell_type": "markdown",
   "metadata": {
    "collapsed": false,
    "pycharm": {
     "name": "#%% md\n"
    }
   },
   "source": [
    "# 导入包"
   ]
  },
  {
   "cell_type": "code",
   "execution_count": 1,
   "metadata": {
    "collapsed": true,
    "pycharm": {
     "name": "#%%\n"
    }
   },
   "outputs": [
    {
     "name": "stdout",
     "output_type": "stream",
     "text": [
      "/mnt/e/Python_Project/SMTarRNA/project/utils/Dock\n"
     ]
    }
   ],
   "source": [
    "from vina import Vina\n",
    "from file_exits import ZincPdbqt, gz_writer\n",
    "import os\n",
    "from tqdm import tqdm\n",
    "import pickle\n",
    "\n",
    "print(os.getcwd())"
   ]
  },
  {
   "cell_type": "markdown",
   "metadata": {
    "collapsed": false,
    "pycharm": {
     "name": "#%% md\n"
    }
   },
   "source": [
    "# 创建Vina对象"
   ]
  },
  {
   "cell_type": "code",
   "execution_count": 17,
   "metadata": {
    "collapsed": false,
    "pycharm": {
     "name": "#%%\n"
    }
   },
   "outputs": [
    {
     "name": "stdout",
     "output_type": "stream",
     "text": [
      "\n",
      "mode |   affinity | dist from best mode\n",
      "     | (kcal/mol) | rmsd l.b.| rmsd u.b.\n",
      "-----+------------+----------+----------\n",
      "   1       -7.628          0          0\n",
      "   2       -7.557      67.92      69.95\n",
      "   3       -7.527      4.931      8.333\n",
      "   4        -7.46      3.705      6.454\n",
      "   5       -7.459      7.122      9.996\n",
      "   6       -7.442      2.688      4.032\n",
      "   7       -7.429      3.468      7.503\n",
      "   8       -7.409      4.686      7.804\n",
      "   9        -7.34      6.377      8.698\n",
      "Computing Vina grid ... done.\n"
     ]
    },
    {
     "name": "stderr",
     "output_type": "stream",
     "text": [
      "WARNING: Search space volume is greater than 27000 Angstrom^3 (See FAQ)\n"
     ]
    }
   ],
   "source": [
    "v = Vina(sf_name='vina')\n",
    "# 设置受体文件\n",
    "v.set_receptor(rigid_pdbqt_filename='3a6p.pdbqt')\n",
    "# 计算受体力场\n",
    "# 3a6p:center=[13.492, 69.412, 28.593], box_size=[54, 92, 66]\n",
    "# 3a6p:center=[13.492, 69.412, 28.593], box_size=[54, 92, 66]\n",
    "v.compute_vina_maps(center=[13.492, 69.412, 28.593], box_size=[54, 92, 66])"
   ]
  },
  {
   "cell_type": "markdown",
   "metadata": {
    "collapsed": false,
    "pycharm": {
     "name": "#%% md\n"
    }
   },
   "source": [
    "# 准备配体"
   ]
  },
  {
   "cell_type": "code",
   "execution_count": 2,
   "metadata": {
    "collapsed": false,
    "pycharm": {
     "name": "#%%\n"
    }
   },
   "outputs": [],
   "source": [
    "elements_list = ['C', 'H', 'O', 'N', 'S', 'P', 'BR', 'CL', 'F', 'I']\n",
    "ligands_file_name = '../zinc/zinc_drug_like_3d_100k.pdbqt.gz'\n",
    "# ligands_file_name = 'test_ligand.pdbqt.gz'\n",
    "ligands = ZincPdbqt(ligands_file_name)\n",
    "# iter_l = iter(ligands)\n",
    "# len(ligands)\n",
    "# next(iter_l)"
   ]
  },
  {
   "cell_type": "code",
   "execution_count": 29,
   "outputs": [
    {
     "name": "stdout",
     "output_type": "stream",
     "text": [
      "\n",
      "mode |   affinity | dist from best mode\n",
      "     | (kcal/mol) | rmsd l.b.| rmsd u.b.\n",
      "-----+------------+----------+----------\n",
      "   1       -7.511          0          0\n",
      "Performing docking (random seed: -69854862) ... -8.448\n",
      "\n",
      "0%   10   20   30   40   50   60   70   80   90   100%\n",
      "|----|----|----|----|----|----|----|----|----|----|\n",
      "***************************************************\n",
      "\n",
      "mode |   affinity | dist from best mode\n",
      "     | (kcal/mol) | rmsd l.b.| rmsd u.b.\n",
      "-----+------------+----------+----------\n",
      "   1        -8.52          0          0\n",
      "   2       -8.333      6.906        9.4\n",
      "   3       -8.269       1.93      2.718\n",
      "   4       -8.258      45.34      50.13\n",
      "   5       -8.149      17.17      19.83\n",
      "   6       -8.124      7.583      11.26\n",
      "   7       -8.112      15.45      17.84\n",
      "   8        -8.07      3.556      8.011\n",
      "   9       -8.055      10.25      13.05\n",
      "  10       -7.995      7.491      10.38\n",
      "  11       -7.946         10      12.69\n",
      "  12       -7.905      30.54      34.48\n",
      "  13       -7.892      17.02      19.67\n",
      "  14       -7.865      16.48      18.75\n",
      "  15       -7.864      16.12      18.96\n",
      "  16       -7.826      16.74      19.71\n",
      "  17       -7.775      7.168      10.88\n",
      "  18       -7.768      16.53       19.5\n",
      "  19       -7.753      11.88      14.17\n",
      "  20       -7.744      57.11       59.6\n",
      "  21       -7.715      52.06      55.94\n",
      "  22       -7.668      14.93      17.-7.144\n",
      "54\n",
      "  23       -7.658      52.77      56.42\n",
      "  24       -7.646      56.25      58.73\n",
      "  25       -7.629      15.92      18.15\n",
      "  26       -7.606      8.423      11.71\n",
      "  27       -7.605      11.25      14.49\n",
      "  28         -7.6      16.85      19.06\n",
      "  29       -7.593      15.97      18.28\n",
      "  30       -7.566      11.13      14.26\n",
      "  31       -7.561      15.12      17.62\n",
      "  32       -7.488      52.27      56.32\n",
      "  33       -7.484      14.87      16.29\n",
      "  34       -7.437      2.964      4.129\n",
      "  35       -7.433      4.859      8.581\n",
      "  36       -7.414      47.26      48.81\n",
      "  37       -7.412      15.23      18.49\n",
      "  38       -7.359      7.221      10.85\n",
      "  39       -7.313      7.639      10.74\n",
      "  40       -7.275      56.09      57.75\n",
      "Performing docking (random seed: -69854862) ... \n",
      "0%   10   20   30   40   50   60   70   80   90   100%\n",
      "|----|----|----|----|----|----|----|----|----|----|\n",
      "***************************************************\n",
      "-7.346\n",
      "\n",
      "mode |   affinity | dist from best mode\n",
      "     | (kcal/mol) | rmsd l.b.| rmsd u.b.\n",
      "-----+------------+----------+----------\n",
      "   1       -7.095          0          0\n",
      "   2       -7.091      58.57      60.88\n",
      "   3       -7.087       3.54      5.894\n",
      "   4        -6.97      11.92      14.89\n",
      "   5       -6.957      3.775      6.875\n",
      "   6        -6.84      2.707      5.499\n",
      "   7       -6.837      6.204      7.946\n",
      "   8       -6.772      10.34      13.33\n",
      "   9       -6.748      60.67      63.02\n",
      "  10       -6.741      8.605      10.92\n",
      "  11       -6.735      4.215      5.992\n",
      "  12       -6.732      5.468      8.221\n",
      "  13       -6.724      11.68      14.57\n",
      "  14       -6.714      3.152      4.736\n",
      "  15       -6.708      60.34      62.58\n",
      "  16       -6.706      5.055       7.22\n",
      "  17       -6.697      6.103      7.532\n",
      "  18       -6.695      63.44      65.79\n",
      "  19       -6.678       6.12      7.738\n",
      "  20       -6.663      7.261      9.805\n",
      "  21       -6.641      3.177      5.012\n",
      "  22       -6.629      4.998      7.008\n",
      "  23       -6.609      4.831      6.543\n",
      "  24       -6.599      2.922      5.704\n",
      "  25       -6.595      4.364      6.237\n",
      "  26       -6.592      13.94      14.94\n",
      "  27       -6.587      15.35      16.68\n",
      "  28       -6.585      60.39      62.65\n",
      "  29       -6.584      60.68      62.95\n",
      "  30       -6.549      8.538      10.72\n",
      "  31       -6.522      4.831      6.718\n",
      "  32       -6.518       6.98      8.613\n",
      "  33       -6.512      63.57      65.92\n",
      "  34       -6.496      15.04      16.32\n",
      "  35        -6.49      13.23      14.86\n",
      "  36       -6.481      2.712      5.192\n",
      "  37       -6.465      5.567       7.02\n",
      "  38       -6.429      24.71      26.38\n",
      "  39       -6.412      69.11      71.24\n",
      "  40       -6.399      70.43      72.61\n",
      "Performing docking (random seed: -69854862) ... \n",
      "0%   10   20   30   40   50   60   70   80   90   100%\n",
      "|----|----|----|----|----|----|----|----|----|----|\n",
      "***************************************************\n",
      "-7.518\n",
      "mode |   affinity | dist from best mode\n",
      "     | (kcal/mol) | rmsd l.b.| rmsd u.b.\n",
      "-----+------------+----------+----------\n",
      "   1       -7.127          0          0\n",
      "   2       -7.019      26.93       28.4\n",
      "   3       -6.961      1.996      2.468\n",
      "   4       -6.876      29.88      31.74\n",
      "   5       -6.779      11.28      14.36\n",
      "   6       -6.746      1.522      2.329\n",
      "   7       -6.692      45.13       49.1\n",
      "   8       -6.689      11.31      14.45\n",
      "   9       -6.688      26.57      28.24\n",
      "  10       -6.676      46.04      47.26\n",
      "  11       -6.672      4.604      7.642\n",
      "  12       -6.659       4.76      6.602\n",
      "  13       -6.655      2.365      6.795\n",
      "  14       -6.654      5.348      8.297\n",
      "  15       -6.644      11.15      14.23\n",
      "  16       -6.625      17.69       19.4\n",
      "  17       -6.575      46.04      49.01\n",
      "  18       -6.574      5.814      7.614\n",
      "  19       -6.564      50.76      54.51\n",
      "  20       -6.543      4.035      5.765\n",
      "  21       -6.541      3.219      5.378\n",
      "  22       -6.518      5.587      7.8\n",
      "58\n",
      "  23       -6.515      2.465      3.222\n",
      "  24       -6.494       32.4      34.06\n",
      "  25       -6.477      15.95      18.23\n",
      "  26       -6.473      58.02      59.84\n",
      "  27       -6.472      50.61      53.04\n",
      "  28       -6.426      50.43      54.11\n",
      "  29        -6.42         24      25.64\n",
      "  30       -6.376      4.852      7.765\n",
      "  31       -6.363      30.57      31.76\n",
      "  32       -6.334       26.5      27.82\n",
      "  33       -6.334      8.013      11.14\n",
      "  34       -6.323      49.65      51.94\n",
      "  35        -6.32      14.84      17.54\n",
      "  36       -6.302      17.41      19.42\n",
      "  37       -6.246       48.9      51.33\n",
      "  38       -6.246      49.78      51.71\n",
      "  39       -6.244      2.221      2.928\n",
      "  40       -6.223      32.09      33.32\n",
      "Performing docking (random seed: -69854862) ... \n",
      "0%   10   20   30   40   50   60   70   80   90   100%\n",
      "|----|----|----|----|----|----|----|----|----|----|\n",
      "***************************************************\n"
     ]
    }
   ],
   "source": [
    "e_zinc_list = ['ZINC000056316169', 'ZINC000276545805', 'ZINC000402873384', 'ZINC000884134733']\n",
    "for id in e_zinc_list:\n",
    "    ligand_str = ligands.data[id]\n",
    "    v.set_ligand_from_string(ligand_str)\n",
    "    # 对接\n",
    "    v.dock(exhaustiveness=32)\n",
    "    print(v.score()[0])\n"
   ],
   "metadata": {
    "collapsed": false,
    "pycharm": {
     "name": "#%%\n"
    }
   }
  },
  {
   "cell_type": "code",
   "execution_count": 28,
   "outputs": [
    {
     "name": "stdout",
     "output_type": "stream",
     "text": [
      "-7.511\n"
     ]
    },
    {
     "data": {
      "text/plain": "array([-7.511, -9.486,  0.   ,  0.   ,  0.   , -0.718,  1.976, -0.718])"
     },
     "execution_count": 28,
     "metadata": {},
     "output_type": "execute_result"
    }
   ],
   "source": [
    "print(v.energies()[0, 0])\n",
    "v.poses(n_poses=1)\n",
    "v.score()"
   ],
   "metadata": {
    "collapsed": false,
    "pycharm": {
     "name": "#%%\n"
    }
   }
  },
  {
   "cell_type": "markdown",
   "metadata": {
    "collapsed": false,
    "pycharm": {
     "name": "#%% md\n"
    }
   },
   "source": [
    "# 进行批量对接"
   ]
  },
  {
   "cell_type": "code",
   "execution_count": null,
   "metadata": {
    "collapsed": false,
    "pycharm": {
     "name": "#%%\n"
    }
   },
   "outputs": [],
   "source": [
    "# v.set_ligand_from_file(\"test_ligand.pdbqt\")\n",
    "dock_results_file_name = ligands_file_name.replace('.pdbqt.gz', '_dock_results.pdbqt.gz')\n",
    "dock_energy_dict_file_name = ligands_file_name.replace('.pdbqt.gz', '_dock_energy.pkl')\n",
    "dock_energy = dict()\n",
    "dock_results_file_name_list = [ligands_file_name.replace('.pdbqt.gz', f'_dock_results_{i}.pdbqt.gz') for i in range((len(ligands)//1000)+1)]\n",
    "# print(dock_results_file_name_list)\n",
    "# raise ValueError\n",
    "writer = gz_writer(dock_results_file_name_list[0])\n",
    "i = 0\n",
    "f = open('docked_100k_zinc_id.txt', 'a+')\n",
    "docked_ligand_id_tmp = list()\n",
    "# 进行对接\n",
    "for ligand_id, ligand_pdbqt in tqdm(ligands, desc='docking'):\n",
    "    i += 1\n",
    "    # 传入配体pdbqt字符串\n",
    "    # print(ligand_id, ligand_pdbqt)\n",
    "    docked_zinc_id = f.read()\n",
    "    # 如果已对接，进行下一个\n",
    "    if ligand_id in docked_zinc_id:\n",
    "        continue\n",
    "    # i += 1\n",
    "    v.set_ligand_from_string(ligand_pdbqt)\n",
    "    # 对接\n",
    "    v.dock(exhaustiveness=32)\n",
    "    # 将最后一个能量结果存入文件\n",
    "    energy = v.energies()[0, 0]\n",
    "    dock_energy[ligand_id] = energy\n",
    "    # v.write_pose(dock_results_file_name)\n",
    "    writer.writelines(v.poses(n_poses=1))\n",
    "    docked_ligand_id_tmp.append(ligand_id+'\\n')\n",
    "    # if i % 100 == 0:\n",
    "    #     writer.flush()\n",
    "    if i % 1000 == 0:\n",
    "        print('writing')\n",
    "        writer.close()\n",
    "        # 写入已对接分子号缓存\n",
    "        f.writelines(docked_ligand_id_tmp)\n",
    "        f.flush()\n",
    "        # 清空暂存已对接分子列表\n",
    "        docked_ligand_id_tmp = list()\n",
    "        writer = gz_writer(dock_results_file_name_list[i//1000])\n",
    "    # i+=1\n",
    "f.writelines(docked_ligand_id_tmp)\n",
    "f.close()\n",
    "writer.close()\n",
    "with open(dock_energy_dict_file_name, 'wb', buffering=0) as handle:\n",
    "    pickle.dump(dock_energy, handle, protocol=pickle.HIGHEST_PROTOCOL)\n"
   ]
  },
  {
   "cell_type": "code",
   "execution_count": 5,
   "metadata": {
    "collapsed": false,
    "pycharm": {
     "name": "#%%\n"
    }
   },
   "outputs": [],
   "source": [
    "# print(v.score())\n",
    "# print(v.optimize())\n",
    "writer.close()"
   ]
  },
  {
   "cell_type": "markdown",
   "metadata": {
    "collapsed": false,
    "pycharm": {
     "name": "#%% md\n"
    }
   },
   "source": [
    "# 进行对接"
   ]
  },
  {
   "cell_type": "code",
   "execution_count": 8,
   "metadata": {
    "collapsed": false,
    "pycharm": {
     "name": "#%%\n"
    }
   },
   "outputs": [
    {
     "name": "stdout",
     "output_type": "stream",
     "text": [
      "Performing docking (random seed: -1274779443) ... \n",
      "0%   10   20   30   40   50   60   70   80   90   100%\n",
      "|----|----|----|----|----|----|----|----|----|----|\n",
      "***************************************************\n"
     ]
    }
   ],
   "source": [
    "v.dock(exhaustiveness=32)"
   ]
  },
  {
   "cell_type": "markdown",
   "metadata": {
    "collapsed": false,
    "pycharm": {
     "name": "#%% md\n"
    }
   },
   "source": [
    "# 输出文件"
   ]
  },
  {
   "cell_type": "code",
   "execution_count": 9,
   "metadata": {
    "collapsed": false,
    "pycharm": {
     "name": "#%%\n"
    }
   },
   "outputs": [],
   "source": [
    "v.write_poses(pdbqt_filename=\"test_ligand_docking_results.pdbqt\")\n"
   ]
  },
  {
   "cell_type": "code",
   "execution_count": null,
   "metadata": {
    "collapsed": false,
    "pycharm": {
     "name": "#%%\n"
    }
   },
   "outputs": [],
   "source": [
    "v.poses()"
   ]
  },
  {
   "cell_type": "code",
   "execution_count": 5,
   "metadata": {
    "collapsed": false,
    "pycharm": {
     "name": "#%%\n"
    }
   },
   "outputs": [
    {
     "data": {
      "text/plain": "[('ZINC000001768908',\n  'REMARK  Name = ZINC000001768908\\nREMARK                            x       y       z     vdW  Elec       q    Type\\nREMARK                         _______ _______ _______ _____ _____    ______ ____\\nROOT\\nATOM      1  C   UNK    1       -0.699   1.479   1.216  0.00  0.00    +0.110 C \\nENDROOT\\nBRANCH   1   2\\nATOM      2  N   UNK    1       -0.012   1.005   0.008  0.00  0.00    -0.620 N \\nATOM      3  H   UNK    1       -0.500   1.339  -0.810  0.00  0.00    +0.440 HD\\nATOM      4  H   UNK    1        0.935   1.354   0.000  0.00  0.00    +0.430 HD\\nATOM      5  H   UNK    1        0.002  -0.004   0.002  0.00  0.00    +0.420 HD\\nENDBRANCH   1   2\\nBRANCH   1   6\\nATOM      6  C   UNK    1       -0.720   2.985   1.224  0.00  0.00    +0.500 C \\nATOM      7  O   UNK    1       -1.247   3.583   2.147  0.00  0.00    -0.630 OA\\nATOM      8  O   UNK    1       -0.209   3.607   0.308  0.00  0.00    -0.670 OA\\nENDBRANCH   1   6\\nBRANCH   1   9\\nATOM      9  C   UNK    1        0.041   0.972   2.456  0.00  0.00    -0.340 C \\nBRANCH   9  10\\nATOM     10  S   UNK    1        0.065  -0.842   2.446  0.00  0.00    +2.420 S \\nATOM     11  O   UNK    1        0.843  -1.278   1.339  0.00  0.00    -0.950 OA\\nATOM     12  O   UNK    1       -1.268  -1.314   2.585  0.00  0.00    -0.920 OA\\nBRANCH  10  13\\nATOM     13  C   UNK    1        0.973  -1.213   3.972  0.00  0.00    -0.390 C \\nBRANCH  13  14\\nATOM     14  C   UNK    1        1.093  -2.706   4.135  0.00  0.00    +0.520 C \\nATOM     15  O   UNK    1        1.672  -3.169   5.103  0.00  0.00    -0.660 OA\\nATOM     16  O   UNK    1        0.612  -3.451   3.298  0.00  0.00    -0.670 OA\\nENDBRANCH  13  14\\nENDBRANCH  10  13\\nENDBRANCH   9  10\\nENDBRANCH   1   9\\nTORSDOF 6\\n'),\n ('ZINC000044608174',\n  'REMARK  Name = ZINC000044608174\\nREMARK                            x       y       z     vdW  Elec       q    Type\\nREMARK                         _______ _______ _______ _____ _____    ______ ____\\nROOT\\nATOM      1  C   LIG    1        0.673  -0.582   1.123  0.00  0.00    +0.180 C \\nATOM      2  C   LIG    1       -0.330  -0.815   2.257  0.00  0.00    +0.130 C \\nATOM      3  C   LIG    1        0.381  -1.506   3.423  0.00  0.00    +0.140 C \\nATOM      4  O   LIG    1        0.956  -2.733   2.969  0.00  0.00    -0.370 OA\\nATOM      5  C   LIG    1        1.936  -2.574   1.942  0.00  0.00    +0.360 C \\nATOM      6  C   LIG    1        1.289  -1.925   0.715  0.00  0.00    +0.270 C \\nENDROOT\\nBRANCH   6   7\\nATOM      7  N   LIG    1        2.305  -1.708  -0.317  0.00  0.00    -0.710 N \\nATOM      8  H   LIG    1        2.751  -0.849  -0.386  0.00  0.00    +0.400 HD\\nATOM      9  C   LIG    1        2.621  -2.701  -1.171  0.00  0.00    +0.510 C \\nATOM     10  O   LIG    1        2.063  -3.775  -1.085  0.00  0.00    -0.540 OA\\nATOM     11  C   LIG    1        3.667  -2.479  -2.233  0.00  0.00    +0.110 C \\nENDBRANCH   6   7\\nBRANCH   1  13\\nATOM     12  C   LIG    1       -0.017   1.425   0.010  0.00  0.00    +0.200 C \\nATOM     13  O   LIG    1        0.002  -0.004   0.002  0.00  0.00    -0.360 OA\\nENDBRANCH   1  13\\nBRANCH   5  14\\nATOM     14  O   LIG    1        2.994  -1.740   2.418  0.00  0.00    -0.580 OA\\nATOM     15  H   LIG    1        3.450  -2.090   3.196  0.00  0.00    +0.390 HD\\nENDBRANCH   5  14\\nBRANCH   2  16\\nATOM     16  O   LIG    1       -1.397  -1.642   1.789  0.00  0.00    -0.540 OA\\nATOM     17  H   LIG    1       -2.070  -1.831   2.456  0.00  0.00    +0.380 HD\\nENDBRANCH   2  16\\nBRANCH   3  18\\nATOM     18  C   LIG    1       -0.628  -1.796   4.537  0.00  0.00    +0.200 C \\nBRANCH  18  19\\nATOM     19  O   LIG    1        0.056  -2.334   5.670  0.00  0.00    -0.560 OA\\nATOM     20  H   LIG    1       -0.523  -2.542   6.416  0.00  0.00    +0.380 HD\\nENDBRANCH  18  19\\nENDBRANCH   3  18\\nTORSDOF 6\\n')]"
     },
     "execution_count": 5,
     "metadata": {},
     "output_type": "execute_result"
    }
   ],
   "source": [
    "ligands[:2]"
   ]
  }
 ],
 "metadata": {
  "kernelspec": {
   "display_name": "Python 3",
   "language": "python",
   "name": "python3"
  },
  "language_info": {
   "codemirror_mode": {
    "name": "ipython",
    "version": 2
   },
   "file_extension": ".py",
   "mimetype": "text/x-python",
   "name": "python",
   "nbconvert_exporter": "python",
   "pygments_lexer": "ipython2",
   "version": "2.7.6"
  }
 },
 "nbformat": 4,
 "nbformat_minor": 0
}