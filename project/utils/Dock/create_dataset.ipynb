{
 "cells": [
  {
   "cell_type": "code",
   "execution_count": 1,
   "metadata": {
    "collapsed": true,
    "pycharm": {
     "name": "#%%\n"
    }
   },
   "outputs": [
    {
     "data": {
      "text/plain": "'E:\\\\Python_Project\\\\SMTarRNA\\\\project\\\\utils\\\\Dock'"
     },
     "execution_count": 1,
     "metadata": {},
     "output_type": "execute_result"
    }
   ],
   "source": [
    "import pickle\n",
    "from file_exits import ZincPdbqt, generate_coor, write_data\n",
    "from tqdm import tqdm\n",
    "import os\n",
    "os.getcwd()"
   ]
  },
  {
   "cell_type": "code",
   "execution_count": 2,
   "outputs": [],
   "source": [
    "with open('E:/Python_Project/SMTarRNA/project/data/3a6p/3a6p_dock_origin_data/zinc_drug_like_3d_100k_dock_energy.pkl', 'rb') as f:\n",
    "    score_dict = pickle.load(f)"
   ],
   "metadata": {
    "collapsed": false,
    "pycharm": {
     "name": "#%%\n"
    }
   }
  },
  {
   "cell_type": "code",
   "execution_count": 3,
   "outputs": [
    {
     "name": "stdout",
     "output_type": "stream",
     "text": [
      "101443\n"
     ]
    },
    {
     "data": {
      "text/plain": "'ZINC000944716540'"
     },
     "execution_count": 3,
     "metadata": {},
     "output_type": "execute_result"
    }
   ],
   "source": [
    "print(len(score_dict.keys()))\n",
    "list(score_dict.keys())[0]"
   ],
   "metadata": {
    "collapsed": false,
    "pycharm": {
     "name": "#%%\n"
    }
   }
  },
  {
   "cell_type": "code",
   "execution_count": 4,
   "outputs": [],
   "source": [
    "ligands_file_name = '../zinc/zinc_drug_like_3d_100k.pdbqt.gz'\n",
    "ligands = ZincPdbqt(ligands_file_name)"
   ],
   "metadata": {
    "collapsed": false,
    "pycharm": {
     "name": "#%%\n"
    }
   }
  },
  {
   "cell_type": "code",
   "execution_count": 6,
   "outputs": [
    {
     "name": "stderr",
     "output_type": "stream",
     "text": [
      "prepare: 100%|██████████| 101579/101579 [02:01<00:00, 835.54it/s]\n"
     ]
    }
   ],
   "source": [
    "# ligands.zinc_id\n",
    "# print(len(ligands))\n",
    "# print(ligands.zinc_id[0])\n",
    "# score_dict[ligands.zinc_id[500]]\n",
    "elements_list = ['C', 'H', 'O', 'N', 'S', 'P', 'BR', 'CL', 'F', 'I']\n",
    "f = open('test.txt', 'w')\n",
    "f.write('e(kcalmol^-1)\\n')\n",
    "data_dict = dict()\n",
    "for ligands_id, ligands_model in tqdm(ligands, desc='prepare'):\n",
    "    if ligands_id not in list(score_dict.keys()):\n",
    "        continue\n",
    "    data_dict['score'] = score_dict[ligands_id]\n",
    "    data_dict['pos'] = generate_coor(ligands_model, elements_list)\n",
    "    if not data_dict['pos']:\n",
    "        continue\n",
    "    data_dict['id'] = ligands_id\n",
    "    f = write_data(f, data_dict)\n",
    "    # break\n",
    "f.close()"
   ],
   "metadata": {
    "collapsed": false,
    "pycharm": {
     "name": "#%%\n"
    }
   }
  },
  {
   "cell_type": "code",
   "execution_count": 7,
   "outputs": [],
   "source": [
    "score_dict = dict()\n",
    "for i in range(102):\n",
    "    ligands_file_name = f'/mnt/e/Python_Project/SMTarRNA/project/data/3a6p/3a6p_dock_origin_data/zinc_drug_like_3d_100k_dock_results_{i}.pdbqt.gz'\n",
    "    ligands = ZincPdbqt(ligands_file_name)\n",
    "    score_dict.update(ligands.scores)\n",
    "    # break\n"
   ],
   "metadata": {
    "collapsed": false,
    "pycharm": {
     "name": "#%%\n"
    }
   }
  },
  {
   "cell_type": "code",
   "execution_count": 8,
   "outputs": [
    {
     "data": {
      "text/plain": "101442"
     },
     "execution_count": 8,
     "metadata": {},
     "output_type": "execute_result"
    }
   ],
   "source": [
    "len(score_dict.keys())"
   ],
   "metadata": {
    "collapsed": false,
    "pycharm": {
     "name": "#%%\n"
    }
   }
  }
 ],
 "metadata": {
  "kernelspec": {
   "display_name": "Python 3",
   "language": "python",
   "name": "python3"
  },
  "language_info": {
   "codemirror_mode": {
    "name": "ipython",
    "version": 2
   },
   "file_extension": ".py",
   "mimetype": "text/x-python",
   "name": "python",
   "nbconvert_exporter": "python",
   "pygments_lexer": "ipython2",
   "version": "2.7.6"
  }
 },
 "nbformat": 4,
 "nbformat_minor": 0
}