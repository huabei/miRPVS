{
 "cells": [
  {
   "cell_type": "markdown",
   "source": [
    "# 构建数据集"
   ],
   "metadata": {
    "collapsed": false,
    "pycharm": {
     "name": "#%% md\n"
    }
   }
  },
  {
   "cell_type": "markdown",
   "source": [
    "## 导入包"
   ],
   "metadata": {
    "collapsed": false,
    "pycharm": {
     "name": "#%% md\n"
    }
   }
  },
  {
   "cell_type": "code",
   "execution_count": 1,
   "metadata": {
    "collapsed": true,
    "pycharm": {
     "name": "#%%\n"
    }
   },
   "outputs": [
    {
     "data": {
      "text/plain": "'/mnt/e/Python_Project/SMTarRNA/project/utils/Dock'"
     },
     "execution_count": 1,
     "metadata": {},
     "output_type": "execute_result"
    }
   ],
   "source": [
    "import pickle\n",
    "from file_exits import ZincPdbqt, generate_coor, write_data, ele_transform\n",
    "from tqdm import tqdm\n",
    "import os\n",
    "from functools import partial\n",
    "os.getcwd()"
   ]
  },
  {
   "cell_type": "markdown",
   "source": [
    "## 从pkl文件读入对接能量分数"
   ],
   "metadata": {
    "collapsed": false,
    "pycharm": {
     "name": "#%% md\n"
    }
   }
  },
  {
   "cell_type": "code",
   "execution_count": 2,
   "outputs": [],
   "source": [
    "origin_data_path = '../../data/3a6p/'\n",
    "file_list = [os.path.join(origin_data_path, i) for i in os.listdir(origin_data_path) if i.endswith('.pkl')]\n",
    "score_dict = dict()\n",
    "for file in file_list:\n",
    "    f = open(file, 'rb')\n",
    "    score_dict_tmp = pickle.load(f)\n",
    "    f.close()\n",
    "    score_dict.update(score_dict_tmp)\n",
    "# with open('E:/Python_Project/SMTarRNA/project/data/3a6p/3a6p_dock_origin_data/zinc_drug_like_3d_100k_dock_energy.pkl', 'rb') as f:\n",
    "#     score_dict = pickle.load(f)"
   ],
   "metadata": {
    "collapsed": false,
    "pycharm": {
     "name": "#%%\n"
    }
   }
  },
  {
   "cell_type": "code",
   "execution_count": 3,
   "outputs": [
    {
     "name": "stdout",
     "output_type": "stream",
     "text": [
      "101312\n"
     ]
    },
    {
     "data": {
      "text/plain": "'ZINC000001768908'"
     },
     "execution_count": 3,
     "metadata": {},
     "output_type": "execute_result"
    }
   ],
   "source": [
    "print(len(score_dict.keys()))\n",
    "list(score_dict.keys())[0]"
   ],
   "metadata": {
    "collapsed": false,
    "pycharm": {
     "name": "#%%\n"
    }
   }
  },
  {
   "cell_type": "markdown",
   "source": [
    "## 读入小分子的结构"
   ],
   "metadata": {
    "collapsed": false,
    "pycharm": {
     "name": "#%% md\n"
    }
   }
  },
  {
   "cell_type": "code",
   "execution_count": 4,
   "outputs": [],
   "source": [
    "ligands_file_name = '../zinc/zinc_drug_like_3d_100k.pdbqt.gz'\n",
    "elements_list = ['C', 'H', 'O', 'N', 'S', 'P', 'BR', 'CL', 'F', 'I']\n",
    "transform = partial(ele_transform, elements_list=elements_list)\n",
    "ligands = ZincPdbqt(ligands_file_name, transform=transform)"
   ],
   "metadata": {
    "collapsed": false,
    "pycharm": {
     "name": "#%%\n"
    }
   }
  },
  {
   "cell_type": "markdown",
   "source": [
    "## 构建数据集"
   ],
   "metadata": {
    "collapsed": false,
    "pycharm": {
     "name": "#%% md\n"
    }
   }
  },
  {
   "cell_type": "code",
   "execution_count": 5,
   "outputs": [
    {
     "name": "stderr",
     "output_type": "stream",
     "text": [
      "prepare: 100%|██████████| 100446/100446 [01:35<00:00, 1055.85it/s]\n"
     ]
    }
   ],
   "source": [
    "# ligands.zinc_id\n",
    "# print(len(ligands))\n",
    "# print(ligands.zinc_id[0])\n",
    "# score_dict[ligands.zinc_id[500]]\n",
    "# elements_list = ['C', 'H', 'O', 'N', 'S', 'P', 'BR', 'CL', 'F', 'I']\n",
    "f = open('3a6p_exhaus_96_100K.txt', 'w')\n",
    "f.write('e(kcalmol^-1)\\n')\n",
    "data_dict = dict()\n",
    "for ligands_id, ligands_model in tqdm(ligands, desc='prepare'):\n",
    "    if ligands_id not in list(score_dict.keys()):\n",
    "        print('here 1')\n",
    "        continue\n",
    "    data_dict['score'] = score_dict[ligands_id]\n",
    "    data_dict['pos'] = generate_coor(ligands_model, elements_list)\n",
    "    if not data_dict['pos']:\n",
    "        print('here2')\n",
    "        continue\n",
    "    data_dict['id'] = ligands_id\n",
    "    f = write_data(f, data_dict)\n",
    "    # break\n",
    "f.close()"
   ],
   "metadata": {
    "collapsed": false,
    "pycharm": {
     "name": "#%%\n"
    }
   }
  },
  {
   "cell_type": "code",
   "execution_count": 7,
   "outputs": [],
   "source": [
    "score_dict = dict()\n",
    "for i in range(102):\n",
    "    ligands_file_name = f'/mnt/e/Python_Project/SMTarRNA/project/data/3a6p/3a6p_dock_origin_data/zinc_drug_like_3d_100k_dock_results_{i}.pdbqt.gz'\n",
    "    ligands = ZincPdbqt(ligands_file_name)\n",
    "    score_dict.update(ligands.scores)\n",
    "    # break\n"
   ],
   "metadata": {
    "collapsed": false,
    "pycharm": {
     "name": "#%%\n"
    }
   }
  },
  {
   "cell_type": "code",
   "execution_count": 8,
   "outputs": [
    {
     "data": {
      "text/plain": "101442"
     },
     "execution_count": 8,
     "metadata": {},
     "output_type": "execute_result"
    }
   ],
   "source": [
    "len(score_dict.keys())"
   ],
   "metadata": {
    "collapsed": false,
    "pycharm": {
     "name": "#%%\n"
    }
   }
  }
 ],
 "metadata": {
  "kernelspec": {
   "display_name": "Python 3",
   "language": "python",
   "name": "python3"
  },
  "language_info": {
   "codemirror_mode": {
    "name": "ipython",
    "version": 2
   },
   "file_extension": ".py",
   "mimetype": "text/x-python",
   "name": "python",
   "nbconvert_exporter": "python",
   "pygments_lexer": "ipython2",
   "version": "2.7.6"
  }
 },
 "nbformat": 4,
 "nbformat_minor": 0
}