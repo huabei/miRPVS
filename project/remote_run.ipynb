{
 "cells": [
  {
   "cell_type": "code",
   "execution_count": 1,
   "metadata": {
    "collapsed": true
   },
   "outputs": [],
   "source": [
    "import pytorch_lightning as pl\n",
    "from main_hpc import main\n",
    "from argparse import ArgumentParser\n",
    "import yaml"
   ]
  },
  {
   "cell_type": "code",
   "execution_count": null,
   "outputs": [],
   "source": [
    "parser = ArgumentParser()\n",
    "# Project info\n",
    "parser.add_argument('--project', type=str)\n",
    "\n",
    "# Basic Training Control\n",
    "parser.add_argument('--batch_size', default=128, type=int)\n",
    "parser.add_argument('--num_workers', default=8, type=int)\n",
    "parser.add_argument('--seed', default=1234, type=int)\n",
    "parser.add_argument('--lr', default=5e-4, type=float)\n",
    "\n",
    "# LR Scheduler\n",
    "parser.add_argument('--lr_scheduler', choices=['step', 'cosine'], type=str)\n",
    "parser.add_argument('--lr_decay_steps', default=1, type=int)\n",
    "parser.add_argument('--lr_decay_rate', default=0.5, type=float)\n",
    "parser.add_argument('--lr_decay_min_lr', default=1e-5, type=float)\n",
    "\n",
    "# Restart Control\n",
    "parser.add_argument('--load_best', action='store_true')\n",
    "parser.add_argument('--load_dir', default=None, type=str)\n",
    "parser.add_argument('--load_ver', default=None, type=str)\n",
    "parser.add_argument('--load_v_num', default=None, type=int)\n",
    "\n",
    "# Training Info\n",
    "parser.add_argument('--dataset', default='zinc_complex3a6p_data', type=str)\n",
    "parser.add_argument('--data_dir', default='data/3a6p/zinc_drug_like_100k/exhaus_96', type=str)\n",
    "parser.add_argument('--log_dir', default='log/gcn', type=str)\n",
    "parser.add_argument('--model_name', default='gcn', type=str)\n",
    "parser.add_argument('--loss', default='mse', type=str, choices=['l1, mse', 'smooth_l1'])\n",
    "parser.add_argument('--weight_decay', default=1e-4, type=float)\n",
    "parser.add_argument('--no_augment', action='store_true')\n",
    "\n",
    "# Model Hyperparameters\n",
    "parser.add_argument('--in_channels', default=10, type=int)\n",
    "parser.add_argument('--hidden_channels', default=256, type=int)\n",
    "parser.add_argument('--out_channels', default=1, type=int)\n",
    "parser.add_argument('--hidden_layers', default=6, type=int)\n",
    "parser.add_argument('--out_layers', default=6, type=int)\n",
    "\n",
    "# Add pytorch lightning's args to parser as a group.\n",
    "parser = pl.Trainer.add_argparse_args(parser)\n",
    "\n",
    "# yaml 文件\n",
    "\n",
    "with open('config/default_3a6p_molecular_graph_conv.yaml', 'r') as f:\n",
    "    default_arg = yaml.safe_load(f)\n",
    "\n",
    "# Reset Some Default Trainer Arguments' Default Values\n",
    "parser.set_defaults(**default_arg)\n",
    "\n",
    "args = parser.parse_args()\n",
    "\n",
    "main(args)"
   ],
   "metadata": {
    "collapsed": false
   }
  }
 ],
 "metadata": {
  "kernelspec": {
   "display_name": "Python 3",
   "language": "python",
   "name": "python3"
  },
  "language_info": {
   "codemirror_mode": {
    "name": "ipython",
    "version": 2
   },
   "file_extension": ".py",
   "mimetype": "text/x-python",
   "name": "python",
   "nbconvert_exporter": "python",
   "pygments_lexer": "ipython2",
   "version": "2.7.6"
  }
 },
 "nbformat": 4,
 "nbformat_minor": 0
}
