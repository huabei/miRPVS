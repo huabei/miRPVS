{
 "cells": [
  {
   "cell_type": "code",
   "execution_count": 7,
   "metadata": {
    "collapsed": true
   },
   "outputs": [
    {
     "data": {
      "text/plain": "'/mnt/e/Python_Project/SMTarRNA/project'"
     },
     "execution_count": 7,
     "metadata": {},
     "output_type": "execute_result"
    }
   ],
   "source": [
    "from torch_geometric.nn import GCNConv\n",
    "import torch.nn.functional as F\n",
    "import torch\n",
    "from torch.nn import Embedding\n",
    "from data.zinc_complex3a6p_data import ZincComplex3a6pData\n",
    "from torch_geometric.loader import DataLoader\n",
    "from model.molecular_gnn import MolecularGnn\n",
    "from torch_scatter import scatter_mean\n",
    "import os\n",
    "os.getcwd()"
   ]
  },
  {
   "cell_type": "code",
   "execution_count": 8,
   "outputs": [],
   "source": [
    "ligand_dataset = ZincComplex3a6pData('/mnt/e/Python_Project/SMTarRNA/project/data/3a6p/zinc_drug_like_100k/exhaus_96')"
   ],
   "metadata": {
    "collapsed": false
   }
  },
  {
   "cell_type": "code",
   "execution_count": 9,
   "outputs": [],
   "source": [
    "dataloder = DataLoader(ligand_dataset, batch_size=32, shuffle=True)\n",
    "for batch_data in dataloder:\n",
    "    # results = model(batch_data.x, batch_data.edge_index, batch_data.edge_weight)\n",
    "    break"
   ],
   "metadata": {
    "collapsed": false
   }
  },
  {
   "cell_type": "code",
   "execution_count": 9,
   "outputs": [
    {
     "ename": "ModuleNotFoundError",
     "evalue": "No module named 'pydev_jupyter_utils'",
     "output_type": "error",
     "traceback": [
      "\u001B[0;31m---------------------------------------------------------------------------\u001B[0m",
      "\u001B[0;31mModuleNotFoundError\u001B[0m                       Traceback (most recent call last)",
      "Input \u001B[0;32mIn [10]\u001B[0m, in \u001B[0;36m<cell line: 6>\u001B[0;34m()\u001B[0m\n\u001B[1;32m      4\u001B[0m     sys\u001B[38;5;241m.\u001B[39mpath\u001B[38;5;241m.\u001B[39minsert(\u001B[38;5;241m0\u001B[39m, \u001B[38;5;124m'\u001B[39m\u001B[38;5;124mC:\u001B[39m\u001B[38;5;130;01m\\\\\u001B[39;00m\u001B[38;5;124mUsers\u001B[39m\u001B[38;5;130;01m\\\\\u001B[39;00m\u001B[38;5;124mZNDX\u001B[39m\u001B[38;5;130;01m\\\\\u001B[39;00m\u001B[38;5;124mAppData\u001B[39m\u001B[38;5;130;01m\\\\\u001B[39;00m\u001B[38;5;124mLocal\u001B[39m\u001B[38;5;130;01m\\\\\u001B[39;00m\u001B[38;5;124mJetBrains\u001B[39m\u001B[38;5;130;01m\\\\\u001B[39;00m\u001B[38;5;124mToolbox\u001B[39m\u001B[38;5;130;01m\\\\\u001B[39;00m\u001B[38;5;124mapps\u001B[39m\u001B[38;5;130;01m\\\\\u001B[39;00m\u001B[38;5;124mPyCharm-P\u001B[39m\u001B[38;5;130;01m\\\\\u001B[39;00m\u001B[38;5;124mch-0\u001B[39m\u001B[38;5;130;01m\\\\\u001B[39;00m\u001B[38;5;124m222.4167.33\u001B[39m\u001B[38;5;130;01m\\\\\u001B[39;00m\u001B[38;5;124mplugins\u001B[39m\u001B[38;5;130;01m\\\\\u001B[39;00m\u001B[38;5;124mpython\u001B[39m\u001B[38;5;130;01m\\\\\u001B[39;00m\u001B[38;5;124mhelpers\u001B[39m\u001B[38;5;130;01m\\\\\u001B[39;00m\u001B[38;5;124mpydev\u001B[39m\u001B[38;5;124m'\u001B[39m)\n\u001B[1;32m      5\u001B[0m     sys\u001B[38;5;241m.\u001B[39mpath\u001B[38;5;241m.\u001B[39minsert(\u001B[38;5;241m0\u001B[39m, \u001B[38;5;124m'\u001B[39m\u001B[38;5;124mC:\u001B[39m\u001B[38;5;130;01m\\\\\u001B[39;00m\u001B[38;5;124mUsers\u001B[39m\u001B[38;5;130;01m\\\\\u001B[39;00m\u001B[38;5;124mZNDX\u001B[39m\u001B[38;5;130;01m\\\\\u001B[39;00m\u001B[38;5;124mAppData\u001B[39m\u001B[38;5;130;01m\\\\\u001B[39;00m\u001B[38;5;124mLocal\u001B[39m\u001B[38;5;130;01m\\\\\u001B[39;00m\u001B[38;5;124mJetBrains\u001B[39m\u001B[38;5;130;01m\\\\\u001B[39;00m\u001B[38;5;124mToolbox\u001B[39m\u001B[38;5;130;01m\\\\\u001B[39;00m\u001B[38;5;124mapps\u001B[39m\u001B[38;5;130;01m\\\\\u001B[39;00m\u001B[38;5;124mPyCharm-P\u001B[39m\u001B[38;5;130;01m\\\\\u001B[39;00m\u001B[38;5;124mch-0\u001B[39m\u001B[38;5;130;01m\\\\\u001B[39;00m\u001B[38;5;124m222.4167.33\u001B[39m\u001B[38;5;130;01m\\\\\u001B[39;00m\u001B[38;5;124mplugins\u001B[39m\u001B[38;5;130;01m\\\\\u001B[39;00m\u001B[38;5;124mpython\u001B[39m\u001B[38;5;130;01m\\\\\u001B[39;00m\u001B[38;5;124mhelpers-pro\u001B[39m\u001B[38;5;130;01m\\\\\u001B[39;00m\u001B[38;5;124mjupyter_debug\u001B[39m\u001B[38;5;124m'\u001B[39m)\n\u001B[0;32m----> 6\u001B[0m \u001B[38;5;28;01mfrom\u001B[39;00m \u001B[38;5;21;01mpydev_jupyter_utils\u001B[39;00m \u001B[38;5;28;01mimport\u001B[39;00m remove_imported_pydev_package\n\u001B[1;32m      7\u001B[0m remove_imported_pydev_package()\n\u001B[1;32m      8\u001B[0m \u001B[38;5;28;01mimport\u001B[39;00m \u001B[38;5;21;01mpydev_jupyter_utils\u001B[39;00m\n",
      "\u001B[0;31mModuleNotFoundError\u001B[0m: No module named 'pydev_jupyter_utils'"
     ]
    }
   ],
   "source": [
    "model = MolecularGnn(10, hidden_channels=512, hidden_layers=16, out_layers=8, out_channels=1)\n",
    "model(batch_data)"
   ],
   "metadata": {
    "collapsed": false
   }
  }
 ],
 "metadata": {
  "kernelspec": {
   "display_name": "Python 3",
   "language": "python",
   "name": "python3"
  },
  "language_info": {
   "codemirror_mode": {
    "name": "ipython",
    "version": 2
   },
   "file_extension": ".py",
   "mimetype": "text/x-python",
   "name": "python",
   "nbconvert_exporter": "python",
   "pygments_lexer": "ipython2",
   "version": "2.7.6"
  }
 },
 "nbformat": 4,
 "nbformat_minor": 0
}
